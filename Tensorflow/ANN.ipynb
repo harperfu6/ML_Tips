{
 "cells": [
  {
   "cell_type": "code",
   "execution_count": 1,
   "metadata": {
    "ExecuteTime": {
     "end_time": "2019-06-03T23:12:55.055831Z",
     "start_time": "2019-06-03T23:12:50.552374Z"
    }
   },
   "outputs": [],
   "source": [
    "# Common imports\n",
    "import numpy as np\n",
    "import os\n",
    "\n",
    "# to make this notebook's output stable across runs\n",
    "def reset_graph(seed=42):\n",
    "    tf.reset_default_graph()\n",
    "    tf.set_random_seed(seed)\n",
    "    np.random.seed(seed)\n",
    "\n",
    "# To plot pretty figures\n",
    "%matplotlib inline\n",
    "import matplotlib\n",
    "import matplotlib.pyplot as plt\n",
    "plt.rcParams['axes.labelsize'] = 14\n",
    "plt.rcParams['xtick.labelsize'] = 12\n",
    "plt.rcParams['ytick.labelsize'] = 12"
   ]
  },
  {
   "cell_type": "markdown",
   "metadata": {},
   "source": [
    "# feedforward NN"
   ]
  },
  {
   "cell_type": "code",
   "execution_count": 2,
   "metadata": {
    "ExecuteTime": {
     "end_time": "2019-06-03T23:21:19.868207Z",
     "start_time": "2019-06-03T23:21:09.077069Z"
    }
   },
   "outputs": [],
   "source": [
    "import tensorflow as tf"
   ]
  },
  {
   "cell_type": "code",
   "execution_count": 3,
   "metadata": {
    "ExecuteTime": {
     "end_time": "2019-06-03T23:24:36.769389Z",
     "start_time": "2019-06-03T23:24:35.665985Z"
    }
   },
   "outputs": [],
   "source": [
    "(X_train, y_train), (X_test, y_test) = tf.keras.datasets.mnist.load_data()\n",
    "X_train = X_train.astype(np.float32).reshape(-1, 28*28) / 255.0\n",
    "X_test = X_test.astype(np.float32).reshape(-1, 28*28) / 255.0\n",
    "y_train = y_train.astype(np.int32)\n",
    "y_test = y_test.astype(np.int32)\n",
    "X_valid, X_train = X_train[:5000], X_train[5000:]\n",
    "y_valid, y_train = y_train[:5000], y_train[5000:]"
   ]
  },
  {
   "cell_type": "code",
   "execution_count": 4,
   "metadata": {
    "ExecuteTime": {
     "end_time": "2019-06-03T23:31:48.603393Z",
     "start_time": "2019-06-03T23:27:45.505662Z"
    }
   },
   "outputs": [
    {
     "name": "stdout",
     "output_type": "stream",
     "text": [
      "INFO:tensorflow:Using default config.\n",
      "WARNING:tensorflow:Using temporary folder as model directory: /var/folders/ky/jh01_0qs72qbcxqy8ntclsyc0000gn/T/tmp87whlw34\n",
      "INFO:tensorflow:Using config: {'_model_dir': '/var/folders/ky/jh01_0qs72qbcxqy8ntclsyc0000gn/T/tmp87whlw34', '_tf_random_seed': None, '_save_summary_steps': 100, '_save_checkpoints_steps': None, '_save_checkpoints_secs': 600, '_session_config': None, '_keep_checkpoint_max': 5, '_keep_checkpoint_every_n_hours': 10000, '_log_step_count_steps': 100, '_service': None, '_cluster_spec': <tensorflow.python.training.server_lib.ClusterSpec object at 0x123eba748>, '_task_type': 'worker', '_task_id': 0, '_global_id_in_cluster': 0, '_master': '', '_evaluation_master': '', '_is_chief': True, '_num_ps_replicas': 0, '_num_worker_replicas': 1}\n",
      "INFO:tensorflow:Calling model_fn.\n",
      "INFO:tensorflow:Done calling model_fn.\n",
      "INFO:tensorflow:Create CheckpointSaverHook.\n",
      "INFO:tensorflow:Graph was finalized.\n",
      "INFO:tensorflow:Running local_init_op.\n",
      "INFO:tensorflow:Done running local_init_op.\n",
      "INFO:tensorflow:Saving checkpoints for 1 into /var/folders/ky/jh01_0qs72qbcxqy8ntclsyc0000gn/T/tmp87whlw34/model.ckpt.\n",
      "INFO:tensorflow:loss = 120.27527, step = 1\n",
      "INFO:tensorflow:global_step/sec: 264.807\n",
      "INFO:tensorflow:loss = 14.174034, step = 101 (0.378 sec)\n",
      "INFO:tensorflow:global_step/sec: 323.505\n",
      "INFO:tensorflow:loss = 5.4984803, step = 201 (0.309 sec)\n",
      "INFO:tensorflow:global_step/sec: 302.725\n",
      "INFO:tensorflow:loss = 6.481688, step = 301 (0.331 sec)\n",
      "INFO:tensorflow:global_step/sec: 131.634\n",
      "INFO:tensorflow:loss = 12.187743, step = 401 (0.766 sec)\n",
      "INFO:tensorflow:global_step/sec: 233.626\n",
      "INFO:tensorflow:loss = 6.4649434, step = 501 (0.421 sec)\n",
      "INFO:tensorflow:global_step/sec: 243.658\n",
      "INFO:tensorflow:loss = 6.5012717, step = 601 (0.412 sec)\n",
      "INFO:tensorflow:global_step/sec: 294.358\n",
      "INFO:tensorflow:loss = 10.408105, step = 701 (0.339 sec)\n",
      "INFO:tensorflow:global_step/sec: 172.444\n",
      "INFO:tensorflow:loss = 4.048376, step = 801 (0.579 sec)\n",
      "INFO:tensorflow:global_step/sec: 268.398\n",
      "INFO:tensorflow:loss = 7.06241, step = 901 (0.373 sec)\n",
      "INFO:tensorflow:global_step/sec: 277.02\n",
      "INFO:tensorflow:loss = 9.053528, step = 1001 (0.361 sec)\n",
      "INFO:tensorflow:global_step/sec: 325.331\n",
      "INFO:tensorflow:loss = 3.9701626, step = 1101 (0.307 sec)\n",
      "INFO:tensorflow:global_step/sec: 327.646\n",
      "INFO:tensorflow:loss = 2.519811, step = 1201 (0.307 sec)\n",
      "INFO:tensorflow:global_step/sec: 293.47\n",
      "INFO:tensorflow:loss = 2.5524802, step = 1301 (0.340 sec)\n",
      "INFO:tensorflow:global_step/sec: 208.943\n",
      "INFO:tensorflow:loss = 2.5392992, step = 1401 (0.479 sec)\n",
      "INFO:tensorflow:global_step/sec: 306.229\n",
      "INFO:tensorflow:loss = 2.1753237, step = 1501 (0.326 sec)\n",
      "INFO:tensorflow:global_step/sec: 313.361\n",
      "INFO:tensorflow:loss = 6.6364584, step = 1601 (0.320 sec)\n",
      "INFO:tensorflow:global_step/sec: 314.954\n",
      "INFO:tensorflow:loss = 0.46330777, step = 1701 (0.317 sec)\n",
      "INFO:tensorflow:global_step/sec: 314.56\n",
      "INFO:tensorflow:loss = 1.4344126, step = 1801 (0.319 sec)\n",
      "INFO:tensorflow:global_step/sec: 215.019\n",
      "INFO:tensorflow:loss = 6.5341916, step = 1901 (0.466 sec)\n",
      "INFO:tensorflow:global_step/sec: 203.707\n",
      "INFO:tensorflow:loss = 1.9661185, step = 2001 (0.490 sec)\n",
      "INFO:tensorflow:global_step/sec: 314.038\n",
      "INFO:tensorflow:loss = 0.95277697, step = 2101 (0.319 sec)\n",
      "INFO:tensorflow:global_step/sec: 319.391\n",
      "INFO:tensorflow:loss = 3.892603, step = 2201 (0.313 sec)\n",
      "INFO:tensorflow:global_step/sec: 329.812\n",
      "INFO:tensorflow:loss = 2.9838436, step = 2301 (0.303 sec)\n",
      "INFO:tensorflow:global_step/sec: 290.194\n",
      "INFO:tensorflow:loss = 1.8619543, step = 2401 (0.349 sec)\n",
      "INFO:tensorflow:global_step/sec: 206.949\n",
      "INFO:tensorflow:loss = 0.91073745, step = 2501 (0.479 sec)\n",
      "INFO:tensorflow:global_step/sec: 303.209\n",
      "INFO:tensorflow:loss = 1.0817536, step = 2601 (0.330 sec)\n",
      "INFO:tensorflow:global_step/sec: 313.2\n",
      "INFO:tensorflow:loss = 1.7813312, step = 2701 (0.319 sec)\n",
      "INFO:tensorflow:global_step/sec: 319.633\n",
      "INFO:tensorflow:loss = 0.57842696, step = 2801 (0.313 sec)\n",
      "INFO:tensorflow:global_step/sec: 301.267\n",
      "INFO:tensorflow:loss = 8.416651, step = 2901 (0.332 sec)\n",
      "INFO:tensorflow:global_step/sec: 237.149\n",
      "INFO:tensorflow:loss = 4.9466743, step = 3001 (0.422 sec)\n",
      "INFO:tensorflow:global_step/sec: 263.356\n",
      "INFO:tensorflow:loss = 2.1731722, step = 3101 (0.379 sec)\n",
      "INFO:tensorflow:global_step/sec: 318.094\n",
      "INFO:tensorflow:loss = 0.20938636, step = 3201 (0.314 sec)\n",
      "INFO:tensorflow:global_step/sec: 306.101\n",
      "INFO:tensorflow:loss = 3.618321, step = 3301 (0.327 sec)\n",
      "INFO:tensorflow:global_step/sec: 310.852\n",
      "INFO:tensorflow:loss = 3.0601885, step = 3401 (0.322 sec)\n",
      "INFO:tensorflow:global_step/sec: 291.743\n",
      "INFO:tensorflow:loss = 1.1945031, step = 3501 (0.342 sec)\n",
      "INFO:tensorflow:global_step/sec: 213.812\n",
      "INFO:tensorflow:loss = 1.6430074, step = 3601 (0.468 sec)\n",
      "INFO:tensorflow:global_step/sec: 281.412\n",
      "INFO:tensorflow:loss = 2.4427457, step = 3701 (0.355 sec)\n",
      "INFO:tensorflow:global_step/sec: 314.509\n",
      "INFO:tensorflow:loss = 1.2524971, step = 3801 (0.318 sec)\n",
      "INFO:tensorflow:global_step/sec: 315.031\n",
      "INFO:tensorflow:loss = 8.985658, step = 3901 (0.317 sec)\n",
      "INFO:tensorflow:global_step/sec: 326.833\n",
      "INFO:tensorflow:loss = 0.25329491, step = 4001 (0.306 sec)\n",
      "INFO:tensorflow:global_step/sec: 296.397\n",
      "INFO:tensorflow:loss = 0.41881981, step = 4101 (0.337 sec)\n",
      "INFO:tensorflow:global_step/sec: 207.101\n",
      "INFO:tensorflow:loss = 9.9731865, step = 4201 (0.483 sec)\n",
      "INFO:tensorflow:global_step/sec: 277.25\n",
      "INFO:tensorflow:loss = 0.85821474, step = 4301 (0.360 sec)\n",
      "INFO:tensorflow:global_step/sec: 303.103\n",
      "INFO:tensorflow:loss = 2.881811, step = 4401 (0.330 sec)\n",
      "INFO:tensorflow:global_step/sec: 314.338\n",
      "INFO:tensorflow:loss = 0.93883646, step = 4501 (0.318 sec)\n",
      "INFO:tensorflow:global_step/sec: 273.381\n",
      "INFO:tensorflow:loss = 2.5426202, step = 4601 (0.366 sec)\n",
      "INFO:tensorflow:global_step/sec: 174.83\n",
      "INFO:tensorflow:loss = 0.40822402, step = 4701 (0.572 sec)\n",
      "INFO:tensorflow:global_step/sec: 244.592\n",
      "INFO:tensorflow:loss = 0.5643472, step = 4801 (0.408 sec)\n",
      "INFO:tensorflow:global_step/sec: 287.554\n",
      "INFO:tensorflow:loss = 0.0762209, step = 4901 (0.348 sec)\n",
      "INFO:tensorflow:global_step/sec: 302.585\n",
      "INFO:tensorflow:loss = 2.6113408, step = 5001 (0.330 sec)\n",
      "INFO:tensorflow:global_step/sec: 272.695\n",
      "INFO:tensorflow:loss = 0.5715231, step = 5101 (0.368 sec)\n",
      "INFO:tensorflow:global_step/sec: 170.886\n",
      "INFO:tensorflow:loss = 0.90537184, step = 5201 (0.587 sec)\n",
      "INFO:tensorflow:global_step/sec: 218.255\n",
      "INFO:tensorflow:loss = 0.051951557, step = 5301 (0.456 sec)\n",
      "INFO:tensorflow:global_step/sec: 243.502\n",
      "INFO:tensorflow:loss = 0.91885495, step = 5401 (0.411 sec)\n",
      "INFO:tensorflow:global_step/sec: 287.063\n",
      "INFO:tensorflow:loss = 0.51574737, step = 5501 (0.348 sec)\n",
      "INFO:tensorflow:global_step/sec: 256.98\n",
      "INFO:tensorflow:loss = 0.65174025, step = 5601 (0.391 sec)\n",
      "INFO:tensorflow:global_step/sec: 188.68\n",
      "INFO:tensorflow:loss = 0.6320625, step = 5701 (0.529 sec)\n",
      "INFO:tensorflow:global_step/sec: 265.744\n",
      "INFO:tensorflow:loss = 2.1315792, step = 5801 (0.375 sec)\n",
      "INFO:tensorflow:global_step/sec: 266.645\n",
      "INFO:tensorflow:loss = 1.3197657, step = 5901 (0.375 sec)\n",
      "INFO:tensorflow:global_step/sec: 280.996\n",
      "INFO:tensorflow:loss = 1.0306021, step = 6001 (0.356 sec)\n",
      "INFO:tensorflow:global_step/sec: 216.914\n",
      "INFO:tensorflow:loss = 0.27162373, step = 6101 (0.462 sec)\n",
      "INFO:tensorflow:global_step/sec: 173.318\n",
      "INFO:tensorflow:loss = 0.54359883, step = 6201 (0.576 sec)\n",
      "INFO:tensorflow:global_step/sec: 270.425\n",
      "INFO:tensorflow:loss = 1.4376519, step = 6301 (0.370 sec)\n",
      "INFO:tensorflow:global_step/sec: 226.932\n",
      "INFO:tensorflow:loss = 5.138973, step = 6401 (0.441 sec)\n",
      "INFO:tensorflow:global_step/sec: 210.318\n",
      "INFO:tensorflow:loss = 0.13658583, step = 6501 (0.476 sec)\n",
      "INFO:tensorflow:global_step/sec: 149.678\n",
      "INFO:tensorflow:loss = 0.9003602, step = 6601 (0.667 sec)\n",
      "INFO:tensorflow:global_step/sec: 279.798\n",
      "INFO:tensorflow:loss = 1.5024922, step = 6701 (0.358 sec)\n",
      "INFO:tensorflow:global_step/sec: 268.841\n",
      "INFO:tensorflow:loss = 0.9954734, step = 6801 (0.372 sec)\n",
      "INFO:tensorflow:global_step/sec: 195.774\n",
      "INFO:tensorflow:loss = 4.404204, step = 6901 (0.514 sec)\n",
      "INFO:tensorflow:global_step/sec: 119.216\n",
      "INFO:tensorflow:loss = 0.46581683, step = 7001 (0.836 sec)\n",
      "INFO:tensorflow:global_step/sec: 176.806\n",
      "INFO:tensorflow:loss = 0.6823894, step = 7101 (0.566 sec)\n"
     ]
    },
    {
     "name": "stdout",
     "output_type": "stream",
     "text": [
      "INFO:tensorflow:global_step/sec: 180.447\n",
      "INFO:tensorflow:loss = 4.879661, step = 7201 (0.554 sec)\n",
      "INFO:tensorflow:global_step/sec: 130.612\n",
      "INFO:tensorflow:loss = 3.9566734, step = 7301 (0.764 sec)\n",
      "INFO:tensorflow:global_step/sec: 291.075\n",
      "INFO:tensorflow:loss = 0.45111054, step = 7401 (0.343 sec)\n",
      "INFO:tensorflow:global_step/sec: 323.873\n",
      "INFO:tensorflow:loss = 2.206391, step = 7501 (0.309 sec)\n",
      "INFO:tensorflow:global_step/sec: 341.947\n",
      "INFO:tensorflow:loss = 0.13127151, step = 7601 (0.292 sec)\n",
      "INFO:tensorflow:global_step/sec: 283.137\n",
      "INFO:tensorflow:loss = 0.19524346, step = 7701 (0.354 sec)\n",
      "INFO:tensorflow:global_step/sec: 208.45\n",
      "INFO:tensorflow:loss = 0.4748238, step = 7801 (0.479 sec)\n",
      "INFO:tensorflow:global_step/sec: 306.033\n",
      "INFO:tensorflow:loss = 0.30466336, step = 7901 (0.326 sec)\n",
      "INFO:tensorflow:global_step/sec: 310.723\n",
      "INFO:tensorflow:loss = 0.33048028, step = 8001 (0.322 sec)\n",
      "INFO:tensorflow:global_step/sec: 316.947\n",
      "INFO:tensorflow:loss = 0.08032592, step = 8101 (0.315 sec)\n",
      "INFO:tensorflow:global_step/sec: 298.786\n",
      "INFO:tensorflow:loss = 0.2577279, step = 8201 (0.336 sec)\n",
      "INFO:tensorflow:global_step/sec: 139.927\n",
      "INFO:tensorflow:loss = 0.0579296, step = 8301 (0.719 sec)\n",
      "INFO:tensorflow:global_step/sec: 127.579\n",
      "INFO:tensorflow:loss = 0.4658475, step = 8401 (0.785 sec)\n",
      "INFO:tensorflow:global_step/sec: 167.082\n",
      "INFO:tensorflow:loss = 0.19327539, step = 8501 (0.591 sec)\n",
      "INFO:tensorflow:global_step/sec: 244.848\n",
      "INFO:tensorflow:loss = 1.029445, step = 8601 (0.409 sec)\n",
      "INFO:tensorflow:global_step/sec: 269.899\n",
      "INFO:tensorflow:loss = 1.3767017, step = 8701 (0.369 sec)\n",
      "INFO:tensorflow:global_step/sec: 329.624\n",
      "INFO:tensorflow:loss = 2.1320617, step = 8801 (0.304 sec)\n",
      "INFO:tensorflow:global_step/sec: 323.449\n",
      "INFO:tensorflow:loss = 0.07094397, step = 8901 (0.309 sec)\n",
      "INFO:tensorflow:global_step/sec: 340.721\n",
      "INFO:tensorflow:loss = 0.30006394, step = 9001 (0.294 sec)\n",
      "INFO:tensorflow:global_step/sec: 309.963\n",
      "INFO:tensorflow:loss = 0.36512408, step = 9101 (0.323 sec)\n",
      "INFO:tensorflow:global_step/sec: 224.255\n",
      "INFO:tensorflow:loss = 0.110871986, step = 9201 (0.447 sec)\n",
      "INFO:tensorflow:global_step/sec: 260.796\n",
      "INFO:tensorflow:loss = 1.7374586, step = 9301 (0.382 sec)\n",
      "INFO:tensorflow:global_step/sec: 303.763\n",
      "INFO:tensorflow:loss = 0.3007648, step = 9401 (0.329 sec)\n",
      "INFO:tensorflow:global_step/sec: 309.108\n",
      "INFO:tensorflow:loss = 0.18342158, step = 9501 (0.324 sec)\n",
      "INFO:tensorflow:global_step/sec: 315.237\n",
      "INFO:tensorflow:loss = 0.10907433, step = 9601 (0.317 sec)\n",
      "INFO:tensorflow:global_step/sec: 308.388\n",
      "INFO:tensorflow:loss = 3.12126, step = 9701 (0.326 sec)\n",
      "INFO:tensorflow:global_step/sec: 198.161\n",
      "INFO:tensorflow:loss = 0.0807828, step = 9801 (0.504 sec)\n",
      "INFO:tensorflow:global_step/sec: 282.401\n",
      "INFO:tensorflow:loss = 0.79332817, step = 9901 (0.353 sec)\n",
      "INFO:tensorflow:global_step/sec: 186.584\n",
      "INFO:tensorflow:loss = 0.4675324, step = 10001 (0.538 sec)\n",
      "INFO:tensorflow:global_step/sec: 161.04\n",
      "INFO:tensorflow:loss = 1.329845, step = 10101 (0.626 sec)\n",
      "INFO:tensorflow:global_step/sec: 119.298\n",
      "INFO:tensorflow:loss = 0.2332182, step = 10201 (0.835 sec)\n",
      "INFO:tensorflow:global_step/sec: 175.367\n",
      "INFO:tensorflow:loss = 0.07889439, step = 10301 (0.568 sec)\n",
      "INFO:tensorflow:global_step/sec: 174.564\n",
      "INFO:tensorflow:loss = 0.97861606, step = 10401 (0.577 sec)\n",
      "INFO:tensorflow:global_step/sec: 202.791\n",
      "INFO:tensorflow:loss = 0.052276388, step = 10501 (0.490 sec)\n",
      "INFO:tensorflow:global_step/sec: 297.75\n",
      "INFO:tensorflow:loss = 0.06745908, step = 10601 (0.333 sec)\n",
      "INFO:tensorflow:global_step/sec: 343.008\n",
      "INFO:tensorflow:loss = 0.28977665, step = 10701 (0.292 sec)\n",
      "INFO:tensorflow:global_step/sec: 332.738\n",
      "INFO:tensorflow:loss = 0.35494697, step = 10801 (0.300 sec)\n",
      "INFO:tensorflow:global_step/sec: 320.333\n",
      "INFO:tensorflow:loss = 0.31322947, step = 10901 (0.312 sec)\n",
      "INFO:tensorflow:global_step/sec: 290.801\n",
      "INFO:tensorflow:loss = 0.19192186, step = 11001 (0.346 sec)\n",
      "INFO:tensorflow:global_step/sec: 210.717\n",
      "INFO:tensorflow:loss = 2.5188234, step = 11101 (0.473 sec)\n",
      "INFO:tensorflow:global_step/sec: 314.146\n",
      "INFO:tensorflow:loss = 0.11613572, step = 11201 (0.318 sec)\n",
      "INFO:tensorflow:global_step/sec: 303.497\n",
      "INFO:tensorflow:loss = 3.0977757, step = 11301 (0.329 sec)\n",
      "INFO:tensorflow:global_step/sec: 331.631\n",
      "INFO:tensorflow:loss = 0.35853928, step = 11401 (0.301 sec)\n",
      "INFO:tensorflow:global_step/sec: 319.334\n",
      "INFO:tensorflow:loss = 0.34262407, step = 11501 (0.313 sec)\n",
      "INFO:tensorflow:global_step/sec: 203.61\n",
      "INFO:tensorflow:loss = 0.19054726, step = 11601 (0.494 sec)\n",
      "INFO:tensorflow:global_step/sec: 152.107\n",
      "INFO:tensorflow:loss = 0.20412813, step = 11701 (0.657 sec)\n",
      "INFO:tensorflow:global_step/sec: 183.779\n",
      "INFO:tensorflow:loss = 0.30470458, step = 11801 (0.544 sec)\n",
      "INFO:tensorflow:global_step/sec: 170.712\n",
      "INFO:tensorflow:loss = 0.28254545, step = 11901 (0.593 sec)\n",
      "INFO:tensorflow:global_step/sec: 133.877\n",
      "INFO:tensorflow:loss = 0.45745006, step = 12001 (0.740 sec)\n",
      "INFO:tensorflow:global_step/sec: 181.856\n",
      "INFO:tensorflow:loss = 1.4549307, step = 12101 (0.550 sec)\n",
      "INFO:tensorflow:global_step/sec: 182.49\n",
      "INFO:tensorflow:loss = 0.28247178, step = 12201 (0.549 sec)\n",
      "INFO:tensorflow:global_step/sec: 134.426\n",
      "INFO:tensorflow:loss = 0.042337663, step = 12301 (0.743 sec)\n",
      "INFO:tensorflow:global_step/sec: 170.371\n",
      "INFO:tensorflow:loss = 0.22574803, step = 12401 (0.586 sec)\n",
      "INFO:tensorflow:global_step/sec: 188.342\n",
      "INFO:tensorflow:loss = 0.30227375, step = 12501 (0.531 sec)\n",
      "INFO:tensorflow:global_step/sec: 158.383\n",
      "INFO:tensorflow:loss = 0.04240907, step = 12601 (0.633 sec)\n",
      "INFO:tensorflow:global_step/sec: 161.099\n",
      "INFO:tensorflow:loss = 0.29724887, step = 12701 (0.619 sec)\n",
      "INFO:tensorflow:global_step/sec: 190.362\n",
      "INFO:tensorflow:loss = 0.13215885, step = 12801 (0.526 sec)\n",
      "INFO:tensorflow:global_step/sec: 152.782\n",
      "INFO:tensorflow:loss = 0.4362809, step = 12901 (0.656 sec)\n",
      "INFO:tensorflow:global_step/sec: 220.399\n",
      "INFO:tensorflow:loss = 0.03135535, step = 13001 (0.450 sec)\n",
      "INFO:tensorflow:global_step/sec: 320.503\n",
      "INFO:tensorflow:loss = 0.10833325, step = 13101 (0.312 sec)\n",
      "INFO:tensorflow:global_step/sec: 314.848\n",
      "INFO:tensorflow:loss = 0.064803064, step = 13201 (0.317 sec)\n",
      "INFO:tensorflow:global_step/sec: 323.672\n",
      "INFO:tensorflow:loss = 0.12060821, step = 13301 (0.309 sec)\n",
      "INFO:tensorflow:global_step/sec: 312.515\n",
      "INFO:tensorflow:loss = 0.22675829, step = 13401 (0.321 sec)\n",
      "INFO:tensorflow:global_step/sec: 201.282\n",
      "INFO:tensorflow:loss = 0.4466392, step = 13501 (0.497 sec)\n",
      "INFO:tensorflow:global_step/sec: 280.964\n",
      "INFO:tensorflow:loss = 0.16542885, step = 13601 (0.355 sec)\n",
      "INFO:tensorflow:global_step/sec: 321.48\n",
      "INFO:tensorflow:loss = 0.08675706, step = 13701 (0.311 sec)\n",
      "INFO:tensorflow:global_step/sec: 270.636\n",
      "INFO:tensorflow:loss = 0.027994681, step = 13801 (0.372 sec)\n",
      "INFO:tensorflow:global_step/sec: 175.3\n",
      "INFO:tensorflow:loss = 0.24489005, step = 13901 (0.571 sec)\n",
      "INFO:tensorflow:global_step/sec: 139.115\n",
      "INFO:tensorflow:loss = 0.15235414, step = 14001 (0.719 sec)\n",
      "INFO:tensorflow:global_step/sec: 177.19\n",
      "INFO:tensorflow:loss = 0.1038076, step = 14101 (0.563 sec)\n",
      "INFO:tensorflow:global_step/sec: 186.799\n",
      "INFO:tensorflow:loss = 0.007934896, step = 14201 (0.535 sec)\n",
      "INFO:tensorflow:global_step/sec: 137.555\n",
      "INFO:tensorflow:loss = 0.9023471, step = 14301 (0.727 sec)\n",
      "INFO:tensorflow:global_step/sec: 169.258\n",
      "INFO:tensorflow:loss = 0.0038895784, step = 14401 (0.591 sec)\n",
      "INFO:tensorflow:global_step/sec: 188.394\n",
      "INFO:tensorflow:loss = 0.11842954, step = 14501 (0.531 sec)\n",
      "INFO:tensorflow:global_step/sec: 149.768\n",
      "INFO:tensorflow:loss = 0.059907306, step = 14601 (0.669 sec)\n",
      "INFO:tensorflow:global_step/sec: 161.016\n",
      "INFO:tensorflow:loss = 0.2695353, step = 14701 (0.619 sec)\n",
      "INFO:tensorflow:global_step/sec: 187.678\n",
      "INFO:tensorflow:loss = 0.07793766, step = 14801 (0.532 sec)\n",
      "INFO:tensorflow:global_step/sec: 167.496\n",
      "INFO:tensorflow:loss = 0.17702176, step = 14901 (0.599 sec)\n",
      "INFO:tensorflow:global_step/sec: 139.007\n",
      "INFO:tensorflow:loss = 0.0770566, step = 15001 (0.719 sec)\n",
      "INFO:tensorflow:global_step/sec: 187.652\n",
      "INFO:tensorflow:loss = 0.10206903, step = 15101 (0.532 sec)\n",
      "INFO:tensorflow:global_step/sec: 258.493\n",
      "INFO:tensorflow:loss = 0.04495556, step = 15201 (0.385 sec)\n",
      "INFO:tensorflow:global_step/sec: 243.958\n",
      "INFO:tensorflow:loss = 0.09056664, step = 15301 (0.411 sec)\n"
     ]
    },
    {
     "name": "stdout",
     "output_type": "stream",
     "text": [
      "INFO:tensorflow:global_step/sec: 239.888\n",
      "INFO:tensorflow:loss = 0.041998394, step = 15401 (0.417 sec)\n",
      "INFO:tensorflow:global_step/sec: 320.095\n",
      "INFO:tensorflow:loss = 0.12885925, step = 15501 (0.313 sec)\n",
      "INFO:tensorflow:global_step/sec: 308.286\n",
      "INFO:tensorflow:loss = 0.7867442, step = 15601 (0.324 sec)\n",
      "INFO:tensorflow:global_step/sec: 331.386\n",
      "INFO:tensorflow:loss = 0.19656956, step = 15701 (0.302 sec)\n",
      "INFO:tensorflow:global_step/sec: 317.636\n",
      "INFO:tensorflow:loss = 0.04913687, step = 15801 (0.314 sec)\n",
      "INFO:tensorflow:global_step/sec: 228.937\n",
      "INFO:tensorflow:loss = 0.14386284, step = 15901 (0.438 sec)\n",
      "INFO:tensorflow:global_step/sec: 245.874\n",
      "INFO:tensorflow:loss = 0.13335638, step = 16001 (0.407 sec)\n",
      "INFO:tensorflow:global_step/sec: 176.68\n",
      "INFO:tensorflow:loss = 0.048066847, step = 16101 (0.566 sec)\n",
      "INFO:tensorflow:global_step/sec: 176.972\n",
      "INFO:tensorflow:loss = 0.10763494, step = 16201 (0.565 sec)\n",
      "INFO:tensorflow:global_step/sec: 128.008\n",
      "INFO:tensorflow:loss = 0.11007512, step = 16301 (0.782 sec)\n",
      "INFO:tensorflow:global_step/sec: 126.219\n",
      "INFO:tensorflow:loss = 0.053007364, step = 16401 (0.792 sec)\n",
      "INFO:tensorflow:global_step/sec: 148.504\n",
      "INFO:tensorflow:loss = 0.009258478, step = 16501 (0.678 sec)\n",
      "INFO:tensorflow:global_step/sec: 126.821\n",
      "INFO:tensorflow:loss = 0.028814852, step = 16601 (0.782 sec)\n",
      "INFO:tensorflow:global_step/sec: 178.571\n",
      "INFO:tensorflow:loss = 0.15995666, step = 16701 (0.560 sec)\n",
      "INFO:tensorflow:global_step/sec: 175.637\n",
      "INFO:tensorflow:loss = 0.6089208, step = 16801 (0.570 sec)\n",
      "INFO:tensorflow:global_step/sec: 124.275\n",
      "INFO:tensorflow:loss = 0.074155904, step = 16901 (0.804 sec)\n",
      "INFO:tensorflow:global_step/sec: 124.812\n",
      "INFO:tensorflow:loss = 0.068439476, step = 17001 (0.803 sec)\n",
      "INFO:tensorflow:global_step/sec: 139.408\n",
      "INFO:tensorflow:loss = 0.014765352, step = 17101 (0.717 sec)\n",
      "INFO:tensorflow:global_step/sec: 168.904\n",
      "INFO:tensorflow:loss = 0.10054496, step = 17201 (0.589 sec)\n",
      "INFO:tensorflow:global_step/sec: 322.015\n",
      "INFO:tensorflow:loss = 0.20892192, step = 17301 (0.310 sec)\n",
      "INFO:tensorflow:global_step/sec: 336.715\n",
      "INFO:tensorflow:loss = 0.0864556, step = 17401 (0.297 sec)\n",
      "INFO:tensorflow:global_step/sec: 324.474\n",
      "INFO:tensorflow:loss = 0.5015995, step = 17501 (0.308 sec)\n",
      "INFO:tensorflow:global_step/sec: 237.39\n",
      "INFO:tensorflow:loss = 0.09449674, step = 17601 (0.422 sec)\n",
      "INFO:tensorflow:global_step/sec: 254.033\n",
      "INFO:tensorflow:loss = 0.033391383, step = 17701 (0.393 sec)\n",
      "INFO:tensorflow:global_step/sec: 320.754\n",
      "INFO:tensorflow:loss = 0.23923439, step = 17801 (0.312 sec)\n",
      "INFO:tensorflow:global_step/sec: 314.315\n",
      "INFO:tensorflow:loss = 0.02703147, step = 17901 (0.318 sec)\n",
      "INFO:tensorflow:global_step/sec: 329.81\n",
      "INFO:tensorflow:loss = 0.10213915, step = 18001 (0.303 sec)\n",
      "INFO:tensorflow:global_step/sec: 313.717\n",
      "INFO:tensorflow:loss = 0.19914797, step = 18101 (0.320 sec)\n",
      "INFO:tensorflow:global_step/sec: 131.718\n",
      "INFO:tensorflow:loss = 0.037300225, step = 18201 (0.759 sec)\n",
      "INFO:tensorflow:global_step/sec: 129.513\n",
      "INFO:tensorflow:loss = 0.08635002, step = 18301 (0.774 sec)\n",
      "INFO:tensorflow:global_step/sec: 161.413\n",
      "INFO:tensorflow:loss = 0.07427174, step = 18401 (0.621 sec)\n",
      "INFO:tensorflow:global_step/sec: 131.165\n",
      "INFO:tensorflow:loss = 0.024831548, step = 18501 (0.760 sec)\n",
      "INFO:tensorflow:global_step/sec: 178.119\n",
      "INFO:tensorflow:loss = 0.490898, step = 18601 (0.560 sec)\n",
      "INFO:tensorflow:global_step/sec: 183.836\n",
      "INFO:tensorflow:loss = 0.048618942, step = 18701 (0.545 sec)\n",
      "INFO:tensorflow:global_step/sec: 131.157\n",
      "INFO:tensorflow:loss = 0.09170096, step = 18801 (0.762 sec)\n",
      "INFO:tensorflow:global_step/sec: 128.904\n",
      "INFO:tensorflow:loss = 0.05252651, step = 18901 (0.775 sec)\n",
      "INFO:tensorflow:global_step/sec: 151.03\n",
      "INFO:tensorflow:loss = 0.0873739, step = 19001 (0.667 sec)\n",
      "INFO:tensorflow:global_step/sec: 134.057\n",
      "INFO:tensorflow:loss = 0.010942281, step = 19101 (0.742 sec)\n",
      "INFO:tensorflow:global_step/sec: 181.345\n",
      "INFO:tensorflow:loss = 0.0060002846, step = 19201 (0.550 sec)\n",
      "INFO:tensorflow:global_step/sec: 177.907\n",
      "INFO:tensorflow:loss = 0.049284346, step = 19301 (0.562 sec)\n",
      "INFO:tensorflow:global_step/sec: 131.431\n",
      "INFO:tensorflow:loss = 0.050621644, step = 19401 (0.761 sec)\n",
      "INFO:tensorflow:global_step/sec: 167.248\n",
      "INFO:tensorflow:loss = 0.051542126, step = 19501 (0.598 sec)\n",
      "INFO:tensorflow:global_step/sec: 183.375\n",
      "INFO:tensorflow:loss = 0.06969261, step = 19601 (0.545 sec)\n",
      "INFO:tensorflow:global_step/sec: 180.809\n",
      "INFO:tensorflow:loss = 0.2501254, step = 19701 (0.552 sec)\n",
      "INFO:tensorflow:global_step/sec: 275.146\n",
      "INFO:tensorflow:loss = 0.08417066, step = 19801 (0.364 sec)\n",
      "INFO:tensorflow:global_step/sec: 322.129\n",
      "INFO:tensorflow:loss = 0.022581974, step = 19901 (0.310 sec)\n",
      "INFO:tensorflow:global_step/sec: 318.901\n",
      "INFO:tensorflow:loss = 0.012000294, step = 20001 (0.313 sec)\n",
      "INFO:tensorflow:global_step/sec: 317.639\n",
      "INFO:tensorflow:loss = 0.13856617, step = 20101 (0.315 sec)\n",
      "INFO:tensorflow:global_step/sec: 296.289\n",
      "INFO:tensorflow:loss = 0.08264453, step = 20201 (0.339 sec)\n",
      "INFO:tensorflow:global_step/sec: 213.608\n",
      "INFO:tensorflow:loss = 0.078568265, step = 20301 (0.467 sec)\n",
      "INFO:tensorflow:global_step/sec: 313.883\n",
      "INFO:tensorflow:loss = 0.0047296346, step = 20401 (0.319 sec)\n",
      "INFO:tensorflow:global_step/sec: 319.759\n",
      "INFO:tensorflow:loss = 0.02068936, step = 20501 (0.313 sec)\n",
      "INFO:tensorflow:global_step/sec: 196.219\n",
      "INFO:tensorflow:loss = 0.2229069, step = 20601 (0.511 sec)\n",
      "INFO:tensorflow:global_step/sec: 149.904\n",
      "INFO:tensorflow:loss = 0.2621893, step = 20701 (0.671 sec)\n",
      "INFO:tensorflow:global_step/sec: 141.855\n",
      "INFO:tensorflow:loss = 0.020857645, step = 20801 (0.703 sec)\n",
      "INFO:tensorflow:global_step/sec: 180.775\n",
      "INFO:tensorflow:loss = 0.11014877, step = 20901 (0.552 sec)\n",
      "INFO:tensorflow:global_step/sec: 137.271\n",
      "INFO:tensorflow:loss = 0.030400608, step = 21001 (0.730 sec)\n",
      "INFO:tensorflow:global_step/sec: 133.694\n",
      "INFO:tensorflow:loss = 0.081101224, step = 21101 (0.752 sec)\n",
      "INFO:tensorflow:global_step/sec: 136.359\n",
      "INFO:tensorflow:loss = 0.029362634, step = 21201 (0.728 sec)\n",
      "INFO:tensorflow:global_step/sec: 133.9\n",
      "INFO:tensorflow:loss = 0.05555189, step = 21301 (0.746 sec)\n",
      "INFO:tensorflow:global_step/sec: 167.547\n",
      "INFO:tensorflow:loss = 0.28913972, step = 21401 (0.597 sec)\n",
      "INFO:tensorflow:global_step/sec: 182.596\n",
      "INFO:tensorflow:loss = 0.009692403, step = 21501 (0.549 sec)\n",
      "INFO:tensorflow:global_step/sec: 147.93\n",
      "INFO:tensorflow:loss = 0.12975203, step = 21601 (0.675 sec)\n",
      "INFO:tensorflow:global_step/sec: 150.83\n",
      "INFO:tensorflow:loss = 0.02190465, step = 21701 (0.662 sec)\n",
      "INFO:tensorflow:global_step/sec: 188.127\n",
      "INFO:tensorflow:loss = 0.13602869, step = 21801 (0.532 sec)\n",
      "INFO:tensorflow:global_step/sec: 152.302\n",
      "INFO:tensorflow:loss = 0.038746558, step = 21901 (0.656 sec)\n",
      "INFO:tensorflow:global_step/sec: 150.855\n",
      "INFO:tensorflow:loss = 0.019456241, step = 22001 (0.664 sec)\n",
      "INFO:tensorflow:global_step/sec: 186.211\n",
      "INFO:tensorflow:loss = 0.114253595, step = 22101 (0.536 sec)\n",
      "INFO:tensorflow:global_step/sec: 184.588\n",
      "INFO:tensorflow:loss = 0.10138552, step = 22201 (0.541 sec)\n",
      "INFO:tensorflow:global_step/sec: 134.28\n",
      "INFO:tensorflow:loss = 0.033038937, step = 22301 (0.745 sec)\n",
      "INFO:tensorflow:global_step/sec: 178.513\n",
      "INFO:tensorflow:loss = 0.01402303, step = 22401 (0.560 sec)\n",
      "INFO:tensorflow:global_step/sec: 182.191\n",
      "INFO:tensorflow:loss = 0.0058775833, step = 22501 (0.548 sec)\n",
      "INFO:tensorflow:global_step/sec: 145.225\n",
      "INFO:tensorflow:loss = 0.06692382, step = 22601 (0.689 sec)\n",
      "INFO:tensorflow:global_step/sec: 269.625\n",
      "INFO:tensorflow:loss = 0.056483854, step = 22701 (0.369 sec)\n",
      "INFO:tensorflow:global_step/sec: 319.861\n",
      "INFO:tensorflow:loss = 0.061837632, step = 22801 (0.314 sec)\n",
      "INFO:tensorflow:global_step/sec: 322.44\n",
      "INFO:tensorflow:loss = 0.0017707901, step = 22901 (0.310 sec)\n",
      "INFO:tensorflow:global_step/sec: 321.495\n",
      "INFO:tensorflow:loss = 0.1064786, step = 23001 (0.311 sec)\n",
      "INFO:tensorflow:global_step/sec: 248.323\n",
      "INFO:tensorflow:loss = 0.023717646, step = 23101 (0.404 sec)\n",
      "INFO:tensorflow:global_step/sec: 242.172\n",
      "INFO:tensorflow:loss = 0.004987643, step = 23201 (0.412 sec)\n",
      "INFO:tensorflow:global_step/sec: 315.641\n",
      "INFO:tensorflow:loss = 0.0031415105, step = 23301 (0.317 sec)\n",
      "INFO:tensorflow:global_step/sec: 316.509\n",
      "INFO:tensorflow:loss = 0.31717017, step = 23401 (0.316 sec)\n"
     ]
    },
    {
     "name": "stdout",
     "output_type": "stream",
     "text": [
      "INFO:tensorflow:global_step/sec: 329.625\n",
      "INFO:tensorflow:loss = 0.019789334, step = 23501 (0.303 sec)\n",
      "INFO:tensorflow:global_step/sec: 146.002\n",
      "INFO:tensorflow:loss = 0.074162334, step = 23601 (0.691 sec)\n",
      "INFO:tensorflow:global_step/sec: 136.535\n",
      "INFO:tensorflow:loss = 0.0036284635, step = 23701 (0.733 sec)\n",
      "INFO:tensorflow:global_step/sec: 134.665\n",
      "INFO:tensorflow:loss = 0.030438876, step = 23801 (0.738 sec)\n",
      "INFO:tensorflow:global_step/sec: 142.846\n",
      "INFO:tensorflow:loss = 0.012231279, step = 23901 (0.701 sec)\n",
      "INFO:tensorflow:global_step/sec: 158.405\n",
      "INFO:tensorflow:loss = 0.011482116, step = 24001 (0.631 sec)\n",
      "INFO:tensorflow:global_step/sec: 185.291\n",
      "INFO:tensorflow:loss = 0.06585642, step = 24101 (0.540 sec)\n",
      "INFO:tensorflow:global_step/sec: 192.587\n",
      "INFO:tensorflow:loss = 0.008578799, step = 24201 (0.521 sec)\n",
      "INFO:tensorflow:global_step/sec: 146.662\n",
      "INFO:tensorflow:loss = 0.0067598308, step = 24301 (0.678 sec)\n",
      "INFO:tensorflow:global_step/sec: 192.734\n",
      "INFO:tensorflow:loss = 0.017006889, step = 24401 (0.520 sec)\n",
      "INFO:tensorflow:global_step/sec: 224.206\n",
      "INFO:tensorflow:loss = 0.031204319, step = 24501 (0.445 sec)\n",
      "INFO:tensorflow:global_step/sec: 141.357\n",
      "INFO:tensorflow:loss = 0.062865846, step = 24601 (0.708 sec)\n",
      "INFO:tensorflow:global_step/sec: 160.909\n",
      "INFO:tensorflow:loss = 0.02594785, step = 24701 (0.622 sec)\n",
      "INFO:tensorflow:global_step/sec: 180.53\n",
      "INFO:tensorflow:loss = 0.057201467, step = 24801 (0.555 sec)\n",
      "INFO:tensorflow:global_step/sec: 144.16\n",
      "INFO:tensorflow:loss = 0.019807454, step = 24901 (0.694 sec)\n",
      "INFO:tensorflow:global_step/sec: 122.091\n",
      "INFO:tensorflow:loss = 0.017108321, step = 25001 (0.819 sec)\n",
      "INFO:tensorflow:global_step/sec: 142.671\n",
      "INFO:tensorflow:loss = 0.12169473, step = 25101 (0.700 sec)\n",
      "INFO:tensorflow:global_step/sec: 134.574\n",
      "INFO:tensorflow:loss = 0.009987068, step = 25201 (0.745 sec)\n",
      "INFO:tensorflow:global_step/sec: 128.259\n",
      "INFO:tensorflow:loss = 0.06395203, step = 25301 (0.778 sec)\n",
      "INFO:tensorflow:global_step/sec: 161.544\n",
      "INFO:tensorflow:loss = 0.01114687, step = 25401 (0.619 sec)\n",
      "INFO:tensorflow:global_step/sec: 130.263\n",
      "INFO:tensorflow:loss = 0.034331024, step = 25501 (0.768 sec)\n",
      "INFO:tensorflow:global_step/sec: 171.917\n",
      "INFO:tensorflow:loss = 0.03320805, step = 25601 (0.581 sec)\n",
      "INFO:tensorflow:global_step/sec: 184.531\n",
      "INFO:tensorflow:loss = 0.06591502, step = 25701 (0.542 sec)\n",
      "INFO:tensorflow:global_step/sec: 128.648\n",
      "INFO:tensorflow:loss = 0.1043343, step = 25801 (0.778 sec)\n",
      "INFO:tensorflow:global_step/sec: 161.622\n",
      "INFO:tensorflow:loss = 0.046687454, step = 25901 (0.618 sec)\n",
      "INFO:tensorflow:global_step/sec: 179.512\n",
      "INFO:tensorflow:loss = 0.020858334, step = 26001 (0.558 sec)\n",
      "INFO:tensorflow:global_step/sec: 128.909\n",
      "INFO:tensorflow:loss = 0.022305824, step = 26101 (0.776 sec)\n",
      "INFO:tensorflow:global_step/sec: 123.9\n",
      "INFO:tensorflow:loss = 0.06595418, step = 26201 (0.807 sec)\n",
      "INFO:tensorflow:global_step/sec: 158.147\n",
      "INFO:tensorflow:loss = 0.12128015, step = 26301 (0.635 sec)\n",
      "INFO:tensorflow:global_step/sec: 127.403\n",
      "INFO:tensorflow:loss = 0.008163974, step = 26401 (0.781 sec)\n",
      "INFO:tensorflow:global_step/sec: 123.203\n",
      "INFO:tensorflow:loss = 0.018089522, step = 26501 (0.813 sec)\n",
      "INFO:tensorflow:global_step/sec: 135.691\n",
      "INFO:tensorflow:loss = 0.024786992, step = 26601 (0.738 sec)\n",
      "INFO:tensorflow:global_step/sec: 127.956\n",
      "INFO:tensorflow:loss = 0.0070055663, step = 26701 (0.782 sec)\n",
      "INFO:tensorflow:global_step/sec: 144.024\n",
      "INFO:tensorflow:loss = 0.07757513, step = 26801 (0.693 sec)\n",
      "INFO:tensorflow:global_step/sec: 127.289\n",
      "INFO:tensorflow:loss = 0.005050263, step = 26901 (0.786 sec)\n",
      "INFO:tensorflow:global_step/sec: 169.234\n",
      "INFO:tensorflow:loss = 0.016114706, step = 27001 (0.590 sec)\n",
      "INFO:tensorflow:global_step/sec: 187.545\n",
      "INFO:tensorflow:loss = 0.012322356, step = 27101 (0.533 sec)\n",
      "INFO:tensorflow:global_step/sec: 144.678\n",
      "INFO:tensorflow:loss = 0.06051507, step = 27201 (0.696 sec)\n",
      "INFO:tensorflow:global_step/sec: 126.009\n",
      "INFO:tensorflow:loss = 0.07078413, step = 27301 (0.791 sec)\n",
      "INFO:tensorflow:global_step/sec: 151.349\n",
      "INFO:tensorflow:loss = 0.0095676705, step = 27401 (0.660 sec)\n",
      "INFO:tensorflow:global_step/sec: 173.194\n",
      "INFO:tensorflow:loss = 0.021173837, step = 27501 (0.576 sec)\n",
      "INFO:tensorflow:global_step/sec: 293.037\n",
      "INFO:tensorflow:loss = 0.06632121, step = 27601 (0.341 sec)\n",
      "INFO:tensorflow:global_step/sec: 314.161\n",
      "INFO:tensorflow:loss = 0.016106054, step = 27701 (0.318 sec)\n",
      "INFO:tensorflow:global_step/sec: 246.486\n",
      "INFO:tensorflow:loss = 0.0763903, step = 27801 (0.405 sec)\n",
      "INFO:tensorflow:global_step/sec: 316.696\n",
      "INFO:tensorflow:loss = 0.061423913, step = 27901 (0.316 sec)\n",
      "INFO:tensorflow:global_step/sec: 206.299\n",
      "INFO:tensorflow:loss = 0.12553397, step = 28001 (0.486 sec)\n",
      "INFO:tensorflow:global_step/sec: 164.054\n",
      "INFO:tensorflow:loss = 0.02394861, step = 28101 (0.610 sec)\n",
      "INFO:tensorflow:global_step/sec: 188.059\n",
      "INFO:tensorflow:loss = 0.0075665945, step = 28201 (0.531 sec)\n",
      "INFO:tensorflow:global_step/sec: 169.805\n",
      "INFO:tensorflow:loss = 0.07021877, step = 28301 (0.590 sec)\n",
      "INFO:tensorflow:global_step/sec: 133.183\n",
      "INFO:tensorflow:loss = 0.044961877, step = 28401 (0.751 sec)\n",
      "INFO:tensorflow:global_step/sec: 182.635\n",
      "INFO:tensorflow:loss = 0.0009566057, step = 28501 (0.546 sec)\n",
      "INFO:tensorflow:global_step/sec: 185.015\n",
      "INFO:tensorflow:loss = 0.03345245, step = 28601 (0.542 sec)\n",
      "INFO:tensorflow:global_step/sec: 138.838\n",
      "INFO:tensorflow:loss = 0.011862851, step = 28701 (0.720 sec)\n",
      "INFO:tensorflow:global_step/sec: 168.116\n",
      "INFO:tensorflow:loss = 0.058535896, step = 28801 (0.593 sec)\n",
      "INFO:tensorflow:global_step/sec: 189.913\n",
      "INFO:tensorflow:loss = 0.010560806, step = 28901 (0.527 sec)\n",
      "INFO:tensorflow:global_step/sec: 137.343\n",
      "INFO:tensorflow:loss = 0.039091814, step = 29001 (0.732 sec)\n",
      "INFO:tensorflow:global_step/sec: 167.134\n",
      "INFO:tensorflow:loss = 0.03801153, step = 29101 (0.594 sec)\n",
      "INFO:tensorflow:global_step/sec: 188.372\n",
      "INFO:tensorflow:loss = 0.09700705, step = 29201 (0.531 sec)\n",
      "INFO:tensorflow:global_step/sec: 148.727\n",
      "INFO:tensorflow:loss = 0.01808853, step = 29301 (0.673 sec)\n",
      "INFO:tensorflow:global_step/sec: 145.744\n",
      "INFO:tensorflow:loss = 0.017618235, step = 29401 (0.686 sec)\n",
      "INFO:tensorflow:global_step/sec: 184.899\n",
      "INFO:tensorflow:loss = 0.033307757, step = 29501 (0.541 sec)\n",
      "INFO:tensorflow:global_step/sec: 172.383\n",
      "INFO:tensorflow:loss = 0.021041844, step = 29601 (0.583 sec)\n",
      "INFO:tensorflow:global_step/sec: 133.239\n",
      "INFO:tensorflow:loss = 0.021630988, step = 29701 (0.750 sec)\n",
      "INFO:tensorflow:global_step/sec: 121.806\n",
      "INFO:tensorflow:loss = 0.041138947, step = 29801 (0.822 sec)\n",
      "INFO:tensorflow:global_step/sec: 132.249\n",
      "INFO:tensorflow:loss = 0.059909947, step = 29901 (0.754 sec)\n",
      "INFO:tensorflow:global_step/sec: 159.935\n",
      "INFO:tensorflow:loss = 0.13386749, step = 30001 (0.626 sec)\n",
      "INFO:tensorflow:global_step/sec: 184.432\n",
      "INFO:tensorflow:loss = 0.044924527, step = 30101 (0.540 sec)\n",
      "INFO:tensorflow:global_step/sec: 159.19\n",
      "INFO:tensorflow:loss = 0.0059181512, step = 30201 (0.630 sec)\n",
      "INFO:tensorflow:global_step/sec: 151.132\n",
      "INFO:tensorflow:loss = 0.049853593, step = 30301 (0.661 sec)\n",
      "INFO:tensorflow:global_step/sec: 184.42\n",
      "INFO:tensorflow:loss = 0.048953712, step = 30401 (0.541 sec)\n",
      "INFO:tensorflow:global_step/sec: 264.986\n",
      "INFO:tensorflow:loss = 0.07711631, step = 30501 (0.377 sec)\n",
      "INFO:tensorflow:global_step/sec: 240.548\n",
      "INFO:tensorflow:loss = 0.010719364, step = 30601 (0.417 sec)\n",
      "INFO:tensorflow:global_step/sec: 238.517\n",
      "INFO:tensorflow:loss = 0.044090845, step = 30701 (0.418 sec)\n",
      "INFO:tensorflow:global_step/sec: 308.737\n",
      "INFO:tensorflow:loss = 0.13324632, step = 30801 (0.324 sec)\n",
      "INFO:tensorflow:global_step/sec: 316.182\n",
      "INFO:tensorflow:loss = 0.024356328, step = 30901 (0.316 sec)\n",
      "INFO:tensorflow:global_step/sec: 322.969\n",
      "INFO:tensorflow:loss = 0.020761918, step = 31001 (0.310 sec)\n",
      "INFO:tensorflow:global_step/sec: 171.716\n",
      "INFO:tensorflow:loss = 0.0150448065, step = 31101 (0.584 sec)\n",
      "INFO:tensorflow:global_step/sec: 142.808\n",
      "INFO:tensorflow:loss = 0.011759715, step = 31201 (0.699 sec)\n",
      "INFO:tensorflow:global_step/sec: 133.995\n",
      "INFO:tensorflow:loss = 0.040669218, step = 31301 (0.747 sec)\n",
      "INFO:tensorflow:global_step/sec: 146.672\n",
      "INFO:tensorflow:loss = 0.007909417, step = 31401 (0.682 sec)\n",
      "INFO:tensorflow:global_step/sec: 149.217\n",
      "INFO:tensorflow:loss = 0.0422139, step = 31501 (0.670 sec)\n"
     ]
    },
    {
     "name": "stdout",
     "output_type": "stream",
     "text": [
      "INFO:tensorflow:global_step/sec: 180.642\n",
      "INFO:tensorflow:loss = 0.040417247, step = 31601 (0.553 sec)\n",
      "INFO:tensorflow:global_step/sec: 160.978\n",
      "INFO:tensorflow:loss = 0.010132653, step = 31701 (0.629 sec)\n",
      "INFO:tensorflow:global_step/sec: 134.386\n",
      "INFO:tensorflow:loss = 0.067894086, step = 31801 (0.736 sec)\n",
      "INFO:tensorflow:global_step/sec: 186.452\n",
      "INFO:tensorflow:loss = 0.012256311, step = 31901 (0.536 sec)\n",
      "INFO:tensorflow:global_step/sec: 171.065\n",
      "INFO:tensorflow:loss = 0.057128478, step = 32001 (0.586 sec)\n",
      "INFO:tensorflow:global_step/sec: 132.985\n",
      "INFO:tensorflow:loss = 0.014848314, step = 32101 (0.752 sec)\n",
      "INFO:tensorflow:global_step/sec: 174.774\n",
      "INFO:tensorflow:loss = 0.033734296, step = 32201 (0.572 sec)\n",
      "INFO:tensorflow:global_step/sec: 182.546\n",
      "INFO:tensorflow:loss = 0.017877689, step = 32301 (0.548 sec)\n",
      "INFO:tensorflow:global_step/sec: 131.497\n",
      "INFO:tensorflow:loss = 0.034592617, step = 32401 (0.762 sec)\n",
      "INFO:tensorflow:global_step/sec: 125.727\n",
      "INFO:tensorflow:loss = 0.08213346, step = 32501 (0.795 sec)\n",
      "INFO:tensorflow:global_step/sec: 149.589\n",
      "INFO:tensorflow:loss = 0.06031438, step = 32601 (0.669 sec)\n",
      "INFO:tensorflow:global_step/sec: 136.534\n",
      "INFO:tensorflow:loss = 0.005560788, step = 32701 (0.731 sec)\n",
      "INFO:tensorflow:global_step/sec: 179.644\n",
      "INFO:tensorflow:loss = 0.06963092, step = 32801 (0.556 sec)\n",
      "INFO:tensorflow:global_step/sec: 179.289\n",
      "INFO:tensorflow:loss = 0.028590735, step = 32901 (0.558 sec)\n",
      "INFO:tensorflow:global_step/sec: 126.997\n",
      "INFO:tensorflow:loss = 0.028958917, step = 33001 (0.789 sec)\n",
      "INFO:tensorflow:global_step/sec: 121.92\n",
      "INFO:tensorflow:loss = 0.017317198, step = 33101 (0.818 sec)\n",
      "INFO:tensorflow:global_step/sec: 134.214\n",
      "INFO:tensorflow:loss = 0.0016826486, step = 33201 (0.747 sec)\n",
      "INFO:tensorflow:global_step/sec: 134.974\n",
      "INFO:tensorflow:loss = 0.022159642, step = 33301 (0.752 sec)\n",
      "INFO:tensorflow:global_step/sec: 136.102\n",
      "INFO:tensorflow:loss = 0.003994181, step = 33401 (0.722 sec)\n",
      "INFO:tensorflow:global_step/sec: 144.798\n",
      "INFO:tensorflow:loss = 0.014283814, step = 33501 (0.692 sec)\n",
      "INFO:tensorflow:global_step/sec: 162.533\n",
      "INFO:tensorflow:loss = 0.011012465, step = 33601 (0.615 sec)\n",
      "INFO:tensorflow:global_step/sec: 182.837\n",
      "INFO:tensorflow:loss = 0.00862383, step = 33701 (0.546 sec)\n",
      "INFO:tensorflow:global_step/sec: 168.178\n",
      "INFO:tensorflow:loss = 0.048712082, step = 33801 (0.594 sec)\n",
      "INFO:tensorflow:global_step/sec: 245.009\n",
      "INFO:tensorflow:loss = 0.0022487086, step = 33901 (0.407 sec)\n",
      "INFO:tensorflow:global_step/sec: 320.771\n",
      "INFO:tensorflow:loss = 0.0014734572, step = 34001 (0.312 sec)\n",
      "INFO:tensorflow:global_step/sec: 320.835\n",
      "INFO:tensorflow:loss = 0.011021332, step = 34101 (0.312 sec)\n",
      "INFO:tensorflow:global_step/sec: 340.282\n",
      "INFO:tensorflow:loss = 0.017396774, step = 34201 (0.294 sec)\n",
      "INFO:tensorflow:global_step/sec: 315.147\n",
      "INFO:tensorflow:loss = 0.023482352, step = 34301 (0.317 sec)\n",
      "INFO:tensorflow:global_step/sec: 229.203\n",
      "INFO:tensorflow:loss = 0.062120937, step = 34401 (0.436 sec)\n",
      "INFO:tensorflow:global_step/sec: 266.558\n",
      "INFO:tensorflow:loss = 0.028644044, step = 34501 (0.375 sec)\n",
      "INFO:tensorflow:global_step/sec: 318.92\n",
      "INFO:tensorflow:loss = 0.002287396, step = 34601 (0.314 sec)\n",
      "INFO:tensorflow:global_step/sec: 228.187\n",
      "INFO:tensorflow:loss = 0.023517245, step = 34701 (0.439 sec)\n",
      "INFO:tensorflow:global_step/sec: 175.886\n",
      "INFO:tensorflow:loss = 0.020569317, step = 34801 (0.569 sec)\n",
      "INFO:tensorflow:global_step/sec: 126.642\n",
      "INFO:tensorflow:loss = 0.03086715, step = 34901 (0.793 sec)\n",
      "INFO:tensorflow:global_step/sec: 123.081\n",
      "INFO:tensorflow:loss = 0.028670903, step = 35001 (0.809 sec)\n",
      "INFO:tensorflow:global_step/sec: 138.778\n",
      "INFO:tensorflow:loss = 0.024347771, step = 35101 (0.722 sec)\n",
      "INFO:tensorflow:global_step/sec: 133.286\n",
      "INFO:tensorflow:loss = 0.015612323, step = 35201 (0.766 sec)\n",
      "INFO:tensorflow:global_step/sec: 134.944\n",
      "INFO:tensorflow:loss = 0.012999991, step = 35301 (0.723 sec)\n",
      "INFO:tensorflow:global_step/sec: 134.695\n",
      "INFO:tensorflow:loss = 0.027966809, step = 35401 (0.743 sec)\n",
      "INFO:tensorflow:global_step/sec: 129.162\n",
      "INFO:tensorflow:loss = 0.018414598, step = 35501 (0.776 sec)\n",
      "INFO:tensorflow:global_step/sec: 158.428\n",
      "INFO:tensorflow:loss = 0.076016806, step = 35601 (0.629 sec)\n",
      "INFO:tensorflow:global_step/sec: 130.335\n",
      "INFO:tensorflow:loss = 0.03894224, step = 35701 (0.767 sec)\n",
      "INFO:tensorflow:global_step/sec: 127.1\n",
      "INFO:tensorflow:loss = 0.008161318, step = 35801 (0.788 sec)\n",
      "INFO:tensorflow:global_step/sec: 145.838\n",
      "INFO:tensorflow:loss = 0.06973198, step = 35901 (0.699 sec)\n",
      "INFO:tensorflow:global_step/sec: 131.848\n",
      "INFO:tensorflow:loss = 0.0073350873, step = 36001 (0.745 sec)\n",
      "INFO:tensorflow:global_step/sec: 134.853\n",
      "INFO:tensorflow:loss = 0.020696813, step = 36101 (0.742 sec)\n",
      "INFO:tensorflow:global_step/sec: 152.231\n",
      "INFO:tensorflow:loss = 0.044214938, step = 36201 (0.660 sec)\n",
      "INFO:tensorflow:global_step/sec: 152.208\n",
      "INFO:tensorflow:loss = 0.049137376, step = 36301 (0.653 sec)\n",
      "INFO:tensorflow:global_step/sec: 185.581\n",
      "INFO:tensorflow:loss = 0.024501419, step = 36401 (0.538 sec)\n",
      "INFO:tensorflow:global_step/sec: 159.674\n",
      "INFO:tensorflow:loss = 0.006298092, step = 36501 (0.638 sec)\n",
      "INFO:tensorflow:global_step/sec: 130.003\n",
      "INFO:tensorflow:loss = 0.03203266, step = 36601 (0.763 sec)\n",
      "INFO:tensorflow:global_step/sec: 131.055\n",
      "INFO:tensorflow:loss = 0.009566285, step = 36701 (0.757 sec)\n",
      "INFO:tensorflow:global_step/sec: 147.412\n",
      "INFO:tensorflow:loss = 0.010656719, step = 36801 (0.680 sec)\n",
      "INFO:tensorflow:global_step/sec: 152.538\n",
      "INFO:tensorflow:loss = 0.009846978, step = 36901 (0.655 sec)\n",
      "INFO:tensorflow:global_step/sec: 185.748\n",
      "INFO:tensorflow:loss = 0.004693715, step = 37001 (0.538 sec)\n",
      "INFO:tensorflow:global_step/sec: 157.031\n",
      "INFO:tensorflow:loss = 0.0004956439, step = 37101 (0.640 sec)\n",
      "INFO:tensorflow:global_step/sec: 143.079\n",
      "INFO:tensorflow:loss = 0.014318703, step = 37201 (0.701 sec)\n",
      "INFO:tensorflow:global_step/sec: 132.64\n",
      "INFO:tensorflow:loss = 0.025466347, step = 37301 (0.750 sec)\n",
      "INFO:tensorflow:global_step/sec: 147.025\n",
      "INFO:tensorflow:loss = 0.046309944, step = 37401 (0.680 sec)\n",
      "INFO:tensorflow:global_step/sec: 154.006\n",
      "INFO:tensorflow:loss = 0.003116409, step = 37501 (0.648 sec)\n",
      "INFO:tensorflow:global_step/sec: 185.421\n",
      "INFO:tensorflow:loss = 0.0010878827, step = 37601 (0.540 sec)\n",
      "INFO:tensorflow:global_step/sec: 167.053\n",
      "INFO:tensorflow:loss = 0.09551173, step = 37701 (0.601 sec)\n",
      "INFO:tensorflow:global_step/sec: 134.561\n",
      "INFO:tensorflow:loss = 0.0038867213, step = 37801 (0.742 sec)\n",
      "INFO:tensorflow:global_step/sec: 133.533\n",
      "INFO:tensorflow:loss = 0.050352734, step = 37901 (0.750 sec)\n",
      "INFO:tensorflow:global_step/sec: 140.026\n",
      "INFO:tensorflow:loss = 0.018656602, step = 38001 (0.715 sec)\n",
      "INFO:tensorflow:global_step/sec: 135.885\n",
      "INFO:tensorflow:loss = 0.004655133, step = 38101 (0.737 sec)\n",
      "INFO:tensorflow:global_step/sec: 145.468\n",
      "INFO:tensorflow:loss = 0.018652294, step = 38201 (0.684 sec)\n",
      "INFO:tensorflow:global_step/sec: 145.268\n",
      "INFO:tensorflow:loss = 0.13597338, step = 38301 (0.688 sec)\n",
      "INFO:tensorflow:global_step/sec: 166.337\n",
      "INFO:tensorflow:loss = 0.009443651, step = 38401 (0.600 sec)\n",
      "INFO:tensorflow:global_step/sec: 186.379\n",
      "INFO:tensorflow:loss = 0.0035749453, step = 38501 (0.537 sec)\n",
      "INFO:tensorflow:global_step/sec: 163.224\n",
      "INFO:tensorflow:loss = 0.033617143, step = 38601 (0.629 sec)\n",
      "INFO:tensorflow:global_step/sec: 129.979\n",
      "INFO:tensorflow:loss = 0.024271764, step = 38701 (0.757 sec)\n",
      "INFO:tensorflow:global_step/sec: 137.6\n",
      "INFO:tensorflow:loss = 0.036200102, step = 38801 (0.724 sec)\n",
      "INFO:tensorflow:global_step/sec: 146.601\n",
      "INFO:tensorflow:loss = 0.046571996, step = 38901 (0.684 sec)\n",
      "INFO:tensorflow:global_step/sec: 156.064\n",
      "INFO:tensorflow:loss = 0.0017694236, step = 39001 (0.637 sec)\n",
      "INFO:tensorflow:global_step/sec: 187.503\n",
      "INFO:tensorflow:loss = 0.0007023237, step = 39101 (0.534 sec)\n",
      "INFO:tensorflow:global_step/sec: 151.501\n",
      "INFO:tensorflow:loss = 0.010656609, step = 39201 (0.676 sec)\n",
      "INFO:tensorflow:global_step/sec: 137.923\n",
      "INFO:tensorflow:loss = 0.02075044, step = 39301 (0.712 sec)\n",
      "INFO:tensorflow:global_step/sec: 126.42\n",
      "INFO:tensorflow:loss = 0.012034632, step = 39401 (0.789 sec)\n",
      "INFO:tensorflow:global_step/sec: 130.079\n",
      "INFO:tensorflow:loss = 0.015048828, step = 39501 (0.769 sec)\n",
      "INFO:tensorflow:global_step/sec: 135.406\n",
      "INFO:tensorflow:loss = 0.0014810704, step = 39601 (0.738 sec)\n"
     ]
    },
    {
     "name": "stdout",
     "output_type": "stream",
     "text": [
      "INFO:tensorflow:global_step/sec: 151.413\n",
      "INFO:tensorflow:loss = 0.007902909, step = 39701 (0.660 sec)\n",
      "INFO:tensorflow:global_step/sec: 132.074\n",
      "INFO:tensorflow:loss = 0.0030134607, step = 39801 (0.759 sec)\n",
      "INFO:tensorflow:global_step/sec: 130.83\n",
      "INFO:tensorflow:loss = 0.01075198, step = 39901 (0.764 sec)\n",
      "INFO:tensorflow:global_step/sec: 162.121\n",
      "INFO:tensorflow:loss = 0.00097287213, step = 40001 (0.616 sec)\n",
      "INFO:tensorflow:global_step/sec: 212.539\n",
      "INFO:tensorflow:loss = 0.011877746, step = 40101 (0.469 sec)\n",
      "INFO:tensorflow:global_step/sec: 308.984\n",
      "INFO:tensorflow:loss = 0.00041315885, step = 40201 (0.324 sec)\n",
      "INFO:tensorflow:global_step/sec: 318.908\n",
      "INFO:tensorflow:loss = 0.005604995, step = 40301 (0.313 sec)\n",
      "INFO:tensorflow:global_step/sec: 323.765\n",
      "INFO:tensorflow:loss = 0.003068572, step = 40401 (0.309 sec)\n",
      "INFO:tensorflow:global_step/sec: 316.445\n",
      "INFO:tensorflow:loss = 0.027936775, step = 40501 (0.316 sec)\n",
      "INFO:tensorflow:global_step/sec: 242.705\n",
      "INFO:tensorflow:loss = 0.015017758, step = 40601 (0.426 sec)\n",
      "INFO:tensorflow:global_step/sec: 131.407\n",
      "INFO:tensorflow:loss = 0.031700965, step = 40701 (0.752 sec)\n",
      "INFO:tensorflow:global_step/sec: 129.304\n",
      "INFO:tensorflow:loss = 0.004694412, step = 40801 (0.771 sec)\n",
      "INFO:tensorflow:global_step/sec: 134.632\n",
      "INFO:tensorflow:loss = 0.035767503, step = 40901 (0.743 sec)\n",
      "INFO:tensorflow:global_step/sec: 131.686\n",
      "INFO:tensorflow:loss = 0.045390025, step = 41001 (0.760 sec)\n",
      "INFO:tensorflow:global_step/sec: 149.07\n",
      "INFO:tensorflow:loss = 0.00035689422, step = 41101 (0.670 sec)\n",
      "INFO:tensorflow:global_step/sec: 131.46\n",
      "INFO:tensorflow:loss = 0.0057058227, step = 41201 (0.762 sec)\n",
      "INFO:tensorflow:global_step/sec: 129.896\n",
      "INFO:tensorflow:loss = 0.0014592003, step = 41301 (0.768 sec)\n",
      "INFO:tensorflow:global_step/sec: 148.772\n",
      "INFO:tensorflow:loss = 0.014940587, step = 41401 (0.679 sec)\n",
      "INFO:tensorflow:global_step/sec: 134.167\n",
      "INFO:tensorflow:loss = 0.0033258186, step = 41501 (0.739 sec)\n",
      "INFO:tensorflow:global_step/sec: 126.775\n",
      "INFO:tensorflow:loss = 0.01081316, step = 41601 (0.789 sec)\n",
      "INFO:tensorflow:global_step/sec: 150.949\n",
      "INFO:tensorflow:loss = 0.03787933, step = 41701 (0.663 sec)\n",
      "INFO:tensorflow:global_step/sec: 133.57\n",
      "INFO:tensorflow:loss = 0.017280582, step = 41801 (0.761 sec)\n",
      "INFO:tensorflow:global_step/sec: 139.19\n",
      "INFO:tensorflow:loss = 0.00764019, step = 41901 (0.705 sec)\n",
      "INFO:tensorflow:global_step/sec: 133.805\n",
      "INFO:tensorflow:loss = 0.022852441, step = 42001 (0.748 sec)\n",
      "INFO:tensorflow:global_step/sec: 123.595\n",
      "INFO:tensorflow:loss = 0.002534747, step = 42101 (0.812 sec)\n",
      "INFO:tensorflow:global_step/sec: 151.35\n",
      "INFO:tensorflow:loss = 0.0075517804, step = 42201 (0.658 sec)\n",
      "INFO:tensorflow:global_step/sec: 130.821\n",
      "INFO:tensorflow:loss = 0.024233842, step = 42301 (0.766 sec)\n",
      "INFO:tensorflow:global_step/sec: 128.269\n",
      "INFO:tensorflow:loss = 0.012169732, step = 42401 (0.778 sec)\n",
      "INFO:tensorflow:global_step/sec: 151.444\n",
      "INFO:tensorflow:loss = 0.00093777035, step = 42501 (0.666 sec)\n",
      "INFO:tensorflow:global_step/sec: 135.124\n",
      "INFO:tensorflow:loss = 0.0014684661, step = 42601 (0.736 sec)\n",
      "INFO:tensorflow:global_step/sec: 132.835\n",
      "INFO:tensorflow:loss = 0.0077972366, step = 42701 (0.751 sec)\n",
      "INFO:tensorflow:global_step/sec: 151.103\n",
      "INFO:tensorflow:loss = 0.0061687655, step = 42801 (0.663 sec)\n",
      "INFO:tensorflow:global_step/sec: 136.096\n",
      "INFO:tensorflow:loss = 0.041143507, step = 42901 (0.735 sec)\n",
      "INFO:tensorflow:global_step/sec: 149.017\n",
      "INFO:tensorflow:loss = 0.026170291, step = 43001 (0.670 sec)\n",
      "INFO:tensorflow:global_step/sec: 144.214\n",
      "INFO:tensorflow:loss = 0.00047739604, step = 43101 (0.698 sec)\n",
      "INFO:tensorflow:global_step/sec: 131.193\n",
      "INFO:tensorflow:loss = 0.023614872, step = 43201 (0.760 sec)\n",
      "INFO:tensorflow:global_step/sec: 147.254\n",
      "INFO:tensorflow:loss = 0.003183375, step = 43301 (0.677 sec)\n",
      "INFO:tensorflow:global_step/sec: 139.71\n",
      "INFO:tensorflow:loss = 0.020322971, step = 43401 (0.716 sec)\n",
      "INFO:tensorflow:global_step/sec: 130.859\n",
      "INFO:tensorflow:loss = 0.004663752, step = 43501 (0.766 sec)\n",
      "INFO:tensorflow:global_step/sec: 157.754\n",
      "INFO:tensorflow:loss = 0.0075780693, step = 43601 (0.634 sec)\n",
      "INFO:tensorflow:global_step/sec: 134.94\n",
      "INFO:tensorflow:loss = 0.04650667, step = 43701 (0.742 sec)\n",
      "INFO:tensorflow:global_step/sec: 198.894\n",
      "INFO:tensorflow:loss = 0.014626269, step = 43801 (0.499 sec)\n",
      "INFO:tensorflow:global_step/sec: 210.605\n",
      "INFO:tensorflow:loss = 0.037042037, step = 43901 (0.476 sec)\n",
      "INFO:tensorflow:Saving checkpoints for 44000 into /var/folders/ky/jh01_0qs72qbcxqy8ntclsyc0000gn/T/tmp87whlw34/model.ckpt.\n",
      "INFO:tensorflow:Loss for final step: 0.018685287.\n"
     ]
    },
    {
     "data": {
      "text/plain": [
       "<tensorflow.python.estimator.canned.dnn.DNNClassifier at 0x111190ac8>"
      ]
     },
     "execution_count": 4,
     "metadata": {},
     "output_type": "execute_result"
    }
   ],
   "source": [
    "feature_cols = [tf.feature_column.numeric_column('X', shape=[28*28])]\n",
    "# ニューロンが300個，100個の２つの隠れ層を使う\n",
    "# ニューロンが10個のソフトマックス出力層\n",
    "# DNNClassifierは活性化関数としてReLU関数を使う\n",
    "dnn_clf = tf.estimator.DNNClassifier(hidden_units=[300, 100], n_classes=10, feature_columns=feature_cols)\n",
    "\n",
    "input_fn = tf.estimator.inputs.numpy_input_fn(x={'X':X_train}, y=y_train, num_epochs=40, batch_size=50, shuffle=True)\n",
    "dnn_clf.train(input_fn=input_fn)"
   ]
  },
  {
   "cell_type": "code",
   "execution_count": 5,
   "metadata": {
    "ExecuteTime": {
     "end_time": "2019-06-03T23:33:07.206226Z",
     "start_time": "2019-06-03T23:33:06.043887Z"
    }
   },
   "outputs": [
    {
     "name": "stdout",
     "output_type": "stream",
     "text": [
      "INFO:tensorflow:Calling model_fn.\n",
      "INFO:tensorflow:Done calling model_fn.\n",
      "INFO:tensorflow:Starting evaluation at 2019-06-03-23:33:06\n",
      "INFO:tensorflow:Graph was finalized.\n",
      "INFO:tensorflow:Restoring parameters from /var/folders/ky/jh01_0qs72qbcxqy8ntclsyc0000gn/T/tmp87whlw34/model.ckpt-44000\n",
      "INFO:tensorflow:Running local_init_op.\n",
      "INFO:tensorflow:Done running local_init_op.\n",
      "INFO:tensorflow:Finished evaluation at 2019-06-03-23:33:07\n",
      "INFO:tensorflow:Saving dict for global step 44000: accuracy = 0.9801, average_loss = 0.10621175, global_step = 44000, loss = 13.444526\n"
     ]
    }
   ],
   "source": [
    "test_inpu_fn = tf.estimator.inputs.numpy_input_fn(x={'X':X_test}, y=y_test, shuffle=False)\n",
    "eval_results = dnn_clf.evaluate(input_fn=test_inpu_fn)"
   ]
  },
  {
   "cell_type": "code",
   "execution_count": 6,
   "metadata": {
    "ExecuteTime": {
     "end_time": "2019-06-03T23:33:26.342614Z",
     "start_time": "2019-06-03T23:33:26.331457Z"
    }
   },
   "outputs": [
    {
     "data": {
      "text/plain": [
       "{'accuracy': 0.9801,\n",
       " 'average_loss': 0.10621175,\n",
       " 'global_step': 44000,\n",
       " 'loss': 13.444526}"
      ]
     },
     "execution_count": 6,
     "metadata": {},
     "output_type": "execute_result"
    }
   ],
   "source": [
    "eval_results"
   ]
  },
  {
   "cell_type": "code",
   "execution_count": 7,
   "metadata": {
    "ExecuteTime": {
     "end_time": "2019-06-03T23:34:16.969764Z",
     "start_time": "2019-06-03T23:34:16.110841Z"
    }
   },
   "outputs": [
    {
     "name": "stdout",
     "output_type": "stream",
     "text": [
      "INFO:tensorflow:Calling model_fn.\n",
      "INFO:tensorflow:Done calling model_fn.\n",
      "INFO:tensorflow:Graph was finalized.\n",
      "INFO:tensorflow:Restoring parameters from /var/folders/ky/jh01_0qs72qbcxqy8ntclsyc0000gn/T/tmp87whlw34/model.ckpt-44000\n",
      "INFO:tensorflow:Running local_init_op.\n",
      "INFO:tensorflow:Done running local_init_op.\n"
     ]
    },
    {
     "data": {
      "text/plain": [
       "{'class_ids': array([7]),\n",
       " 'classes': array([b'7'], dtype=object),\n",
       " 'logits': array([ -4.4020405,  -1.2287204,   2.3475578,   6.722953 ,  -4.978003 ,\n",
       "        -12.170784 , -19.496613 ,  27.922844 ,  -5.404016 ,   5.3455744],\n",
       "       dtype=float32),\n",
       " 'probabilities': array([9.1512813e-15, 2.1859326e-13, 7.8125718e-12, 6.2087574e-10,\n",
       "        5.1444991e-15, 3.8686427e-18, 2.5467817e-21, 1.0000000e+00,\n",
       "        3.3599224e-15, 1.5660874e-10], dtype=float32)}"
      ]
     },
     "execution_count": 7,
     "metadata": {},
     "output_type": "execute_result"
    }
   ],
   "source": [
    "y_pred_iter = dnn_clf.predict(input_fn=test_inpu_fn)\n",
    "y_pred = list(y_pred_iter)\n",
    "y_pred[0]"
   ]
  },
  {
   "cell_type": "markdown",
   "metadata": {},
   "source": [
    "# Using plain TensorFlow"
   ]
  },
  {
   "cell_type": "code",
   "execution_count": 8,
   "metadata": {
    "ExecuteTime": {
     "end_time": "2019-06-04T00:06:27.131880Z",
     "start_time": "2019-06-04T00:06:27.126157Z"
    }
   },
   "outputs": [],
   "source": [
    "import tensorflow as tf\n",
    "\n",
    "n_inputs = 28*28\n",
    "n_hidden1 = 300\n",
    "n_hidden2 = 100\n",
    "n_outputs = 10"
   ]
  },
  {
   "cell_type": "code",
   "execution_count": 9,
   "metadata": {
    "ExecuteTime": {
     "end_time": "2019-06-04T00:10:44.451078Z",
     "start_time": "2019-06-04T00:10:44.444387Z"
    }
   },
   "outputs": [],
   "source": [
    "reset_graph()\n",
    "\n",
    "X = tf.placeholder(tf.float32, shape=(None, n_inputs), name='X')\n",
    "y = tf.placeholder(tf.int32, shape=(None), name='y')"
   ]
  },
  {
   "cell_type": "markdown",
   "metadata": {},
   "source": [
    "## 構築フェーズ"
   ]
  },
  {
   "cell_type": "markdown",
   "metadata": {},
   "source": [
    "ニューロン（層）の定義"
   ]
  },
  {
   "cell_type": "code",
   "execution_count": null,
   "metadata": {
    "ExecuteTime": {
     "end_time": "2019-06-04T00:18:47.962992Z",
     "start_time": "2019-06-04T00:18:47.935036Z"
    }
   },
   "outputs": [],
   "source": [
    "def neuron_layer(X, n_neurons, name, activation=None):\n",
    "    with tf.name_scope(name):\n",
    "        n_inputs = int(X.get_shape()[1])\n",
    "        stddev = 2 / np.sqrt(n_inputs)\n",
    "        # 端を切断した正規分布，あまりに大きな値だと収束が遅くなるため\n",
    "        # ランダムにすることが重要，ランダムにしないと全てのニューロンが同じ重みになってしまう\n",
    "        init = tf.truncated_normal((n_inputs, n_neurons), stddev=stddev)\n",
    "        W = tf.Variable(init, name='kernel')\n",
    "        b = tf.Variable(tf.zeros([n_neurons]), name='bias')\n",
    "        Z = tf.matmul(X, W) + b\n",
    "        if activation is not None:\n",
    "            return activation(Z)\n",
    "        else:\n",
    "            return Z"
   ]
  },
  {
   "cell_type": "markdown",
   "metadata": {},
   "source": [
    "DNNの定義"
   ]
  },
  {
   "cell_type": "code",
   "execution_count": 15,
   "metadata": {
    "ExecuteTime": {
     "end_time": "2019-06-04T00:22:45.204743Z",
     "start_time": "2019-06-04T00:22:45.149334Z"
    }
   },
   "outputs": [],
   "source": [
    "with tf.name_scope('dnn'):\n",
    "    hidden1 = neuron_layer(X, n_hidden1, name='hidden1', activation=tf.nn.relu)\n",
    "    hidden2 = neuron_layer(hidden1, n_hidden2, name='hidden2', activation=tf.nn.relu)\n",
    "    logits = neuron_layer(hidden2, n_outputs, name='output')"
   ]
  },
  {
   "cell_type": "markdown",
   "metadata": {},
   "source": [
    "損失関数の定義"
   ]
  },
  {
   "cell_type": "code",
   "execution_count": 16,
   "metadata": {
    "ExecuteTime": {
     "end_time": "2019-06-04T00:27:50.897153Z",
     "start_time": "2019-06-04T00:27:50.883863Z"
    }
   },
   "outputs": [],
   "source": [
    "with tf.name_scope('loss'):\n",
    "    # logit（ロジット）はソフトマックス関数に通す「前」のネットワーク出力である\n",
    "    # 下記関数の目的はこの値の交差エントロピーを計算する\n",
    "    # 下記関数は，0〜クラス数-1の整数ラベルを必須とする\n",
    "    # 関数の内部でソフトマックスを計算し，labelsとlogitsの交差エントロピーを計算するという流れ\n",
    "    # sparse（０値）にもうまく対応する\n",
    "    xentropy = tf.nn.sparse_softmax_cross_entropy_with_logits(labels=y, logits=logits)\n",
    "    loss = tf.reduce_mean(xentropy, name='loss')"
   ]
  },
  {
   "cell_type": "markdown",
   "metadata": {},
   "source": [
    "勾配降下法の定義"
   ]
  },
  {
   "cell_type": "code",
   "execution_count": 17,
   "metadata": {
    "ExecuteTime": {
     "end_time": "2019-06-04T00:31:19.344226Z",
     "start_time": "2019-06-04T00:31:19.253782Z"
    }
   },
   "outputs": [],
   "source": [
    "learnig_rate = 0.01\n",
    "\n",
    "with tf.name_scope('train'):\n",
    "    optimizer = tf.train.GradientDescentOptimizer(learnig_rate)\n",
    "    training_op = optimizer.minimize(loss)"
   ]
  },
  {
   "cell_type": "markdown",
   "metadata": {},
   "source": [
    "性能指標の定義"
   ]
  },
  {
   "cell_type": "code",
   "execution_count": 18,
   "metadata": {
    "ExecuteTime": {
     "end_time": "2019-06-04T00:34:00.197661Z",
     "start_time": "2019-06-04T00:34:00.176235Z"
    }
   },
   "outputs": [],
   "source": [
    "with tf.name_scope('eval'):\n",
    "    correct = tf.nn.in_top_k(logits, y, 1)\n",
    "    accuracy = tf.reduce_mean(tf.cast(correct, tf.float32)) # Booleanをfloatに変換することで数値化"
   ]
  },
  {
   "cell_type": "markdown",
   "metadata": {},
   "source": [
    "## 実行フェーズ"
   ]
  },
  {
   "cell_type": "code",
   "execution_count": 19,
   "metadata": {
    "ExecuteTime": {
     "end_time": "2019-06-04T00:34:57.381510Z",
     "start_time": "2019-06-04T00:34:57.345763Z"
    }
   },
   "outputs": [],
   "source": [
    "init = tf.global_variables_initializer()\n",
    "saver = tf.train.Saver() # モデルの保存"
   ]
  },
  {
   "cell_type": "code",
   "execution_count": 20,
   "metadata": {
    "ExecuteTime": {
     "end_time": "2019-06-04T00:35:17.955582Z",
     "start_time": "2019-06-04T00:35:17.946448Z"
    }
   },
   "outputs": [],
   "source": [
    "n_epochs = 40\n",
    "batch_size = 50"
   ]
  },
  {
   "cell_type": "code",
   "execution_count": 23,
   "metadata": {
    "ExecuteTime": {
     "end_time": "2019-06-04T00:39:10.252503Z",
     "start_time": "2019-06-04T00:39:10.237385Z"
    }
   },
   "outputs": [],
   "source": [
    "def shuffle_batch(X, y, batch_size):\n",
    "    rnd_idx = np.random.permutation(len(X))\n",
    "    n_batches = len(X) // batch_size\n",
    "    for batch_idx in np.array_split(rnd_idx, n_batches): # arrayをn_batchesで分割し，分割後のarrayを返す\n",
    "        X_batch, y_batch = X[batch_idx], y[batch_idx]\n",
    "        yield X_batch, y_batch"
   ]
  },
  {
   "cell_type": "code",
   "execution_count": 24,
   "metadata": {
    "ExecuteTime": {
     "end_time": "2019-06-04T01:02:49.173228Z",
     "start_time": "2019-06-04T00:59:50.510276Z"
    },
    "scrolled": true
   },
   "outputs": [
    {
     "name": "stdout",
     "output_type": "stream",
     "text": [
      "0 Batch accuracy: 0.9 Val accuracy: 0.9176\n",
      "1 Batch accuracy: 0.9 Val accuracy: 0.9344\n",
      "2 Batch accuracy: 0.94 Val accuracy: 0.9436\n",
      "3 Batch accuracy: 0.92 Val accuracy: 0.9498\n",
      "4 Batch accuracy: 0.96 Val accuracy: 0.9542\n",
      "5 Batch accuracy: 0.94 Val accuracy: 0.9572\n",
      "6 Batch accuracy: 1.0 Val accuracy: 0.9622\n",
      "7 Batch accuracy: 0.94 Val accuracy: 0.964\n",
      "8 Batch accuracy: 0.98 Val accuracy: 0.9652\n",
      "9 Batch accuracy: 0.96 Val accuracy: 0.9662\n",
      "10 Batch accuracy: 0.98 Val accuracy: 0.967\n",
      "11 Batch accuracy: 0.98 Val accuracy: 0.9692\n",
      "12 Batch accuracy: 0.98 Val accuracy: 0.9676\n",
      "13 Batch accuracy: 1.0 Val accuracy: 0.9692\n",
      "14 Batch accuracy: 1.0 Val accuracy: 0.97\n",
      "15 Batch accuracy: 0.94 Val accuracy: 0.972\n",
      "16 Batch accuracy: 1.0 Val accuracy: 0.9716\n",
      "17 Batch accuracy: 1.0 Val accuracy: 0.9742\n",
      "18 Batch accuracy: 0.98 Val accuracy: 0.9752\n",
      "19 Batch accuracy: 1.0 Val accuracy: 0.9748\n",
      "20 Batch accuracy: 1.0 Val accuracy: 0.974\n",
      "21 Batch accuracy: 1.0 Val accuracy: 0.9754\n",
      "22 Batch accuracy: 0.96 Val accuracy: 0.9766\n",
      "23 Batch accuracy: 0.98 Val accuracy: 0.9752\n",
      "24 Batch accuracy: 0.98 Val accuracy: 0.977\n",
      "25 Batch accuracy: 1.0 Val accuracy: 0.9786\n",
      "26 Batch accuracy: 0.98 Val accuracy: 0.9768\n",
      "27 Batch accuracy: 1.0 Val accuracy: 0.9772\n",
      "28 Batch accuracy: 0.98 Val accuracy: 0.9756\n",
      "29 Batch accuracy: 0.98 Val accuracy: 0.9784\n",
      "30 Batch accuracy: 0.98 Val accuracy: 0.9786\n",
      "31 Batch accuracy: 0.98 Val accuracy: 0.9782\n",
      "32 Batch accuracy: 0.98 Val accuracy: 0.9784\n",
      "33 Batch accuracy: 1.0 Val accuracy: 0.979\n",
      "34 Batch accuracy: 1.0 Val accuracy: 0.9792\n",
      "35 Batch accuracy: 1.0 Val accuracy: 0.9784\n",
      "36 Batch accuracy: 0.98 Val accuracy: 0.979\n",
      "37 Batch accuracy: 1.0 Val accuracy: 0.979\n",
      "38 Batch accuracy: 1.0 Val accuracy: 0.9798\n",
      "39 Batch accuracy: 1.0 Val accuracy: 0.98\n"
     ]
    }
   ],
   "source": [
    "with tf.Session() as sess:\n",
    "    init.run()\n",
    "    for epoch in range(n_epochs):\n",
    "        for X_batch, y_batch in shuffle_batch(X_train, y_train, batch_size):\n",
    "            sess.run(training_op, feed_dict={X:X_batch, y:y_batch})\n",
    "        acc_batch = accuracy.eval(feed_dict={X:X_batch, y:y_batch})\n",
    "        acc_val = accuracy.eval(feed_dict={X:X_valid, y:y_valid})\n",
    "        print(epoch, 'Batch accuracy:', acc_batch, 'Val accuracy:', acc_val)\n",
    "        \n",
    "    save_path = saver.save(sess, './model/DNN_final.ckpt')"
   ]
  },
  {
   "cell_type": "code",
   "execution_count": 25,
   "metadata": {
    "ExecuteTime": {
     "end_time": "2019-06-04T01:05:26.284704Z",
     "start_time": "2019-06-04T01:05:26.137702Z"
    }
   },
   "outputs": [
    {
     "name": "stdout",
     "output_type": "stream",
     "text": [
      "INFO:tensorflow:Restoring parameters from ./model/DNN_final.ckpt\n"
     ]
    }
   ],
   "source": [
    "with tf.Session() as sess:\n",
    "    saver.restore(sess, './model/DNN_final.ckpt')\n",
    "    X_new_scaled = X_test[:20]\n",
    "    Z = logits.eval(feed_dict={X:X_new_scaled})\n",
    "    y_pred = np.argmax(Z, axis=1)"
   ]
  },
  {
   "cell_type": "code",
   "execution_count": 26,
   "metadata": {
    "ExecuteTime": {
     "end_time": "2019-06-04T01:05:37.992017Z",
     "start_time": "2019-06-04T01:05:37.984431Z"
    }
   },
   "outputs": [
    {
     "name": "stdout",
     "output_type": "stream",
     "text": [
      "Predicted classes: [7 2 1 0 4 1 4 9 6 9 0 6 9 0 1 5 9 7 3 4]\n",
      "Actual classes:    [7 2 1 0 4 1 4 9 5 9 0 6 9 0 1 5 9 7 3 4]\n"
     ]
    }
   ],
   "source": [
    "print(\"Predicted classes:\", y_pred)\n",
    "print(\"Actual classes:   \", y_test[:20])"
   ]
  },
  {
   "cell_type": "code",
   "execution_count": null,
   "metadata": {},
   "outputs": [],
   "source": []
  },
  {
   "cell_type": "code",
   "execution_count": 30,
   "metadata": {
    "ExecuteTime": {
     "end_time": "2019-06-04T01:10:38.244748Z",
     "start_time": "2019-06-04T01:10:38.214949Z"
    },
    "scrolled": true
   },
   "outputs": [
    {
     "data": {
      "text/html": [
       "\n",
       "        <iframe seamless style=\"width:1200px;height:620px;border:0\" srcdoc=\"\n",
       "        <script src=&quot;//cdnjs.cloudflare.com/ajax/libs/polymer/0.3.3/platform.js&quot;></script>\n",
       "        <script>\n",
       "          function load() {\n",
       "            document.getElementById(&quot;graph0.9683290662680211&quot;).pbtxt = 'node {\\n  name: &quot;X&quot;\\n  op: &quot;Placeholder&quot;\\n  attr {\\n    key: &quot;dtype&quot;\\n    value {\\n      type: DT_FLOAT\\n    }\\n  }\\n  attr {\\n    key: &quot;shape&quot;\\n    value {\\n      shape {\\n        dim {\\n          size: -1\\n        }\\n        dim {\\n          size: 784\\n        }\\n      }\\n    }\\n  }\\n}\\nnode {\\n  name: &quot;y&quot;\\n  op: &quot;Placeholder&quot;\\n  attr {\\n    key: &quot;dtype&quot;\\n    value {\\n      type: DT_INT32\\n    }\\n  }\\n  attr {\\n    key: &quot;shape&quot;\\n    value {\\n      shape {\\n        unknown_rank: true\\n      }\\n    }\\n  }\\n}\\nnode {\\n  name: &quot;dnn/hidden1/truncated_normal/shape&quot;\\n  op: &quot;Const&quot;\\n  attr {\\n    key: &quot;dtype&quot;\\n    value {\\n      type: DT_INT32\\n    }\\n  }\\n  attr {\\n    key: &quot;value&quot;\\n    value {\\n      tensor {\\n        dtype: DT_INT32\\n        tensor_shape {\\n          dim {\\n            size: 2\\n          }\\n        }\\n        tensor_content: &quot;\\\\020\\\\003\\\\000\\\\000,\\\\001\\\\000\\\\000&quot;\\n      }\\n    }\\n  }\\n}\\nnode {\\n  name: &quot;dnn/hidden1/truncated_normal/mean&quot;\\n  op: &quot;Const&quot;\\n  attr {\\n    key: &quot;dtype&quot;\\n    value {\\n      type: DT_FLOAT\\n    }\\n  }\\n  attr {\\n    key: &quot;value&quot;\\n    value {\\n      tensor {\\n        dtype: DT_FLOAT\\n        tensor_shape {\\n        }\\n        float_val: 0.0\\n      }\\n    }\\n  }\\n}\\nnode {\\n  name: &quot;dnn/hidden1/truncated_normal/stddev&quot;\\n  op: &quot;Const&quot;\\n  attr {\\n    key: &quot;dtype&quot;\\n    value {\\n      type: DT_FLOAT\\n    }\\n  }\\n  attr {\\n    key: &quot;value&quot;\\n    value {\\n      tensor {\\n        dtype: DT_FLOAT\\n        tensor_shape {\\n        }\\n        float_val: 0.0714285746216774\\n      }\\n    }\\n  }\\n}\\nnode {\\n  name: &quot;dnn/hidden1/truncated_normal/TruncatedNormal&quot;\\n  op: &quot;TruncatedNormal&quot;\\n  input: &quot;dnn/hidden1/truncated_normal/shape&quot;\\n  attr {\\n    key: &quot;T&quot;\\n    value {\\n      type: DT_INT32\\n    }\\n  }\\n  attr {\\n    key: &quot;dtype&quot;\\n    value {\\n      type: DT_FLOAT\\n    }\\n  }\\n  attr {\\n    key: &quot;seed&quot;\\n    value {\\n      i: 42\\n    }\\n  }\\n  attr {\\n    key: &quot;seed2&quot;\\n    value {\\n      i: 5\\n    }\\n  }\\n}\\nnode {\\n  name: &quot;dnn/hidden1/truncated_normal/mul&quot;\\n  op: &quot;Mul&quot;\\n  input: &quot;dnn/hidden1/truncated_normal/TruncatedNormal&quot;\\n  input: &quot;dnn/hidden1/truncated_normal/stddev&quot;\\n  attr {\\n    key: &quot;T&quot;\\n    value {\\n      type: DT_FLOAT\\n    }\\n  }\\n}\\nnode {\\n  name: &quot;dnn/hidden1/truncated_normal&quot;\\n  op: &quot;Add&quot;\\n  input: &quot;dnn/hidden1/truncated_normal/mul&quot;\\n  input: &quot;dnn/hidden1/truncated_normal/mean&quot;\\n  attr {\\n    key: &quot;T&quot;\\n    value {\\n      type: DT_FLOAT\\n    }\\n  }\\n}\\nnode {\\n  name: &quot;dnn/hidden1/kernel&quot;\\n  op: &quot;VariableV2&quot;\\n  attr {\\n    key: &quot;container&quot;\\n    value {\\n      s: &quot;&quot;\\n    }\\n  }\\n  attr {\\n    key: &quot;dtype&quot;\\n    value {\\n      type: DT_FLOAT\\n    }\\n  }\\n  attr {\\n    key: &quot;shape&quot;\\n    value {\\n      shape {\\n        dim {\\n          size: 784\\n        }\\n        dim {\\n          size: 300\\n        }\\n      }\\n    }\\n  }\\n  attr {\\n    key: &quot;shared_name&quot;\\n    value {\\n      s: &quot;&quot;\\n    }\\n  }\\n}\\nnode {\\n  name: &quot;dnn/hidden1/kernel/Assign&quot;\\n  op: &quot;Assign&quot;\\n  input: &quot;dnn/hidden1/kernel&quot;\\n  input: &quot;dnn/hidden1/truncated_normal&quot;\\n  attr {\\n    key: &quot;T&quot;\\n    value {\\n      type: DT_FLOAT\\n    }\\n  }\\n  attr {\\n    key: &quot;_class&quot;\\n    value {\\n      list {\\n        s: &quot;loc:@dnn/hidden1/kernel&quot;\\n      }\\n    }\\n  }\\n  attr {\\n    key: &quot;use_locking&quot;\\n    value {\\n      b: true\\n    }\\n  }\\n  attr {\\n    key: &quot;validate_shape&quot;\\n    value {\\n      b: true\\n    }\\n  }\\n}\\nnode {\\n  name: &quot;dnn/hidden1/kernel/read&quot;\\n  op: &quot;Identity&quot;\\n  input: &quot;dnn/hidden1/kernel&quot;\\n  attr {\\n    key: &quot;T&quot;\\n    value {\\n      type: DT_FLOAT\\n    }\\n  }\\n  attr {\\n    key: &quot;_class&quot;\\n    value {\\n      list {\\n        s: &quot;loc:@dnn/hidden1/kernel&quot;\\n      }\\n    }\\n  }\\n}\\nnode {\\n  name: &quot;dnn/hidden1/zeros/shape_as_tensor&quot;\\n  op: &quot;Const&quot;\\n  attr {\\n    key: &quot;dtype&quot;\\n    value {\\n      type: DT_INT32\\n    }\\n  }\\n  attr {\\n    key: &quot;value&quot;\\n    value {\\n      tensor {\\n        dtype: DT_INT32\\n        tensor_shape {\\n          dim {\\n            size: 1\\n          }\\n        }\\n        int_val: 300\\n      }\\n    }\\n  }\\n}\\nnode {\\n  name: &quot;dnn/hidden1/zeros/Const&quot;\\n  op: &quot;Const&quot;\\n  attr {\\n    key: &quot;dtype&quot;\\n    value {\\n      type: DT_FLOAT\\n    }\\n  }\\n  attr {\\n    key: &quot;value&quot;\\n    value {\\n      tensor {\\n        dtype: DT_FLOAT\\n        tensor_shape {\\n        }\\n        float_val: 0.0\\n      }\\n    }\\n  }\\n}\\nnode {\\n  name: &quot;dnn/hidden1/zeros&quot;\\n  op: &quot;Fill&quot;\\n  input: &quot;dnn/hidden1/zeros/shape_as_tensor&quot;\\n  input: &quot;dnn/hidden1/zeros/Const&quot;\\n  attr {\\n    key: &quot;T&quot;\\n    value {\\n      type: DT_FLOAT\\n    }\\n  }\\n  attr {\\n    key: &quot;index_type&quot;\\n    value {\\n      type: DT_INT32\\n    }\\n  }\\n}\\nnode {\\n  name: &quot;dnn/hidden1/bias&quot;\\n  op: &quot;VariableV2&quot;\\n  attr {\\n    key: &quot;container&quot;\\n    value {\\n      s: &quot;&quot;\\n    }\\n  }\\n  attr {\\n    key: &quot;dtype&quot;\\n    value {\\n      type: DT_FLOAT\\n    }\\n  }\\n  attr {\\n    key: &quot;shape&quot;\\n    value {\\n      shape {\\n        dim {\\n          size: 300\\n        }\\n      }\\n    }\\n  }\\n  attr {\\n    key: &quot;shared_name&quot;\\n    value {\\n      s: &quot;&quot;\\n    }\\n  }\\n}\\nnode {\\n  name: &quot;dnn/hidden1/bias/Assign&quot;\\n  op: &quot;Assign&quot;\\n  input: &quot;dnn/hidden1/bias&quot;\\n  input: &quot;dnn/hidden1/zeros&quot;\\n  attr {\\n    key: &quot;T&quot;\\n    value {\\n      type: DT_FLOAT\\n    }\\n  }\\n  attr {\\n    key: &quot;_class&quot;\\n    value {\\n      list {\\n        s: &quot;loc:@dnn/hidden1/bias&quot;\\n      }\\n    }\\n  }\\n  attr {\\n    key: &quot;use_locking&quot;\\n    value {\\n      b: true\\n    }\\n  }\\n  attr {\\n    key: &quot;validate_shape&quot;\\n    value {\\n      b: true\\n    }\\n  }\\n}\\nnode {\\n  name: &quot;dnn/hidden1/bias/read&quot;\\n  op: &quot;Identity&quot;\\n  input: &quot;dnn/hidden1/bias&quot;\\n  attr {\\n    key: &quot;T&quot;\\n    value {\\n      type: DT_FLOAT\\n    }\\n  }\\n  attr {\\n    key: &quot;_class&quot;\\n    value {\\n      list {\\n        s: &quot;loc:@dnn/hidden1/bias&quot;\\n      }\\n    }\\n  }\\n}\\nnode {\\n  name: &quot;dnn/hidden1/MatMul&quot;\\n  op: &quot;MatMul&quot;\\n  input: &quot;X&quot;\\n  input: &quot;dnn/hidden1/kernel/read&quot;\\n  attr {\\n    key: &quot;T&quot;\\n    value {\\n      type: DT_FLOAT\\n    }\\n  }\\n  attr {\\n    key: &quot;transpose_a&quot;\\n    value {\\n      b: false\\n    }\\n  }\\n  attr {\\n    key: &quot;transpose_b&quot;\\n    value {\\n      b: false\\n    }\\n  }\\n}\\nnode {\\n  name: &quot;dnn/hidden1/add&quot;\\n  op: &quot;Add&quot;\\n  input: &quot;dnn/hidden1/MatMul&quot;\\n  input: &quot;dnn/hidden1/bias/read&quot;\\n  attr {\\n    key: &quot;T&quot;\\n    value {\\n      type: DT_FLOAT\\n    }\\n  }\\n}\\nnode {\\n  name: &quot;dnn/hidden1/Relu&quot;\\n  op: &quot;Relu&quot;\\n  input: &quot;dnn/hidden1/add&quot;\\n  attr {\\n    key: &quot;T&quot;\\n    value {\\n      type: DT_FLOAT\\n    }\\n  }\\n}\\nnode {\\n  name: &quot;dnn_1/hidden1/truncated_normal/shape&quot;\\n  op: &quot;Const&quot;\\n  attr {\\n    key: &quot;dtype&quot;\\n    value {\\n      type: DT_INT32\\n    }\\n  }\\n  attr {\\n    key: &quot;value&quot;\\n    value {\\n      tensor {\\n        dtype: DT_INT32\\n        tensor_shape {\\n          dim {\\n            size: 2\\n          }\\n        }\\n        tensor_content: &quot;\\\\020\\\\003\\\\000\\\\000,\\\\001\\\\000\\\\000&quot;\\n      }\\n    }\\n  }\\n}\\nnode {\\n  name: &quot;dnn_1/hidden1/truncated_normal/mean&quot;\\n  op: &quot;Const&quot;\\n  attr {\\n    key: &quot;dtype&quot;\\n    value {\\n      type: DT_FLOAT\\n    }\\n  }\\n  attr {\\n    key: &quot;value&quot;\\n    value {\\n      tensor {\\n        dtype: DT_FLOAT\\n        tensor_shape {\\n        }\\n        float_val: 0.0\\n      }\\n    }\\n  }\\n}\\nnode {\\n  name: &quot;dnn_1/hidden1/truncated_normal/stddev&quot;\\n  op: &quot;Const&quot;\\n  attr {\\n    key: &quot;dtype&quot;\\n    value {\\n      type: DT_FLOAT\\n    }\\n  }\\n  attr {\\n    key: &quot;value&quot;\\n    value {\\n      tensor {\\n        dtype: DT_FLOAT\\n        tensor_shape {\\n        }\\n        float_val: 0.0714285746216774\\n      }\\n    }\\n  }\\n}\\nnode {\\n  name: &quot;dnn_1/hidden1/truncated_normal/TruncatedNormal&quot;\\n  op: &quot;TruncatedNormal&quot;\\n  input: &quot;dnn_1/hidden1/truncated_normal/shape&quot;\\n  attr {\\n    key: &quot;T&quot;\\n    value {\\n      type: DT_INT32\\n    }\\n  }\\n  attr {\\n    key: &quot;dtype&quot;\\n    value {\\n      type: DT_FLOAT\\n    }\\n  }\\n  attr {\\n    key: &quot;seed&quot;\\n    value {\\n      i: 42\\n    }\\n  }\\n  attr {\\n    key: &quot;seed2&quot;\\n    value {\\n      i: 23\\n    }\\n  }\\n}\\nnode {\\n  name: &quot;dnn_1/hidden1/truncated_normal/mul&quot;\\n  op: &quot;Mul&quot;\\n  input: &quot;dnn_1/hidden1/truncated_normal/TruncatedNormal&quot;\\n  input: &quot;dnn_1/hidden1/truncated_normal/stddev&quot;\\n  attr {\\n    key: &quot;T&quot;\\n    value {\\n      type: DT_FLOAT\\n    }\\n  }\\n}\\nnode {\\n  name: &quot;dnn_1/hidden1/truncated_normal&quot;\\n  op: &quot;Add&quot;\\n  input: &quot;dnn_1/hidden1/truncated_normal/mul&quot;\\n  input: &quot;dnn_1/hidden1/truncated_normal/mean&quot;\\n  attr {\\n    key: &quot;T&quot;\\n    value {\\n      type: DT_FLOAT\\n    }\\n  }\\n}\\nnode {\\n  name: &quot;dnn_1/hidden1/kernel&quot;\\n  op: &quot;VariableV2&quot;\\n  attr {\\n    key: &quot;container&quot;\\n    value {\\n      s: &quot;&quot;\\n    }\\n  }\\n  attr {\\n    key: &quot;dtype&quot;\\n    value {\\n      type: DT_FLOAT\\n    }\\n  }\\n  attr {\\n    key: &quot;shape&quot;\\n    value {\\n      shape {\\n        dim {\\n          size: 784\\n        }\\n        dim {\\n          size: 300\\n        }\\n      }\\n    }\\n  }\\n  attr {\\n    key: &quot;shared_name&quot;\\n    value {\\n      s: &quot;&quot;\\n    }\\n  }\\n}\\nnode {\\n  name: &quot;dnn_1/hidden1/kernel/Assign&quot;\\n  op: &quot;Assign&quot;\\n  input: &quot;dnn_1/hidden1/kernel&quot;\\n  input: &quot;dnn_1/hidden1/truncated_normal&quot;\\n  attr {\\n    key: &quot;T&quot;\\n    value {\\n      type: DT_FLOAT\\n    }\\n  }\\n  attr {\\n    key: &quot;_class&quot;\\n    value {\\n      list {\\n        s: &quot;loc:@dnn_1/hidden1/kernel&quot;\\n      }\\n    }\\n  }\\n  attr {\\n    key: &quot;use_locking&quot;\\n    value {\\n      b: true\\n    }\\n  }\\n  attr {\\n    key: &quot;validate_shape&quot;\\n    value {\\n      b: true\\n    }\\n  }\\n}\\nnode {\\n  name: &quot;dnn_1/hidden1/kernel/read&quot;\\n  op: &quot;Identity&quot;\\n  input: &quot;dnn_1/hidden1/kernel&quot;\\n  attr {\\n    key: &quot;T&quot;\\n    value {\\n      type: DT_FLOAT\\n    }\\n  }\\n  attr {\\n    key: &quot;_class&quot;\\n    value {\\n      list {\\n        s: &quot;loc:@dnn_1/hidden1/kernel&quot;\\n      }\\n    }\\n  }\\n}\\nnode {\\n  name: &quot;dnn_1/hidden1/zeros/shape_as_tensor&quot;\\n  op: &quot;Const&quot;\\n  attr {\\n    key: &quot;dtype&quot;\\n    value {\\n      type: DT_INT32\\n    }\\n  }\\n  attr {\\n    key: &quot;value&quot;\\n    value {\\n      tensor {\\n        dtype: DT_INT32\\n        tensor_shape {\\n          dim {\\n            size: 1\\n          }\\n        }\\n        int_val: 300\\n      }\\n    }\\n  }\\n}\\nnode {\\n  name: &quot;dnn_1/hidden1/zeros/Const&quot;\\n  op: &quot;Const&quot;\\n  attr {\\n    key: &quot;dtype&quot;\\n    value {\\n      type: DT_FLOAT\\n    }\\n  }\\n  attr {\\n    key: &quot;value&quot;\\n    value {\\n      tensor {\\n        dtype: DT_FLOAT\\n        tensor_shape {\\n        }\\n        float_val: 0.0\\n      }\\n    }\\n  }\\n}\\nnode {\\n  name: &quot;dnn_1/hidden1/zeros&quot;\\n  op: &quot;Fill&quot;\\n  input: &quot;dnn_1/hidden1/zeros/shape_as_tensor&quot;\\n  input: &quot;dnn_1/hidden1/zeros/Const&quot;\\n  attr {\\n    key: &quot;T&quot;\\n    value {\\n      type: DT_FLOAT\\n    }\\n  }\\n  attr {\\n    key: &quot;index_type&quot;\\n    value {\\n      type: DT_INT32\\n    }\\n  }\\n}\\nnode {\\n  name: &quot;dnn_1/hidden1/bias&quot;\\n  op: &quot;VariableV2&quot;\\n  attr {\\n    key: &quot;container&quot;\\n    value {\\n      s: &quot;&quot;\\n    }\\n  }\\n  attr {\\n    key: &quot;dtype&quot;\\n    value {\\n      type: DT_FLOAT\\n    }\\n  }\\n  attr {\\n    key: &quot;shape&quot;\\n    value {\\n      shape {\\n        dim {\\n          size: 300\\n        }\\n      }\\n    }\\n  }\\n  attr {\\n    key: &quot;shared_name&quot;\\n    value {\\n      s: &quot;&quot;\\n    }\\n  }\\n}\\nnode {\\n  name: &quot;dnn_1/hidden1/bias/Assign&quot;\\n  op: &quot;Assign&quot;\\n  input: &quot;dnn_1/hidden1/bias&quot;\\n  input: &quot;dnn_1/hidden1/zeros&quot;\\n  attr {\\n    key: &quot;T&quot;\\n    value {\\n      type: DT_FLOAT\\n    }\\n  }\\n  attr {\\n    key: &quot;_class&quot;\\n    value {\\n      list {\\n        s: &quot;loc:@dnn_1/hidden1/bias&quot;\\n      }\\n    }\\n  }\\n  attr {\\n    key: &quot;use_locking&quot;\\n    value {\\n      b: true\\n    }\\n  }\\n  attr {\\n    key: &quot;validate_shape&quot;\\n    value {\\n      b: true\\n    }\\n  }\\n}\\nnode {\\n  name: &quot;dnn_1/hidden1/bias/read&quot;\\n  op: &quot;Identity&quot;\\n  input: &quot;dnn_1/hidden1/bias&quot;\\n  attr {\\n    key: &quot;T&quot;\\n    value {\\n      type: DT_FLOAT\\n    }\\n  }\\n  attr {\\n    key: &quot;_class&quot;\\n    value {\\n      list {\\n        s: &quot;loc:@dnn_1/hidden1/bias&quot;\\n      }\\n    }\\n  }\\n}\\nnode {\\n  name: &quot;dnn_1/hidden1/MatMul&quot;\\n  op: &quot;MatMul&quot;\\n  input: &quot;X&quot;\\n  input: &quot;dnn_1/hidden1/kernel/read&quot;\\n  attr {\\n    key: &quot;T&quot;\\n    value {\\n      type: DT_FLOAT\\n    }\\n  }\\n  attr {\\n    key: &quot;transpose_a&quot;\\n    value {\\n      b: false\\n    }\\n  }\\n  attr {\\n    key: &quot;transpose_b&quot;\\n    value {\\n      b: false\\n    }\\n  }\\n}\\nnode {\\n  name: &quot;dnn_1/hidden1/add&quot;\\n  op: &quot;Add&quot;\\n  input: &quot;dnn_1/hidden1/MatMul&quot;\\n  input: &quot;dnn_1/hidden1/bias/read&quot;\\n  attr {\\n    key: &quot;T&quot;\\n    value {\\n      type: DT_FLOAT\\n    }\\n  }\\n}\\nnode {\\n  name: &quot;dnn_1/hidden1/Relu&quot;\\n  op: &quot;Relu&quot;\\n  input: &quot;dnn_1/hidden1/add&quot;\\n  attr {\\n    key: &quot;T&quot;\\n    value {\\n      type: DT_FLOAT\\n    }\\n  }\\n}\\nnode {\\n  name: &quot;dnn_2/hidden1/truncated_normal/shape&quot;\\n  op: &quot;Const&quot;\\n  attr {\\n    key: &quot;dtype&quot;\\n    value {\\n      type: DT_INT32\\n    }\\n  }\\n  attr {\\n    key: &quot;value&quot;\\n    value {\\n      tensor {\\n        dtype: DT_INT32\\n        tensor_shape {\\n          dim {\\n            size: 2\\n          }\\n        }\\n        tensor_content: &quot;\\\\020\\\\003\\\\000\\\\000,\\\\001\\\\000\\\\000&quot;\\n      }\\n    }\\n  }\\n}\\nnode {\\n  name: &quot;dnn_2/hidden1/truncated_normal/mean&quot;\\n  op: &quot;Const&quot;\\n  attr {\\n    key: &quot;dtype&quot;\\n    value {\\n      type: DT_FLOAT\\n    }\\n  }\\n  attr {\\n    key: &quot;value&quot;\\n    value {\\n      tensor {\\n        dtype: DT_FLOAT\\n        tensor_shape {\\n        }\\n        float_val: 0.0\\n      }\\n    }\\n  }\\n}\\nnode {\\n  name: &quot;dnn_2/hidden1/truncated_normal/stddev&quot;\\n  op: &quot;Const&quot;\\n  attr {\\n    key: &quot;dtype&quot;\\n    value {\\n      type: DT_FLOAT\\n    }\\n  }\\n  attr {\\n    key: &quot;value&quot;\\n    value {\\n      tensor {\\n        dtype: DT_FLOAT\\n        tensor_shape {\\n        }\\n        float_val: 0.0714285746216774\\n      }\\n    }\\n  }\\n}\\nnode {\\n  name: &quot;dnn_2/hidden1/truncated_normal/TruncatedNormal&quot;\\n  op: &quot;TruncatedNormal&quot;\\n  input: &quot;dnn_2/hidden1/truncated_normal/shape&quot;\\n  attr {\\n    key: &quot;T&quot;\\n    value {\\n      type: DT_INT32\\n    }\\n  }\\n  attr {\\n    key: &quot;dtype&quot;\\n    value {\\n      type: DT_FLOAT\\n    }\\n  }\\n  attr {\\n    key: &quot;seed&quot;\\n    value {\\n      i: 42\\n    }\\n  }\\n  attr {\\n    key: &quot;seed2&quot;\\n    value {\\n      i: 41\\n    }\\n  }\\n}\\nnode {\\n  name: &quot;dnn_2/hidden1/truncated_normal/mul&quot;\\n  op: &quot;Mul&quot;\\n  input: &quot;dnn_2/hidden1/truncated_normal/TruncatedNormal&quot;\\n  input: &quot;dnn_2/hidden1/truncated_normal/stddev&quot;\\n  attr {\\n    key: &quot;T&quot;\\n    value {\\n      type: DT_FLOAT\\n    }\\n  }\\n}\\nnode {\\n  name: &quot;dnn_2/hidden1/truncated_normal&quot;\\n  op: &quot;Add&quot;\\n  input: &quot;dnn_2/hidden1/truncated_normal/mul&quot;\\n  input: &quot;dnn_2/hidden1/truncated_normal/mean&quot;\\n  attr {\\n    key: &quot;T&quot;\\n    value {\\n      type: DT_FLOAT\\n    }\\n  }\\n}\\nnode {\\n  name: &quot;dnn_2/hidden1/kernel&quot;\\n  op: &quot;VariableV2&quot;\\n  attr {\\n    key: &quot;container&quot;\\n    value {\\n      s: &quot;&quot;\\n    }\\n  }\\n  attr {\\n    key: &quot;dtype&quot;\\n    value {\\n      type: DT_FLOAT\\n    }\\n  }\\n  attr {\\n    key: &quot;shape&quot;\\n    value {\\n      shape {\\n        dim {\\n          size: 784\\n        }\\n        dim {\\n          size: 300\\n        }\\n      }\\n    }\\n  }\\n  attr {\\n    key: &quot;shared_name&quot;\\n    value {\\n      s: &quot;&quot;\\n    }\\n  }\\n}\\nnode {\\n  name: &quot;dnn_2/hidden1/kernel/Assign&quot;\\n  op: &quot;Assign&quot;\\n  input: &quot;dnn_2/hidden1/kernel&quot;\\n  input: &quot;dnn_2/hidden1/truncated_normal&quot;\\n  attr {\\n    key: &quot;T&quot;\\n    value {\\n      type: DT_FLOAT\\n    }\\n  }\\n  attr {\\n    key: &quot;_class&quot;\\n    value {\\n      list {\\n        s: &quot;loc:@dnn_2/hidden1/kernel&quot;\\n      }\\n    }\\n  }\\n  attr {\\n    key: &quot;use_locking&quot;\\n    value {\\n      b: true\\n    }\\n  }\\n  attr {\\n    key: &quot;validate_shape&quot;\\n    value {\\n      b: true\\n    }\\n  }\\n}\\nnode {\\n  name: &quot;dnn_2/hidden1/kernel/read&quot;\\n  op: &quot;Identity&quot;\\n  input: &quot;dnn_2/hidden1/kernel&quot;\\n  attr {\\n    key: &quot;T&quot;\\n    value {\\n      type: DT_FLOAT\\n    }\\n  }\\n  attr {\\n    key: &quot;_class&quot;\\n    value {\\n      list {\\n        s: &quot;loc:@dnn_2/hidden1/kernel&quot;\\n      }\\n    }\\n  }\\n}\\nnode {\\n  name: &quot;dnn_2/hidden1/zeros/shape_as_tensor&quot;\\n  op: &quot;Const&quot;\\n  attr {\\n    key: &quot;dtype&quot;\\n    value {\\n      type: DT_INT32\\n    }\\n  }\\n  attr {\\n    key: &quot;value&quot;\\n    value {\\n      tensor {\\n        dtype: DT_INT32\\n        tensor_shape {\\n          dim {\\n            size: 1\\n          }\\n        }\\n        int_val: 300\\n      }\\n    }\\n  }\\n}\\nnode {\\n  name: &quot;dnn_2/hidden1/zeros/Const&quot;\\n  op: &quot;Const&quot;\\n  attr {\\n    key: &quot;dtype&quot;\\n    value {\\n      type: DT_FLOAT\\n    }\\n  }\\n  attr {\\n    key: &quot;value&quot;\\n    value {\\n      tensor {\\n        dtype: DT_FLOAT\\n        tensor_shape {\\n        }\\n        float_val: 0.0\\n      }\\n    }\\n  }\\n}\\nnode {\\n  name: &quot;dnn_2/hidden1/zeros&quot;\\n  op: &quot;Fill&quot;\\n  input: &quot;dnn_2/hidden1/zeros/shape_as_tensor&quot;\\n  input: &quot;dnn_2/hidden1/zeros/Const&quot;\\n  attr {\\n    key: &quot;T&quot;\\n    value {\\n      type: DT_FLOAT\\n    }\\n  }\\n  attr {\\n    key: &quot;index_type&quot;\\n    value {\\n      type: DT_INT32\\n    }\\n  }\\n}\\nnode {\\n  name: &quot;dnn_2/hidden1/bias&quot;\\n  op: &quot;VariableV2&quot;\\n  attr {\\n    key: &quot;container&quot;\\n    value {\\n      s: &quot;&quot;\\n    }\\n  }\\n  attr {\\n    key: &quot;dtype&quot;\\n    value {\\n      type: DT_FLOAT\\n    }\\n  }\\n  attr {\\n    key: &quot;shape&quot;\\n    value {\\n      shape {\\n        dim {\\n          size: 300\\n        }\\n      }\\n    }\\n  }\\n  attr {\\n    key: &quot;shared_name&quot;\\n    value {\\n      s: &quot;&quot;\\n    }\\n  }\\n}\\nnode {\\n  name: &quot;dnn_2/hidden1/bias/Assign&quot;\\n  op: &quot;Assign&quot;\\n  input: &quot;dnn_2/hidden1/bias&quot;\\n  input: &quot;dnn_2/hidden1/zeros&quot;\\n  attr {\\n    key: &quot;T&quot;\\n    value {\\n      type: DT_FLOAT\\n    }\\n  }\\n  attr {\\n    key: &quot;_class&quot;\\n    value {\\n      list {\\n        s: &quot;loc:@dnn_2/hidden1/bias&quot;\\n      }\\n    }\\n  }\\n  attr {\\n    key: &quot;use_locking&quot;\\n    value {\\n      b: true\\n    }\\n  }\\n  attr {\\n    key: &quot;validate_shape&quot;\\n    value {\\n      b: true\\n    }\\n  }\\n}\\nnode {\\n  name: &quot;dnn_2/hidden1/bias/read&quot;\\n  op: &quot;Identity&quot;\\n  input: &quot;dnn_2/hidden1/bias&quot;\\n  attr {\\n    key: &quot;T&quot;\\n    value {\\n      type: DT_FLOAT\\n    }\\n  }\\n  attr {\\n    key: &quot;_class&quot;\\n    value {\\n      list {\\n        s: &quot;loc:@dnn_2/hidden1/bias&quot;\\n      }\\n    }\\n  }\\n}\\nnode {\\n  name: &quot;dnn_2/hidden1/MatMul&quot;\\n  op: &quot;MatMul&quot;\\n  input: &quot;X&quot;\\n  input: &quot;dnn_2/hidden1/kernel/read&quot;\\n  attr {\\n    key: &quot;T&quot;\\n    value {\\n      type: DT_FLOAT\\n    }\\n  }\\n  attr {\\n    key: &quot;transpose_a&quot;\\n    value {\\n      b: false\\n    }\\n  }\\n  attr {\\n    key: &quot;transpose_b&quot;\\n    value {\\n      b: false\\n    }\\n  }\\n}\\nnode {\\n  name: &quot;dnn_2/hidden1/add&quot;\\n  op: &quot;Add&quot;\\n  input: &quot;dnn_2/hidden1/MatMul&quot;\\n  input: &quot;dnn_2/hidden1/bias/read&quot;\\n  attr {\\n    key: &quot;T&quot;\\n    value {\\n      type: DT_FLOAT\\n    }\\n  }\\n}\\nnode {\\n  name: &quot;dnn_2/hidden1/Relu&quot;\\n  op: &quot;Relu&quot;\\n  input: &quot;dnn_2/hidden1/add&quot;\\n  attr {\\n    key: &quot;T&quot;\\n    value {\\n      type: DT_FLOAT\\n    }\\n  }\\n}\\nnode {\\n  name: &quot;dnn_2/hidden2/truncated_normal/shape&quot;\\n  op: &quot;Const&quot;\\n  attr {\\n    key: &quot;dtype&quot;\\n    value {\\n      type: DT_INT32\\n    }\\n  }\\n  attr {\\n    key: &quot;value&quot;\\n    value {\\n      tensor {\\n        dtype: DT_INT32\\n        tensor_shape {\\n          dim {\\n            size: 2\\n          }\\n        }\\n        tensor_content: &quot;,\\\\001\\\\000\\\\000d\\\\000\\\\000\\\\000&quot;\\n      }\\n    }\\n  }\\n}\\nnode {\\n  name: &quot;dnn_2/hidden2/truncated_normal/mean&quot;\\n  op: &quot;Const&quot;\\n  attr {\\n    key: &quot;dtype&quot;\\n    value {\\n      type: DT_FLOAT\\n    }\\n  }\\n  attr {\\n    key: &quot;value&quot;\\n    value {\\n      tensor {\\n        dtype: DT_FLOAT\\n        tensor_shape {\\n        }\\n        float_val: 0.0\\n      }\\n    }\\n  }\\n}\\nnode {\\n  name: &quot;dnn_2/hidden2/truncated_normal/stddev&quot;\\n  op: &quot;Const&quot;\\n  attr {\\n    key: &quot;dtype&quot;\\n    value {\\n      type: DT_FLOAT\\n    }\\n  }\\n  attr {\\n    key: &quot;value&quot;\\n    value {\\n      tensor {\\n        dtype: DT_FLOAT\\n        tensor_shape {\\n        }\\n        float_val: 0.1154700517654419\\n      }\\n    }\\n  }\\n}\\nnode {\\n  name: &quot;dnn_2/hidden2/truncated_normal/TruncatedNormal&quot;\\n  op: &quot;TruncatedNormal&quot;\\n  input: &quot;dnn_2/hidden2/truncated_normal/shape&quot;\\n  attr {\\n    key: &quot;T&quot;\\n    value {\\n      type: DT_INT32\\n    }\\n  }\\n  attr {\\n    key: &quot;dtype&quot;\\n    value {\\n      type: DT_FLOAT\\n    }\\n  }\\n  attr {\\n    key: &quot;seed&quot;\\n    value {\\n      i: 42\\n    }\\n  }\\n  attr {\\n    key: &quot;seed2&quot;\\n    value {\\n      i: 59\\n    }\\n  }\\n}\\nnode {\\n  name: &quot;dnn_2/hidden2/truncated_normal/mul&quot;\\n  op: &quot;Mul&quot;\\n  input: &quot;dnn_2/hidden2/truncated_normal/TruncatedNormal&quot;\\n  input: &quot;dnn_2/hidden2/truncated_normal/stddev&quot;\\n  attr {\\n    key: &quot;T&quot;\\n    value {\\n      type: DT_FLOAT\\n    }\\n  }\\n}\\nnode {\\n  name: &quot;dnn_2/hidden2/truncated_normal&quot;\\n  op: &quot;Add&quot;\\n  input: &quot;dnn_2/hidden2/truncated_normal/mul&quot;\\n  input: &quot;dnn_2/hidden2/truncated_normal/mean&quot;\\n  attr {\\n    key: &quot;T&quot;\\n    value {\\n      type: DT_FLOAT\\n    }\\n  }\\n}\\nnode {\\n  name: &quot;dnn_2/hidden2/kernel&quot;\\n  op: &quot;VariableV2&quot;\\n  attr {\\n    key: &quot;container&quot;\\n    value {\\n      s: &quot;&quot;\\n    }\\n  }\\n  attr {\\n    key: &quot;dtype&quot;\\n    value {\\n      type: DT_FLOAT\\n    }\\n  }\\n  attr {\\n    key: &quot;shape&quot;\\n    value {\\n      shape {\\n        dim {\\n          size: 300\\n        }\\n        dim {\\n          size: 100\\n        }\\n      }\\n    }\\n  }\\n  attr {\\n    key: &quot;shared_name&quot;\\n    value {\\n      s: &quot;&quot;\\n    }\\n  }\\n}\\nnode {\\n  name: &quot;dnn_2/hidden2/kernel/Assign&quot;\\n  op: &quot;Assign&quot;\\n  input: &quot;dnn_2/hidden2/kernel&quot;\\n  input: &quot;dnn_2/hidden2/truncated_normal&quot;\\n  attr {\\n    key: &quot;T&quot;\\n    value {\\n      type: DT_FLOAT\\n    }\\n  }\\n  attr {\\n    key: &quot;_class&quot;\\n    value {\\n      list {\\n        s: &quot;loc:@dnn_2/hidden2/kernel&quot;\\n      }\\n    }\\n  }\\n  attr {\\n    key: &quot;use_locking&quot;\\n    value {\\n      b: true\\n    }\\n  }\\n  attr {\\n    key: &quot;validate_shape&quot;\\n    value {\\n      b: true\\n    }\\n  }\\n}\\nnode {\\n  name: &quot;dnn_2/hidden2/kernel/read&quot;\\n  op: &quot;Identity&quot;\\n  input: &quot;dnn_2/hidden2/kernel&quot;\\n  attr {\\n    key: &quot;T&quot;\\n    value {\\n      type: DT_FLOAT\\n    }\\n  }\\n  attr {\\n    key: &quot;_class&quot;\\n    value {\\n      list {\\n        s: &quot;loc:@dnn_2/hidden2/kernel&quot;\\n      }\\n    }\\n  }\\n}\\nnode {\\n  name: &quot;dnn_2/hidden2/zeros/shape_as_tensor&quot;\\n  op: &quot;Const&quot;\\n  attr {\\n    key: &quot;dtype&quot;\\n    value {\\n      type: DT_INT32\\n    }\\n  }\\n  attr {\\n    key: &quot;value&quot;\\n    value {\\n      tensor {\\n        dtype: DT_INT32\\n        tensor_shape {\\n          dim {\\n            size: 1\\n          }\\n        }\\n        int_val: 100\\n      }\\n    }\\n  }\\n}\\nnode {\\n  name: &quot;dnn_2/hidden2/zeros/Const&quot;\\n  op: &quot;Const&quot;\\n  attr {\\n    key: &quot;dtype&quot;\\n    value {\\n      type: DT_FLOAT\\n    }\\n  }\\n  attr {\\n    key: &quot;value&quot;\\n    value {\\n      tensor {\\n        dtype: DT_FLOAT\\n        tensor_shape {\\n        }\\n        float_val: 0.0\\n      }\\n    }\\n  }\\n}\\nnode {\\n  name: &quot;dnn_2/hidden2/zeros&quot;\\n  op: &quot;Fill&quot;\\n  input: &quot;dnn_2/hidden2/zeros/shape_as_tensor&quot;\\n  input: &quot;dnn_2/hidden2/zeros/Const&quot;\\n  attr {\\n    key: &quot;T&quot;\\n    value {\\n      type: DT_FLOAT\\n    }\\n  }\\n  attr {\\n    key: &quot;index_type&quot;\\n    value {\\n      type: DT_INT32\\n    }\\n  }\\n}\\nnode {\\n  name: &quot;dnn_2/hidden2/bias&quot;\\n  op: &quot;VariableV2&quot;\\n  attr {\\n    key: &quot;container&quot;\\n    value {\\n      s: &quot;&quot;\\n    }\\n  }\\n  attr {\\n    key: &quot;dtype&quot;\\n    value {\\n      type: DT_FLOAT\\n    }\\n  }\\n  attr {\\n    key: &quot;shape&quot;\\n    value {\\n      shape {\\n        dim {\\n          size: 100\\n        }\\n      }\\n    }\\n  }\\n  attr {\\n    key: &quot;shared_name&quot;\\n    value {\\n      s: &quot;&quot;\\n    }\\n  }\\n}\\nnode {\\n  name: &quot;dnn_2/hidden2/bias/Assign&quot;\\n  op: &quot;Assign&quot;\\n  input: &quot;dnn_2/hidden2/bias&quot;\\n  input: &quot;dnn_2/hidden2/zeros&quot;\\n  attr {\\n    key: &quot;T&quot;\\n    value {\\n      type: DT_FLOAT\\n    }\\n  }\\n  attr {\\n    key: &quot;_class&quot;\\n    value {\\n      list {\\n        s: &quot;loc:@dnn_2/hidden2/bias&quot;\\n      }\\n    }\\n  }\\n  attr {\\n    key: &quot;use_locking&quot;\\n    value {\\n      b: true\\n    }\\n  }\\n  attr {\\n    key: &quot;validate_shape&quot;\\n    value {\\n      b: true\\n    }\\n  }\\n}\\nnode {\\n  name: &quot;dnn_2/hidden2/bias/read&quot;\\n  op: &quot;Identity&quot;\\n  input: &quot;dnn_2/hidden2/bias&quot;\\n  attr {\\n    key: &quot;T&quot;\\n    value {\\n      type: DT_FLOAT\\n    }\\n  }\\n  attr {\\n    key: &quot;_class&quot;\\n    value {\\n      list {\\n        s: &quot;loc:@dnn_2/hidden2/bias&quot;\\n      }\\n    }\\n  }\\n}\\nnode {\\n  name: &quot;dnn_2/hidden2/MatMul&quot;\\n  op: &quot;MatMul&quot;\\n  input: &quot;dnn_2/hidden1/Relu&quot;\\n  input: &quot;dnn_2/hidden2/kernel/read&quot;\\n  attr {\\n    key: &quot;T&quot;\\n    value {\\n      type: DT_FLOAT\\n    }\\n  }\\n  attr {\\n    key: &quot;transpose_a&quot;\\n    value {\\n      b: false\\n    }\\n  }\\n  attr {\\n    key: &quot;transpose_b&quot;\\n    value {\\n      b: false\\n    }\\n  }\\n}\\nnode {\\n  name: &quot;dnn_2/hidden2/add&quot;\\n  op: &quot;Add&quot;\\n  input: &quot;dnn_2/hidden2/MatMul&quot;\\n  input: &quot;dnn_2/hidden2/bias/read&quot;\\n  attr {\\n    key: &quot;T&quot;\\n    value {\\n      type: DT_FLOAT\\n    }\\n  }\\n}\\nnode {\\n  name: &quot;dnn_2/hidden2/Relu&quot;\\n  op: &quot;Relu&quot;\\n  input: &quot;dnn_2/hidden2/add&quot;\\n  attr {\\n    key: &quot;T&quot;\\n    value {\\n      type: DT_FLOAT\\n    }\\n  }\\n}\\nnode {\\n  name: &quot;dnn_3/hidden1/truncated_normal/shape&quot;\\n  op: &quot;Const&quot;\\n  attr {\\n    key: &quot;dtype&quot;\\n    value {\\n      type: DT_INT32\\n    }\\n  }\\n  attr {\\n    key: &quot;value&quot;\\n    value {\\n      tensor {\\n        dtype: DT_INT32\\n        tensor_shape {\\n          dim {\\n            size: 2\\n          }\\n        }\\n        tensor_content: &quot;\\\\020\\\\003\\\\000\\\\000,\\\\001\\\\000\\\\000&quot;\\n      }\\n    }\\n  }\\n}\\nnode {\\n  name: &quot;dnn_3/hidden1/truncated_normal/mean&quot;\\n  op: &quot;Const&quot;\\n  attr {\\n    key: &quot;dtype&quot;\\n    value {\\n      type: DT_FLOAT\\n    }\\n  }\\n  attr {\\n    key: &quot;value&quot;\\n    value {\\n      tensor {\\n        dtype: DT_FLOAT\\n        tensor_shape {\\n        }\\n        float_val: 0.0\\n      }\\n    }\\n  }\\n}\\nnode {\\n  name: &quot;dnn_3/hidden1/truncated_normal/stddev&quot;\\n  op: &quot;Const&quot;\\n  attr {\\n    key: &quot;dtype&quot;\\n    value {\\n      type: DT_FLOAT\\n    }\\n  }\\n  attr {\\n    key: &quot;value&quot;\\n    value {\\n      tensor {\\n        dtype: DT_FLOAT\\n        tensor_shape {\\n        }\\n        float_val: 0.0714285746216774\\n      }\\n    }\\n  }\\n}\\nnode {\\n  name: &quot;dnn_3/hidden1/truncated_normal/TruncatedNormal&quot;\\n  op: &quot;TruncatedNormal&quot;\\n  input: &quot;dnn_3/hidden1/truncated_normal/shape&quot;\\n  attr {\\n    key: &quot;T&quot;\\n    value {\\n      type: DT_INT32\\n    }\\n  }\\n  attr {\\n    key: &quot;dtype&quot;\\n    value {\\n      type: DT_FLOAT\\n    }\\n  }\\n  attr {\\n    key: &quot;seed&quot;\\n    value {\\n      i: 42\\n    }\\n  }\\n  attr {\\n    key: &quot;seed2&quot;\\n    value {\\n      i: 77\\n    }\\n  }\\n}\\nnode {\\n  name: &quot;dnn_3/hidden1/truncated_normal/mul&quot;\\n  op: &quot;Mul&quot;\\n  input: &quot;dnn_3/hidden1/truncated_normal/TruncatedNormal&quot;\\n  input: &quot;dnn_3/hidden1/truncated_normal/stddev&quot;\\n  attr {\\n    key: &quot;T&quot;\\n    value {\\n      type: DT_FLOAT\\n    }\\n  }\\n}\\nnode {\\n  name: &quot;dnn_3/hidden1/truncated_normal&quot;\\n  op: &quot;Add&quot;\\n  input: &quot;dnn_3/hidden1/truncated_normal/mul&quot;\\n  input: &quot;dnn_3/hidden1/truncated_normal/mean&quot;\\n  attr {\\n    key: &quot;T&quot;\\n    value {\\n      type: DT_FLOAT\\n    }\\n  }\\n}\\nnode {\\n  name: &quot;dnn_3/hidden1/kernel&quot;\\n  op: &quot;VariableV2&quot;\\n  attr {\\n    key: &quot;container&quot;\\n    value {\\n      s: &quot;&quot;\\n    }\\n  }\\n  attr {\\n    key: &quot;dtype&quot;\\n    value {\\n      type: DT_FLOAT\\n    }\\n  }\\n  attr {\\n    key: &quot;shape&quot;\\n    value {\\n      shape {\\n        dim {\\n          size: 784\\n        }\\n        dim {\\n          size: 300\\n        }\\n      }\\n    }\\n  }\\n  attr {\\n    key: &quot;shared_name&quot;\\n    value {\\n      s: &quot;&quot;\\n    }\\n  }\\n}\\nnode {\\n  name: &quot;dnn_3/hidden1/kernel/Assign&quot;\\n  op: &quot;Assign&quot;\\n  input: &quot;dnn_3/hidden1/kernel&quot;\\n  input: &quot;dnn_3/hidden1/truncated_normal&quot;\\n  attr {\\n    key: &quot;T&quot;\\n    value {\\n      type: DT_FLOAT\\n    }\\n  }\\n  attr {\\n    key: &quot;_class&quot;\\n    value {\\n      list {\\n        s: &quot;loc:@dnn_3/hidden1/kernel&quot;\\n      }\\n    }\\n  }\\n  attr {\\n    key: &quot;use_locking&quot;\\n    value {\\n      b: true\\n    }\\n  }\\n  attr {\\n    key: &quot;validate_shape&quot;\\n    value {\\n      b: true\\n    }\\n  }\\n}\\nnode {\\n  name: &quot;dnn_3/hidden1/kernel/read&quot;\\n  op: &quot;Identity&quot;\\n  input: &quot;dnn_3/hidden1/kernel&quot;\\n  attr {\\n    key: &quot;T&quot;\\n    value {\\n      type: DT_FLOAT\\n    }\\n  }\\n  attr {\\n    key: &quot;_class&quot;\\n    value {\\n      list {\\n        s: &quot;loc:@dnn_3/hidden1/kernel&quot;\\n      }\\n    }\\n  }\\n}\\nnode {\\n  name: &quot;dnn_3/hidden1/zeros/shape_as_tensor&quot;\\n  op: &quot;Const&quot;\\n  attr {\\n    key: &quot;dtype&quot;\\n    value {\\n      type: DT_INT32\\n    }\\n  }\\n  attr {\\n    key: &quot;value&quot;\\n    value {\\n      tensor {\\n        dtype: DT_INT32\\n        tensor_shape {\\n          dim {\\n            size: 1\\n          }\\n        }\\n        int_val: 300\\n      }\\n    }\\n  }\\n}\\nnode {\\n  name: &quot;dnn_3/hidden1/zeros/Const&quot;\\n  op: &quot;Const&quot;\\n  attr {\\n    key: &quot;dtype&quot;\\n    value {\\n      type: DT_FLOAT\\n    }\\n  }\\n  attr {\\n    key: &quot;value&quot;\\n    value {\\n      tensor {\\n        dtype: DT_FLOAT\\n        tensor_shape {\\n        }\\n        float_val: 0.0\\n      }\\n    }\\n  }\\n}\\nnode {\\n  name: &quot;dnn_3/hidden1/zeros&quot;\\n  op: &quot;Fill&quot;\\n  input: &quot;dnn_3/hidden1/zeros/shape_as_tensor&quot;\\n  input: &quot;dnn_3/hidden1/zeros/Const&quot;\\n  attr {\\n    key: &quot;T&quot;\\n    value {\\n      type: DT_FLOAT\\n    }\\n  }\\n  attr {\\n    key: &quot;index_type&quot;\\n    value {\\n      type: DT_INT32\\n    }\\n  }\\n}\\nnode {\\n  name: &quot;dnn_3/hidden1/bias&quot;\\n  op: &quot;VariableV2&quot;\\n  attr {\\n    key: &quot;container&quot;\\n    value {\\n      s: &quot;&quot;\\n    }\\n  }\\n  attr {\\n    key: &quot;dtype&quot;\\n    value {\\n      type: DT_FLOAT\\n    }\\n  }\\n  attr {\\n    key: &quot;shape&quot;\\n    value {\\n      shape {\\n        dim {\\n          size: 300\\n        }\\n      }\\n    }\\n  }\\n  attr {\\n    key: &quot;shared_name&quot;\\n    value {\\n      s: &quot;&quot;\\n    }\\n  }\\n}\\nnode {\\n  name: &quot;dnn_3/hidden1/bias/Assign&quot;\\n  op: &quot;Assign&quot;\\n  input: &quot;dnn_3/hidden1/bias&quot;\\n  input: &quot;dnn_3/hidden1/zeros&quot;\\n  attr {\\n    key: &quot;T&quot;\\n    value {\\n      type: DT_FLOAT\\n    }\\n  }\\n  attr {\\n    key: &quot;_class&quot;\\n    value {\\n      list {\\n        s: &quot;loc:@dnn_3/hidden1/bias&quot;\\n      }\\n    }\\n  }\\n  attr {\\n    key: &quot;use_locking&quot;\\n    value {\\n      b: true\\n    }\\n  }\\n  attr {\\n    key: &quot;validate_shape&quot;\\n    value {\\n      b: true\\n    }\\n  }\\n}\\nnode {\\n  name: &quot;dnn_3/hidden1/bias/read&quot;\\n  op: &quot;Identity&quot;\\n  input: &quot;dnn_3/hidden1/bias&quot;\\n  attr {\\n    key: &quot;T&quot;\\n    value {\\n      type: DT_FLOAT\\n    }\\n  }\\n  attr {\\n    key: &quot;_class&quot;\\n    value {\\n      list {\\n        s: &quot;loc:@dnn_3/hidden1/bias&quot;\\n      }\\n    }\\n  }\\n}\\nnode {\\n  name: &quot;dnn_3/hidden1/MatMul&quot;\\n  op: &quot;MatMul&quot;\\n  input: &quot;X&quot;\\n  input: &quot;dnn_3/hidden1/kernel/read&quot;\\n  attr {\\n    key: &quot;T&quot;\\n    value {\\n      type: DT_FLOAT\\n    }\\n  }\\n  attr {\\n    key: &quot;transpose_a&quot;\\n    value {\\n      b: false\\n    }\\n  }\\n  attr {\\n    key: &quot;transpose_b&quot;\\n    value {\\n      b: false\\n    }\\n  }\\n}\\nnode {\\n  name: &quot;dnn_3/hidden1/add&quot;\\n  op: &quot;Add&quot;\\n  input: &quot;dnn_3/hidden1/MatMul&quot;\\n  input: &quot;dnn_3/hidden1/bias/read&quot;\\n  attr {\\n    key: &quot;T&quot;\\n    value {\\n      type: DT_FLOAT\\n    }\\n  }\\n}\\nnode {\\n  name: &quot;dnn_3/hidden1/Relu&quot;\\n  op: &quot;Relu&quot;\\n  input: &quot;dnn_3/hidden1/add&quot;\\n  attr {\\n    key: &quot;T&quot;\\n    value {\\n      type: DT_FLOAT\\n    }\\n  }\\n}\\nnode {\\n  name: &quot;dnn_3/hidden2/truncated_normal/shape&quot;\\n  op: &quot;Const&quot;\\n  attr {\\n    key: &quot;dtype&quot;\\n    value {\\n      type: DT_INT32\\n    }\\n  }\\n  attr {\\n    key: &quot;value&quot;\\n    value {\\n      tensor {\\n        dtype: DT_INT32\\n        tensor_shape {\\n          dim {\\n            size: 2\\n          }\\n        }\\n        tensor_content: &quot;,\\\\001\\\\000\\\\000d\\\\000\\\\000\\\\000&quot;\\n      }\\n    }\\n  }\\n}\\nnode {\\n  name: &quot;dnn_3/hidden2/truncated_normal/mean&quot;\\n  op: &quot;Const&quot;\\n  attr {\\n    key: &quot;dtype&quot;\\n    value {\\n      type: DT_FLOAT\\n    }\\n  }\\n  attr {\\n    key: &quot;value&quot;\\n    value {\\n      tensor {\\n        dtype: DT_FLOAT\\n        tensor_shape {\\n        }\\n        float_val: 0.0\\n      }\\n    }\\n  }\\n}\\nnode {\\n  name: &quot;dnn_3/hidden2/truncated_normal/stddev&quot;\\n  op: &quot;Const&quot;\\n  attr {\\n    key: &quot;dtype&quot;\\n    value {\\n      type: DT_FLOAT\\n    }\\n  }\\n  attr {\\n    key: &quot;value&quot;\\n    value {\\n      tensor {\\n        dtype: DT_FLOAT\\n        tensor_shape {\\n        }\\n        float_val: 0.1154700517654419\\n      }\\n    }\\n  }\\n}\\nnode {\\n  name: &quot;dnn_3/hidden2/truncated_normal/TruncatedNormal&quot;\\n  op: &quot;TruncatedNormal&quot;\\n  input: &quot;dnn_3/hidden2/truncated_normal/shape&quot;\\n  attr {\\n    key: &quot;T&quot;\\n    value {\\n      type: DT_INT32\\n    }\\n  }\\n  attr {\\n    key: &quot;dtype&quot;\\n    value {\\n      type: DT_FLOAT\\n    }\\n  }\\n  attr {\\n    key: &quot;seed&quot;\\n    value {\\n      i: 42\\n    }\\n  }\\n  attr {\\n    key: &quot;seed2&quot;\\n    value {\\n      i: 95\\n    }\\n  }\\n}\\nnode {\\n  name: &quot;dnn_3/hidden2/truncated_normal/mul&quot;\\n  op: &quot;Mul&quot;\\n  input: &quot;dnn_3/hidden2/truncated_normal/TruncatedNormal&quot;\\n  input: &quot;dnn_3/hidden2/truncated_normal/stddev&quot;\\n  attr {\\n    key: &quot;T&quot;\\n    value {\\n      type: DT_FLOAT\\n    }\\n  }\\n}\\nnode {\\n  name: &quot;dnn_3/hidden2/truncated_normal&quot;\\n  op: &quot;Add&quot;\\n  input: &quot;dnn_3/hidden2/truncated_normal/mul&quot;\\n  input: &quot;dnn_3/hidden2/truncated_normal/mean&quot;\\n  attr {\\n    key: &quot;T&quot;\\n    value {\\n      type: DT_FLOAT\\n    }\\n  }\\n}\\nnode {\\n  name: &quot;dnn_3/hidden2/kernel&quot;\\n  op: &quot;VariableV2&quot;\\n  attr {\\n    key: &quot;container&quot;\\n    value {\\n      s: &quot;&quot;\\n    }\\n  }\\n  attr {\\n    key: &quot;dtype&quot;\\n    value {\\n      type: DT_FLOAT\\n    }\\n  }\\n  attr {\\n    key: &quot;shape&quot;\\n    value {\\n      shape {\\n        dim {\\n          size: 300\\n        }\\n        dim {\\n          size: 100\\n        }\\n      }\\n    }\\n  }\\n  attr {\\n    key: &quot;shared_name&quot;\\n    value {\\n      s: &quot;&quot;\\n    }\\n  }\\n}\\nnode {\\n  name: &quot;dnn_3/hidden2/kernel/Assign&quot;\\n  op: &quot;Assign&quot;\\n  input: &quot;dnn_3/hidden2/kernel&quot;\\n  input: &quot;dnn_3/hidden2/truncated_normal&quot;\\n  attr {\\n    key: &quot;T&quot;\\n    value {\\n      type: DT_FLOAT\\n    }\\n  }\\n  attr {\\n    key: &quot;_class&quot;\\n    value {\\n      list {\\n        s: &quot;loc:@dnn_3/hidden2/kernel&quot;\\n      }\\n    }\\n  }\\n  attr {\\n    key: &quot;use_locking&quot;\\n    value {\\n      b: true\\n    }\\n  }\\n  attr {\\n    key: &quot;validate_shape&quot;\\n    value {\\n      b: true\\n    }\\n  }\\n}\\nnode {\\n  name: &quot;dnn_3/hidden2/kernel/read&quot;\\n  op: &quot;Identity&quot;\\n  input: &quot;dnn_3/hidden2/kernel&quot;\\n  attr {\\n    key: &quot;T&quot;\\n    value {\\n      type: DT_FLOAT\\n    }\\n  }\\n  attr {\\n    key: &quot;_class&quot;\\n    value {\\n      list {\\n        s: &quot;loc:@dnn_3/hidden2/kernel&quot;\\n      }\\n    }\\n  }\\n}\\nnode {\\n  name: &quot;dnn_3/hidden2/zeros/shape_as_tensor&quot;\\n  op: &quot;Const&quot;\\n  attr {\\n    key: &quot;dtype&quot;\\n    value {\\n      type: DT_INT32\\n    }\\n  }\\n  attr {\\n    key: &quot;value&quot;\\n    value {\\n      tensor {\\n        dtype: DT_INT32\\n        tensor_shape {\\n          dim {\\n            size: 1\\n          }\\n        }\\n        int_val: 100\\n      }\\n    }\\n  }\\n}\\nnode {\\n  name: &quot;dnn_3/hidden2/zeros/Const&quot;\\n  op: &quot;Const&quot;\\n  attr {\\n    key: &quot;dtype&quot;\\n    value {\\n      type: DT_FLOAT\\n    }\\n  }\\n  attr {\\n    key: &quot;value&quot;\\n    value {\\n      tensor {\\n        dtype: DT_FLOAT\\n        tensor_shape {\\n        }\\n        float_val: 0.0\\n      }\\n    }\\n  }\\n}\\nnode {\\n  name: &quot;dnn_3/hidden2/zeros&quot;\\n  op: &quot;Fill&quot;\\n  input: &quot;dnn_3/hidden2/zeros/shape_as_tensor&quot;\\n  input: &quot;dnn_3/hidden2/zeros/Const&quot;\\n  attr {\\n    key: &quot;T&quot;\\n    value {\\n      type: DT_FLOAT\\n    }\\n  }\\n  attr {\\n    key: &quot;index_type&quot;\\n    value {\\n      type: DT_INT32\\n    }\\n  }\\n}\\nnode {\\n  name: &quot;dnn_3/hidden2/bias&quot;\\n  op: &quot;VariableV2&quot;\\n  attr {\\n    key: &quot;container&quot;\\n    value {\\n      s: &quot;&quot;\\n    }\\n  }\\n  attr {\\n    key: &quot;dtype&quot;\\n    value {\\n      type: DT_FLOAT\\n    }\\n  }\\n  attr {\\n    key: &quot;shape&quot;\\n    value {\\n      shape {\\n        dim {\\n          size: 100\\n        }\\n      }\\n    }\\n  }\\n  attr {\\n    key: &quot;shared_name&quot;\\n    value {\\n      s: &quot;&quot;\\n    }\\n  }\\n}\\nnode {\\n  name: &quot;dnn_3/hidden2/bias/Assign&quot;\\n  op: &quot;Assign&quot;\\n  input: &quot;dnn_3/hidden2/bias&quot;\\n  input: &quot;dnn_3/hidden2/zeros&quot;\\n  attr {\\n    key: &quot;T&quot;\\n    value {\\n      type: DT_FLOAT\\n    }\\n  }\\n  attr {\\n    key: &quot;_class&quot;\\n    value {\\n      list {\\n        s: &quot;loc:@dnn_3/hidden2/bias&quot;\\n      }\\n    }\\n  }\\n  attr {\\n    key: &quot;use_locking&quot;\\n    value {\\n      b: true\\n    }\\n  }\\n  attr {\\n    key: &quot;validate_shape&quot;\\n    value {\\n      b: true\\n    }\\n  }\\n}\\nnode {\\n  name: &quot;dnn_3/hidden2/bias/read&quot;\\n  op: &quot;Identity&quot;\\n  input: &quot;dnn_3/hidden2/bias&quot;\\n  attr {\\n    key: &quot;T&quot;\\n    value {\\n      type: DT_FLOAT\\n    }\\n  }\\n  attr {\\n    key: &quot;_class&quot;\\n    value {\\n      list {\\n        s: &quot;loc:@dnn_3/hidden2/bias&quot;\\n      }\\n    }\\n  }\\n}\\nnode {\\n  name: &quot;dnn_3/hidden2/MatMul&quot;\\n  op: &quot;MatMul&quot;\\n  input: &quot;dnn_3/hidden1/Relu&quot;\\n  input: &quot;dnn_3/hidden2/kernel/read&quot;\\n  attr {\\n    key: &quot;T&quot;\\n    value {\\n      type: DT_FLOAT\\n    }\\n  }\\n  attr {\\n    key: &quot;transpose_a&quot;\\n    value {\\n      b: false\\n    }\\n  }\\n  attr {\\n    key: &quot;transpose_b&quot;\\n    value {\\n      b: false\\n    }\\n  }\\n}\\nnode {\\n  name: &quot;dnn_3/hidden2/add&quot;\\n  op: &quot;Add&quot;\\n  input: &quot;dnn_3/hidden2/MatMul&quot;\\n  input: &quot;dnn_3/hidden2/bias/read&quot;\\n  attr {\\n    key: &quot;T&quot;\\n    value {\\n      type: DT_FLOAT\\n    }\\n  }\\n}\\nnode {\\n  name: &quot;dnn_3/hidden2/Relu&quot;\\n  op: &quot;Relu&quot;\\n  input: &quot;dnn_3/hidden2/add&quot;\\n  attr {\\n    key: &quot;T&quot;\\n    value {\\n      type: DT_FLOAT\\n    }\\n  }\\n}\\nnode {\\n  name: &quot;dnn_4/hidden1/truncated_normal/shape&quot;\\n  op: &quot;Const&quot;\\n  attr {\\n    key: &quot;dtype&quot;\\n    value {\\n      type: DT_INT32\\n    }\\n  }\\n  attr {\\n    key: &quot;value&quot;\\n    value {\\n      tensor {\\n        dtype: DT_INT32\\n        tensor_shape {\\n          dim {\\n            size: 2\\n          }\\n        }\\n        tensor_content: &quot;\\\\020\\\\003\\\\000\\\\000,\\\\001\\\\000\\\\000&quot;\\n      }\\n    }\\n  }\\n}\\nnode {\\n  name: &quot;dnn_4/hidden1/truncated_normal/mean&quot;\\n  op: &quot;Const&quot;\\n  attr {\\n    key: &quot;dtype&quot;\\n    value {\\n      type: DT_FLOAT\\n    }\\n  }\\n  attr {\\n    key: &quot;value&quot;\\n    value {\\n      tensor {\\n        dtype: DT_FLOAT\\n        tensor_shape {\\n        }\\n        float_val: 0.0\\n      }\\n    }\\n  }\\n}\\nnode {\\n  name: &quot;dnn_4/hidden1/truncated_normal/stddev&quot;\\n  op: &quot;Const&quot;\\n  attr {\\n    key: &quot;dtype&quot;\\n    value {\\n      type: DT_FLOAT\\n    }\\n  }\\n  attr {\\n    key: &quot;value&quot;\\n    value {\\n      tensor {\\n        dtype: DT_FLOAT\\n        tensor_shape {\\n        }\\n        float_val: 0.0714285746216774\\n      }\\n    }\\n  }\\n}\\nnode {\\n  name: &quot;dnn_4/hidden1/truncated_normal/TruncatedNormal&quot;\\n  op: &quot;TruncatedNormal&quot;\\n  input: &quot;dnn_4/hidden1/truncated_normal/shape&quot;\\n  attr {\\n    key: &quot;T&quot;\\n    value {\\n      type: DT_INT32\\n    }\\n  }\\n  attr {\\n    key: &quot;dtype&quot;\\n    value {\\n      type: DT_FLOAT\\n    }\\n  }\\n  attr {\\n    key: &quot;seed&quot;\\n    value {\\n      i: 42\\n    }\\n  }\\n  attr {\\n    key: &quot;seed2&quot;\\n    value {\\n      i: 113\\n    }\\n  }\\n}\\nnode {\\n  name: &quot;dnn_4/hidden1/truncated_normal/mul&quot;\\n  op: &quot;Mul&quot;\\n  input: &quot;dnn_4/hidden1/truncated_normal/TruncatedNormal&quot;\\n  input: &quot;dnn_4/hidden1/truncated_normal/stddev&quot;\\n  attr {\\n    key: &quot;T&quot;\\n    value {\\n      type: DT_FLOAT\\n    }\\n  }\\n}\\nnode {\\n  name: &quot;dnn_4/hidden1/truncated_normal&quot;\\n  op: &quot;Add&quot;\\n  input: &quot;dnn_4/hidden1/truncated_normal/mul&quot;\\n  input: &quot;dnn_4/hidden1/truncated_normal/mean&quot;\\n  attr {\\n    key: &quot;T&quot;\\n    value {\\n      type: DT_FLOAT\\n    }\\n  }\\n}\\nnode {\\n  name: &quot;dnn_4/hidden1/kernel&quot;\\n  op: &quot;VariableV2&quot;\\n  attr {\\n    key: &quot;container&quot;\\n    value {\\n      s: &quot;&quot;\\n    }\\n  }\\n  attr {\\n    key: &quot;dtype&quot;\\n    value {\\n      type: DT_FLOAT\\n    }\\n  }\\n  attr {\\n    key: &quot;shape&quot;\\n    value {\\n      shape {\\n        dim {\\n          size: 784\\n        }\\n        dim {\\n          size: 300\\n        }\\n      }\\n    }\\n  }\\n  attr {\\n    key: &quot;shared_name&quot;\\n    value {\\n      s: &quot;&quot;\\n    }\\n  }\\n}\\nnode {\\n  name: &quot;dnn_4/hidden1/kernel/Assign&quot;\\n  op: &quot;Assign&quot;\\n  input: &quot;dnn_4/hidden1/kernel&quot;\\n  input: &quot;dnn_4/hidden1/truncated_normal&quot;\\n  attr {\\n    key: &quot;T&quot;\\n    value {\\n      type: DT_FLOAT\\n    }\\n  }\\n  attr {\\n    key: &quot;_class&quot;\\n    value {\\n      list {\\n        s: &quot;loc:@dnn_4/hidden1/kernel&quot;\\n      }\\n    }\\n  }\\n  attr {\\n    key: &quot;use_locking&quot;\\n    value {\\n      b: true\\n    }\\n  }\\n  attr {\\n    key: &quot;validate_shape&quot;\\n    value {\\n      b: true\\n    }\\n  }\\n}\\nnode {\\n  name: &quot;dnn_4/hidden1/kernel/read&quot;\\n  op: &quot;Identity&quot;\\n  input: &quot;dnn_4/hidden1/kernel&quot;\\n  attr {\\n    key: &quot;T&quot;\\n    value {\\n      type: DT_FLOAT\\n    }\\n  }\\n  attr {\\n    key: &quot;_class&quot;\\n    value {\\n      list {\\n        s: &quot;loc:@dnn_4/hidden1/kernel&quot;\\n      }\\n    }\\n  }\\n}\\nnode {\\n  name: &quot;dnn_4/hidden1/zeros/shape_as_tensor&quot;\\n  op: &quot;Const&quot;\\n  attr {\\n    key: &quot;dtype&quot;\\n    value {\\n      type: DT_INT32\\n    }\\n  }\\n  attr {\\n    key: &quot;value&quot;\\n    value {\\n      tensor {\\n        dtype: DT_INT32\\n        tensor_shape {\\n          dim {\\n            size: 1\\n          }\\n        }\\n        int_val: 300\\n      }\\n    }\\n  }\\n}\\nnode {\\n  name: &quot;dnn_4/hidden1/zeros/Const&quot;\\n  op: &quot;Const&quot;\\n  attr {\\n    key: &quot;dtype&quot;\\n    value {\\n      type: DT_FLOAT\\n    }\\n  }\\n  attr {\\n    key: &quot;value&quot;\\n    value {\\n      tensor {\\n        dtype: DT_FLOAT\\n        tensor_shape {\\n        }\\n        float_val: 0.0\\n      }\\n    }\\n  }\\n}\\nnode {\\n  name: &quot;dnn_4/hidden1/zeros&quot;\\n  op: &quot;Fill&quot;\\n  input: &quot;dnn_4/hidden1/zeros/shape_as_tensor&quot;\\n  input: &quot;dnn_4/hidden1/zeros/Const&quot;\\n  attr {\\n    key: &quot;T&quot;\\n    value {\\n      type: DT_FLOAT\\n    }\\n  }\\n  attr {\\n    key: &quot;index_type&quot;\\n    value {\\n      type: DT_INT32\\n    }\\n  }\\n}\\nnode {\\n  name: &quot;dnn_4/hidden1/bias&quot;\\n  op: &quot;VariableV2&quot;\\n  attr {\\n    key: &quot;container&quot;\\n    value {\\n      s: &quot;&quot;\\n    }\\n  }\\n  attr {\\n    key: &quot;dtype&quot;\\n    value {\\n      type: DT_FLOAT\\n    }\\n  }\\n  attr {\\n    key: &quot;shape&quot;\\n    value {\\n      shape {\\n        dim {\\n          size: 300\\n        }\\n      }\\n    }\\n  }\\n  attr {\\n    key: &quot;shared_name&quot;\\n    value {\\n      s: &quot;&quot;\\n    }\\n  }\\n}\\nnode {\\n  name: &quot;dnn_4/hidden1/bias/Assign&quot;\\n  op: &quot;Assign&quot;\\n  input: &quot;dnn_4/hidden1/bias&quot;\\n  input: &quot;dnn_4/hidden1/zeros&quot;\\n  attr {\\n    key: &quot;T&quot;\\n    value {\\n      type: DT_FLOAT\\n    }\\n  }\\n  attr {\\n    key: &quot;_class&quot;\\n    value {\\n      list {\\n        s: &quot;loc:@dnn_4/hidden1/bias&quot;\\n      }\\n    }\\n  }\\n  attr {\\n    key: &quot;use_locking&quot;\\n    value {\\n      b: true\\n    }\\n  }\\n  attr {\\n    key: &quot;validate_shape&quot;\\n    value {\\n      b: true\\n    }\\n  }\\n}\\nnode {\\n  name: &quot;dnn_4/hidden1/bias/read&quot;\\n  op: &quot;Identity&quot;\\n  input: &quot;dnn_4/hidden1/bias&quot;\\n  attr {\\n    key: &quot;T&quot;\\n    value {\\n      type: DT_FLOAT\\n    }\\n  }\\n  attr {\\n    key: &quot;_class&quot;\\n    value {\\n      list {\\n        s: &quot;loc:@dnn_4/hidden1/bias&quot;\\n      }\\n    }\\n  }\\n}\\nnode {\\n  name: &quot;dnn_4/hidden1/MatMul&quot;\\n  op: &quot;MatMul&quot;\\n  input: &quot;X&quot;\\n  input: &quot;dnn_4/hidden1/kernel/read&quot;\\n  attr {\\n    key: &quot;T&quot;\\n    value {\\n      type: DT_FLOAT\\n    }\\n  }\\n  attr {\\n    key: &quot;transpose_a&quot;\\n    value {\\n      b: false\\n    }\\n  }\\n  attr {\\n    key: &quot;transpose_b&quot;\\n    value {\\n      b: false\\n    }\\n  }\\n}\\nnode {\\n  name: &quot;dnn_4/hidden1/add&quot;\\n  op: &quot;Add&quot;\\n  input: &quot;dnn_4/hidden1/MatMul&quot;\\n  input: &quot;dnn_4/hidden1/bias/read&quot;\\n  attr {\\n    key: &quot;T&quot;\\n    value {\\n      type: DT_FLOAT\\n    }\\n  }\\n}\\nnode {\\n  name: &quot;dnn_4/hidden1/Relu&quot;\\n  op: &quot;Relu&quot;\\n  input: &quot;dnn_4/hidden1/add&quot;\\n  attr {\\n    key: &quot;T&quot;\\n    value {\\n      type: DT_FLOAT\\n    }\\n  }\\n}\\nnode {\\n  name: &quot;dnn_4/hidden2/truncated_normal/shape&quot;\\n  op: &quot;Const&quot;\\n  attr {\\n    key: &quot;dtype&quot;\\n    value {\\n      type: DT_INT32\\n    }\\n  }\\n  attr {\\n    key: &quot;value&quot;\\n    value {\\n      tensor {\\n        dtype: DT_INT32\\n        tensor_shape {\\n          dim {\\n            size: 2\\n          }\\n        }\\n        tensor_content: &quot;,\\\\001\\\\000\\\\000d\\\\000\\\\000\\\\000&quot;\\n      }\\n    }\\n  }\\n}\\nnode {\\n  name: &quot;dnn_4/hidden2/truncated_normal/mean&quot;\\n  op: &quot;Const&quot;\\n  attr {\\n    key: &quot;dtype&quot;\\n    value {\\n      type: DT_FLOAT\\n    }\\n  }\\n  attr {\\n    key: &quot;value&quot;\\n    value {\\n      tensor {\\n        dtype: DT_FLOAT\\n        tensor_shape {\\n        }\\n        float_val: 0.0\\n      }\\n    }\\n  }\\n}\\nnode {\\n  name: &quot;dnn_4/hidden2/truncated_normal/stddev&quot;\\n  op: &quot;Const&quot;\\n  attr {\\n    key: &quot;dtype&quot;\\n    value {\\n      type: DT_FLOAT\\n    }\\n  }\\n  attr {\\n    key: &quot;value&quot;\\n    value {\\n      tensor {\\n        dtype: DT_FLOAT\\n        tensor_shape {\\n        }\\n        float_val: 0.1154700517654419\\n      }\\n    }\\n  }\\n}\\nnode {\\n  name: &quot;dnn_4/hidden2/truncated_normal/TruncatedNormal&quot;\\n  op: &quot;TruncatedNormal&quot;\\n  input: &quot;dnn_4/hidden2/truncated_normal/shape&quot;\\n  attr {\\n    key: &quot;T&quot;\\n    value {\\n      type: DT_INT32\\n    }\\n  }\\n  attr {\\n    key: &quot;dtype&quot;\\n    value {\\n      type: DT_FLOAT\\n    }\\n  }\\n  attr {\\n    key: &quot;seed&quot;\\n    value {\\n      i: 42\\n    }\\n  }\\n  attr {\\n    key: &quot;seed2&quot;\\n    value {\\n      i: 131\\n    }\\n  }\\n}\\nnode {\\n  name: &quot;dnn_4/hidden2/truncated_normal/mul&quot;\\n  op: &quot;Mul&quot;\\n  input: &quot;dnn_4/hidden2/truncated_normal/TruncatedNormal&quot;\\n  input: &quot;dnn_4/hidden2/truncated_normal/stddev&quot;\\n  attr {\\n    key: &quot;T&quot;\\n    value {\\n      type: DT_FLOAT\\n    }\\n  }\\n}\\nnode {\\n  name: &quot;dnn_4/hidden2/truncated_normal&quot;\\n  op: &quot;Add&quot;\\n  input: &quot;dnn_4/hidden2/truncated_normal/mul&quot;\\n  input: &quot;dnn_4/hidden2/truncated_normal/mean&quot;\\n  attr {\\n    key: &quot;T&quot;\\n    value {\\n      type: DT_FLOAT\\n    }\\n  }\\n}\\nnode {\\n  name: &quot;dnn_4/hidden2/kernel&quot;\\n  op: &quot;VariableV2&quot;\\n  attr {\\n    key: &quot;container&quot;\\n    value {\\n      s: &quot;&quot;\\n    }\\n  }\\n  attr {\\n    key: &quot;dtype&quot;\\n    value {\\n      type: DT_FLOAT\\n    }\\n  }\\n  attr {\\n    key: &quot;shape&quot;\\n    value {\\n      shape {\\n        dim {\\n          size: 300\\n        }\\n        dim {\\n          size: 100\\n        }\\n      }\\n    }\\n  }\\n  attr {\\n    key: &quot;shared_name&quot;\\n    value {\\n      s: &quot;&quot;\\n    }\\n  }\\n}\\nnode {\\n  name: &quot;dnn_4/hidden2/kernel/Assign&quot;\\n  op: &quot;Assign&quot;\\n  input: &quot;dnn_4/hidden2/kernel&quot;\\n  input: &quot;dnn_4/hidden2/truncated_normal&quot;\\n  attr {\\n    key: &quot;T&quot;\\n    value {\\n      type: DT_FLOAT\\n    }\\n  }\\n  attr {\\n    key: &quot;_class&quot;\\n    value {\\n      list {\\n        s: &quot;loc:@dnn_4/hidden2/kernel&quot;\\n      }\\n    }\\n  }\\n  attr {\\n    key: &quot;use_locking&quot;\\n    value {\\n      b: true\\n    }\\n  }\\n  attr {\\n    key: &quot;validate_shape&quot;\\n    value {\\n      b: true\\n    }\\n  }\\n}\\nnode {\\n  name: &quot;dnn_4/hidden2/kernel/read&quot;\\n  op: &quot;Identity&quot;\\n  input: &quot;dnn_4/hidden2/kernel&quot;\\n  attr {\\n    key: &quot;T&quot;\\n    value {\\n      type: DT_FLOAT\\n    }\\n  }\\n  attr {\\n    key: &quot;_class&quot;\\n    value {\\n      list {\\n        s: &quot;loc:@dnn_4/hidden2/kernel&quot;\\n      }\\n    }\\n  }\\n}\\nnode {\\n  name: &quot;dnn_4/hidden2/zeros/shape_as_tensor&quot;\\n  op: &quot;Const&quot;\\n  attr {\\n    key: &quot;dtype&quot;\\n    value {\\n      type: DT_INT32\\n    }\\n  }\\n  attr {\\n    key: &quot;value&quot;\\n    value {\\n      tensor {\\n        dtype: DT_INT32\\n        tensor_shape {\\n          dim {\\n            size: 1\\n          }\\n        }\\n        int_val: 100\\n      }\\n    }\\n  }\\n}\\nnode {\\n  name: &quot;dnn_4/hidden2/zeros/Const&quot;\\n  op: &quot;Const&quot;\\n  attr {\\n    key: &quot;dtype&quot;\\n    value {\\n      type: DT_FLOAT\\n    }\\n  }\\n  attr {\\n    key: &quot;value&quot;\\n    value {\\n      tensor {\\n        dtype: DT_FLOAT\\n        tensor_shape {\\n        }\\n        float_val: 0.0\\n      }\\n    }\\n  }\\n}\\nnode {\\n  name: &quot;dnn_4/hidden2/zeros&quot;\\n  op: &quot;Fill&quot;\\n  input: &quot;dnn_4/hidden2/zeros/shape_as_tensor&quot;\\n  input: &quot;dnn_4/hidden2/zeros/Const&quot;\\n  attr {\\n    key: &quot;T&quot;\\n    value {\\n      type: DT_FLOAT\\n    }\\n  }\\n  attr {\\n    key: &quot;index_type&quot;\\n    value {\\n      type: DT_INT32\\n    }\\n  }\\n}\\nnode {\\n  name: &quot;dnn_4/hidden2/bias&quot;\\n  op: &quot;VariableV2&quot;\\n  attr {\\n    key: &quot;container&quot;\\n    value {\\n      s: &quot;&quot;\\n    }\\n  }\\n  attr {\\n    key: &quot;dtype&quot;\\n    value {\\n      type: DT_FLOAT\\n    }\\n  }\\n  attr {\\n    key: &quot;shape&quot;\\n    value {\\n      shape {\\n        dim {\\n          size: 100\\n        }\\n      }\\n    }\\n  }\\n  attr {\\n    key: &quot;shared_name&quot;\\n    value {\\n      s: &quot;&quot;\\n    }\\n  }\\n}\\nnode {\\n  name: &quot;dnn_4/hidden2/bias/Assign&quot;\\n  op: &quot;Assign&quot;\\n  input: &quot;dnn_4/hidden2/bias&quot;\\n  input: &quot;dnn_4/hidden2/zeros&quot;\\n  attr {\\n    key: &quot;T&quot;\\n    value {\\n      type: DT_FLOAT\\n    }\\n  }\\n  attr {\\n    key: &quot;_class&quot;\\n    value {\\n      list {\\n        s: &quot;loc:@dnn_4/hidden2/bias&quot;\\n      }\\n    }\\n  }\\n  attr {\\n    key: &quot;use_locking&quot;\\n    value {\\n      b: true\\n    }\\n  }\\n  attr {\\n    key: &quot;validate_shape&quot;\\n    value {\\n      b: true\\n    }\\n  }\\n}\\nnode {\\n  name: &quot;dnn_4/hidden2/bias/read&quot;\\n  op: &quot;Identity&quot;\\n  input: &quot;dnn_4/hidden2/bias&quot;\\n  attr {\\n    key: &quot;T&quot;\\n    value {\\n      type: DT_FLOAT\\n    }\\n  }\\n  attr {\\n    key: &quot;_class&quot;\\n    value {\\n      list {\\n        s: &quot;loc:@dnn_4/hidden2/bias&quot;\\n      }\\n    }\\n  }\\n}\\nnode {\\n  name: &quot;dnn_4/hidden2/MatMul&quot;\\n  op: &quot;MatMul&quot;\\n  input: &quot;dnn_4/hidden1/Relu&quot;\\n  input: &quot;dnn_4/hidden2/kernel/read&quot;\\n  attr {\\n    key: &quot;T&quot;\\n    value {\\n      type: DT_FLOAT\\n    }\\n  }\\n  attr {\\n    key: &quot;transpose_a&quot;\\n    value {\\n      b: false\\n    }\\n  }\\n  attr {\\n    key: &quot;transpose_b&quot;\\n    value {\\n      b: false\\n    }\\n  }\\n}\\nnode {\\n  name: &quot;dnn_4/hidden2/add&quot;\\n  op: &quot;Add&quot;\\n  input: &quot;dnn_4/hidden2/MatMul&quot;\\n  input: &quot;dnn_4/hidden2/bias/read&quot;\\n  attr {\\n    key: &quot;T&quot;\\n    value {\\n      type: DT_FLOAT\\n    }\\n  }\\n}\\nnode {\\n  name: &quot;dnn_4/hidden2/Relu&quot;\\n  op: &quot;Relu&quot;\\n  input: &quot;dnn_4/hidden2/add&quot;\\n  attr {\\n    key: &quot;T&quot;\\n    value {\\n      type: DT_FLOAT\\n    }\\n  }\\n}\\nnode {\\n  name: &quot;dnn_4/output/truncated_normal/shape&quot;\\n  op: &quot;Const&quot;\\n  attr {\\n    key: &quot;dtype&quot;\\n    value {\\n      type: DT_INT32\\n    }\\n  }\\n  attr {\\n    key: &quot;value&quot;\\n    value {\\n      tensor {\\n        dtype: DT_INT32\\n        tensor_shape {\\n          dim {\\n            size: 2\\n          }\\n        }\\n        tensor_content: &quot;d\\\\000\\\\000\\\\000\\\\n\\\\000\\\\000\\\\000&quot;\\n      }\\n    }\\n  }\\n}\\nnode {\\n  name: &quot;dnn_4/output/truncated_normal/mean&quot;\\n  op: &quot;Const&quot;\\n  attr {\\n    key: &quot;dtype&quot;\\n    value {\\n      type: DT_FLOAT\\n    }\\n  }\\n  attr {\\n    key: &quot;value&quot;\\n    value {\\n      tensor {\\n        dtype: DT_FLOAT\\n        tensor_shape {\\n        }\\n        float_val: 0.0\\n      }\\n    }\\n  }\\n}\\nnode {\\n  name: &quot;dnn_4/output/truncated_normal/stddev&quot;\\n  op: &quot;Const&quot;\\n  attr {\\n    key: &quot;dtype&quot;\\n    value {\\n      type: DT_FLOAT\\n    }\\n  }\\n  attr {\\n    key: &quot;value&quot;\\n    value {\\n      tensor {\\n        dtype: DT_FLOAT\\n        tensor_shape {\\n        }\\n        float_val: 0.20000000298023224\\n      }\\n    }\\n  }\\n}\\nnode {\\n  name: &quot;dnn_4/output/truncated_normal/TruncatedNormal&quot;\\n  op: &quot;TruncatedNormal&quot;\\n  input: &quot;dnn_4/output/truncated_normal/shape&quot;\\n  attr {\\n    key: &quot;T&quot;\\n    value {\\n      type: DT_INT32\\n    }\\n  }\\n  attr {\\n    key: &quot;dtype&quot;\\n    value {\\n      type: DT_FLOAT\\n    }\\n  }\\n  attr {\\n    key: &quot;seed&quot;\\n    value {\\n      i: 42\\n    }\\n  }\\n  attr {\\n    key: &quot;seed2&quot;\\n    value {\\n      i: 149\\n    }\\n  }\\n}\\nnode {\\n  name: &quot;dnn_4/output/truncated_normal/mul&quot;\\n  op: &quot;Mul&quot;\\n  input: &quot;dnn_4/output/truncated_normal/TruncatedNormal&quot;\\n  input: &quot;dnn_4/output/truncated_normal/stddev&quot;\\n  attr {\\n    key: &quot;T&quot;\\n    value {\\n      type: DT_FLOAT\\n    }\\n  }\\n}\\nnode {\\n  name: &quot;dnn_4/output/truncated_normal&quot;\\n  op: &quot;Add&quot;\\n  input: &quot;dnn_4/output/truncated_normal/mul&quot;\\n  input: &quot;dnn_4/output/truncated_normal/mean&quot;\\n  attr {\\n    key: &quot;T&quot;\\n    value {\\n      type: DT_FLOAT\\n    }\\n  }\\n}\\nnode {\\n  name: &quot;dnn_4/output/kernel&quot;\\n  op: &quot;VariableV2&quot;\\n  attr {\\n    key: &quot;container&quot;\\n    value {\\n      s: &quot;&quot;\\n    }\\n  }\\n  attr {\\n    key: &quot;dtype&quot;\\n    value {\\n      type: DT_FLOAT\\n    }\\n  }\\n  attr {\\n    key: &quot;shape&quot;\\n    value {\\n      shape {\\n        dim {\\n          size: 100\\n        }\\n        dim {\\n          size: 10\\n        }\\n      }\\n    }\\n  }\\n  attr {\\n    key: &quot;shared_name&quot;\\n    value {\\n      s: &quot;&quot;\\n    }\\n  }\\n}\\nnode {\\n  name: &quot;dnn_4/output/kernel/Assign&quot;\\n  op: &quot;Assign&quot;\\n  input: &quot;dnn_4/output/kernel&quot;\\n  input: &quot;dnn_4/output/truncated_normal&quot;\\n  attr {\\n    key: &quot;T&quot;\\n    value {\\n      type: DT_FLOAT\\n    }\\n  }\\n  attr {\\n    key: &quot;_class&quot;\\n    value {\\n      list {\\n        s: &quot;loc:@dnn_4/output/kernel&quot;\\n      }\\n    }\\n  }\\n  attr {\\n    key: &quot;use_locking&quot;\\n    value {\\n      b: true\\n    }\\n  }\\n  attr {\\n    key: &quot;validate_shape&quot;\\n    value {\\n      b: true\\n    }\\n  }\\n}\\nnode {\\n  name: &quot;dnn_4/output/kernel/read&quot;\\n  op: &quot;Identity&quot;\\n  input: &quot;dnn_4/output/kernel&quot;\\n  attr {\\n    key: &quot;T&quot;\\n    value {\\n      type: DT_FLOAT\\n    }\\n  }\\n  attr {\\n    key: &quot;_class&quot;\\n    value {\\n      list {\\n        s: &quot;loc:@dnn_4/output/kernel&quot;\\n      }\\n    }\\n  }\\n}\\nnode {\\n  name: &quot;dnn_4/output/zeros/shape_as_tensor&quot;\\n  op: &quot;Const&quot;\\n  attr {\\n    key: &quot;dtype&quot;\\n    value {\\n      type: DT_INT32\\n    }\\n  }\\n  attr {\\n    key: &quot;value&quot;\\n    value {\\n      tensor {\\n        dtype: DT_INT32\\n        tensor_shape {\\n          dim {\\n            size: 1\\n          }\\n        }\\n        int_val: 10\\n      }\\n    }\\n  }\\n}\\nnode {\\n  name: &quot;dnn_4/output/zeros/Const&quot;\\n  op: &quot;Const&quot;\\n  attr {\\n    key: &quot;dtype&quot;\\n    value {\\n      type: DT_FLOAT\\n    }\\n  }\\n  attr {\\n    key: &quot;value&quot;\\n    value {\\n      tensor {\\n        dtype: DT_FLOAT\\n        tensor_shape {\\n        }\\n        float_val: 0.0\\n      }\\n    }\\n  }\\n}\\nnode {\\n  name: &quot;dnn_4/output/zeros&quot;\\n  op: &quot;Fill&quot;\\n  input: &quot;dnn_4/output/zeros/shape_as_tensor&quot;\\n  input: &quot;dnn_4/output/zeros/Const&quot;\\n  attr {\\n    key: &quot;T&quot;\\n    value {\\n      type: DT_FLOAT\\n    }\\n  }\\n  attr {\\n    key: &quot;index_type&quot;\\n    value {\\n      type: DT_INT32\\n    }\\n  }\\n}\\nnode {\\n  name: &quot;dnn_4/output/bias&quot;\\n  op: &quot;VariableV2&quot;\\n  attr {\\n    key: &quot;container&quot;\\n    value {\\n      s: &quot;&quot;\\n    }\\n  }\\n  attr {\\n    key: &quot;dtype&quot;\\n    value {\\n      type: DT_FLOAT\\n    }\\n  }\\n  attr {\\n    key: &quot;shape&quot;\\n    value {\\n      shape {\\n        dim {\\n          size: 10\\n        }\\n      }\\n    }\\n  }\\n  attr {\\n    key: &quot;shared_name&quot;\\n    value {\\n      s: &quot;&quot;\\n    }\\n  }\\n}\\nnode {\\n  name: &quot;dnn_4/output/bias/Assign&quot;\\n  op: &quot;Assign&quot;\\n  input: &quot;dnn_4/output/bias&quot;\\n  input: &quot;dnn_4/output/zeros&quot;\\n  attr {\\n    key: &quot;T&quot;\\n    value {\\n      type: DT_FLOAT\\n    }\\n  }\\n  attr {\\n    key: &quot;_class&quot;\\n    value {\\n      list {\\n        s: &quot;loc:@dnn_4/output/bias&quot;\\n      }\\n    }\\n  }\\n  attr {\\n    key: &quot;use_locking&quot;\\n    value {\\n      b: true\\n    }\\n  }\\n  attr {\\n    key: &quot;validate_shape&quot;\\n    value {\\n      b: true\\n    }\\n  }\\n}\\nnode {\\n  name: &quot;dnn_4/output/bias/read&quot;\\n  op: &quot;Identity&quot;\\n  input: &quot;dnn_4/output/bias&quot;\\n  attr {\\n    key: &quot;T&quot;\\n    value {\\n      type: DT_FLOAT\\n    }\\n  }\\n  attr {\\n    key: &quot;_class&quot;\\n    value {\\n      list {\\n        s: &quot;loc:@dnn_4/output/bias&quot;\\n      }\\n    }\\n  }\\n}\\nnode {\\n  name: &quot;dnn_4/output/MatMul&quot;\\n  op: &quot;MatMul&quot;\\n  input: &quot;dnn_4/hidden2/Relu&quot;\\n  input: &quot;dnn_4/output/kernel/read&quot;\\n  attr {\\n    key: &quot;T&quot;\\n    value {\\n      type: DT_FLOAT\\n    }\\n  }\\n  attr {\\n    key: &quot;transpose_a&quot;\\n    value {\\n      b: false\\n    }\\n  }\\n  attr {\\n    key: &quot;transpose_b&quot;\\n    value {\\n      b: false\\n    }\\n  }\\n}\\nnode {\\n  name: &quot;dnn_4/output/add&quot;\\n  op: &quot;Add&quot;\\n  input: &quot;dnn_4/output/MatMul&quot;\\n  input: &quot;dnn_4/output/bias/read&quot;\\n  attr {\\n    key: &quot;T&quot;\\n    value {\\n      type: DT_FLOAT\\n    }\\n  }\\n}\\nnode {\\n  name: &quot;loss/SparseSoftmaxCrossEntropyWithLogits/Shape&quot;\\n  op: &quot;Shape&quot;\\n  input: &quot;y&quot;\\n  attr {\\n    key: &quot;T&quot;\\n    value {\\n      type: DT_INT32\\n    }\\n  }\\n  attr {\\n    key: &quot;out_type&quot;\\n    value {\\n      type: DT_INT32\\n    }\\n  }\\n}\\nnode {\\n  name: &quot;loss/SparseSoftmaxCrossEntropyWithLogits/SparseSoftmaxCrossEntropyWithLogits&quot;\\n  op: &quot;SparseSoftmaxCrossEntropyWithLogits&quot;\\n  input: &quot;dnn_4/output/add&quot;\\n  input: &quot;y&quot;\\n  attr {\\n    key: &quot;T&quot;\\n    value {\\n      type: DT_FLOAT\\n    }\\n  }\\n  attr {\\n    key: &quot;Tlabels&quot;\\n    value {\\n      type: DT_INT32\\n    }\\n  }\\n}\\nnode {\\n  name: &quot;loss/Const&quot;\\n  op: &quot;Const&quot;\\n  attr {\\n    key: &quot;dtype&quot;\\n    value {\\n      type: DT_INT32\\n    }\\n  }\\n  attr {\\n    key: &quot;value&quot;\\n    value {\\n      tensor {\\n        dtype: DT_INT32\\n        tensor_shape {\\n          dim {\\n            size: 1\\n          }\\n        }\\n        int_val: 0\\n      }\\n    }\\n  }\\n}\\nnode {\\n  name: &quot;loss/loss&quot;\\n  op: &quot;Mean&quot;\\n  input: &quot;loss/SparseSoftmaxCrossEntropyWithLogits/SparseSoftmaxCrossEntropyWithLogits&quot;\\n  input: &quot;loss/Const&quot;\\n  attr {\\n    key: &quot;T&quot;\\n    value {\\n      type: DT_FLOAT\\n    }\\n  }\\n  attr {\\n    key: &quot;Tidx&quot;\\n    value {\\n      type: DT_INT32\\n    }\\n  }\\n  attr {\\n    key: &quot;keep_dims&quot;\\n    value {\\n      b: false\\n    }\\n  }\\n}\\nnode {\\n  name: &quot;train/gradients/Shape&quot;\\n  op: &quot;Const&quot;\\n  attr {\\n    key: &quot;dtype&quot;\\n    value {\\n      type: DT_INT32\\n    }\\n  }\\n  attr {\\n    key: &quot;value&quot;\\n    value {\\n      tensor {\\n        dtype: DT_INT32\\n        tensor_shape {\\n          dim {\\n          }\\n        }\\n      }\\n    }\\n  }\\n}\\nnode {\\n  name: &quot;train/gradients/grad_ys_0&quot;\\n  op: &quot;Const&quot;\\n  attr {\\n    key: &quot;dtype&quot;\\n    value {\\n      type: DT_FLOAT\\n    }\\n  }\\n  attr {\\n    key: &quot;value&quot;\\n    value {\\n      tensor {\\n        dtype: DT_FLOAT\\n        tensor_shape {\\n        }\\n        float_val: 1.0\\n      }\\n    }\\n  }\\n}\\nnode {\\n  name: &quot;train/gradients/Fill&quot;\\n  op: &quot;Fill&quot;\\n  input: &quot;train/gradients/Shape&quot;\\n  input: &quot;train/gradients/grad_ys_0&quot;\\n  attr {\\n    key: &quot;T&quot;\\n    value {\\n      type: DT_FLOAT\\n    }\\n  }\\n  attr {\\n    key: &quot;index_type&quot;\\n    value {\\n      type: DT_INT32\\n    }\\n  }\\n}\\nnode {\\n  name: &quot;train/gradients/loss/loss_grad/Reshape/shape&quot;\\n  op: &quot;Const&quot;\\n  attr {\\n    key: &quot;dtype&quot;\\n    value {\\n      type: DT_INT32\\n    }\\n  }\\n  attr {\\n    key: &quot;value&quot;\\n    value {\\n      tensor {\\n        dtype: DT_INT32\\n        tensor_shape {\\n          dim {\\n            size: 1\\n          }\\n        }\\n        int_val: 1\\n      }\\n    }\\n  }\\n}\\nnode {\\n  name: &quot;train/gradients/loss/loss_grad/Reshape&quot;\\n  op: &quot;Reshape&quot;\\n  input: &quot;train/gradients/Fill&quot;\\n  input: &quot;train/gradients/loss/loss_grad/Reshape/shape&quot;\\n  attr {\\n    key: &quot;T&quot;\\n    value {\\n      type: DT_FLOAT\\n    }\\n  }\\n  attr {\\n    key: &quot;Tshape&quot;\\n    value {\\n      type: DT_INT32\\n    }\\n  }\\n}\\nnode {\\n  name: &quot;train/gradients/loss/loss_grad/Shape&quot;\\n  op: &quot;Shape&quot;\\n  input: &quot;loss/SparseSoftmaxCrossEntropyWithLogits/SparseSoftmaxCrossEntropyWithLogits&quot;\\n  attr {\\n    key: &quot;T&quot;\\n    value {\\n      type: DT_FLOAT\\n    }\\n  }\\n  attr {\\n    key: &quot;out_type&quot;\\n    value {\\n      type: DT_INT32\\n    }\\n  }\\n}\\nnode {\\n  name: &quot;train/gradients/loss/loss_grad/Tile&quot;\\n  op: &quot;Tile&quot;\\n  input: &quot;train/gradients/loss/loss_grad/Reshape&quot;\\n  input: &quot;train/gradients/loss/loss_grad/Shape&quot;\\n  attr {\\n    key: &quot;T&quot;\\n    value {\\n      type: DT_FLOAT\\n    }\\n  }\\n  attr {\\n    key: &quot;Tmultiples&quot;\\n    value {\\n      type: DT_INT32\\n    }\\n  }\\n}\\nnode {\\n  name: &quot;train/gradients/loss/loss_grad/Shape_1&quot;\\n  op: &quot;Shape&quot;\\n  input: &quot;loss/SparseSoftmaxCrossEntropyWithLogits/SparseSoftmaxCrossEntropyWithLogits&quot;\\n  attr {\\n    key: &quot;T&quot;\\n    value {\\n      type: DT_FLOAT\\n    }\\n  }\\n  attr {\\n    key: &quot;out_type&quot;\\n    value {\\n      type: DT_INT32\\n    }\\n  }\\n}\\nnode {\\n  name: &quot;train/gradients/loss/loss_grad/Shape_2&quot;\\n  op: &quot;Const&quot;\\n  attr {\\n    key: &quot;dtype&quot;\\n    value {\\n      type: DT_INT32\\n    }\\n  }\\n  attr {\\n    key: &quot;value&quot;\\n    value {\\n      tensor {\\n        dtype: DT_INT32\\n        tensor_shape {\\n          dim {\\n          }\\n        }\\n      }\\n    }\\n  }\\n}\\nnode {\\n  name: &quot;train/gradients/loss/loss_grad/Const&quot;\\n  op: &quot;Const&quot;\\n  attr {\\n    key: &quot;dtype&quot;\\n    value {\\n      type: DT_INT32\\n    }\\n  }\\n  attr {\\n    key: &quot;value&quot;\\n    value {\\n      tensor {\\n        dtype: DT_INT32\\n        tensor_shape {\\n          dim {\\n            size: 1\\n          }\\n        }\\n        int_val: 0\\n      }\\n    }\\n  }\\n}\\nnode {\\n  name: &quot;train/gradients/loss/loss_grad/Prod&quot;\\n  op: &quot;Prod&quot;\\n  input: &quot;train/gradients/loss/loss_grad/Shape_1&quot;\\n  input: &quot;train/gradients/loss/loss_grad/Const&quot;\\n  attr {\\n    key: &quot;T&quot;\\n    value {\\n      type: DT_INT32\\n    }\\n  }\\n  attr {\\n    key: &quot;Tidx&quot;\\n    value {\\n      type: DT_INT32\\n    }\\n  }\\n  attr {\\n    key: &quot;keep_dims&quot;\\n    value {\\n      b: false\\n    }\\n  }\\n}\\nnode {\\n  name: &quot;train/gradients/loss/loss_grad/Const_1&quot;\\n  op: &quot;Const&quot;\\n  attr {\\n    key: &quot;dtype&quot;\\n    value {\\n      type: DT_INT32\\n    }\\n  }\\n  attr {\\n    key: &quot;value&quot;\\n    value {\\n      tensor {\\n        dtype: DT_INT32\\n        tensor_shape {\\n          dim {\\n            size: 1\\n          }\\n        }\\n        int_val: 0\\n      }\\n    }\\n  }\\n}\\nnode {\\n  name: &quot;train/gradients/loss/loss_grad/Prod_1&quot;\\n  op: &quot;Prod&quot;\\n  input: &quot;train/gradients/loss/loss_grad/Shape_2&quot;\\n  input: &quot;train/gradients/loss/loss_grad/Const_1&quot;\\n  attr {\\n    key: &quot;T&quot;\\n    value {\\n      type: DT_INT32\\n    }\\n  }\\n  attr {\\n    key: &quot;Tidx&quot;\\n    value {\\n      type: DT_INT32\\n    }\\n  }\\n  attr {\\n    key: &quot;keep_dims&quot;\\n    value {\\n      b: false\\n    }\\n  }\\n}\\nnode {\\n  name: &quot;train/gradients/loss/loss_grad/Maximum/y&quot;\\n  op: &quot;Const&quot;\\n  attr {\\n    key: &quot;dtype&quot;\\n    value {\\n      type: DT_INT32\\n    }\\n  }\\n  attr {\\n    key: &quot;value&quot;\\n    value {\\n      tensor {\\n        dtype: DT_INT32\\n        tensor_shape {\\n        }\\n        int_val: 1\\n      }\\n    }\\n  }\\n}\\nnode {\\n  name: &quot;train/gradients/loss/loss_grad/Maximum&quot;\\n  op: &quot;Maximum&quot;\\n  input: &quot;train/gradients/loss/loss_grad/Prod_1&quot;\\n  input: &quot;train/gradients/loss/loss_grad/Maximum/y&quot;\\n  attr {\\n    key: &quot;T&quot;\\n    value {\\n      type: DT_INT32\\n    }\\n  }\\n}\\nnode {\\n  name: &quot;train/gradients/loss/loss_grad/floordiv&quot;\\n  op: &quot;FloorDiv&quot;\\n  input: &quot;train/gradients/loss/loss_grad/Prod&quot;\\n  input: &quot;train/gradients/loss/loss_grad/Maximum&quot;\\n  attr {\\n    key: &quot;T&quot;\\n    value {\\n      type: DT_INT32\\n    }\\n  }\\n}\\nnode {\\n  name: &quot;train/gradients/loss/loss_grad/Cast&quot;\\n  op: &quot;Cast&quot;\\n  input: &quot;train/gradients/loss/loss_grad/floordiv&quot;\\n  attr {\\n    key: &quot;DstT&quot;\\n    value {\\n      type: DT_FLOAT\\n    }\\n  }\\n  attr {\\n    key: &quot;SrcT&quot;\\n    value {\\n      type: DT_INT32\\n    }\\n  }\\n}\\nnode {\\n  name: &quot;train/gradients/loss/loss_grad/truediv&quot;\\n  op: &quot;RealDiv&quot;\\n  input: &quot;train/gradients/loss/loss_grad/Tile&quot;\\n  input: &quot;train/gradients/loss/loss_grad/Cast&quot;\\n  attr {\\n    key: &quot;T&quot;\\n    value {\\n      type: DT_FLOAT\\n    }\\n  }\\n}\\nnode {\\n  name: &quot;train/gradients/zeros_like&quot;\\n  op: &quot;ZerosLike&quot;\\n  input: &quot;loss/SparseSoftmaxCrossEntropyWithLogits/SparseSoftmaxCrossEntropyWithLogits:1&quot;\\n  attr {\\n    key: &quot;T&quot;\\n    value {\\n      type: DT_FLOAT\\n    }\\n  }\\n}\\nnode {\\n  name: &quot;train/gradients/loss/SparseSoftmaxCrossEntropyWithLogits/SparseSoftmaxCrossEntropyWithLogits_grad/PreventGradient&quot;\\n  op: &quot;PreventGradient&quot;\\n  input: &quot;loss/SparseSoftmaxCrossEntropyWithLogits/SparseSoftmaxCrossEntropyWithLogits:1&quot;\\n  attr {\\n    key: &quot;T&quot;\\n    value {\\n      type: DT_FLOAT\\n    }\\n  }\\n  attr {\\n    key: &quot;message&quot;\\n    value {\\n      s: &quot;Currently there is no way to take the second derivative of sparse_softmax_cross_entropy_with_logits due to the fused implementation\\\\\\'s interaction with tf.gradients()&quot;\\n    }\\n  }\\n}\\nnode {\\n  name: &quot;train/gradients/loss/SparseSoftmaxCrossEntropyWithLogits/SparseSoftmaxCrossEntropyWithLogits_grad/ExpandDims/dim&quot;\\n  op: &quot;Const&quot;\\n  attr {\\n    key: &quot;dtype&quot;\\n    value {\\n      type: DT_INT32\\n    }\\n  }\\n  attr {\\n    key: &quot;value&quot;\\n    value {\\n      tensor {\\n        dtype: DT_INT32\\n        tensor_shape {\\n        }\\n        int_val: -1\\n      }\\n    }\\n  }\\n}\\nnode {\\n  name: &quot;train/gradients/loss/SparseSoftmaxCrossEntropyWithLogits/SparseSoftmaxCrossEntropyWithLogits_grad/ExpandDims&quot;\\n  op: &quot;ExpandDims&quot;\\n  input: &quot;train/gradients/loss/loss_grad/truediv&quot;\\n  input: &quot;train/gradients/loss/SparseSoftmaxCrossEntropyWithLogits/SparseSoftmaxCrossEntropyWithLogits_grad/ExpandDims/dim&quot;\\n  attr {\\n    key: &quot;T&quot;\\n    value {\\n      type: DT_FLOAT\\n    }\\n  }\\n  attr {\\n    key: &quot;Tdim&quot;\\n    value {\\n      type: DT_INT32\\n    }\\n  }\\n}\\nnode {\\n  name: &quot;train/gradients/loss/SparseSoftmaxCrossEntropyWithLogits/SparseSoftmaxCrossEntropyWithLogits_grad/mul&quot;\\n  op: &quot;Mul&quot;\\n  input: &quot;train/gradients/loss/SparseSoftmaxCrossEntropyWithLogits/SparseSoftmaxCrossEntropyWithLogits_grad/ExpandDims&quot;\\n  input: &quot;train/gradients/loss/SparseSoftmaxCrossEntropyWithLogits/SparseSoftmaxCrossEntropyWithLogits_grad/PreventGradient&quot;\\n  attr {\\n    key: &quot;T&quot;\\n    value {\\n      type: DT_FLOAT\\n    }\\n  }\\n}\\nnode {\\n  name: &quot;train/gradients/dnn_4/output/add_grad/Shape&quot;\\n  op: &quot;Shape&quot;\\n  input: &quot;dnn_4/output/MatMul&quot;\\n  attr {\\n    key: &quot;T&quot;\\n    value {\\n      type: DT_FLOAT\\n    }\\n  }\\n  attr {\\n    key: &quot;out_type&quot;\\n    value {\\n      type: DT_INT32\\n    }\\n  }\\n}\\nnode {\\n  name: &quot;train/gradients/dnn_4/output/add_grad/Shape_1&quot;\\n  op: &quot;Const&quot;\\n  attr {\\n    key: &quot;dtype&quot;\\n    value {\\n      type: DT_INT32\\n    }\\n  }\\n  attr {\\n    key: &quot;value&quot;\\n    value {\\n      tensor {\\n        dtype: DT_INT32\\n        tensor_shape {\\n          dim {\\n            size: 1\\n          }\\n        }\\n        int_val: 10\\n      }\\n    }\\n  }\\n}\\nnode {\\n  name: &quot;train/gradients/dnn_4/output/add_grad/BroadcastGradientArgs&quot;\\n  op: &quot;BroadcastGradientArgs&quot;\\n  input: &quot;train/gradients/dnn_4/output/add_grad/Shape&quot;\\n  input: &quot;train/gradients/dnn_4/output/add_grad/Shape_1&quot;\\n  attr {\\n    key: &quot;T&quot;\\n    value {\\n      type: DT_INT32\\n    }\\n  }\\n}\\nnode {\\n  name: &quot;train/gradients/dnn_4/output/add_grad/Sum&quot;\\n  op: &quot;Sum&quot;\\n  input: &quot;train/gradients/loss/SparseSoftmaxCrossEntropyWithLogits/SparseSoftmaxCrossEntropyWithLogits_grad/mul&quot;\\n  input: &quot;train/gradients/dnn_4/output/add_grad/BroadcastGradientArgs&quot;\\n  attr {\\n    key: &quot;T&quot;\\n    value {\\n      type: DT_FLOAT\\n    }\\n  }\\n  attr {\\n    key: &quot;Tidx&quot;\\n    value {\\n      type: DT_INT32\\n    }\\n  }\\n  attr {\\n    key: &quot;keep_dims&quot;\\n    value {\\n      b: false\\n    }\\n  }\\n}\\nnode {\\n  name: &quot;train/gradients/dnn_4/output/add_grad/Reshape&quot;\\n  op: &quot;Reshape&quot;\\n  input: &quot;train/gradients/dnn_4/output/add_grad/Sum&quot;\\n  input: &quot;train/gradients/dnn_4/output/add_grad/Shape&quot;\\n  attr {\\n    key: &quot;T&quot;\\n    value {\\n      type: DT_FLOAT\\n    }\\n  }\\n  attr {\\n    key: &quot;Tshape&quot;\\n    value {\\n      type: DT_INT32\\n    }\\n  }\\n}\\nnode {\\n  name: &quot;train/gradients/dnn_4/output/add_grad/Sum_1&quot;\\n  op: &quot;Sum&quot;\\n  input: &quot;train/gradients/loss/SparseSoftmaxCrossEntropyWithLogits/SparseSoftmaxCrossEntropyWithLogits_grad/mul&quot;\\n  input: &quot;train/gradients/dnn_4/output/add_grad/BroadcastGradientArgs:1&quot;\\n  attr {\\n    key: &quot;T&quot;\\n    value {\\n      type: DT_FLOAT\\n    }\\n  }\\n  attr {\\n    key: &quot;Tidx&quot;\\n    value {\\n      type: DT_INT32\\n    }\\n  }\\n  attr {\\n    key: &quot;keep_dims&quot;\\n    value {\\n      b: false\\n    }\\n  }\\n}\\nnode {\\n  name: &quot;train/gradients/dnn_4/output/add_grad/Reshape_1&quot;\\n  op: &quot;Reshape&quot;\\n  input: &quot;train/gradients/dnn_4/output/add_grad/Sum_1&quot;\\n  input: &quot;train/gradients/dnn_4/output/add_grad/Shape_1&quot;\\n  attr {\\n    key: &quot;T&quot;\\n    value {\\n      type: DT_FLOAT\\n    }\\n  }\\n  attr {\\n    key: &quot;Tshape&quot;\\n    value {\\n      type: DT_INT32\\n    }\\n  }\\n}\\nnode {\\n  name: &quot;train/gradients/dnn_4/output/add_grad/tuple/group_deps&quot;\\n  op: &quot;NoOp&quot;\\n  input: &quot;^train/gradients/dnn_4/output/add_grad/Reshape&quot;\\n  input: &quot;^train/gradients/dnn_4/output/add_grad/Reshape_1&quot;\\n}\\nnode {\\n  name: &quot;train/gradients/dnn_4/output/add_grad/tuple/control_dependency&quot;\\n  op: &quot;Identity&quot;\\n  input: &quot;train/gradients/dnn_4/output/add_grad/Reshape&quot;\\n  input: &quot;^train/gradients/dnn_4/output/add_grad/tuple/group_deps&quot;\\n  attr {\\n    key: &quot;T&quot;\\n    value {\\n      type: DT_FLOAT\\n    }\\n  }\\n  attr {\\n    key: &quot;_class&quot;\\n    value {\\n      list {\\n        s: &quot;loc:@train/gradients/dnn_4/output/add_grad/Reshape&quot;\\n      }\\n    }\\n  }\\n}\\nnode {\\n  name: &quot;train/gradients/dnn_4/output/add_grad/tuple/control_dependency_1&quot;\\n  op: &quot;Identity&quot;\\n  input: &quot;train/gradients/dnn_4/output/add_grad/Reshape_1&quot;\\n  input: &quot;^train/gradients/dnn_4/output/add_grad/tuple/group_deps&quot;\\n  attr {\\n    key: &quot;T&quot;\\n    value {\\n      type: DT_FLOAT\\n    }\\n  }\\n  attr {\\n    key: &quot;_class&quot;\\n    value {\\n      list {\\n        s: &quot;loc:@train/gradients/dnn_4/output/add_grad/Reshape_1&quot;\\n      }\\n    }\\n  }\\n}\\nnode {\\n  name: &quot;train/gradients/dnn_4/output/MatMul_grad/MatMul&quot;\\n  op: &quot;MatMul&quot;\\n  input: &quot;train/gradients/dnn_4/output/add_grad/tuple/control_dependency&quot;\\n  input: &quot;dnn_4/output/kernel/read&quot;\\n  attr {\\n    key: &quot;T&quot;\\n    value {\\n      type: DT_FLOAT\\n    }\\n  }\\n  attr {\\n    key: &quot;transpose_a&quot;\\n    value {\\n      b: false\\n    }\\n  }\\n  attr {\\n    key: &quot;transpose_b&quot;\\n    value {\\n      b: true\\n    }\\n  }\\n}\\nnode {\\n  name: &quot;train/gradients/dnn_4/output/MatMul_grad/MatMul_1&quot;\\n  op: &quot;MatMul&quot;\\n  input: &quot;dnn_4/hidden2/Relu&quot;\\n  input: &quot;train/gradients/dnn_4/output/add_grad/tuple/control_dependency&quot;\\n  attr {\\n    key: &quot;T&quot;\\n    value {\\n      type: DT_FLOAT\\n    }\\n  }\\n  attr {\\n    key: &quot;transpose_a&quot;\\n    value {\\n      b: true\\n    }\\n  }\\n  attr {\\n    key: &quot;transpose_b&quot;\\n    value {\\n      b: false\\n    }\\n  }\\n}\\nnode {\\n  name: &quot;train/gradients/dnn_4/output/MatMul_grad/tuple/group_deps&quot;\\n  op: &quot;NoOp&quot;\\n  input: &quot;^train/gradients/dnn_4/output/MatMul_grad/MatMul&quot;\\n  input: &quot;^train/gradients/dnn_4/output/MatMul_grad/MatMul_1&quot;\\n}\\nnode {\\n  name: &quot;train/gradients/dnn_4/output/MatMul_grad/tuple/control_dependency&quot;\\n  op: &quot;Identity&quot;\\n  input: &quot;train/gradients/dnn_4/output/MatMul_grad/MatMul&quot;\\n  input: &quot;^train/gradients/dnn_4/output/MatMul_grad/tuple/group_deps&quot;\\n  attr {\\n    key: &quot;T&quot;\\n    value {\\n      type: DT_FLOAT\\n    }\\n  }\\n  attr {\\n    key: &quot;_class&quot;\\n    value {\\n      list {\\n        s: &quot;loc:@train/gradients/dnn_4/output/MatMul_grad/MatMul&quot;\\n      }\\n    }\\n  }\\n}\\nnode {\\n  name: &quot;train/gradients/dnn_4/output/MatMul_grad/tuple/control_dependency_1&quot;\\n  op: &quot;Identity&quot;\\n  input: &quot;train/gradients/dnn_4/output/MatMul_grad/MatMul_1&quot;\\n  input: &quot;^train/gradients/dnn_4/output/MatMul_grad/tuple/group_deps&quot;\\n  attr {\\n    key: &quot;T&quot;\\n    value {\\n      type: DT_FLOAT\\n    }\\n  }\\n  attr {\\n    key: &quot;_class&quot;\\n    value {\\n      list {\\n        s: &quot;loc:@train/gradients/dnn_4/output/MatMul_grad/MatMul_1&quot;\\n      }\\n    }\\n  }\\n}\\nnode {\\n  name: &quot;train/gradients/dnn_4/hidden2/Relu_grad/ReluGrad&quot;\\n  op: &quot;ReluGrad&quot;\\n  input: &quot;train/gradients/dnn_4/output/MatMul_grad/tuple/control_dependency&quot;\\n  input: &quot;dnn_4/hidden2/Relu&quot;\\n  attr {\\n    key: &quot;T&quot;\\n    value {\\n      type: DT_FLOAT\\n    }\\n  }\\n}\\nnode {\\n  name: &quot;train/gradients/dnn_4/hidden2/add_grad/Shape&quot;\\n  op: &quot;Shape&quot;\\n  input: &quot;dnn_4/hidden2/MatMul&quot;\\n  attr {\\n    key: &quot;T&quot;\\n    value {\\n      type: DT_FLOAT\\n    }\\n  }\\n  attr {\\n    key: &quot;out_type&quot;\\n    value {\\n      type: DT_INT32\\n    }\\n  }\\n}\\nnode {\\n  name: &quot;train/gradients/dnn_4/hidden2/add_grad/Shape_1&quot;\\n  op: &quot;Const&quot;\\n  attr {\\n    key: &quot;dtype&quot;\\n    value {\\n      type: DT_INT32\\n    }\\n  }\\n  attr {\\n    key: &quot;value&quot;\\n    value {\\n      tensor {\\n        dtype: DT_INT32\\n        tensor_shape {\\n          dim {\\n            size: 1\\n          }\\n        }\\n        int_val: 100\\n      }\\n    }\\n  }\\n}\\nnode {\\n  name: &quot;train/gradients/dnn_4/hidden2/add_grad/BroadcastGradientArgs&quot;\\n  op: &quot;BroadcastGradientArgs&quot;\\n  input: &quot;train/gradients/dnn_4/hidden2/add_grad/Shape&quot;\\n  input: &quot;train/gradients/dnn_4/hidden2/add_grad/Shape_1&quot;\\n  attr {\\n    key: &quot;T&quot;\\n    value {\\n      type: DT_INT32\\n    }\\n  }\\n}\\nnode {\\n  name: &quot;train/gradients/dnn_4/hidden2/add_grad/Sum&quot;\\n  op: &quot;Sum&quot;\\n  input: &quot;train/gradients/dnn_4/hidden2/Relu_grad/ReluGrad&quot;\\n  input: &quot;train/gradients/dnn_4/hidden2/add_grad/BroadcastGradientArgs&quot;\\n  attr {\\n    key: &quot;T&quot;\\n    value {\\n      type: DT_FLOAT\\n    }\\n  }\\n  attr {\\n    key: &quot;Tidx&quot;\\n    value {\\n      type: DT_INT32\\n    }\\n  }\\n  attr {\\n    key: &quot;keep_dims&quot;\\n    value {\\n      b: false\\n    }\\n  }\\n}\\nnode {\\n  name: &quot;train/gradients/dnn_4/hidden2/add_grad/Reshape&quot;\\n  op: &quot;Reshape&quot;\\n  input: &quot;train/gradients/dnn_4/hidden2/add_grad/Sum&quot;\\n  input: &quot;train/gradients/dnn_4/hidden2/add_grad/Shape&quot;\\n  attr {\\n    key: &quot;T&quot;\\n    value {\\n      type: DT_FLOAT\\n    }\\n  }\\n  attr {\\n    key: &quot;Tshape&quot;\\n    value {\\n      type: DT_INT32\\n    }\\n  }\\n}\\nnode {\\n  name: &quot;train/gradients/dnn_4/hidden2/add_grad/Sum_1&quot;\\n  op: &quot;Sum&quot;\\n  input: &quot;train/gradients/dnn_4/hidden2/Relu_grad/ReluGrad&quot;\\n  input: &quot;train/gradients/dnn_4/hidden2/add_grad/BroadcastGradientArgs:1&quot;\\n  attr {\\n    key: &quot;T&quot;\\n    value {\\n      type: DT_FLOAT\\n    }\\n  }\\n  attr {\\n    key: &quot;Tidx&quot;\\n    value {\\n      type: DT_INT32\\n    }\\n  }\\n  attr {\\n    key: &quot;keep_dims&quot;\\n    value {\\n      b: false\\n    }\\n  }\\n}\\nnode {\\n  name: &quot;train/gradients/dnn_4/hidden2/add_grad/Reshape_1&quot;\\n  op: &quot;Reshape&quot;\\n  input: &quot;train/gradients/dnn_4/hidden2/add_grad/Sum_1&quot;\\n  input: &quot;train/gradients/dnn_4/hidden2/add_grad/Shape_1&quot;\\n  attr {\\n    key: &quot;T&quot;\\n    value {\\n      type: DT_FLOAT\\n    }\\n  }\\n  attr {\\n    key: &quot;Tshape&quot;\\n    value {\\n      type: DT_INT32\\n    }\\n  }\\n}\\nnode {\\n  name: &quot;train/gradients/dnn_4/hidden2/add_grad/tuple/group_deps&quot;\\n  op: &quot;NoOp&quot;\\n  input: &quot;^train/gradients/dnn_4/hidden2/add_grad/Reshape&quot;\\n  input: &quot;^train/gradients/dnn_4/hidden2/add_grad/Reshape_1&quot;\\n}\\nnode {\\n  name: &quot;train/gradients/dnn_4/hidden2/add_grad/tuple/control_dependency&quot;\\n  op: &quot;Identity&quot;\\n  input: &quot;train/gradients/dnn_4/hidden2/add_grad/Reshape&quot;\\n  input: &quot;^train/gradients/dnn_4/hidden2/add_grad/tuple/group_deps&quot;\\n  attr {\\n    key: &quot;T&quot;\\n    value {\\n      type: DT_FLOAT\\n    }\\n  }\\n  attr {\\n    key: &quot;_class&quot;\\n    value {\\n      list {\\n        s: &quot;loc:@train/gradients/dnn_4/hidden2/add_grad/Reshape&quot;\\n      }\\n    }\\n  }\\n}\\nnode {\\n  name: &quot;train/gradients/dnn_4/hidden2/add_grad/tuple/control_dependency_1&quot;\\n  op: &quot;Identity&quot;\\n  input: &quot;train/gradients/dnn_4/hidden2/add_grad/Reshape_1&quot;\\n  input: &quot;^train/gradients/dnn_4/hidden2/add_grad/tuple/group_deps&quot;\\n  attr {\\n    key: &quot;T&quot;\\n    value {\\n      type: DT_FLOAT\\n    }\\n  }\\n  attr {\\n    key: &quot;_class&quot;\\n    value {\\n      list {\\n        s: &quot;loc:@train/gradients/dnn_4/hidden2/add_grad/Reshape_1&quot;\\n      }\\n    }\\n  }\\n}\\nnode {\\n  name: &quot;train/gradients/dnn_4/hidden2/MatMul_grad/MatMul&quot;\\n  op: &quot;MatMul&quot;\\n  input: &quot;train/gradients/dnn_4/hidden2/add_grad/tuple/control_dependency&quot;\\n  input: &quot;dnn_4/hidden2/kernel/read&quot;\\n  attr {\\n    key: &quot;T&quot;\\n    value {\\n      type: DT_FLOAT\\n    }\\n  }\\n  attr {\\n    key: &quot;transpose_a&quot;\\n    value {\\n      b: false\\n    }\\n  }\\n  attr {\\n    key: &quot;transpose_b&quot;\\n    value {\\n      b: true\\n    }\\n  }\\n}\\nnode {\\n  name: &quot;train/gradients/dnn_4/hidden2/MatMul_grad/MatMul_1&quot;\\n  op: &quot;MatMul&quot;\\n  input: &quot;dnn_4/hidden1/Relu&quot;\\n  input: &quot;train/gradients/dnn_4/hidden2/add_grad/tuple/control_dependency&quot;\\n  attr {\\n    key: &quot;T&quot;\\n    value {\\n      type: DT_FLOAT\\n    }\\n  }\\n  attr {\\n    key: &quot;transpose_a&quot;\\n    value {\\n      b: true\\n    }\\n  }\\n  attr {\\n    key: &quot;transpose_b&quot;\\n    value {\\n      b: false\\n    }\\n  }\\n}\\nnode {\\n  name: &quot;train/gradients/dnn_4/hidden2/MatMul_grad/tuple/group_deps&quot;\\n  op: &quot;NoOp&quot;\\n  input: &quot;^train/gradients/dnn_4/hidden2/MatMul_grad/MatMul&quot;\\n  input: &quot;^train/gradients/dnn_4/hidden2/MatMul_grad/MatMul_1&quot;\\n}\\nnode {\\n  name: &quot;train/gradients/dnn_4/hidden2/MatMul_grad/tuple/control_dependency&quot;\\n  op: &quot;Identity&quot;\\n  input: &quot;train/gradients/dnn_4/hidden2/MatMul_grad/MatMul&quot;\\n  input: &quot;^train/gradients/dnn_4/hidden2/MatMul_grad/tuple/group_deps&quot;\\n  attr {\\n    key: &quot;T&quot;\\n    value {\\n      type: DT_FLOAT\\n    }\\n  }\\n  attr {\\n    key: &quot;_class&quot;\\n    value {\\n      list {\\n        s: &quot;loc:@train/gradients/dnn_4/hidden2/MatMul_grad/MatMul&quot;\\n      }\\n    }\\n  }\\n}\\nnode {\\n  name: &quot;train/gradients/dnn_4/hidden2/MatMul_grad/tuple/control_dependency_1&quot;\\n  op: &quot;Identity&quot;\\n  input: &quot;train/gradients/dnn_4/hidden2/MatMul_grad/MatMul_1&quot;\\n  input: &quot;^train/gradients/dnn_4/hidden2/MatMul_grad/tuple/group_deps&quot;\\n  attr {\\n    key: &quot;T&quot;\\n    value {\\n      type: DT_FLOAT\\n    }\\n  }\\n  attr {\\n    key: &quot;_class&quot;\\n    value {\\n      list {\\n        s: &quot;loc:@train/gradients/dnn_4/hidden2/MatMul_grad/MatMul_1&quot;\\n      }\\n    }\\n  }\\n}\\nnode {\\n  name: &quot;train/gradients/dnn_4/hidden1/Relu_grad/ReluGrad&quot;\\n  op: &quot;ReluGrad&quot;\\n  input: &quot;train/gradients/dnn_4/hidden2/MatMul_grad/tuple/control_dependency&quot;\\n  input: &quot;dnn_4/hidden1/Relu&quot;\\n  attr {\\n    key: &quot;T&quot;\\n    value {\\n      type: DT_FLOAT\\n    }\\n  }\\n}\\nnode {\\n  name: &quot;train/gradients/dnn_4/hidden1/add_grad/Shape&quot;\\n  op: &quot;Shape&quot;\\n  input: &quot;dnn_4/hidden1/MatMul&quot;\\n  attr {\\n    key: &quot;T&quot;\\n    value {\\n      type: DT_FLOAT\\n    }\\n  }\\n  attr {\\n    key: &quot;out_type&quot;\\n    value {\\n      type: DT_INT32\\n    }\\n  }\\n}\\nnode {\\n  name: &quot;train/gradients/dnn_4/hidden1/add_grad/Shape_1&quot;\\n  op: &quot;Const&quot;\\n  attr {\\n    key: &quot;dtype&quot;\\n    value {\\n      type: DT_INT32\\n    }\\n  }\\n  attr {\\n    key: &quot;value&quot;\\n    value {\\n      tensor {\\n        dtype: DT_INT32\\n        tensor_shape {\\n          dim {\\n            size: 1\\n          }\\n        }\\n        int_val: 300\\n      }\\n    }\\n  }\\n}\\nnode {\\n  name: &quot;train/gradients/dnn_4/hidden1/add_grad/BroadcastGradientArgs&quot;\\n  op: &quot;BroadcastGradientArgs&quot;\\n  input: &quot;train/gradients/dnn_4/hidden1/add_grad/Shape&quot;\\n  input: &quot;train/gradients/dnn_4/hidden1/add_grad/Shape_1&quot;\\n  attr {\\n    key: &quot;T&quot;\\n    value {\\n      type: DT_INT32\\n    }\\n  }\\n}\\nnode {\\n  name: &quot;train/gradients/dnn_4/hidden1/add_grad/Sum&quot;\\n  op: &quot;Sum&quot;\\n  input: &quot;train/gradients/dnn_4/hidden1/Relu_grad/ReluGrad&quot;\\n  input: &quot;train/gradients/dnn_4/hidden1/add_grad/BroadcastGradientArgs&quot;\\n  attr {\\n    key: &quot;T&quot;\\n    value {\\n      type: DT_FLOAT\\n    }\\n  }\\n  attr {\\n    key: &quot;Tidx&quot;\\n    value {\\n      type: DT_INT32\\n    }\\n  }\\n  attr {\\n    key: &quot;keep_dims&quot;\\n    value {\\n      b: false\\n    }\\n  }\\n}\\nnode {\\n  name: &quot;train/gradients/dnn_4/hidden1/add_grad/Reshape&quot;\\n  op: &quot;Reshape&quot;\\n  input: &quot;train/gradients/dnn_4/hidden1/add_grad/Sum&quot;\\n  input: &quot;train/gradients/dnn_4/hidden1/add_grad/Shape&quot;\\n  attr {\\n    key: &quot;T&quot;\\n    value {\\n      type: DT_FLOAT\\n    }\\n  }\\n  attr {\\n    key: &quot;Tshape&quot;\\n    value {\\n      type: DT_INT32\\n    }\\n  }\\n}\\nnode {\\n  name: &quot;train/gradients/dnn_4/hidden1/add_grad/Sum_1&quot;\\n  op: &quot;Sum&quot;\\n  input: &quot;train/gradients/dnn_4/hidden1/Relu_grad/ReluGrad&quot;\\n  input: &quot;train/gradients/dnn_4/hidden1/add_grad/BroadcastGradientArgs:1&quot;\\n  attr {\\n    key: &quot;T&quot;\\n    value {\\n      type: DT_FLOAT\\n    }\\n  }\\n  attr {\\n    key: &quot;Tidx&quot;\\n    value {\\n      type: DT_INT32\\n    }\\n  }\\n  attr {\\n    key: &quot;keep_dims&quot;\\n    value {\\n      b: false\\n    }\\n  }\\n}\\nnode {\\n  name: &quot;train/gradients/dnn_4/hidden1/add_grad/Reshape_1&quot;\\n  op: &quot;Reshape&quot;\\n  input: &quot;train/gradients/dnn_4/hidden1/add_grad/Sum_1&quot;\\n  input: &quot;train/gradients/dnn_4/hidden1/add_grad/Shape_1&quot;\\n  attr {\\n    key: &quot;T&quot;\\n    value {\\n      type: DT_FLOAT\\n    }\\n  }\\n  attr {\\n    key: &quot;Tshape&quot;\\n    value {\\n      type: DT_INT32\\n    }\\n  }\\n}\\nnode {\\n  name: &quot;train/gradients/dnn_4/hidden1/add_grad/tuple/group_deps&quot;\\n  op: &quot;NoOp&quot;\\n  input: &quot;^train/gradients/dnn_4/hidden1/add_grad/Reshape&quot;\\n  input: &quot;^train/gradients/dnn_4/hidden1/add_grad/Reshape_1&quot;\\n}\\nnode {\\n  name: &quot;train/gradients/dnn_4/hidden1/add_grad/tuple/control_dependency&quot;\\n  op: &quot;Identity&quot;\\n  input: &quot;train/gradients/dnn_4/hidden1/add_grad/Reshape&quot;\\n  input: &quot;^train/gradients/dnn_4/hidden1/add_grad/tuple/group_deps&quot;\\n  attr {\\n    key: &quot;T&quot;\\n    value {\\n      type: DT_FLOAT\\n    }\\n  }\\n  attr {\\n    key: &quot;_class&quot;\\n    value {\\n      list {\\n        s: &quot;loc:@train/gradients/dnn_4/hidden1/add_grad/Reshape&quot;\\n      }\\n    }\\n  }\\n}\\nnode {\\n  name: &quot;train/gradients/dnn_4/hidden1/add_grad/tuple/control_dependency_1&quot;\\n  op: &quot;Identity&quot;\\n  input: &quot;train/gradients/dnn_4/hidden1/add_grad/Reshape_1&quot;\\n  input: &quot;^train/gradients/dnn_4/hidden1/add_grad/tuple/group_deps&quot;\\n  attr {\\n    key: &quot;T&quot;\\n    value {\\n      type: DT_FLOAT\\n    }\\n  }\\n  attr {\\n    key: &quot;_class&quot;\\n    value {\\n      list {\\n        s: &quot;loc:@train/gradients/dnn_4/hidden1/add_grad/Reshape_1&quot;\\n      }\\n    }\\n  }\\n}\\nnode {\\n  name: &quot;train/gradients/dnn_4/hidden1/MatMul_grad/MatMul&quot;\\n  op: &quot;MatMul&quot;\\n  input: &quot;train/gradients/dnn_4/hidden1/add_grad/tuple/control_dependency&quot;\\n  input: &quot;dnn_4/hidden1/kernel/read&quot;\\n  attr {\\n    key: &quot;T&quot;\\n    value {\\n      type: DT_FLOAT\\n    }\\n  }\\n  attr {\\n    key: &quot;transpose_a&quot;\\n    value {\\n      b: false\\n    }\\n  }\\n  attr {\\n    key: &quot;transpose_b&quot;\\n    value {\\n      b: true\\n    }\\n  }\\n}\\nnode {\\n  name: &quot;train/gradients/dnn_4/hidden1/MatMul_grad/MatMul_1&quot;\\n  op: &quot;MatMul&quot;\\n  input: &quot;X&quot;\\n  input: &quot;train/gradients/dnn_4/hidden1/add_grad/tuple/control_dependency&quot;\\n  attr {\\n    key: &quot;T&quot;\\n    value {\\n      type: DT_FLOAT\\n    }\\n  }\\n  attr {\\n    key: &quot;transpose_a&quot;\\n    value {\\n      b: true\\n    }\\n  }\\n  attr {\\n    key: &quot;transpose_b&quot;\\n    value {\\n      b: false\\n    }\\n  }\\n}\\nnode {\\n  name: &quot;train/gradients/dnn_4/hidden1/MatMul_grad/tuple/group_deps&quot;\\n  op: &quot;NoOp&quot;\\n  input: &quot;^train/gradients/dnn_4/hidden1/MatMul_grad/MatMul&quot;\\n  input: &quot;^train/gradients/dnn_4/hidden1/MatMul_grad/MatMul_1&quot;\\n}\\nnode {\\n  name: &quot;train/gradients/dnn_4/hidden1/MatMul_grad/tuple/control_dependency&quot;\\n  op: &quot;Identity&quot;\\n  input: &quot;train/gradients/dnn_4/hidden1/MatMul_grad/MatMul&quot;\\n  input: &quot;^train/gradients/dnn_4/hidden1/MatMul_grad/tuple/group_deps&quot;\\n  attr {\\n    key: &quot;T&quot;\\n    value {\\n      type: DT_FLOAT\\n    }\\n  }\\n  attr {\\n    key: &quot;_class&quot;\\n    value {\\n      list {\\n        s: &quot;loc:@train/gradients/dnn_4/hidden1/MatMul_grad/MatMul&quot;\\n      }\\n    }\\n  }\\n}\\nnode {\\n  name: &quot;train/gradients/dnn_4/hidden1/MatMul_grad/tuple/control_dependency_1&quot;\\n  op: &quot;Identity&quot;\\n  input: &quot;train/gradients/dnn_4/hidden1/MatMul_grad/MatMul_1&quot;\\n  input: &quot;^train/gradients/dnn_4/hidden1/MatMul_grad/tuple/group_deps&quot;\\n  attr {\\n    key: &quot;T&quot;\\n    value {\\n      type: DT_FLOAT\\n    }\\n  }\\n  attr {\\n    key: &quot;_class&quot;\\n    value {\\n      list {\\n        s: &quot;loc:@train/gradients/dnn_4/hidden1/MatMul_grad/MatMul_1&quot;\\n      }\\n    }\\n  }\\n}\\nnode {\\n  name: &quot;train/GradientDescent/learning_rate&quot;\\n  op: &quot;Const&quot;\\n  attr {\\n    key: &quot;dtype&quot;\\n    value {\\n      type: DT_FLOAT\\n    }\\n  }\\n  attr {\\n    key: &quot;value&quot;\\n    value {\\n      tensor {\\n        dtype: DT_FLOAT\\n        tensor_shape {\\n        }\\n        float_val: 0.009999999776482582\\n      }\\n    }\\n  }\\n}\\nnode {\\n  name: &quot;train/GradientDescent/update_dnn_4/hidden1/kernel/ApplyGradientDescent&quot;\\n  op: &quot;ApplyGradientDescent&quot;\\n  input: &quot;dnn_4/hidden1/kernel&quot;\\n  input: &quot;train/GradientDescent/learning_rate&quot;\\n  input: &quot;train/gradients/dnn_4/hidden1/MatMul_grad/tuple/control_dependency_1&quot;\\n  attr {\\n    key: &quot;T&quot;\\n    value {\\n      type: DT_FLOAT\\n    }\\n  }\\n  attr {\\n    key: &quot;_class&quot;\\n    value {\\n      list {\\n        s: &quot;loc:@dnn_4/hidden1/kernel&quot;\\n      }\\n    }\\n  }\\n  attr {\\n    key: &quot;use_locking&quot;\\n    value {\\n      b: false\\n    }\\n  }\\n}\\nnode {\\n  name: &quot;train/GradientDescent/update_dnn_4/hidden1/bias/ApplyGradientDescent&quot;\\n  op: &quot;ApplyGradientDescent&quot;\\n  input: &quot;dnn_4/hidden1/bias&quot;\\n  input: &quot;train/GradientDescent/learning_rate&quot;\\n  input: &quot;train/gradients/dnn_4/hidden1/add_grad/tuple/control_dependency_1&quot;\\n  attr {\\n    key: &quot;T&quot;\\n    value {\\n      type: DT_FLOAT\\n    }\\n  }\\n  attr {\\n    key: &quot;_class&quot;\\n    value {\\n      list {\\n        s: &quot;loc:@dnn_4/hidden1/bias&quot;\\n      }\\n    }\\n  }\\n  attr {\\n    key: &quot;use_locking&quot;\\n    value {\\n      b: false\\n    }\\n  }\\n}\\nnode {\\n  name: &quot;train/GradientDescent/update_dnn_4/hidden2/kernel/ApplyGradientDescent&quot;\\n  op: &quot;ApplyGradientDescent&quot;\\n  input: &quot;dnn_4/hidden2/kernel&quot;\\n  input: &quot;train/GradientDescent/learning_rate&quot;\\n  input: &quot;train/gradients/dnn_4/hidden2/MatMul_grad/tuple/control_dependency_1&quot;\\n  attr {\\n    key: &quot;T&quot;\\n    value {\\n      type: DT_FLOAT\\n    }\\n  }\\n  attr {\\n    key: &quot;_class&quot;\\n    value {\\n      list {\\n        s: &quot;loc:@dnn_4/hidden2/kernel&quot;\\n      }\\n    }\\n  }\\n  attr {\\n    key: &quot;use_locking&quot;\\n    value {\\n      b: false\\n    }\\n  }\\n}\\nnode {\\n  name: &quot;train/GradientDescent/update_dnn_4/hidden2/bias/ApplyGradientDescent&quot;\\n  op: &quot;ApplyGradientDescent&quot;\\n  input: &quot;dnn_4/hidden2/bias&quot;\\n  input: &quot;train/GradientDescent/learning_rate&quot;\\n  input: &quot;train/gradients/dnn_4/hidden2/add_grad/tuple/control_dependency_1&quot;\\n  attr {\\n    key: &quot;T&quot;\\n    value {\\n      type: DT_FLOAT\\n    }\\n  }\\n  attr {\\n    key: &quot;_class&quot;\\n    value {\\n      list {\\n        s: &quot;loc:@dnn_4/hidden2/bias&quot;\\n      }\\n    }\\n  }\\n  attr {\\n    key: &quot;use_locking&quot;\\n    value {\\n      b: false\\n    }\\n  }\\n}\\nnode {\\n  name: &quot;train/GradientDescent/update_dnn_4/output/kernel/ApplyGradientDescent&quot;\\n  op: &quot;ApplyGradientDescent&quot;\\n  input: &quot;dnn_4/output/kernel&quot;\\n  input: &quot;train/GradientDescent/learning_rate&quot;\\n  input: &quot;train/gradients/dnn_4/output/MatMul_grad/tuple/control_dependency_1&quot;\\n  attr {\\n    key: &quot;T&quot;\\n    value {\\n      type: DT_FLOAT\\n    }\\n  }\\n  attr {\\n    key: &quot;_class&quot;\\n    value {\\n      list {\\n        s: &quot;loc:@dnn_4/output/kernel&quot;\\n      }\\n    }\\n  }\\n  attr {\\n    key: &quot;use_locking&quot;\\n    value {\\n      b: false\\n    }\\n  }\\n}\\nnode {\\n  name: &quot;train/GradientDescent/update_dnn_4/output/bias/ApplyGradientDescent&quot;\\n  op: &quot;ApplyGradientDescent&quot;\\n  input: &quot;dnn_4/output/bias&quot;\\n  input: &quot;train/GradientDescent/learning_rate&quot;\\n  input: &quot;train/gradients/dnn_4/output/add_grad/tuple/control_dependency_1&quot;\\n  attr {\\n    key: &quot;T&quot;\\n    value {\\n      type: DT_FLOAT\\n    }\\n  }\\n  attr {\\n    key: &quot;_class&quot;\\n    value {\\n      list {\\n        s: &quot;loc:@dnn_4/output/bias&quot;\\n      }\\n    }\\n  }\\n  attr {\\n    key: &quot;use_locking&quot;\\n    value {\\n      b: false\\n    }\\n  }\\n}\\nnode {\\n  name: &quot;train/GradientDescent&quot;\\n  op: &quot;NoOp&quot;\\n  input: &quot;^train/GradientDescent/update_dnn_4/hidden1/kernel/ApplyGradientDescent&quot;\\n  input: &quot;^train/GradientDescent/update_dnn_4/hidden1/bias/ApplyGradientDescent&quot;\\n  input: &quot;^train/GradientDescent/update_dnn_4/hidden2/kernel/ApplyGradientDescent&quot;\\n  input: &quot;^train/GradientDescent/update_dnn_4/hidden2/bias/ApplyGradientDescent&quot;\\n  input: &quot;^train/GradientDescent/update_dnn_4/output/kernel/ApplyGradientDescent&quot;\\n  input: &quot;^train/GradientDescent/update_dnn_4/output/bias/ApplyGradientDescent&quot;\\n}\\nnode {\\n  name: &quot;eval/in_top_k/InTopKV2/k&quot;\\n  op: &quot;Const&quot;\\n  attr {\\n    key: &quot;dtype&quot;\\n    value {\\n      type: DT_INT32\\n    }\\n  }\\n  attr {\\n    key: &quot;value&quot;\\n    value {\\n      tensor {\\n        dtype: DT_INT32\\n        tensor_shape {\\n        }\\n        int_val: 1\\n      }\\n    }\\n  }\\n}\\nnode {\\n  name: &quot;eval/in_top_k/InTopKV2&quot;\\n  op: &quot;InTopKV2&quot;\\n  input: &quot;dnn_4/output/add&quot;\\n  input: &quot;y&quot;\\n  input: &quot;eval/in_top_k/InTopKV2/k&quot;\\n  attr {\\n    key: &quot;T&quot;\\n    value {\\n      type: DT_INT32\\n    }\\n  }\\n}\\nnode {\\n  name: &quot;eval/Cast&quot;\\n  op: &quot;Cast&quot;\\n  input: &quot;eval/in_top_k/InTopKV2&quot;\\n  attr {\\n    key: &quot;DstT&quot;\\n    value {\\n      type: DT_FLOAT\\n    }\\n  }\\n  attr {\\n    key: &quot;SrcT&quot;\\n    value {\\n      type: DT_BOOL\\n    }\\n  }\\n}\\nnode {\\n  name: &quot;eval/Const&quot;\\n  op: &quot;Const&quot;\\n  attr {\\n    key: &quot;dtype&quot;\\n    value {\\n      type: DT_INT32\\n    }\\n  }\\n  attr {\\n    key: &quot;value&quot;\\n    value {\\n      tensor {\\n        dtype: DT_INT32\\n        tensor_shape {\\n          dim {\\n            size: 1\\n          }\\n        }\\n        int_val: 0\\n      }\\n    }\\n  }\\n}\\nnode {\\n  name: &quot;eval/Mean&quot;\\n  op: &quot;Mean&quot;\\n  input: &quot;eval/Cast&quot;\\n  input: &quot;eval/Const&quot;\\n  attr {\\n    key: &quot;T&quot;\\n    value {\\n      type: DT_FLOAT\\n    }\\n  }\\n  attr {\\n    key: &quot;Tidx&quot;\\n    value {\\n      type: DT_INT32\\n    }\\n  }\\n  attr {\\n    key: &quot;keep_dims&quot;\\n    value {\\n      b: false\\n    }\\n  }\\n}\\nnode {\\n  name: &quot;init&quot;\\n  op: &quot;NoOp&quot;\\n  input: &quot;^dnn/hidden1/kernel/Assign&quot;\\n  input: &quot;^dnn/hidden1/bias/Assign&quot;\\n  input: &quot;^dnn_1/hidden1/kernel/Assign&quot;\\n  input: &quot;^dnn_1/hidden1/bias/Assign&quot;\\n  input: &quot;^dnn_2/hidden1/kernel/Assign&quot;\\n  input: &quot;^dnn_2/hidden1/bias/Assign&quot;\\n  input: &quot;^dnn_2/hidden2/kernel/Assign&quot;\\n  input: &quot;^dnn_2/hidden2/bias/Assign&quot;\\n  input: &quot;^dnn_3/hidden1/kernel/Assign&quot;\\n  input: &quot;^dnn_3/hidden1/bias/Assign&quot;\\n  input: &quot;^dnn_3/hidden2/kernel/Assign&quot;\\n  input: &quot;^dnn_3/hidden2/bias/Assign&quot;\\n  input: &quot;^dnn_4/hidden1/kernel/Assign&quot;\\n  input: &quot;^dnn_4/hidden1/bias/Assign&quot;\\n  input: &quot;^dnn_4/hidden2/kernel/Assign&quot;\\n  input: &quot;^dnn_4/hidden2/bias/Assign&quot;\\n  input: &quot;^dnn_4/output/kernel/Assign&quot;\\n  input: &quot;^dnn_4/output/bias/Assign&quot;\\n}\\nnode {\\n  name: &quot;save/Const&quot;\\n  op: &quot;Const&quot;\\n  attr {\\n    key: &quot;dtype&quot;\\n    value {\\n      type: DT_STRING\\n    }\\n  }\\n  attr {\\n    key: &quot;value&quot;\\n    value {\\n      tensor {\\n        dtype: DT_STRING\\n        tensor_shape {\\n        }\\n        string_val: &quot;model&quot;\\n      }\\n    }\\n  }\\n}\\nnode {\\n  name: &quot;save/SaveV2/tensor_names&quot;\\n  op: &quot;Const&quot;\\n  attr {\\n    key: &quot;dtype&quot;\\n    value {\\n      type: DT_STRING\\n    }\\n  }\\n  attr {\\n    key: &quot;value&quot;\\n    value {\\n      tensor {\\n        dtype: DT_STRING\\n        tensor_shape {\\n          dim {\\n            size: 18\\n          }\\n        }\\n        string_val: &quot;dnn/hidden1/bias&quot;\\n        string_val: &quot;dnn/hidden1/kernel&quot;\\n        string_val: &quot;dnn_1/hidden1/bias&quot;\\n        string_val: &quot;dnn_1/hidden1/kernel&quot;\\n        string_val: &quot;dnn_2/hidden1/bias&quot;\\n        string_val: &quot;dnn_2/hidden1/kernel&quot;\\n        string_val: &quot;dnn_2/hidden2/bias&quot;\\n        string_val: &quot;dnn_2/hidden2/kernel&quot;\\n        string_val: &quot;dnn_3/hidden1/bias&quot;\\n        string_val: &quot;dnn_3/hidden1/kernel&quot;\\n        string_val: &quot;dnn_3/hidden2/bias&quot;\\n        string_val: &quot;dnn_3/hidden2/kernel&quot;\\n        string_val: &quot;dnn_4/hidden1/bias&quot;\\n        string_val: &quot;dnn_4/hidden1/kernel&quot;\\n        string_val: &quot;dnn_4/hidden2/bias&quot;\\n        string_val: &quot;dnn_4/hidden2/kernel&quot;\\n        string_val: &quot;dnn_4/output/bias&quot;\\n        string_val: &quot;dnn_4/output/kernel&quot;\\n      }\\n    }\\n  }\\n}\\nnode {\\n  name: &quot;save/SaveV2/shape_and_slices&quot;\\n  op: &quot;Const&quot;\\n  attr {\\n    key: &quot;dtype&quot;\\n    value {\\n      type: DT_STRING\\n    }\\n  }\\n  attr {\\n    key: &quot;value&quot;\\n    value {\\n      tensor {\\n        dtype: DT_STRING\\n        tensor_shape {\\n          dim {\\n            size: 18\\n          }\\n        }\\n        string_val: &quot;&quot;\\n        string_val: &quot;&quot;\\n        string_val: &quot;&quot;\\n        string_val: &quot;&quot;\\n        string_val: &quot;&quot;\\n        string_val: &quot;&quot;\\n        string_val: &quot;&quot;\\n        string_val: &quot;&quot;\\n        string_val: &quot;&quot;\\n        string_val: &quot;&quot;\\n        string_val: &quot;&quot;\\n        string_val: &quot;&quot;\\n        string_val: &quot;&quot;\\n        string_val: &quot;&quot;\\n        string_val: &quot;&quot;\\n        string_val: &quot;&quot;\\n        string_val: &quot;&quot;\\n        string_val: &quot;&quot;\\n      }\\n    }\\n  }\\n}\\nnode {\\n  name: &quot;save/SaveV2&quot;\\n  op: &quot;SaveV2&quot;\\n  input: &quot;save/Const&quot;\\n  input: &quot;save/SaveV2/tensor_names&quot;\\n  input: &quot;save/SaveV2/shape_and_slices&quot;\\n  input: &quot;dnn/hidden1/bias&quot;\\n  input: &quot;dnn/hidden1/kernel&quot;\\n  input: &quot;dnn_1/hidden1/bias&quot;\\n  input: &quot;dnn_1/hidden1/kernel&quot;\\n  input: &quot;dnn_2/hidden1/bias&quot;\\n  input: &quot;dnn_2/hidden1/kernel&quot;\\n  input: &quot;dnn_2/hidden2/bias&quot;\\n  input: &quot;dnn_2/hidden2/kernel&quot;\\n  input: &quot;dnn_3/hidden1/bias&quot;\\n  input: &quot;dnn_3/hidden1/kernel&quot;\\n  input: &quot;dnn_3/hidden2/bias&quot;\\n  input: &quot;dnn_3/hidden2/kernel&quot;\\n  input: &quot;dnn_4/hidden1/bias&quot;\\n  input: &quot;dnn_4/hidden1/kernel&quot;\\n  input: &quot;dnn_4/hidden2/bias&quot;\\n  input: &quot;dnn_4/hidden2/kernel&quot;\\n  input: &quot;dnn_4/output/bias&quot;\\n  input: &quot;dnn_4/output/kernel&quot;\\n  attr {\\n    key: &quot;dtypes&quot;\\n    value {\\n      list {\\n        type: DT_FLOAT\\n        type: DT_FLOAT\\n        type: DT_FLOAT\\n        type: DT_FLOAT\\n        type: DT_FLOAT\\n        type: DT_FLOAT\\n        type: DT_FLOAT\\n        type: DT_FLOAT\\n        type: DT_FLOAT\\n        type: DT_FLOAT\\n        type: DT_FLOAT\\n        type: DT_FLOAT\\n        type: DT_FLOAT\\n        type: DT_FLOAT\\n        type: DT_FLOAT\\n        type: DT_FLOAT\\n        type: DT_FLOAT\\n        type: DT_FLOAT\\n      }\\n    }\\n  }\\n}\\nnode {\\n  name: &quot;save/control_dependency&quot;\\n  op: &quot;Identity&quot;\\n  input: &quot;save/Const&quot;\\n  input: &quot;^save/SaveV2&quot;\\n  attr {\\n    key: &quot;T&quot;\\n    value {\\n      type: DT_STRING\\n    }\\n  }\\n  attr {\\n    key: &quot;_class&quot;\\n    value {\\n      list {\\n        s: &quot;loc:@save/Const&quot;\\n      }\\n    }\\n  }\\n}\\nnode {\\n  name: &quot;save/RestoreV2/tensor_names&quot;\\n  op: &quot;Const&quot;\\n  device: &quot;/device:CPU:0&quot;\\n  attr {\\n    key: &quot;dtype&quot;\\n    value {\\n      type: DT_STRING\\n    }\\n  }\\n  attr {\\n    key: &quot;value&quot;\\n    value {\\n      tensor {\\n        dtype: DT_STRING\\n        tensor_shape {\\n          dim {\\n            size: 18\\n          }\\n        }\\n        string_val: &quot;dnn/hidden1/bias&quot;\\n        string_val: &quot;dnn/hidden1/kernel&quot;\\n        string_val: &quot;dnn_1/hidden1/bias&quot;\\n        string_val: &quot;dnn_1/hidden1/kernel&quot;\\n        string_val: &quot;dnn_2/hidden1/bias&quot;\\n        string_val: &quot;dnn_2/hidden1/kernel&quot;\\n        string_val: &quot;dnn_2/hidden2/bias&quot;\\n        string_val: &quot;dnn_2/hidden2/kernel&quot;\\n        string_val: &quot;dnn_3/hidden1/bias&quot;\\n        string_val: &quot;dnn_3/hidden1/kernel&quot;\\n        string_val: &quot;dnn_3/hidden2/bias&quot;\\n        string_val: &quot;dnn_3/hidden2/kernel&quot;\\n        string_val: &quot;dnn_4/hidden1/bias&quot;\\n        string_val: &quot;dnn_4/hidden1/kernel&quot;\\n        string_val: &quot;dnn_4/hidden2/bias&quot;\\n        string_val: &quot;dnn_4/hidden2/kernel&quot;\\n        string_val: &quot;dnn_4/output/bias&quot;\\n        string_val: &quot;dnn_4/output/kernel&quot;\\n      }\\n    }\\n  }\\n}\\nnode {\\n  name: &quot;save/RestoreV2/shape_and_slices&quot;\\n  op: &quot;Const&quot;\\n  device: &quot;/device:CPU:0&quot;\\n  attr {\\n    key: &quot;dtype&quot;\\n    value {\\n      type: DT_STRING\\n    }\\n  }\\n  attr {\\n    key: &quot;value&quot;\\n    value {\\n      tensor {\\n        dtype: DT_STRING\\n        tensor_shape {\\n          dim {\\n            size: 18\\n          }\\n        }\\n        string_val: &quot;&quot;\\n        string_val: &quot;&quot;\\n        string_val: &quot;&quot;\\n        string_val: &quot;&quot;\\n        string_val: &quot;&quot;\\n        string_val: &quot;&quot;\\n        string_val: &quot;&quot;\\n        string_val: &quot;&quot;\\n        string_val: &quot;&quot;\\n        string_val: &quot;&quot;\\n        string_val: &quot;&quot;\\n        string_val: &quot;&quot;\\n        string_val: &quot;&quot;\\n        string_val: &quot;&quot;\\n        string_val: &quot;&quot;\\n        string_val: &quot;&quot;\\n        string_val: &quot;&quot;\\n        string_val: &quot;&quot;\\n      }\\n    }\\n  }\\n}\\nnode {\\n  name: &quot;save/RestoreV2&quot;\\n  op: &quot;RestoreV2&quot;\\n  input: &quot;save/Const&quot;\\n  input: &quot;save/RestoreV2/tensor_names&quot;\\n  input: &quot;save/RestoreV2/shape_and_slices&quot;\\n  device: &quot;/device:CPU:0&quot;\\n  attr {\\n    key: &quot;dtypes&quot;\\n    value {\\n      list {\\n        type: DT_FLOAT\\n        type: DT_FLOAT\\n        type: DT_FLOAT\\n        type: DT_FLOAT\\n        type: DT_FLOAT\\n        type: DT_FLOAT\\n        type: DT_FLOAT\\n        type: DT_FLOAT\\n        type: DT_FLOAT\\n        type: DT_FLOAT\\n        type: DT_FLOAT\\n        type: DT_FLOAT\\n        type: DT_FLOAT\\n        type: DT_FLOAT\\n        type: DT_FLOAT\\n        type: DT_FLOAT\\n        type: DT_FLOAT\\n        type: DT_FLOAT\\n      }\\n    }\\n  }\\n}\\nnode {\\n  name: &quot;save/Assign&quot;\\n  op: &quot;Assign&quot;\\n  input: &quot;dnn/hidden1/bias&quot;\\n  input: &quot;save/RestoreV2&quot;\\n  attr {\\n    key: &quot;T&quot;\\n    value {\\n      type: DT_FLOAT\\n    }\\n  }\\n  attr {\\n    key: &quot;_class&quot;\\n    value {\\n      list {\\n        s: &quot;loc:@dnn/hidden1/bias&quot;\\n      }\\n    }\\n  }\\n  attr {\\n    key: &quot;use_locking&quot;\\n    value {\\n      b: true\\n    }\\n  }\\n  attr {\\n    key: &quot;validate_shape&quot;\\n    value {\\n      b: true\\n    }\\n  }\\n}\\nnode {\\n  name: &quot;save/Assign_1&quot;\\n  op: &quot;Assign&quot;\\n  input: &quot;dnn/hidden1/kernel&quot;\\n  input: &quot;save/RestoreV2:1&quot;\\n  attr {\\n    key: &quot;T&quot;\\n    value {\\n      type: DT_FLOAT\\n    }\\n  }\\n  attr {\\n    key: &quot;_class&quot;\\n    value {\\n      list {\\n        s: &quot;loc:@dnn/hidden1/kernel&quot;\\n      }\\n    }\\n  }\\n  attr {\\n    key: &quot;use_locking&quot;\\n    value {\\n      b: true\\n    }\\n  }\\n  attr {\\n    key: &quot;validate_shape&quot;\\n    value {\\n      b: true\\n    }\\n  }\\n}\\nnode {\\n  name: &quot;save/Assign_2&quot;\\n  op: &quot;Assign&quot;\\n  input: &quot;dnn_1/hidden1/bias&quot;\\n  input: &quot;save/RestoreV2:2&quot;\\n  attr {\\n    key: &quot;T&quot;\\n    value {\\n      type: DT_FLOAT\\n    }\\n  }\\n  attr {\\n    key: &quot;_class&quot;\\n    value {\\n      list {\\n        s: &quot;loc:@dnn_1/hidden1/bias&quot;\\n      }\\n    }\\n  }\\n  attr {\\n    key: &quot;use_locking&quot;\\n    value {\\n      b: true\\n    }\\n  }\\n  attr {\\n    key: &quot;validate_shape&quot;\\n    value {\\n      b: true\\n    }\\n  }\\n}\\nnode {\\n  name: &quot;save/Assign_3&quot;\\n  op: &quot;Assign&quot;\\n  input: &quot;dnn_1/hidden1/kernel&quot;\\n  input: &quot;save/RestoreV2:3&quot;\\n  attr {\\n    key: &quot;T&quot;\\n    value {\\n      type: DT_FLOAT\\n    }\\n  }\\n  attr {\\n    key: &quot;_class&quot;\\n    value {\\n      list {\\n        s: &quot;loc:@dnn_1/hidden1/kernel&quot;\\n      }\\n    }\\n  }\\n  attr {\\n    key: &quot;use_locking&quot;\\n    value {\\n      b: true\\n    }\\n  }\\n  attr {\\n    key: &quot;validate_shape&quot;\\n    value {\\n      b: true\\n    }\\n  }\\n}\\nnode {\\n  name: &quot;save/Assign_4&quot;\\n  op: &quot;Assign&quot;\\n  input: &quot;dnn_2/hidden1/bias&quot;\\n  input: &quot;save/RestoreV2:4&quot;\\n  attr {\\n    key: &quot;T&quot;\\n    value {\\n      type: DT_FLOAT\\n    }\\n  }\\n  attr {\\n    key: &quot;_class&quot;\\n    value {\\n      list {\\n        s: &quot;loc:@dnn_2/hidden1/bias&quot;\\n      }\\n    }\\n  }\\n  attr {\\n    key: &quot;use_locking&quot;\\n    value {\\n      b: true\\n    }\\n  }\\n  attr {\\n    key: &quot;validate_shape&quot;\\n    value {\\n      b: true\\n    }\\n  }\\n}\\nnode {\\n  name: &quot;save/Assign_5&quot;\\n  op: &quot;Assign&quot;\\n  input: &quot;dnn_2/hidden1/kernel&quot;\\n  input: &quot;save/RestoreV2:5&quot;\\n  attr {\\n    key: &quot;T&quot;\\n    value {\\n      type: DT_FLOAT\\n    }\\n  }\\n  attr {\\n    key: &quot;_class&quot;\\n    value {\\n      list {\\n        s: &quot;loc:@dnn_2/hidden1/kernel&quot;\\n      }\\n    }\\n  }\\n  attr {\\n    key: &quot;use_locking&quot;\\n    value {\\n      b: true\\n    }\\n  }\\n  attr {\\n    key: &quot;validate_shape&quot;\\n    value {\\n      b: true\\n    }\\n  }\\n}\\nnode {\\n  name: &quot;save/Assign_6&quot;\\n  op: &quot;Assign&quot;\\n  input: &quot;dnn_2/hidden2/bias&quot;\\n  input: &quot;save/RestoreV2:6&quot;\\n  attr {\\n    key: &quot;T&quot;\\n    value {\\n      type: DT_FLOAT\\n    }\\n  }\\n  attr {\\n    key: &quot;_class&quot;\\n    value {\\n      list {\\n        s: &quot;loc:@dnn_2/hidden2/bias&quot;\\n      }\\n    }\\n  }\\n  attr {\\n    key: &quot;use_locking&quot;\\n    value {\\n      b: true\\n    }\\n  }\\n  attr {\\n    key: &quot;validate_shape&quot;\\n    value {\\n      b: true\\n    }\\n  }\\n}\\nnode {\\n  name: &quot;save/Assign_7&quot;\\n  op: &quot;Assign&quot;\\n  input: &quot;dnn_2/hidden2/kernel&quot;\\n  input: &quot;save/RestoreV2:7&quot;\\n  attr {\\n    key: &quot;T&quot;\\n    value {\\n      type: DT_FLOAT\\n    }\\n  }\\n  attr {\\n    key: &quot;_class&quot;\\n    value {\\n      list {\\n        s: &quot;loc:@dnn_2/hidden2/kernel&quot;\\n      }\\n    }\\n  }\\n  attr {\\n    key: &quot;use_locking&quot;\\n    value {\\n      b: true\\n    }\\n  }\\n  attr {\\n    key: &quot;validate_shape&quot;\\n    value {\\n      b: true\\n    }\\n  }\\n}\\nnode {\\n  name: &quot;save/Assign_8&quot;\\n  op: &quot;Assign&quot;\\n  input: &quot;dnn_3/hidden1/bias&quot;\\n  input: &quot;save/RestoreV2:8&quot;\\n  attr {\\n    key: &quot;T&quot;\\n    value {\\n      type: DT_FLOAT\\n    }\\n  }\\n  attr {\\n    key: &quot;_class&quot;\\n    value {\\n      list {\\n        s: &quot;loc:@dnn_3/hidden1/bias&quot;\\n      }\\n    }\\n  }\\n  attr {\\n    key: &quot;use_locking&quot;\\n    value {\\n      b: true\\n    }\\n  }\\n  attr {\\n    key: &quot;validate_shape&quot;\\n    value {\\n      b: true\\n    }\\n  }\\n}\\nnode {\\n  name: &quot;save/Assign_9&quot;\\n  op: &quot;Assign&quot;\\n  input: &quot;dnn_3/hidden1/kernel&quot;\\n  input: &quot;save/RestoreV2:9&quot;\\n  attr {\\n    key: &quot;T&quot;\\n    value {\\n      type: DT_FLOAT\\n    }\\n  }\\n  attr {\\n    key: &quot;_class&quot;\\n    value {\\n      list {\\n        s: &quot;loc:@dnn_3/hidden1/kernel&quot;\\n      }\\n    }\\n  }\\n  attr {\\n    key: &quot;use_locking&quot;\\n    value {\\n      b: true\\n    }\\n  }\\n  attr {\\n    key: &quot;validate_shape&quot;\\n    value {\\n      b: true\\n    }\\n  }\\n}\\nnode {\\n  name: &quot;save/Assign_10&quot;\\n  op: &quot;Assign&quot;\\n  input: &quot;dnn_3/hidden2/bias&quot;\\n  input: &quot;save/RestoreV2:10&quot;\\n  attr {\\n    key: &quot;T&quot;\\n    value {\\n      type: DT_FLOAT\\n    }\\n  }\\n  attr {\\n    key: &quot;_class&quot;\\n    value {\\n      list {\\n        s: &quot;loc:@dnn_3/hidden2/bias&quot;\\n      }\\n    }\\n  }\\n  attr {\\n    key: &quot;use_locking&quot;\\n    value {\\n      b: true\\n    }\\n  }\\n  attr {\\n    key: &quot;validate_shape&quot;\\n    value {\\n      b: true\\n    }\\n  }\\n}\\nnode {\\n  name: &quot;save/Assign_11&quot;\\n  op: &quot;Assign&quot;\\n  input: &quot;dnn_3/hidden2/kernel&quot;\\n  input: &quot;save/RestoreV2:11&quot;\\n  attr {\\n    key: &quot;T&quot;\\n    value {\\n      type: DT_FLOAT\\n    }\\n  }\\n  attr {\\n    key: &quot;_class&quot;\\n    value {\\n      list {\\n        s: &quot;loc:@dnn_3/hidden2/kernel&quot;\\n      }\\n    }\\n  }\\n  attr {\\n    key: &quot;use_locking&quot;\\n    value {\\n      b: true\\n    }\\n  }\\n  attr {\\n    key: &quot;validate_shape&quot;\\n    value {\\n      b: true\\n    }\\n  }\\n}\\nnode {\\n  name: &quot;save/Assign_12&quot;\\n  op: &quot;Assign&quot;\\n  input: &quot;dnn_4/hidden1/bias&quot;\\n  input: &quot;save/RestoreV2:12&quot;\\n  attr {\\n    key: &quot;T&quot;\\n    value {\\n      type: DT_FLOAT\\n    }\\n  }\\n  attr {\\n    key: &quot;_class&quot;\\n    value {\\n      list {\\n        s: &quot;loc:@dnn_4/hidden1/bias&quot;\\n      }\\n    }\\n  }\\n  attr {\\n    key: &quot;use_locking&quot;\\n    value {\\n      b: true\\n    }\\n  }\\n  attr {\\n    key: &quot;validate_shape&quot;\\n    value {\\n      b: true\\n    }\\n  }\\n}\\nnode {\\n  name: &quot;save/Assign_13&quot;\\n  op: &quot;Assign&quot;\\n  input: &quot;dnn_4/hidden1/kernel&quot;\\n  input: &quot;save/RestoreV2:13&quot;\\n  attr {\\n    key: &quot;T&quot;\\n    value {\\n      type: DT_FLOAT\\n    }\\n  }\\n  attr {\\n    key: &quot;_class&quot;\\n    value {\\n      list {\\n        s: &quot;loc:@dnn_4/hidden1/kernel&quot;\\n      }\\n    }\\n  }\\n  attr {\\n    key: &quot;use_locking&quot;\\n    value {\\n      b: true\\n    }\\n  }\\n  attr {\\n    key: &quot;validate_shape&quot;\\n    value {\\n      b: true\\n    }\\n  }\\n}\\nnode {\\n  name: &quot;save/Assign_14&quot;\\n  op: &quot;Assign&quot;\\n  input: &quot;dnn_4/hidden2/bias&quot;\\n  input: &quot;save/RestoreV2:14&quot;\\n  attr {\\n    key: &quot;T&quot;\\n    value {\\n      type: DT_FLOAT\\n    }\\n  }\\n  attr {\\n    key: &quot;_class&quot;\\n    value {\\n      list {\\n        s: &quot;loc:@dnn_4/hidden2/bias&quot;\\n      }\\n    }\\n  }\\n  attr {\\n    key: &quot;use_locking&quot;\\n    value {\\n      b: true\\n    }\\n  }\\n  attr {\\n    key: &quot;validate_shape&quot;\\n    value {\\n      b: true\\n    }\\n  }\\n}\\nnode {\\n  name: &quot;save/Assign_15&quot;\\n  op: &quot;Assign&quot;\\n  input: &quot;dnn_4/hidden2/kernel&quot;\\n  input: &quot;save/RestoreV2:15&quot;\\n  attr {\\n    key: &quot;T&quot;\\n    value {\\n      type: DT_FLOAT\\n    }\\n  }\\n  attr {\\n    key: &quot;_class&quot;\\n    value {\\n      list {\\n        s: &quot;loc:@dnn_4/hidden2/kernel&quot;\\n      }\\n    }\\n  }\\n  attr {\\n    key: &quot;use_locking&quot;\\n    value {\\n      b: true\\n    }\\n  }\\n  attr {\\n    key: &quot;validate_shape&quot;\\n    value {\\n      b: true\\n    }\\n  }\\n}\\nnode {\\n  name: &quot;save/Assign_16&quot;\\n  op: &quot;Assign&quot;\\n  input: &quot;dnn_4/output/bias&quot;\\n  input: &quot;save/RestoreV2:16&quot;\\n  attr {\\n    key: &quot;T&quot;\\n    value {\\n      type: DT_FLOAT\\n    }\\n  }\\n  attr {\\n    key: &quot;_class&quot;\\n    value {\\n      list {\\n        s: &quot;loc:@dnn_4/output/bias&quot;\\n      }\\n    }\\n  }\\n  attr {\\n    key: &quot;use_locking&quot;\\n    value {\\n      b: true\\n    }\\n  }\\n  attr {\\n    key: &quot;validate_shape&quot;\\n    value {\\n      b: true\\n    }\\n  }\\n}\\nnode {\\n  name: &quot;save/Assign_17&quot;\\n  op: &quot;Assign&quot;\\n  input: &quot;dnn_4/output/kernel&quot;\\n  input: &quot;save/RestoreV2:17&quot;\\n  attr {\\n    key: &quot;T&quot;\\n    value {\\n      type: DT_FLOAT\\n    }\\n  }\\n  attr {\\n    key: &quot;_class&quot;\\n    value {\\n      list {\\n        s: &quot;loc:@dnn_4/output/kernel&quot;\\n      }\\n    }\\n  }\\n  attr {\\n    key: &quot;use_locking&quot;\\n    value {\\n      b: true\\n    }\\n  }\\n  attr {\\n    key: &quot;validate_shape&quot;\\n    value {\\n      b: true\\n    }\\n  }\\n}\\nnode {\\n  name: &quot;save/restore_all&quot;\\n  op: &quot;NoOp&quot;\\n  input: &quot;^save/Assign&quot;\\n  input: &quot;^save/Assign_1&quot;\\n  input: &quot;^save/Assign_2&quot;\\n  input: &quot;^save/Assign_3&quot;\\n  input: &quot;^save/Assign_4&quot;\\n  input: &quot;^save/Assign_5&quot;\\n  input: &quot;^save/Assign_6&quot;\\n  input: &quot;^save/Assign_7&quot;\\n  input: &quot;^save/Assign_8&quot;\\n  input: &quot;^save/Assign_9&quot;\\n  input: &quot;^save/Assign_10&quot;\\n  input: &quot;^save/Assign_11&quot;\\n  input: &quot;^save/Assign_12&quot;\\n  input: &quot;^save/Assign_13&quot;\\n  input: &quot;^save/Assign_14&quot;\\n  input: &quot;^save/Assign_15&quot;\\n  input: &quot;^save/Assign_16&quot;\\n  input: &quot;^save/Assign_17&quot;\\n}\\n';\n",
       "          }\n",
       "        </script>\n",
       "        <link rel=&quot;import&quot; href=&quot;https://tensorboard.appspot.com/tf-graph-basic.build.html&quot; onload=load()>\n",
       "        <div style=&quot;height:600px&quot;>\n",
       "          <tf-graph-basic id=&quot;graph0.9683290662680211&quot;></tf-graph-basic>\n",
       "        </div>\n",
       "    \"></iframe>\n",
       "    "
      ],
      "text/plain": [
       "<IPython.core.display.HTML object>"
      ]
     },
     "metadata": {},
     "output_type": "display_data"
    }
   ],
   "source": [
    "from tensorflow_graph_in_jupyter import show_graph\n",
    "show_graph(tf.get_default_graph())"
   ]
  },
  {
   "cell_type": "markdown",
   "metadata": {},
   "source": [
    "# Using dense() instead of neuron_layer()"
   ]
  },
  {
   "cell_type": "code",
   "execution_count": 38,
   "metadata": {
    "ExecuteTime": {
     "end_time": "2019-06-04T01:38:17.643704Z",
     "start_time": "2019-06-04T01:38:17.635324Z"
    }
   },
   "outputs": [],
   "source": [
    "n_inputs = 28*28\n",
    "n_hidden1 = 300\n",
    "n_hidden2 = 100\n",
    "n_outputs = 10"
   ]
  },
  {
   "cell_type": "code",
   "execution_count": 39,
   "metadata": {
    "ExecuteTime": {
     "end_time": "2019-06-04T01:38:18.024188Z",
     "start_time": "2019-06-04T01:38:18.015145Z"
    }
   },
   "outputs": [],
   "source": [
    "reset_graph()\n",
    "\n",
    "X = tf.placeholder(tf.float32, shape=(None, n_inputs), name='X')\n",
    "y = tf.placeholder(tf.int32, shape=(None), name='y')"
   ]
  },
  {
   "cell_type": "code",
   "execution_count": 40,
   "metadata": {
    "ExecuteTime": {
     "end_time": "2019-06-04T01:38:18.638212Z",
     "start_time": "2019-06-04T01:38:18.566143Z"
    }
   },
   "outputs": [],
   "source": [
    "with tf.name_scope('dnn'):\n",
    "    hidden1 = tf.layers.dense(X, n_hidden1, name='hidden1', activation=tf.nn.relu)\n",
    "    hidden2 = tf.layers.dense(hidden1, n_hidden2, name='hidden2', activation=tf.nn.relu)\n",
    "    logits = tf.layers.dense(hidden2, n_outputs, name='outputs')\n",
    "    y_proba = tf.nn.softmax(logits)"
   ]
  },
  {
   "cell_type": "code",
   "execution_count": 41,
   "metadata": {
    "ExecuteTime": {
     "end_time": "2019-06-04T01:38:19.071156Z",
     "start_time": "2019-06-04T01:38:19.061893Z"
    }
   },
   "outputs": [],
   "source": [
    "with tf.name_scope('loss'):\n",
    "    xentropy = tf.nn.sparse_softmax_cross_entropy_with_logits(labels=y, logits=logits)\n",
    "    loss = tf.reduce_mean(xentropy, name='loss')"
   ]
  },
  {
   "cell_type": "code",
   "execution_count": 42,
   "metadata": {
    "ExecuteTime": {
     "end_time": "2019-06-04T01:54:08.727194Z",
     "start_time": "2019-06-04T01:54:08.617843Z"
    }
   },
   "outputs": [],
   "source": [
    "learnig_rate = 0.01\n",
    "\n",
    "with tf.name_scope('train'):\n",
    "    optimizer = tf.train.GradientDescentOptimizer(learnig_rate)\n",
    "    training_op = optimizer.minimize(loss)"
   ]
  },
  {
   "cell_type": "code",
   "execution_count": 43,
   "metadata": {
    "ExecuteTime": {
     "end_time": "2019-06-04T01:55:27.260864Z",
     "start_time": "2019-06-04T01:55:27.250324Z"
    }
   },
   "outputs": [],
   "source": [
    "with tf.name_scope('eval'):\n",
    "    correct = tf.nn.in_top_k(logits, y, 1)\n",
    "    accuracy = tf.reduce_mean(tf.cast(correct, tf.float32))"
   ]
  },
  {
   "cell_type": "code",
   "execution_count": 44,
   "metadata": {
    "ExecuteTime": {
     "end_time": "2019-06-04T01:55:39.085770Z",
     "start_time": "2019-06-04T01:55:39.066223Z"
    }
   },
   "outputs": [],
   "source": [
    "init = tf.global_variables_initializer()\n",
    "saver = tf.train.Saver()"
   ]
  },
  {
   "cell_type": "code",
   "execution_count": null,
   "metadata": {
    "ExecuteTime": {
     "start_time": "2019-06-04T01:56:48.055Z"
    }
   },
   "outputs": [
    {
     "name": "stdout",
     "output_type": "stream",
     "text": [
      "0 Batch accuracy: 0.86 Validation accuracy: 0.9042\n",
      "1 Batch accuracy: 0.92 Validation accuracy: 0.9226\n",
      "2 Batch accuracy: 0.94 Validation accuracy: 0.9334\n",
      "3 Batch accuracy: 0.92 Validation accuracy: 0.94\n",
      "4 Batch accuracy: 0.94 Validation accuracy: 0.9468\n",
      "5 Batch accuracy: 0.94 Validation accuracy: 0.9496\n",
      "6 Batch accuracy: 1.0 Validation accuracy: 0.9564\n",
      "7 Batch accuracy: 0.96 Validation accuracy: 0.957\n",
      "8 Batch accuracy: 0.96 Validation accuracy: 0.961\n",
      "9 Batch accuracy: 0.92 Validation accuracy: 0.9616\n",
      "10 Batch accuracy: 0.92 Validation accuracy: 0.9656\n",
      "11 Batch accuracy: 0.98 Validation accuracy: 0.9672\n",
      "12 Batch accuracy: 0.98 Validation accuracy: 0.968\n",
      "13 Batch accuracy: 0.98 Validation accuracy: 0.9688\n",
      "14 Batch accuracy: 1.0 Validation accuracy: 0.971\n",
      "15 Batch accuracy: 0.94 Validation accuracy: 0.9714\n",
      "16 Batch accuracy: 1.0 Validation accuracy: 0.9732\n",
      "17 Batch accuracy: 1.0 Validation accuracy: 0.9728\n"
     ]
    }
   ],
   "source": [
    "n_epochs = 20\n",
    "n_batches = 50\n",
    "\n",
    "with tf.Session() as sess:\n",
    "    init.run()\n",
    "    for epoch in range(n_epochs):\n",
    "        for X_batch, y_batch in shuffle_batch(X_train, y_train, batch_size):\n",
    "            sess.run(training_op, feed_dict={X: X_batch, y: y_batch})\n",
    "        acc_batch = accuracy.eval(feed_dict={X: X_batch, y: y_batch})\n",
    "        acc_valid = accuracy.eval(feed_dict={X: X_valid, y: y_valid})\n",
    "        print(epoch, \"Batch accuracy:\", acc_batch, \"Validation accuracy:\", acc_valid)\n",
    "\n",
    "    save_path = saver.save(sess, \"./model/DNN_with_dense_final.ckpt\")"
   ]
  },
  {
   "cell_type": "code",
   "execution_count": null,
   "metadata": {},
   "outputs": [],
   "source": []
  },
  {
   "cell_type": "code",
   "execution_count": null,
   "metadata": {},
   "outputs": [],
   "source": []
  },
  {
   "cell_type": "code",
   "execution_count": null,
   "metadata": {},
   "outputs": [],
   "source": []
  }
 ],
 "metadata": {
  "kernelspec": {
   "display_name": "Python 3",
   "language": "python",
   "name": "python3"
  },
  "language_info": {
   "codemirror_mode": {
    "name": "ipython",
    "version": 3
   },
   "file_extension": ".py",
   "mimetype": "text/x-python",
   "name": "python",
   "nbconvert_exporter": "python",
   "pygments_lexer": "ipython3",
   "version": "3.6.4"
  },
  "toc": {
   "base_numbering": 1,
   "nav_menu": {},
   "number_sections": true,
   "sideBar": false,
   "skip_h1_title": false,
   "title_cell": "Table of Contents",
   "title_sidebar": "Contents",
   "toc_cell": false,
   "toc_position": {
    "height": "307px",
    "left": "1024px",
    "top": "93px",
    "width": "231px"
   },
   "toc_section_display": true,
   "toc_window_display": true
  }
 },
 "nbformat": 4,
 "nbformat_minor": 2
}
