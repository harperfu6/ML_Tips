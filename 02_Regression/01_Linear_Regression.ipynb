{
 "cells": [
  {
   "cell_type": "markdown",
   "metadata": {},
   "source": [
    "# Linear regression using the Normal Equation"
   ]
  },
  {
   "cell_type": "code",
   "execution_count": 25,
   "metadata": {
    "ExecuteTime": {
     "end_time": "2019-04-28T09:24:42.240460Z",
     "start_time": "2019-04-28T09:24:42.227983Z"
    }
   },
   "outputs": [],
   "source": [
    "import os\n",
    "import numpy as np\n",
    "\n",
    "import matplotlib.pyplot as plt\n",
    "%matplotlib inline"
   ]
  },
  {
   "cell_type": "code",
   "execution_count": 29,
   "metadata": {
    "ExecuteTime": {
     "end_time": "2019-04-28T09:32:40.558692Z",
     "start_time": "2019-04-28T09:32:40.553271Z"
    }
   },
   "outputs": [],
   "source": [
    "# to make this notebook's output stable across runs\n",
    "np.random.seed(42)"
   ]
  },
  {
   "cell_type": "code",
   "execution_count": 26,
   "metadata": {
    "ExecuteTime": {
     "end_time": "2019-04-28T09:28:45.665799Z",
     "start_time": "2019-04-28T09:28:45.653409Z"
    }
   },
   "outputs": [],
   "source": [
    "def save_fig(fig_name, tight_layout=True):\n",
    "    path =os.path.join('data', \"images\", fig_name+'.png')\n",
    "    print(\"Saving figure\", fig_name)\n",
    "    if tight_layout:\n",
    "        plt.tight_layout()\n",
    "    plt.savefig(path, format='png', dpi=300)"
   ]
  },
  {
   "cell_type": "code",
   "execution_count": 30,
   "metadata": {
    "ExecuteTime": {
     "end_time": "2019-04-28T09:32:44.052716Z",
     "start_time": "2019-04-28T09:32:44.047245Z"
    }
   },
   "outputs": [],
   "source": [
    "X = 2 * np.random.rand(100, 1)\n",
    "y = 4 + 3 * X + np.random.rand(100, 1)"
   ]
  },
  {
   "cell_type": "code",
   "execution_count": 31,
   "metadata": {
    "ExecuteTime": {
     "end_time": "2019-04-28T09:32:45.064524Z",
     "start_time": "2019-04-28T09:32:44.251989Z"
    }
   },
   "outputs": [
    {
     "name": "stdout",
     "output_type": "stream",
     "text": [
      "Saving figure generated_data_plot\n"
     ]
    },
    {
     "data": {
      "image/png": "[encoded data removed]",
      "text/plain": [
       "<matplotlib.figure.Figure at 0x112d38048>"
      ]
     },
     "metadata": {},
     "output_type": "display_data"
    }
   ],
   "source": [
    "plt.plot(X, y, \"b.\")\n",
    "plt.xlabel('$x_1$', fontsize=18)\n",
    "plt.ylabel('$y$', fontsize=18)\n",
    "plt.axis([0, 2, 0, 15])\n",
    "save_fig('generated_data_plot')\n",
    "plt.show()"
   ]
  },
  {
   "cell_type": "code",
   "execution_count": 38,
   "metadata": {
    "ExecuteTime": {
     "end_time": "2019-04-28T09:40:55.876471Z",
     "start_time": "2019-04-28T09:40:55.842547Z"
    }
   },
   "outputs": [],
   "source": [
    "X_b = np.c_[np.ones((100, 1)), X]\n",
    "theta_best = np.linalg.inv(X_b.T.dot(X_b)).dot(X_b.T).dot(y) # normal equation"
   ]
  },
  {
   "cell_type": "code",
   "execution_count": 39,
   "metadata": {
    "ExecuteTime": {
     "end_time": "2019-04-28T09:41:01.309581Z",
     "start_time": "2019-04-28T09:41:01.300209Z"
    }
   },
   "outputs": [
    {
     "data": {
      "text/plain": [
       "array([[4.51359766],\n",
       "       [2.98323418]])"
      ]
     },
     "execution_count": 39,
     "metadata": {},
     "output_type": "execute_result"
    }
   ],
   "source": [
    "theta_best"
   ]
  },
  {
   "cell_type": "markdown",
   "metadata": {},
   "source": [
    "y = 4 + 3*xに近い！！"
   ]
  },
  {
   "cell_type": "markdown",
   "metadata": {},
   "source": [
    "x = 0 , 2の時の，正規方程式で求めたパラメータによる推測値（直線で結ぶために求めておく）"
   ]
  },
  {
   "cell_type": "code",
   "execution_count": 42,
   "metadata": {
    "ExecuteTime": {
     "end_time": "2019-04-28T09:44:56.458646Z",
     "start_time": "2019-04-28T09:44:56.449460Z"
    },
    "scrolled": true
   },
   "outputs": [
    {
     "data": {
      "text/plain": [
       "array([[ 4.51359766],\n",
       "       [10.48006601]])"
      ]
     },
     "execution_count": 42,
     "metadata": {},
     "output_type": "execute_result"
    }
   ],
   "source": [
    "X_new = np.array([[0], [2]])\n",
    "X_new_b = np.c_[np.ones((2,1)), X_new]\n",
    "y_predict = X_new_b.dot(theta_best)\n",
    "y_predict"
   ]
  },
  {
   "cell_type": "code",
   "execution_count": 43,
   "metadata": {
    "ExecuteTime": {
     "end_time": "2019-04-28T09:49:40.791873Z",
     "start_time": "2019-04-28T09:49:39.938421Z"
    }
   },
   "outputs": [
    {
     "name": "stdout",
     "output_type": "stream",
     "text": [
      "Saving figure linear_model_predictions\n"
     ]
    },
    {
     "data": {
      "image/png": "[encoded data removed]",
      "text/plain": [
       "<matplotlib.figure.Figure at 0x10f98bbe0>"
      ]
     },
     "metadata": {},
     "output_type": "display_data"
    }
   ],
   "source": [
    "plt.plot(X_new, y_predict, 'r-', linewidth=2, label='Predicitons')\n",
    "plt.plot(X, y, 'b.')\n",
    "plt.xlabel('$x_1$', fontsize=18)\n",
    "plt.ylabel('$y$', fontsize=18)\n",
    "plt.legend(loc='upper left', fontsize=14)\n",
    "plt.axis([0,2,0,15])\n",
    "save_fig('linear_model_predictions')\n",
    "plt.show()"
   ]
  },
  {
   "cell_type": "markdown",
   "metadata": {},
   "source": [
    "## scikit learnによるLinearRegression"
   ]
  },
  {
   "cell_type": "code",
   "execution_count": 45,
   "metadata": {
    "ExecuteTime": {
     "end_time": "2019-04-28T09:52:53.587677Z",
     "start_time": "2019-04-28T09:52:53.578447Z"
    },
    "scrolled": true
   },
   "outputs": [
    {
     "data": {
      "text/plain": [
       "(array([4.51359766]), array([[2.98323418]]))"
      ]
     },
     "execution_count": 45,
     "metadata": {},
     "output_type": "execute_result"
    }
   ],
   "source": [
    "from sklearn.linear_model import LinearRegression\n",
    "lin_reg = LinearRegression()\n",
    "lin_reg.fit(X, y)\n",
    "lin_reg.intercept_, lin_reg.coef_"
   ]
  },
  {
   "cell_type": "markdown",
   "metadata": {},
   "source": [
    "scikit learnで求めた場合と同じ！"
   ]
  },
  {
   "cell_type": "markdown",
   "metadata": {},
   "source": [
    "ちなみにscikit learnでは，下記の「擬似逆行列」を使った計算をしているだけ（a = X^-1 * y）"
   ]
  },
  {
   "cell_type": "markdown",
   "metadata": {},
   "source": [
    "ただし，一般的な正規方程式（Xの転置を両辺にかける方法）よりも逆行列の計算コストが多くかかるし，正規方程式の方が導入が自然[https://qiita.com/antimon2/items/ac1ebaed75ad58406b94]"
   ]
  },
  {
   "cell_type": "markdown",
   "metadata": {},
   "source": [
    "ちなみに，「擬似逆行列」は一般化逆行列ともいい，正則でない行列のみならず正則でなくかつ正方でない行列にも逆行列をとることを許す逆行列"
   ]
  },
  {
   "cell_type": "code",
   "execution_count": 48,
   "metadata": {
    "ExecuteTime": {
     "end_time": "2019-04-28T09:57:21.215158Z",
     "start_time": "2019-04-28T09:57:21.187874Z"
    }
   },
   "outputs": [
    {
     "data": {
      "text/plain": [
       "array([[4.51359766],\n",
       "       [2.98323418]])"
      ]
     },
     "execution_count": 48,
     "metadata": {},
     "output_type": "execute_result"
    }
   ],
   "source": [
    "np.linalg.pinv(X_b).dot(y)"
   ]
  },
  {
   "cell_type": "code",
   "execution_count": 47,
   "metadata": {
    "ExecuteTime": {
     "end_time": "2019-04-28T09:53:49.401144Z",
     "start_time": "2019-04-28T09:53:49.392959Z"
    }
   },
   "outputs": [
    {
     "data": {
      "text/plain": [
       "array([[ 4.51359766],\n",
       "       [10.48006601]])"
      ]
     },
     "execution_count": 47,
     "metadata": {},
     "output_type": "execute_result"
    }
   ],
   "source": [
    "lin_reg.predict(X_new)"
   ]
  },
  {
   "cell_type": "markdown",
   "metadata": {},
   "source": [
    "# Linear regression using batch gradient descent"
   ]
  },
  {
   "cell_type": "markdown",
   "metadata": {},
   "source": [
    "gradientは，MSEコスト関数の偏微分"
   ]
  },
  {
   "cell_type": "code",
   "execution_count": 49,
   "metadata": {
    "ExecuteTime": {
     "end_time": "2019-04-28T10:43:18.237845Z",
     "start_time": "2019-04-28T10:43:18.209762Z"
    }
   },
   "outputs": [],
   "source": [
    "eta = 0.1\n",
    "n_iterations = 1000\n",
    "m = 100\n",
    "theta = np.random.randn(2,1)\n",
    "\n",
    "for iteration in range(n_iterations):\n",
    "    gradients = 2/m * X_b.T.dot(X_b.dot(theta) - y)\n",
    "    theta = theta - eta * gradients"
   ]
  },
  {
   "cell_type": "markdown",
   "metadata": {},
   "source": [
    "上記X_bは全てのサンプルを使っている，これが「バッチ勾配降下法」と言われている所以．よって，サンプルが大規模だととてつもなく遅くなる．ただし，「特徴量の数」に対するスケーリングは優れている．また，特徴量が数十万個ある場合は逆行列を求める正規方程式よりもずっと高速．"
   ]
  },
  {
   "cell_type": "code",
   "execution_count": 50,
   "metadata": {
    "ExecuteTime": {
     "end_time": "2019-04-28T10:43:21.107563Z",
     "start_time": "2019-04-28T10:43:21.099335Z"
    }
   },
   "outputs": [
    {
     "data": {
      "text/plain": [
       "array([[4.51359766],\n",
       "       [2.98323418]])"
      ]
     },
     "execution_count": 50,
     "metadata": {},
     "output_type": "execute_result"
    }
   ],
   "source": [
    "theta"
   ]
  },
  {
   "cell_type": "markdown",
   "metadata": {},
   "source": [
    "同じ結果！！（勾配降下法が完全に機能した！）"
   ]
  },
  {
   "cell_type": "markdown",
   "metadata": {},
   "source": [
    "だが，eta（学習率）を変えてみたらどうだろう.."
   ]
  },
  {
   "cell_type": "code",
   "execution_count": 87,
   "metadata": {
    "ExecuteTime": {
     "end_time": "2019-04-29T00:17:46.627857Z",
     "start_time": "2019-04-29T00:17:46.600871Z"
    }
   },
   "outputs": [],
   "source": [
    "theta_path_bgd = []\n",
    "\n",
    "def plot_gradient_descent(theta, eta, theta_path=None):\n",
    "    m = len(X_b)\n",
    "    plt.plot(X, y, 'b.')\n",
    "    n_iterations = 1000\n",
    "    for iteration in range(n_iterations):\n",
    "        if iteration < 10:\n",
    "            y_predict = X_new_b.dot(theta) # for make line\n",
    "            style = 'b-' if iteration > 0 else 'r--'\n",
    "            plt.plot(X_new, y_predict, style)\n",
    "        gradients = 2/m * X_b.T.dot(X_b.dot(theta) - y)\n",
    "        theta = theta - eta * gradients\n",
    "        if theta_path is not None:\n",
    "            theta_path.append(theta)\n",
    "    \n",
    "    plt.xlabel('$x_1$', fontsize=18)\n",
    "    plt.axis([0,2,0,15])\n",
    "    plt.title(r'$\\eta = {}$'.format(eta), fontsize=16)"
   ]
  },
  {
   "cell_type": "code",
   "execution_count": 88,
   "metadata": {
    "ExecuteTime": {
     "end_time": "2019-04-29T00:17:49.091743Z",
     "start_time": "2019-04-29T00:17:48.331038Z"
    }
   },
   "outputs": [
    {
     "data": {
      "image/png": "[encoded data removed]",
      "text/plain": [
       "<matplotlib.figure.Figure at 0x112db6ba8>"
      ]
     },
     "metadata": {},
     "output_type": "display_data"
    }
   ],
   "source": [
    "theta = np.random.randn(2, 1)\n",
    "\n",
    "plt.figure(figsize=(20, 4))\n",
    "plt.subplot(131);plot_gradient_descent(theta, eta=0.02)\n",
    "plt.ylabel('$y$', rotation=0, fontsize=18)\n",
    "plt.subplot(132);plot_gradient_descent(theta, eta=0.1, theta_path=theta_path_bgd)\n",
    "plt.subplot(133);plot_gradient_descent(theta, eta=0.5)\n",
    "\n",
    "plt.show()"
   ]
  },
  {
   "cell_type": "markdown",
   "metadata": {},
   "source": [
    "左のグラフは学習率が低すぎて収束に時間がかかる．中央のグラフはグッド！実際に収束し始めている．右のグラフは高すぎて発散してしまっている．"
   ]
  },
  {
   "cell_type": "markdown",
   "metadata": {},
   "source": [
    "**scikit learnでは実装されていないことに注意しよう**"
   ]
  },
  {
   "cell_type": "markdown",
   "metadata": {},
   "source": [
    "## Tips（収束率）"
   ]
  },
  {
   "cell_type": "markdown",
   "metadata": {
    "ExecuteTime": {
     "end_time": "2019-04-28T23:20:01.666829Z",
     "start_time": "2019-04-28T23:20:01.659785Z"
    }
   },
   "source": [
    "学習率が固定の場合，最適解にたどり着くためには，許容誤差εについて，O(1/ε)回のイテレーションが必要になる．つまり許容誤差を1/10にすれば，イテレーションは10倍になる．"
   ]
  },
  {
   "cell_type": "markdown",
   "metadata": {},
   "source": [
    "# Stochastic Gradient Descent"
   ]
  },
  {
   "cell_type": "code",
   "execution_count": 71,
   "metadata": {
    "ExecuteTime": {
     "end_time": "2019-04-28T23:34:55.708708Z",
     "start_time": "2019-04-28T23:34:55.705583Z"
    }
   },
   "outputs": [],
   "source": [
    "theta_path_sgd = []\n",
    "m = len(X_b)"
   ]
  },
  {
   "cell_type": "code",
   "execution_count": 73,
   "metadata": {
    "ExecuteTime": {
     "end_time": "2019-04-28T23:38:23.940823Z",
     "start_time": "2019-04-28T23:38:23.526169Z"
    }
   },
   "outputs": [
    {
     "data": {
      "image/png": "[encoded data removed]",
      "text/plain": [
       "<matplotlib.figure.Figure at 0x116bc4400>"
      ]
     },
     "metadata": {},
     "output_type": "display_data"
    }
   ],
   "source": [
    "n_epochs = 50\n",
    "t0, t1 = 5, 50\n",
    "\n",
    "def learning_schedule(t):\n",
    "    return t0 / (t+t1)\n",
    "\n",
    "theta = np.random.randn(2,1)\n",
    "\n",
    "for epoch in range(n_epochs):\n",
    "    for i in range(m):\n",
    "        if epoch == 0 and i < 20:\n",
    "            y_predict = X_new_b.dot(theta)\n",
    "            style = 'b-' if i > 0 else 'r--'\n",
    "            plt.plot(X_new, y_predict, style)\n",
    "        random_index = np.random.randint(m)\n",
    "        xi = X_b[random_index:random_index+1]\n",
    "        yi = y[random_index:random_index+1]\n",
    "        gradients = 2 * xi.T.dot(xi.dot(theta) - yi)\n",
    "        eta = learning_schedule(epoch*m+i)\n",
    "        theta = theta - eta*gradients\n",
    "        theta_path_sgd.append(theta)\n",
    "        \n",
    "plt.plot(X, y, 'b.')\n",
    "plt.xlabel('$x_1$', fontsize=18)\n",
    "plt.ylabel('$y$', fontsize=18)\n",
    "plt.axis([0, 2, 0, 15])\n",
    "plt.show()"
   ]
  },
  {
   "cell_type": "code",
   "execution_count": 74,
   "metadata": {
    "ExecuteTime": {
     "end_time": "2019-04-28T23:38:39.568784Z",
     "start_time": "2019-04-28T23:38:39.562136Z"
    }
   },
   "outputs": [
    {
     "data": {
      "text/plain": [
       "array([[4.495073  ],\n",
       "       [2.98458435]])"
      ]
     },
     "execution_count": 74,
     "metadata": {},
     "output_type": "execute_result"
    }
   ],
   "source": [
    "theta"
   ]
  },
  {
   "cell_type": "markdown",
   "metadata": {},
   "source": [
    "ほぼ最適解"
   ]
  },
  {
   "cell_type": "markdown",
   "metadata": {},
   "source": [
    "SDG(確率的勾配降下法)は，各ステップでサンプルを「１つだけ」無作為に取り出すため，サンプル全体を使うバッチ勾配降下法に比べて非常に高速．しかもイテレーションごとにメモリに入れておかねばならないサンプルも１つだけなので，どれだけ巨大なサンプルでも学習できる（SDGは，アウトオブコアとして実装できる）．"
   ]
  },
  {
   "cell_type": "markdown",
   "metadata": {},
   "source": [
    "一方で，確率的（つまり無作為）な性質をもつため，収束の仕方はかなり不規則．コストも上下に跳ねまわり”平均的に”収束する．よって，最終的なパラメータは十分良いが最適ではない．しかしながら，この不規則性により外に飛び出しやすいので局所最小解を抜けやすくもある．"
   ]
  },
  {
   "cell_type": "markdown",
   "metadata": {},
   "source": [
    "つまり，無作為性は局所最小解を抜けるにはよいが，最小値になかなか落ち着かない可能性がある．このジレンマを解決するために，学習率を少しずつ小さくするという方法がある．学習が進むに連れて，ステップを小さくしていけば最小値に落ち着く（このプロセスが，溶けた金属を冷やしていく焼きなましに似ていることから「焼きなまし法」ともいう）．この学習率を決める関数を「学習スケジュール」と呼ぶ．この関数の定義は様々だが，学習率の下げ方を急激にしすぎたり，緩やかにしすぎたりしないように注意しよう．"
   ]
  },
  {
   "cell_type": "markdown",
   "metadata": {},
   "source": [
    "## scikit learnによるSGD"
   ]
  },
  {
   "cell_type": "code",
   "execution_count": 78,
   "metadata": {
    "ExecuteTime": {
     "end_time": "2019-04-28T23:58:43.103408Z",
     "start_time": "2019-04-28T23:58:43.056557Z"
    }
   },
   "outputs": [
    {
     "name": "stderr",
     "output_type": "stream",
     "text": [
      "/Users/yamaji/study/python/py36/env/lib/python3.6/site-packages/sklearn/utils/validation.py:578: DataConversionWarning: A column-vector y was passed when a 1d array was expected. Please change the shape of y to (n_samples, ), for example using ravel().\n",
      "  y = column_or_1d(y, warn=True)\n"
     ]
    },
    {
     "data": {
      "text/plain": [
       "SGDRegressor(alpha=0.0001, average=False, epsilon=0.1, eta0=0.1,\n",
       "       fit_intercept=True, l1_ratio=0.15, learning_rate='invscaling',\n",
       "       loss='squared_loss', max_iter=50, n_iter=None, penalty=None,\n",
       "       power_t=0.25, random_state=42, shuffle=True, tol=-inf, verbose=0,\n",
       "       warm_start=False)"
      ]
     },
     "execution_count": 78,
     "metadata": {},
     "output_type": "execute_result"
    }
   ],
   "source": [
    "from sklearn.linear_model import SGDRegressor\n",
    "sgd_reg = SGDRegressor(max_iter=50, tol=-np.Infinity, penalty=None, eta0=0.1, random_state=42)\n",
    "# sgd_reg.fit(X, y.ravel())\n",
    "sgd_reg.fit(X, y)"
   ]
  },
  {
   "cell_type": "code",
   "execution_count": 79,
   "metadata": {
    "ExecuteTime": {
     "end_time": "2019-04-28T23:59:00.916877Z",
     "start_time": "2019-04-28T23:59:00.909600Z"
    }
   },
   "outputs": [
    {
     "data": {
      "text/plain": [
       "(array([4.51388816]), array([2.98206789]))"
      ]
     },
     "execution_count": 79,
     "metadata": {},
     "output_type": "execute_result"
    }
   ],
   "source": [
    "sgd_reg.intercept_, sgd_reg.coef_"
   ]
  },
  {
   "cell_type": "markdown",
   "metadata": {},
   "source": [
    "# Mini-batch gradient descent"
   ]
  },
  {
   "cell_type": "code",
   "execution_count": 98,
   "metadata": {
    "ExecuteTime": {
     "end_time": "2019-04-29T00:24:33.775808Z",
     "start_time": "2019-04-29T00:24:33.663609Z"
    },
    "scrolled": false
   },
   "outputs": [],
   "source": [
    "theta_path_mgd = []\n",
    "\n",
    "n_iterations = 50\n",
    "minibatch_size = 20\n",
    "\n",
    "np.random.seed(42)\n",
    "theta = np.random.randn(2,1)  # random initialization\n",
    "\n",
    "t0, t1 = 200, 1000\n",
    "def learning_schedule(t):\n",
    "    return t0 / (t + t1)\n",
    "\n",
    "t = 0\n",
    "for epoch in range(n_iterations):\n",
    "    # サンプル全体をランダムに並び替え\n",
    "    shuffled_indices = np.random.permutation(m)\n",
    "    X_b_shuffled = X_b[shuffled_indices]\n",
    "    y_shuffled = y[shuffled_indices]\n",
    "    \n",
    "    # ミニバッチサイズ単位で取り出して勾配を計算\n",
    "    for i in range(0, m, minibatch_size):\n",
    "        t += 1\n",
    "        xi = X_b_shuffled[i:i+minibatch_size]\n",
    "        yi = y_shuffled[i:i+minibatch_size]\n",
    "        gradients = 2/minibatch_size * xi.T.dot(xi.dot(theta) - yi)\n",
    "        eta = learning_schedule(t)\n",
    "        theta = theta - eta * gradients\n",
    "        theta_path_mgd.append(theta)"
   ]
  },
  {
   "cell_type": "code",
   "execution_count": 99,
   "metadata": {
    "ExecuteTime": {
     "end_time": "2019-04-29T00:24:34.232165Z",
     "start_time": "2019-04-29T00:24:34.224794Z"
    }
   },
   "outputs": [
    {
     "data": {
      "text/plain": [
       "array([[4.52651397],\n",
       "       [2.99723869]])"
      ]
     },
     "execution_count": 99,
     "metadata": {},
     "output_type": "execute_result"
    }
   ],
   "source": [
    "theta"
   ]
  },
  {
   "cell_type": "markdown",
   "metadata": {},
   "source": [
    "SGDより最適解に近づいた！"
   ]
  },
  {
   "cell_type": "markdown",
   "metadata": {},
   "source": [
    "ミニバッチは，バッチGDとSGDの折衷案のようなもの．バッチGDよりも多くのサンプル数に対して高速であり，SGDよりも最適解に近づきやすくなる．ただSGDよりも最適解付近を動き回るので，局所最小値からは逃れにくくはなる．"
   ]
  },
  {
   "cell_type": "markdown",
   "metadata": {},
   "source": [
    "# バッチGD，SGD，ミニバッチGDの収束"
   ]
  },
  {
   "cell_type": "code",
   "execution_count": 101,
   "metadata": {
    "ExecuteTime": {
     "end_time": "2019-04-29T00:25:02.521862Z",
     "start_time": "2019-04-29T00:25:02.513237Z"
    }
   },
   "outputs": [],
   "source": [
    "theta_path_bgd = np.array(theta_path_bgd)\n",
    "theta_path_sgd = np.array(theta_path_sgd)\n",
    "theta_path_mgd = np.array(theta_path_mgd)"
   ]
  },
  {
   "cell_type": "code",
   "execution_count": 103,
   "metadata": {
    "ExecuteTime": {
     "end_time": "2019-04-29T00:25:08.153622Z",
     "start_time": "2019-04-29T00:25:07.665196Z"
    },
    "scrolled": true
   },
   "outputs": [
    {
     "data": {
      "image/png": "[encoded data removed]",
      "text/plain": [
       "<matplotlib.figure.Figure at 0x1168ff358>"
      ]
     },
     "metadata": {},
     "output_type": "display_data"
    }
   ],
   "source": [
    "plt.figure(figsize=(7,4))\n",
    "plt.plot(theta_path_sgd[:, 0], theta_path_sgd[:, 1], \"r-s\", linewidth=1, label=\"Stochastic\")\n",
    "plt.plot(theta_path_mgd[:, 0], theta_path_mgd[:, 1], \"g-+\", linewidth=2, label=\"Mini-batch\")\n",
    "plt.plot(theta_path_bgd[:, 0], theta_path_bgd[:, 1], \"b-o\", linewidth=3, label=\"Batch\")\n",
    "plt.legend(loc='upper left', fontsize=16)\n",
    "plt.xlabel(r'$\\theta_0$', fontsize=20)\n",
    "plt.ylabel(r'$\\theta_1$', fontsize=20)\n",
    "plt.axis([2.5, 4.5, 2.3, 3.9])\n",
    "plt.show()"
   ]
  },
  {
   "cell_type": "markdown",
   "metadata": {},
   "source": [
    "バッチはGDは最短距離で最適解に向かうが各ステップが非常に時間がかかること，SGDとミニバッチGDは適切な学習スケジュールを使えば，最適解に到達できることに注意"
   ]
  },
  {
   "cell_type": "code",
   "execution_count": null,
   "metadata": {},
   "outputs": [],
   "source": []
  },
  {
   "cell_type": "code",
   "execution_count": null,
   "metadata": {},
   "outputs": [],
   "source": []
  }
 ],
 "metadata": {
  "kernelspec": {
   "display_name": "Python 3",
   "language": "python",
   "name": "python3"
  },
  "language_info": {
   "codemirror_mode": {
    "name": "ipython",
    "version": 3
   },
   "file_extension": ".py",
   "mimetype": "text/x-python",
   "name": "python",
   "nbconvert_exporter": "python",
   "pygments_lexer": "ipython3",
   "version": "3.6.4"
  },
  "toc": {
   "base_numbering": 1,
   "nav_menu": {},
   "number_sections": true,
   "sideBar": true,
   "skip_h1_title": false,
   "title_cell": "Table of Contents",
   "title_sidebar": "Contents",
   "toc_cell": false,
   "toc_position": {
    "height": "calc(100% - 180px)",
    "left": "10px",
    "top": "150px",
    "width": "230.66667px"
   },
   "toc_section_display": true,
   "toc_window_display": true
  }
 },
 "nbformat": 4,
 "nbformat_minor": 2
}
