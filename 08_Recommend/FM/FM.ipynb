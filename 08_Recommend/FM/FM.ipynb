{
 "cells": [
  {
   "cell_type": "code",
   "execution_count": 1,
   "metadata": {
    "ExecuteTime": {
     "end_time": "2019-09-05T23:30:00.618005Z",
     "start_time": "2019-09-05T23:29:59.165107Z"
    },
    "collapsed": true
   },
   "outputs": [],
   "source": [
    "import os\n",
    "import sys\n",
    "\n",
    "import numpy as np\n",
    "import pandas as pd\n",
    "from subprocess import call\n",
    "from sklearn.metrics import mean_squared_error\n",
    "\n",
    "from numpy.linalg import solve\n",
    "\n",
    "import matplotlib.pyplot as plt\n",
    "%matplotlib inline\n",
    "import seaborn as sns\n",
    "sns.set()"
   ]
  },
  {
   "cell_type": "code",
   "execution_count": 2,
   "metadata": {
    "ExecuteTime": {
     "end_time": "2019-09-05T23:30:00.625087Z",
     "start_time": "2019-09-05T23:30:00.620933Z"
    },
    "collapsed": true
   },
   "outputs": [],
   "source": [
    "import pywFM"
   ]
  },
  {
   "cell_type": "code",
   "execution_count": 3,
   "metadata": {
    "ExecuteTime": {
     "end_time": "2019-09-05T23:30:02.653686Z",
     "start_time": "2019-09-05T23:30:02.523436Z"
    }
   },
   "outputs": [
    {
     "name": "stdout",
     "output_type": "stream",
     "text": [
      "/home/5124393/libfm/bin/\r\n"
     ]
    }
   ],
   "source": [
    "!echo $LIBFM_PATH"
   ]
  },
  {
   "cell_type": "code",
   "execution_count": 4,
   "metadata": {
    "ExecuteTime": {
     "end_time": "2019-09-05T23:30:04.515150Z",
     "start_time": "2019-09-05T23:30:04.248816Z"
    }
   },
   "outputs": [
    {
     "name": "stdout",
     "output_type": "stream",
     "text": [
      "[3.92125, 3.03405]\n",
      "[-0.899052, 0.438268, 0.140458, 0.535587, -1.42278, 0.386196, 0.288705, -0.267613, 0.0275774, 0.0969857, 0.0997218, 0.0604847, 0.068984, 0.353016, 0.459162]\n"
     ]
    }
   ],
   "source": [
    "features = np.matrix([\n",
    "#   |Users  |Moves      |Movie Ratings    |Time|Last Movies Rated\n",
    "#   A  B  C |TI NH SW ST| TI   NH   SW  ST|    |TI NH SW ST \n",
    "    [1, 0, 0, 1, 0, 0, 0, 0.3, 0.3, 0.3, 0, 13, 0, 0, 0, 0],\n",
    "    [1, 0, 0, 0, 1, 0, 0, 0.3, 0.3, 0.3, 0, 14, 1, 0, 0, 0],\n",
    "    [1, 0, 0, 0, 0, 1, 0, 0.3, 0.3, 0.3, 0, 16, 0, 1, 0, 0],\n",
    "    [0, 1, 0, 0, 0, 1, 0, 0, 0, 0.5, 0.5, 5, 0, 0, 0, 0],\n",
    "    [0, 1, 0, 0, 0, 0, 1, 0, 0, 0.5, 0.5, 8, 0, 0, 1, 0],\n",
    "    [0, 0, 1, 1, 0, 0, 0, 0.5, 0, 0, 0.5, 9, 0, 0, 0, 0],\n",
    "    [0, 0, 1, 0, 0, 1, 0, 0.5, 0, 0, 0.5, 12, 1, 0, 0, 0],\n",
    "])\n",
    "target = [5, 3, 1, 4, 5, 1, 5]\n",
    "\n",
    "# fm = pywFM.FM(task='regression', num_iter=5, rlog=False)\n",
    "fm = pywFM.FM(task='regression', num_iter=5)\n",
    "\n",
    "# split features and target for train/test\n",
    "# first 5 are train, last 2 are test\n",
    "model = fm.run(features[:5], target[:5], features[5:], target[5:])\n",
    "print(model.predictions)\n",
    "\n",
    "# you can also get the model weights\n",
    "print(model.weights)"
   ]
  },
  {
   "cell_type": "code",
   "execution_count": 5,
   "metadata": {
    "ExecuteTime": {
     "end_time": "2019-08-29T23:21:45.733039Z",
     "start_time": "2019-08-29T23:21:45.719979Z"
    },
    "scrolled": true
   },
   "outputs": [
    {
     "data": {
      "text/plain": [
       "matrix([[ -3.74838000e-01,   1.95816000e-01,   1.05933000e-01,\n",
       "          -2.18332000e-02,   2.93317000e-01,  -3.38429000e-01,\n",
       "          -2.58228000e-01,  -6.43670000e-02],\n",
       "        [  3.96807000e-01,  -1.94210000e-01,  -4.08430000e-02,\n",
       "          -5.32532000e-01,  -7.67934000e-01,   4.46395000e-01,\n",
       "           1.93811000e-01,   1.26698000e-01],\n",
       "        [  3.75234000e-01,  -9.95747000e-01,   1.63278000e-01,\n",
       "          -3.42011000e-01,   1.13135000e+00,  -6.98891000e-01,\n",
       "          -1.41255000e-01,   3.98125000e-01],\n",
       "        [  5.53208000e-01,   2.79339000e-01,  -8.24429000e-01,\n",
       "          -4.37142000e-01,   3.19823000e-01,   7.97025000e-01,\n",
       "           1.71660000e-01,  -3.02850000e-01],\n",
       "        [  1.26225000e-02,   1.45957000e-01,   1.99042000e-01,\n",
       "          -6.42546000e-01,   2.34538000e-02,  -4.28400000e-01,\n",
       "           3.47311000e-01,  -3.45601000e-01],\n",
       "        [  4.09437000e-01,  -2.38712000e-01,   2.70192000e-01,\n",
       "          -5.81930000e-01,  -2.98644000e-02,   3.42340000e-01,\n",
       "           1.12859000e-01,  -1.07205000e-01],\n",
       "        [  6.82554000e-01,   3.06051000e-01,  -8.68102000e-02,\n",
       "          -1.95600000e-01,  -8.27655000e-01,   2.81008000e-01,\n",
       "          -1.09839000e-01,   5.69805000e-03],\n",
       "        [  4.14661000e-01,   2.53317000e-01,   6.22648000e-01,\n",
       "          -5.79915000e-01,  -5.21284000e-01,   5.96950000e-01,\n",
       "          -1.62650000e-02,  -4.41277000e-02],\n",
       "        [ -1.24182000e+00,  -6.73142000e-01,  -7.62852000e-02,\n",
       "          -2.74862000e-01,  -6.25538000e-01,   4.86058000e-01,\n",
       "          -4.35461000e-01,   8.79106000e-01],\n",
       "        [ -3.37415000e-01,   7.24668000e-01,  -1.60043000e-01,\n",
       "          -2.92923000e-01,   1.32680000e-01,  -4.64429000e-01,\n",
       "           2.28194000e-01,  -2.23877000e-01],\n",
       "        [ -4.14033000e-01,  -3.20809000e-01,  -1.76889000e-01,\n",
       "          -3.02259000e-01,   1.57636000e-01,  -1.08840000e-01,\n",
       "          -3.44404000e-01,  -1.44159000e-02],\n",
       "        [  2.71135000e-01,   3.73138000e-01,  -2.28332000e-01,\n",
       "          -1.35084000e-04,  -2.34344000e-01,  -3.95467000e-01,\n",
       "           3.01753000e-01,  -1.03924000e-02],\n",
       "        [ -1.18619000e-01,   9.61767000e-02,   1.66530000e-02,\n",
       "          -8.69941000e-01,   6.25931000e-02,   7.25998000e-01,\n",
       "          -1.34178000e-01,   3.00816000e-01],\n",
       "        [ -2.21519000e-01,   3.33008000e-01,  -9.72746000e-02,\n",
       "          -1.29434000e-01,   5.07283000e-01,   3.79208000e-02,\n",
       "          -1.53419000e-01,   2.03034000e-01],\n",
       "        [ -2.33473000e-01,  -5.07436000e-01,   1.18533000e-01,\n",
       "          -3.59523000e-01,   2.24090000e-01,   8.14807000e-01,\n",
       "           9.29485000e-02,   1.00175000e+00]])"
      ]
     },
     "execution_count": 5,
     "metadata": {},
     "output_type": "execute_result"
    }
   ],
   "source": [
    "model.pairwise_interactions"
   ]
  },
  {
   "cell_type": "code",
   "execution_count": 6,
   "metadata": {
    "ExecuteTime": {
     "end_time": "2019-08-29T23:21:45.761980Z",
     "start_time": "2019-08-29T23:21:45.735666Z"
    }
   },
   "outputs": [
    {
     "data": {
      "text/plain": [
       "(15, 8)"
      ]
     },
     "execution_count": 6,
     "metadata": {},
     "output_type": "execute_result"
    }
   ],
   "source": [
    "model.pairwise_interactions.shape"
   ]
  },
  {
   "cell_type": "code",
   "execution_count": null,
   "metadata": {
    "collapsed": true
   },
   "outputs": [],
   "source": []
  },
  {
   "cell_type": "markdown",
   "metadata": {},
   "source": [
    "# Train Data"
   ]
  },
  {
   "cell_type": "code",
   "execution_count": 5,
   "metadata": {
    "ExecuteTime": {
     "end_time": "2019-09-05T23:30:10.695665Z",
     "start_time": "2019-09-05T23:30:10.685698Z"
    },
    "collapsed": true
   },
   "outputs": [],
   "source": [
    "PROJECT_PATH = '/home/5124393/ML_Tips/08_Recommend/'\n",
    "DATA_FILE_PATH = os.path.join(PROJECT_PATH, 'data')"
   ]
  },
  {
   "cell_type": "code",
   "execution_count": 6,
   "metadata": {
    "ExecuteTime": {
     "end_time": "2019-09-05T23:30:12.542037Z",
     "start_time": "2019-09-05T23:30:12.311480Z"
    },
    "collapsed": true
   },
   "outputs": [],
   "source": [
    "df_time_context = pd.DataFrame()\n",
    "for category_id in range(4):\n",
    "    df = pd.read_csv(os.path.join(DATA_FILE_PATH, 'train',\n",
    "                                    'category_id_{}_recommend_table_week_201904.csv'.format(str(category_id))))\n",
    "    df = df[['cuid', 'genre_id', 'time', 'poi_type', 'score']]\n",
    "    df_time_context = pd.concat([df_time_context, df])"
   ]
  },
  {
   "cell_type": "code",
   "execution_count": 7,
   "metadata": {
    "ExecuteTime": {
     "end_time": "2019-09-05T23:30:15.207864Z",
     "start_time": "2019-09-05T23:30:15.181385Z"
    }
   },
   "outputs": [
    {
     "data": {
      "text/html": [
       "<div>\n",
       "<style>\n",
       "    .dataframe thead tr:only-child th {\n",
       "        text-align: right;\n",
       "    }\n",
       "\n",
       "    .dataframe thead th {\n",
       "        text-align: left;\n",
       "    }\n",
       "\n",
       "    .dataframe tbody tr th {\n",
       "        vertical-align: top;\n",
       "    }\n",
       "</style>\n",
       "<table border=\"1\" class=\"dataframe\">\n",
       "  <thead>\n",
       "    <tr style=\"text-align: right;\">\n",
       "      <th></th>\n",
       "      <th>cuid</th>\n",
       "      <th>genre_id</th>\n",
       "      <th>time</th>\n",
       "      <th>poi_type</th>\n",
       "      <th>score</th>\n",
       "    </tr>\n",
       "  </thead>\n",
       "  <tbody>\n",
       "    <tr>\n",
       "      <th>0</th>\n",
       "      <td>04GG05555QJN55QTP4O05TPL</td>\n",
       "      <td>0</td>\n",
       "      <td>0</td>\n",
       "      <td>13</td>\n",
       "      <td>77</td>\n",
       "    </tr>\n",
       "    <tr>\n",
       "      <th>1</th>\n",
       "      <td>04GG05555QJN55QTP4O05TPL</td>\n",
       "      <td>0</td>\n",
       "      <td>1</td>\n",
       "      <td>13</td>\n",
       "      <td>32</td>\n",
       "    </tr>\n",
       "    <tr>\n",
       "      <th>2</th>\n",
       "      <td>04GG05555QJN55QTP4O05TPL</td>\n",
       "      <td>0</td>\n",
       "      <td>2</td>\n",
       "      <td>13</td>\n",
       "      <td>20</td>\n",
       "    </tr>\n",
       "    <tr>\n",
       "      <th>3</th>\n",
       "      <td>04GG05555QJN55QTP4O05TPL</td>\n",
       "      <td>0</td>\n",
       "      <td>3</td>\n",
       "      <td>13</td>\n",
       "      <td>17</td>\n",
       "    </tr>\n",
       "    <tr>\n",
       "      <th>4</th>\n",
       "      <td>04GG05555QJN55QTP4O05TPL</td>\n",
       "      <td>0</td>\n",
       "      <td>4</td>\n",
       "      <td>13</td>\n",
       "      <td>18</td>\n",
       "    </tr>\n",
       "  </tbody>\n",
       "</table>\n",
       "</div>"
      ],
      "text/plain": [
       "                       cuid  genre_id  time  poi_type  score\n",
       "0  04GG05555QJN55QTP4O05TPL         0     0        13     77\n",
       "1  04GG05555QJN55QTP4O05TPL         0     1        13     32\n",
       "2  04GG05555QJN55QTP4O05TPL         0     2        13     20\n",
       "3  04GG05555QJN55QTP4O05TPL         0     3        13     17\n",
       "4  04GG05555QJN55QTP4O05TPL         0     4        13     18"
      ]
     },
     "execution_count": 7,
     "metadata": {},
     "output_type": "execute_result"
    }
   ],
   "source": [
    "df_time_context.head()"
   ]
  },
  {
   "cell_type": "code",
   "execution_count": 8,
   "metadata": {
    "ExecuteTime": {
     "end_time": "2019-09-05T23:30:37.734201Z",
     "start_time": "2019-09-05T23:30:37.721074Z"
    },
    "collapsed": true
   },
   "outputs": [],
   "source": [
    "y = df_time_context['score'].values"
   ]
  },
  {
   "cell_type": "code",
   "execution_count": 9,
   "metadata": {
    "ExecuteTime": {
     "end_time": "2019-09-05T23:30:38.823885Z",
     "start_time": "2019-09-05T23:30:38.816633Z"
    }
   },
   "outputs": [
    {
     "data": {
      "text/plain": [
       "array([77, 32, 20, ...,  5,  4,  2])"
      ]
     },
     "execution_count": 9,
     "metadata": {},
     "output_type": "execute_result"
    }
   ],
   "source": [
    "y"
   ]
  },
  {
   "cell_type": "code",
   "execution_count": 20,
   "metadata": {
    "ExecuteTime": {
     "end_time": "2019-09-05T23:56:17.868645Z",
     "start_time": "2019-09-05T23:56:17.853826Z"
    },
    "collapsed": true
   },
   "outputs": [],
   "source": [
    "train = df_time_context[['cuid', 'genre_id', 'time', 'poi_type']]"
   ]
  },
  {
   "cell_type": "code",
   "execution_count": 21,
   "metadata": {
    "ExecuteTime": {
     "end_time": "2019-09-05T23:56:28.307396Z",
     "start_time": "2019-09-05T23:56:28.290803Z"
    },
    "scrolled": true
   },
   "outputs": [
    {
     "data": {
      "text/html": [
       "<div>\n",
       "<style>\n",
       "    .dataframe thead tr:only-child th {\n",
       "        text-align: right;\n",
       "    }\n",
       "\n",
       "    .dataframe thead th {\n",
       "        text-align: left;\n",
       "    }\n",
       "\n",
       "    .dataframe tbody tr th {\n",
       "        vertical-align: top;\n",
       "    }\n",
       "</style>\n",
       "<table border=\"1\" class=\"dataframe\">\n",
       "  <thead>\n",
       "    <tr style=\"text-align: right;\">\n",
       "      <th></th>\n",
       "      <th>cuid</th>\n",
       "      <th>genre_id</th>\n",
       "      <th>time</th>\n",
       "      <th>poi_type</th>\n",
       "    </tr>\n",
       "  </thead>\n",
       "  <tbody>\n",
       "    <tr>\n",
       "      <th>0</th>\n",
       "      <td>04GG05555QJN55QTP4O05TPL</td>\n",
       "      <td>0</td>\n",
       "      <td>0</td>\n",
       "      <td>13</td>\n",
       "    </tr>\n",
       "    <tr>\n",
       "      <th>1</th>\n",
       "      <td>04GG05555QJN55QTP4O05TPL</td>\n",
       "      <td>0</td>\n",
       "      <td>1</td>\n",
       "      <td>13</td>\n",
       "    </tr>\n",
       "    <tr>\n",
       "      <th>2</th>\n",
       "      <td>04GG05555QJN55QTP4O05TPL</td>\n",
       "      <td>0</td>\n",
       "      <td>2</td>\n",
       "      <td>13</td>\n",
       "    </tr>\n",
       "    <tr>\n",
       "      <th>3</th>\n",
       "      <td>04GG05555QJN55QTP4O05TPL</td>\n",
       "      <td>0</td>\n",
       "      <td>3</td>\n",
       "      <td>13</td>\n",
       "    </tr>\n",
       "    <tr>\n",
       "      <th>4</th>\n",
       "      <td>04GG05555QJN55QTP4O05TPL</td>\n",
       "      <td>0</td>\n",
       "      <td>4</td>\n",
       "      <td>13</td>\n",
       "    </tr>\n",
       "  </tbody>\n",
       "</table>\n",
       "</div>"
      ],
      "text/plain": [
       "                       cuid  genre_id  time  poi_type\n",
       "0  04GG05555QJN55QTP4O05TPL         0     0        13\n",
       "1  04GG05555QJN55QTP4O05TPL         0     1        13\n",
       "2  04GG05555QJN55QTP4O05TPL         0     2        13\n",
       "3  04GG05555QJN55QTP4O05TPL         0     3        13\n",
       "4  04GG05555QJN55QTP4O05TPL         0     4        13"
      ]
     },
     "execution_count": 21,
     "metadata": {},
     "output_type": "execute_result"
    }
   ],
   "source": [
    "train.head()"
   ]
  },
  {
   "cell_type": "markdown",
   "metadata": {},
   "source": [
    "## combination"
   ]
  },
  {
   "cell_type": "code",
   "execution_count": 10,
   "metadata": {
    "ExecuteTime": {
     "end_time": "2019-09-05T23:38:14.108654Z",
     "start_time": "2019-09-05T23:38:14.078778Z"
    },
    "collapsed": true
   },
   "outputs": [],
   "source": [
    "unique_cuids = set(df_time_context.cuid.unique())\n",
    "unique_genres = set(df_time_context.genre_id.unique())\n",
    "unique_contexts = set(df_time_context.poi_type.unique())\n",
    "\n",
    "num_cuid = len(unique_cuids)\n",
    "num_genre = len(unique_genres)\n",
    "num_context = len(unique_contexts)\n",
    "num_time = 24"
   ]
  },
  {
   "cell_type": "code",
   "execution_count": 11,
   "metadata": {
    "ExecuteTime": {
     "end_time": "2019-09-05T23:38:15.152577Z",
     "start_time": "2019-09-05T23:38:15.146019Z"
    }
   },
   "outputs": [
    {
     "data": {
      "text/plain": [
       "(7082, 4, 24, 24)"
      ]
     },
     "execution_count": 11,
     "metadata": {},
     "output_type": "execute_result"
    }
   ],
   "source": [
    "num_cuid, num_genre, num_context, num_time"
   ]
  },
  {
   "cell_type": "code",
   "execution_count": 12,
   "metadata": {
    "ExecuteTime": {
     "end_time": "2019-09-05T23:39:58.788606Z",
     "start_time": "2019-09-05T23:39:41.893263Z"
    },
    "collapsed": true
   },
   "outputs": [],
   "source": [
    "from sklearn.utils.extmath import cartesian\n",
    "\n",
    "df_combination = pd.DataFrame(cartesian((list(unique_cuids), list(unique_genres), list(range(24)), list(unique_contexts))))"
   ]
  },
  {
   "cell_type": "code",
   "execution_count": 13,
   "metadata": {
    "ExecuteTime": {
     "end_time": "2019-09-05T23:41:08.268786Z",
     "start_time": "2019-09-05T23:41:08.261634Z"
    }
   },
   "outputs": [
    {
     "data": {
      "text/plain": [
       "(16316928, 4)"
      ]
     },
     "execution_count": 13,
     "metadata": {},
     "output_type": "execute_result"
    }
   ],
   "source": [
    "df_combination.shape"
   ]
  },
  {
   "cell_type": "code",
   "execution_count": 14,
   "metadata": {
    "ExecuteTime": {
     "end_time": "2019-09-05T23:41:13.261055Z",
     "start_time": "2019-09-05T23:41:11.921347Z"
    },
    "collapsed": true
   },
   "outputs": [],
   "source": [
    "df_combination.rename(columns={0: 'cuid', 1: 'genre_id', 2: 'time', 3: 'poi_type'}, inplace=True)"
   ]
  },
  {
   "cell_type": "code",
   "execution_count": 15,
   "metadata": {
    "ExecuteTime": {
     "end_time": "2019-09-05T23:41:35.110599Z",
     "start_time": "2019-09-05T23:41:35.089387Z"
    }
   },
   "outputs": [
    {
     "data": {
      "text/html": [
       "<div>\n",
       "<style>\n",
       "    .dataframe thead tr:only-child th {\n",
       "        text-align: right;\n",
       "    }\n",
       "\n",
       "    .dataframe thead th {\n",
       "        text-align: left;\n",
       "    }\n",
       "\n",
       "    .dataframe tbody tr th {\n",
       "        vertical-align: top;\n",
       "    }\n",
       "</style>\n",
       "<table border=\"1\" class=\"dataframe\">\n",
       "  <thead>\n",
       "    <tr style=\"text-align: right;\">\n",
       "      <th></th>\n",
       "      <th>cuid</th>\n",
       "      <th>genre_id</th>\n",
       "      <th>time</th>\n",
       "      <th>poi_type</th>\n",
       "    </tr>\n",
       "  </thead>\n",
       "  <tbody>\n",
       "    <tr>\n",
       "      <th>0</th>\n",
       "      <td>55JN0G5455T5LO0TP44Q5TP0</td>\n",
       "      <td>0</td>\n",
       "      <td>0</td>\n",
       "      <td>2</td>\n",
       "    </tr>\n",
       "    <tr>\n",
       "      <th>1</th>\n",
       "      <td>55JN0G5455T5LO0TP44Q5TP0</td>\n",
       "      <td>0</td>\n",
       "      <td>0</td>\n",
       "      <td>133</td>\n",
       "    </tr>\n",
       "    <tr>\n",
       "      <th>2</th>\n",
       "      <td>55JN0G5455T5LO0TP44Q5TP0</td>\n",
       "      <td>0</td>\n",
       "      <td>0</td>\n",
       "      <td>134</td>\n",
       "    </tr>\n",
       "    <tr>\n",
       "      <th>3</th>\n",
       "      <td>55JN0G5455T5LO0TP44Q5TP0</td>\n",
       "      <td>0</td>\n",
       "      <td>0</td>\n",
       "      <td>8</td>\n",
       "    </tr>\n",
       "    <tr>\n",
       "      <th>4</th>\n",
       "      <td>55JN0G5455T5LO0TP44Q5TP0</td>\n",
       "      <td>0</td>\n",
       "      <td>0</td>\n",
       "      <td>13</td>\n",
       "    </tr>\n",
       "  </tbody>\n",
       "</table>\n",
       "</div>"
      ],
      "text/plain": [
       "                       cuid genre_id time poi_type\n",
       "0  55JN0G5455T5LO0TP44Q5TP0        0    0        2\n",
       "1  55JN0G5455T5LO0TP44Q5TP0        0    0      133\n",
       "2  55JN0G5455T5LO0TP44Q5TP0        0    0      134\n",
       "3  55JN0G5455T5LO0TP44Q5TP0        0    0        8\n",
       "4  55JN0G5455T5LO0TP44Q5TP0        0    0       13"
      ]
     },
     "execution_count": 15,
     "metadata": {},
     "output_type": "execute_result"
    }
   ],
   "source": [
    "df_combination.head()"
   ]
  },
  {
   "cell_type": "code",
   "execution_count": 20,
   "metadata": {
    "ExecuteTime": {
     "end_time": "2019-08-29T23:22:07.093883Z",
     "start_time": "2019-08-29T23:22:07.058105Z"
    }
   },
   "outputs": [
    {
     "data": {
      "text/plain": [
       "cuid        object\n",
       "genre_id    object\n",
       "time        object\n",
       "poi_type    object\n",
       "dtype: object"
      ]
     },
     "execution_count": 20,
     "metadata": {},
     "output_type": "execute_result"
    }
   ],
   "source": [
    "df_combination.dtypes"
   ]
  },
  {
   "cell_type": "code",
   "execution_count": 16,
   "metadata": {
    "ExecuteTime": {
     "end_time": "2019-09-05T23:55:04.176091Z",
     "start_time": "2019-09-05T23:54:52.341041Z"
    },
    "collapsed": true
   },
   "outputs": [],
   "source": [
    "df_combination['genre_id'] = df_combination['genre_id'].astype(int)\n",
    "df_combination['time'] = df_combination['time'].astype(int)\n",
    "df_combination['poi_type'] = df_combination['poi_type'].astype(int)"
   ]
  },
  {
   "cell_type": "code",
   "execution_count": 22,
   "metadata": {
    "ExecuteTime": {
     "end_time": "2019-08-29T23:22:18.696158Z",
     "start_time": "2019-08-29T23:22:18.688351Z"
    }
   },
   "outputs": [
    {
     "data": {
      "text/plain": [
       "cuid        object\n",
       "genre_id     int64\n",
       "time         int64\n",
       "poi_type     int64\n",
       "dtype: object"
      ]
     },
     "execution_count": 22,
     "metadata": {},
     "output_type": "execute_result"
    }
   ],
   "source": [
    "df_combination.dtypes"
   ]
  },
  {
   "cell_type": "code",
   "execution_count": null,
   "metadata": {
    "collapsed": true
   },
   "outputs": [],
   "source": []
  },
  {
   "cell_type": "code",
   "execution_count": 17,
   "metadata": {
    "ExecuteTime": {
     "end_time": "2019-09-05T23:55:20.948849Z",
     "start_time": "2019-09-05T23:55:09.421667Z"
    },
    "collapsed": true
   },
   "outputs": [],
   "source": [
    "df_merge = pd.merge(df_combination, df_time_context, on=['cuid', 'genre_id', 'time', 'poi_type'], how='left')"
   ]
  },
  {
   "cell_type": "code",
   "execution_count": 24,
   "metadata": {
    "ExecuteTime": {
     "end_time": "2019-08-29T23:22:32.782277Z",
     "start_time": "2019-08-29T23:22:32.763579Z"
    }
   },
   "outputs": [
    {
     "data": {
      "text/html": [
       "<div>\n",
       "<style>\n",
       "    .dataframe thead tr:only-child th {\n",
       "        text-align: right;\n",
       "    }\n",
       "\n",
       "    .dataframe thead th {\n",
       "        text-align: left;\n",
       "    }\n",
       "\n",
       "    .dataframe tbody tr th {\n",
       "        vertical-align: top;\n",
       "    }\n",
       "</style>\n",
       "<table border=\"1\" class=\"dataframe\">\n",
       "  <thead>\n",
       "    <tr style=\"text-align: right;\">\n",
       "      <th></th>\n",
       "      <th>cuid</th>\n",
       "      <th>genre_id</th>\n",
       "      <th>time</th>\n",
       "      <th>poi_type</th>\n",
       "      <th>score</th>\n",
       "    </tr>\n",
       "  </thead>\n",
       "  <tbody>\n",
       "    <tr>\n",
       "      <th>0</th>\n",
       "      <td>T5O5545555QQG4GTP4G055P0</td>\n",
       "      <td>0</td>\n",
       "      <td>0</td>\n",
       "      <td>2</td>\n",
       "      <td>NaN</td>\n",
       "    </tr>\n",
       "    <tr>\n",
       "      <th>1</th>\n",
       "      <td>T5O5545555QQG4GTP4G055P0</td>\n",
       "      <td>0</td>\n",
       "      <td>0</td>\n",
       "      <td>133</td>\n",
       "      <td>NaN</td>\n",
       "    </tr>\n",
       "    <tr>\n",
       "      <th>2</th>\n",
       "      <td>T5O5545555QQG4GTP4G055P0</td>\n",
       "      <td>0</td>\n",
       "      <td>0</td>\n",
       "      <td>134</td>\n",
       "      <td>NaN</td>\n",
       "    </tr>\n",
       "    <tr>\n",
       "      <th>3</th>\n",
       "      <td>T5O5545555QQG4GTP4G055P0</td>\n",
       "      <td>0</td>\n",
       "      <td>0</td>\n",
       "      <td>8</td>\n",
       "      <td>NaN</td>\n",
       "    </tr>\n",
       "    <tr>\n",
       "      <th>4</th>\n",
       "      <td>T5O5545555QQG4GTP4G055P0</td>\n",
       "      <td>0</td>\n",
       "      <td>0</td>\n",
       "      <td>13</td>\n",
       "      <td>NaN</td>\n",
       "    </tr>\n",
       "  </tbody>\n",
       "</table>\n",
       "</div>"
      ],
      "text/plain": [
       "                       cuid  genre_id  time  poi_type  score\n",
       "0  T5O5545555QQG4GTP4G055P0         0     0         2    NaN\n",
       "1  T5O5545555QQG4GTP4G055P0         0     0       133    NaN\n",
       "2  T5O5545555QQG4GTP4G055P0         0     0       134    NaN\n",
       "3  T5O5545555QQG4GTP4G055P0         0     0         8    NaN\n",
       "4  T5O5545555QQG4GTP4G055P0         0     0        13    NaN"
      ]
     },
     "execution_count": 24,
     "metadata": {},
     "output_type": "execute_result"
    }
   ],
   "source": [
    "df_merge.head()"
   ]
  },
  {
   "cell_type": "code",
   "execution_count": 25,
   "metadata": {
    "ExecuteTime": {
     "end_time": "2019-08-29T23:22:35.380720Z",
     "start_time": "2019-08-29T23:22:32.784756Z"
    }
   },
   "outputs": [
    {
     "data": {
      "text/html": [
       "<div>\n",
       "<style>\n",
       "    .dataframe thead tr:only-child th {\n",
       "        text-align: right;\n",
       "    }\n",
       "\n",
       "    .dataframe thead th {\n",
       "        text-align: left;\n",
       "    }\n",
       "\n",
       "    .dataframe tbody tr th {\n",
       "        vertical-align: top;\n",
       "    }\n",
       "</style>\n",
       "<table border=\"1\" class=\"dataframe\">\n",
       "  <thead>\n",
       "    <tr style=\"text-align: right;\">\n",
       "      <th></th>\n",
       "      <th>cuid</th>\n",
       "      <th>genre_id</th>\n",
       "      <th>time</th>\n",
       "      <th>poi_type</th>\n",
       "      <th>score</th>\n",
       "    </tr>\n",
       "  </thead>\n",
       "  <tbody>\n",
       "    <tr>\n",
       "      <th>758020</th>\n",
       "      <td>04GG05555QJN55QTP4O05TPL</td>\n",
       "      <td>0</td>\n",
       "      <td>0</td>\n",
       "      <td>13</td>\n",
       "      <td>77.0</td>\n",
       "    </tr>\n",
       "  </tbody>\n",
       "</table>\n",
       "</div>"
      ],
      "text/plain": [
       "                            cuid  genre_id  time  poi_type  score\n",
       "758020  04GG05555QJN55QTP4O05TPL         0     0        13   77.0"
      ]
     },
     "execution_count": 25,
     "metadata": {},
     "output_type": "execute_result"
    }
   ],
   "source": [
    "df_merge[(df_merge['cuid']=='04GG05555QJN55QTP4O05TPL') & \\\n",
    "        (df_merge['genre_id']==0) & \\\n",
    "        (df_merge['time']==0) & \\\n",
    "        (df_merge['poi_type']==13)\n",
    "        ]"
   ]
  },
  {
   "cell_type": "code",
   "execution_count": 18,
   "metadata": {
    "ExecuteTime": {
     "end_time": "2019-09-05T23:56:03.686543Z",
     "start_time": "2019-09-05T23:56:01.822091Z"
    },
    "collapsed": true
   },
   "outputs": [],
   "source": [
    "df_nan = df_merge[df_merge['score'].isnull()]"
   ]
  },
  {
   "cell_type": "code",
   "execution_count": 19,
   "metadata": {
    "ExecuteTime": {
     "end_time": "2019-09-05T23:56:06.220112Z",
     "start_time": "2019-09-05T23:56:05.542657Z"
    },
    "collapsed": true
   },
   "outputs": [],
   "source": [
    "test = df_nan[['cuid', 'genre_id', 'time', 'poi_type']]"
   ]
  },
  {
   "cell_type": "code",
   "execution_count": 28,
   "metadata": {
    "ExecuteTime": {
     "end_time": "2019-08-29T23:22:37.374906Z",
     "start_time": "2019-08-29T23:22:37.361723Z"
    }
   },
   "outputs": [
    {
     "data": {
      "text/html": [
       "<div>\n",
       "<style>\n",
       "    .dataframe thead tr:only-child th {\n",
       "        text-align: right;\n",
       "    }\n",
       "\n",
       "    .dataframe thead th {\n",
       "        text-align: left;\n",
       "    }\n",
       "\n",
       "    .dataframe tbody tr th {\n",
       "        vertical-align: top;\n",
       "    }\n",
       "</style>\n",
       "<table border=\"1\" class=\"dataframe\">\n",
       "  <thead>\n",
       "    <tr style=\"text-align: right;\">\n",
       "      <th></th>\n",
       "      <th>cuid</th>\n",
       "      <th>genre_id</th>\n",
       "      <th>time</th>\n",
       "      <th>poi_type</th>\n",
       "    </tr>\n",
       "  </thead>\n",
       "  <tbody>\n",
       "    <tr>\n",
       "      <th>0</th>\n",
       "      <td>T5O5545555QQG4GTP4G055P0</td>\n",
       "      <td>0</td>\n",
       "      <td>0</td>\n",
       "      <td>2</td>\n",
       "    </tr>\n",
       "    <tr>\n",
       "      <th>1</th>\n",
       "      <td>T5O5545555QQG4GTP4G055P0</td>\n",
       "      <td>0</td>\n",
       "      <td>0</td>\n",
       "      <td>133</td>\n",
       "    </tr>\n",
       "    <tr>\n",
       "      <th>2</th>\n",
       "      <td>T5O5545555QQG4GTP4G055P0</td>\n",
       "      <td>0</td>\n",
       "      <td>0</td>\n",
       "      <td>134</td>\n",
       "    </tr>\n",
       "    <tr>\n",
       "      <th>3</th>\n",
       "      <td>T5O5545555QQG4GTP4G055P0</td>\n",
       "      <td>0</td>\n",
       "      <td>0</td>\n",
       "      <td>8</td>\n",
       "    </tr>\n",
       "    <tr>\n",
       "      <th>4</th>\n",
       "      <td>T5O5545555QQG4GTP4G055P0</td>\n",
       "      <td>0</td>\n",
       "      <td>0</td>\n",
       "      <td>13</td>\n",
       "    </tr>\n",
       "  </tbody>\n",
       "</table>\n",
       "</div>"
      ],
      "text/plain": [
       "                       cuid  genre_id  time  poi_type\n",
       "0  T5O5545555QQG4GTP4G055P0         0     0         2\n",
       "1  T5O5545555QQG4GTP4G055P0         0     0       133\n",
       "2  T5O5545555QQG4GTP4G055P0         0     0       134\n",
       "3  T5O5545555QQG4GTP4G055P0         0     0         8\n",
       "4  T5O5545555QQG4GTP4G055P0         0     0        13"
      ]
     },
     "execution_count": 28,
     "metadata": {},
     "output_type": "execute_result"
    }
   ],
   "source": [
    "test.head()"
   ]
  },
  {
   "cell_type": "code",
   "execution_count": 29,
   "metadata": {
    "ExecuteTime": {
     "end_time": "2019-08-29T23:22:37.405545Z",
     "start_time": "2019-08-29T23:22:37.377494Z"
    }
   },
   "outputs": [
    {
     "data": {
      "text/plain": [
       "cuid        object\n",
       "genre_id     int64\n",
       "time         int64\n",
       "poi_type     int64\n",
       "dtype: object"
      ]
     },
     "execution_count": 29,
     "metadata": {},
     "output_type": "execute_result"
    }
   ],
   "source": [
    "train.dtypes"
   ]
  },
  {
   "cell_type": "code",
   "execution_count": 30,
   "metadata": {
    "ExecuteTime": {
     "end_time": "2019-08-29T23:22:37.437784Z",
     "start_time": "2019-08-29T23:22:37.407984Z"
    }
   },
   "outputs": [
    {
     "data": {
      "text/plain": [
       "cuid        object\n",
       "genre_id     int64\n",
       "time         int64\n",
       "poi_type     int64\n",
       "dtype: object"
      ]
     },
     "execution_count": 30,
     "metadata": {},
     "output_type": "execute_result"
    }
   ],
   "source": [
    "test.dtypes"
   ]
  },
  {
   "cell_type": "markdown",
   "metadata": {},
   "source": [
    "chage type to dict for one-hot"
   ]
  },
  {
   "cell_type": "code",
   "execution_count": 22,
   "metadata": {
    "ExecuteTime": {
     "end_time": "2019-09-05T23:59:44.961388Z",
     "start_time": "2019-09-05T23:57:57.937487Z"
    }
   },
   "outputs": [
    {
     "name": "stderr",
     "output_type": "stream",
     "text": [
      "/home/5124393/anaconda3/lib/python3.6/site-packages/ipykernel_launcher.py:1: SettingWithCopyWarning: \n",
      "A value is trying to be set on a copy of a slice from a DataFrame.\n",
      "Try using .loc[row_indexer,col_indexer] = value instead\n",
      "\n",
      "See the caveats in the documentation: http://pandas.pydata.org/pandas-docs/stable/indexing.html#indexing-view-versus-copy\n",
      "  \"\"\"Entry point for launching an IPython kernel.\n",
      "/home/5124393/anaconda3/lib/python3.6/site-packages/ipykernel_launcher.py:2: SettingWithCopyWarning: \n",
      "A value is trying to be set on a copy of a slice from a DataFrame.\n",
      "Try using .loc[row_indexer,col_indexer] = value instead\n",
      "\n",
      "See the caveats in the documentation: http://pandas.pydata.org/pandas-docs/stable/indexing.html#indexing-view-versus-copy\n",
      "  \n",
      "/home/5124393/anaconda3/lib/python3.6/site-packages/ipykernel_launcher.py:3: SettingWithCopyWarning: \n",
      "A value is trying to be set on a copy of a slice from a DataFrame.\n",
      "Try using .loc[row_indexer,col_indexer] = value instead\n",
      "\n",
      "See the caveats in the documentation: http://pandas.pydata.org/pandas-docs/stable/indexing.html#indexing-view-versus-copy\n",
      "  This is separate from the ipykernel package so we can avoid doing imports until\n",
      "/home/5124393/anaconda3/lib/python3.6/site-packages/ipykernel_launcher.py:4: SettingWithCopyWarning: \n",
      "A value is trying to be set on a copy of a slice from a DataFrame.\n",
      "Try using .loc[row_indexer,col_indexer] = value instead\n",
      "\n",
      "See the caveats in the documentation: http://pandas.pydata.org/pandas-docs/stable/indexing.html#indexing-view-versus-copy\n",
      "  after removing the cwd from sys.path.\n"
     ]
    }
   ],
   "source": [
    "train['genre_id'] = train['genre_id'].astype(str)\n",
    "train['poi_type'] = train['poi_type'].astype(str)\n",
    "test['genre_id'] = test['genre_id'].astype(str)\n",
    "test['poi_type'] = test['poi_type'].astype(str)"
   ]
  },
  {
   "cell_type": "code",
   "execution_count": 23,
   "metadata": {
    "ExecuteTime": {
     "end_time": "2019-09-06T00:02:38.746154Z",
     "start_time": "2019-09-05T23:59:51.303299Z"
    },
    "collapsed": true
   },
   "outputs": [],
   "source": [
    "train_dict = train.to_dict('records')\n",
    "test_dict = test.to_dict('records')"
   ]
  },
  {
   "cell_type": "code",
   "execution_count": 24,
   "metadata": {
    "ExecuteTime": {
     "end_time": "2019-09-06T00:04:33.810447Z",
     "start_time": "2019-09-06T00:02:38.749492Z"
    },
    "collapsed": true
   },
   "outputs": [],
   "source": [
    "from sklearn.feature_extraction import DictVectorizer\n",
    "\n",
    "v = DictVectorizer()\n",
    "\n",
    "X_train = v.fit_transform(train_dict)\n",
    "X_test = v.fit_transform(test_dict)"
   ]
  },
  {
   "cell_type": "code",
   "execution_count": 25,
   "metadata": {
    "ExecuteTime": {
     "end_time": "2019-09-06T00:04:33.819550Z",
     "start_time": "2019-09-06T00:04:33.813716Z"
    }
   },
   "outputs": [
    {
     "data": {
      "text/plain": [
       "<78418x7111 sparse matrix of type '<class 'numpy.float64'>'\n",
       "\twith 310991 stored elements in Compressed Sparse Row format>"
      ]
     },
     "execution_count": 25,
     "metadata": {},
     "output_type": "execute_result"
    }
   ],
   "source": [
    "X_train"
   ]
  },
  {
   "cell_type": "code",
   "execution_count": 26,
   "metadata": {
    "ExecuteTime": {
     "end_time": "2019-09-06T00:04:35.330533Z",
     "start_time": "2019-09-06T00:04:33.821906Z"
    }
   },
   "outputs": [
    {
     "data": {
      "text/plain": [
       "array([[  0.,   0.,   1., ...,   0.,   0.,   0.],\n",
       "       [  0.,   0.,   1., ...,   0.,   0.,   1.],\n",
       "       [  0.,   0.,   1., ...,   0.,   0.,   2.],\n",
       "       ..., \n",
       "       [  0.,   0.,   0., ...,   0.,   0.,  20.],\n",
       "       [  0.,   0.,   0., ...,   0.,   0.,  21.],\n",
       "       [  0.,   0.,   0., ...,   0.,   0.,  21.]])"
      ]
     },
     "execution_count": 26,
     "metadata": {},
     "output_type": "execute_result"
    }
   ],
   "source": [
    "X_train.toarray()"
   ]
  },
  {
   "cell_type": "code",
   "execution_count": 38,
   "metadata": {
    "ExecuteTime": {
     "end_time": "2019-08-29T23:28:51.431900Z",
     "start_time": "2019-08-29T23:28:51.425367Z"
    }
   },
   "outputs": [
    {
     "data": {
      "text/plain": [
       "78418"
      ]
     },
     "execution_count": 38,
     "metadata": {},
     "output_type": "execute_result"
    }
   ],
   "source": [
    "len(y)"
   ]
  },
  {
   "cell_type": "code",
   "execution_count": null,
   "metadata": {
    "collapsed": true
   },
   "outputs": [],
   "source": []
  },
  {
   "cell_type": "code",
   "execution_count": null,
   "metadata": {
    "collapsed": true
   },
   "outputs": [],
   "source": []
  },
  {
   "cell_type": "markdown",
   "metadata": {},
   "source": [
    "# FM"
   ]
  },
  {
   "cell_type": "code",
   "execution_count": 27,
   "metadata": {
    "ExecuteTime": {
     "end_time": "2019-09-06T00:15:28.081018Z",
     "start_time": "2019-09-06T00:05:20.610209Z"
    },
    "collapsed": true
   },
   "outputs": [],
   "source": [
    "fm = pywFM.FM(task='regression', num_iter=5)\n",
    "\n",
    "# dummy\n",
    "y_test = np.repeat(1.0, X_test.shape[0])\n",
    "\n",
    "# split features and target for train/test\n",
    "# first 5 are train, last 2 are test\n",
    "model = fm.run(X_train, y, X_test, y_test)\n",
    "# print(model.predictions)\n",
    "\n",
    "# you can also get the model weights\n",
    "# print(model.weights)"
   ]
  },
  {
   "cell_type": "code",
   "execution_count": 28,
   "metadata": {
    "ExecuteTime": {
     "end_time": "2019-09-06T00:16:10.235703Z",
     "start_time": "2019-09-06T00:16:10.230178Z"
    },
    "collapsed": true
   },
   "outputs": [],
   "source": [
    "_y = model.predictions"
   ]
  },
  {
   "cell_type": "code",
   "execution_count": 29,
   "metadata": {
    "ExecuteTime": {
     "end_time": "2019-09-06T00:16:13.804658Z",
     "start_time": "2019-09-06T00:16:13.796802Z"
    }
   },
   "outputs": [
    {
     "data": {
      "text/plain": [
       "16238510"
      ]
     },
     "execution_count": 29,
     "metadata": {},
     "output_type": "execute_result"
    }
   ],
   "source": [
    "len(_y)"
   ]
  },
  {
   "cell_type": "code",
   "execution_count": 30,
   "metadata": {
    "ExecuteTime": {
     "end_time": "2019-09-06T00:16:17.617747Z",
     "start_time": "2019-09-06T00:16:17.610466Z"
    }
   },
   "outputs": [
    {
     "data": {
      "text/plain": [
       "(16238510, 4)"
      ]
     },
     "execution_count": 30,
     "metadata": {},
     "output_type": "execute_result"
    }
   ],
   "source": [
    "test.shape"
   ]
  },
  {
   "cell_type": "code",
   "execution_count": null,
   "metadata": {
    "collapsed": true
   },
   "outputs": [],
   "source": []
  },
  {
   "cell_type": "markdown",
   "metadata": {},
   "source": [
    "# Make Recommend Table"
   ]
  },
  {
   "cell_type": "code",
   "execution_count": 33,
   "metadata": {
    "ExecuteTime": {
     "end_time": "2019-09-06T00:18:06.897263Z",
     "start_time": "2019-09-06T00:18:06.869406Z"
    },
    "scrolled": true
   },
   "outputs": [
    {
     "data": {
      "text/html": [
       "<div>\n",
       "<style>\n",
       "    .dataframe thead tr:only-child th {\n",
       "        text-align: right;\n",
       "    }\n",
       "\n",
       "    .dataframe thead th {\n",
       "        text-align: left;\n",
       "    }\n",
       "\n",
       "    .dataframe tbody tr th {\n",
       "        vertical-align: top;\n",
       "    }\n",
       "</style>\n",
       "<table border=\"1\" class=\"dataframe\">\n",
       "  <thead>\n",
       "    <tr style=\"text-align: right;\">\n",
       "      <th></th>\n",
       "      <th>cuid</th>\n",
       "      <th>genre_id</th>\n",
       "      <th>time</th>\n",
       "      <th>poi_type</th>\n",
       "    </tr>\n",
       "  </thead>\n",
       "  <tbody>\n",
       "    <tr>\n",
       "      <th>16316923</th>\n",
       "      <td>05O5555455Q5L4LTP4G055P4</td>\n",
       "      <td>3</td>\n",
       "      <td>23</td>\n",
       "      <td>86</td>\n",
       "    </tr>\n",
       "    <tr>\n",
       "      <th>16316924</th>\n",
       "      <td>05O5555455Q5L4LTP4G055P4</td>\n",
       "      <td>3</td>\n",
       "      <td>23</td>\n",
       "      <td>98</td>\n",
       "    </tr>\n",
       "    <tr>\n",
       "      <th>16316925</th>\n",
       "      <td>05O5555455Q5L4LTP4G055P4</td>\n",
       "      <td>3</td>\n",
       "      <td>23</td>\n",
       "      <td>104</td>\n",
       "    </tr>\n",
       "    <tr>\n",
       "      <th>16316926</th>\n",
       "      <td>05O5555455Q5L4LTP4G055P4</td>\n",
       "      <td>3</td>\n",
       "      <td>23</td>\n",
       "      <td>109</td>\n",
       "    </tr>\n",
       "    <tr>\n",
       "      <th>16316927</th>\n",
       "      <td>05O5555455Q5L4LTP4G055P4</td>\n",
       "      <td>3</td>\n",
       "      <td>23</td>\n",
       "      <td>110</td>\n",
       "    </tr>\n",
       "  </tbody>\n",
       "</table>\n",
       "</div>"
      ],
      "text/plain": [
       "                              cuid genre_id  time poi_type\n",
       "16316923  05O5555455Q5L4LTP4G055P4        3    23       86\n",
       "16316924  05O5555455Q5L4LTP4G055P4        3    23       98\n",
       "16316925  05O5555455Q5L4LTP4G055P4        3    23      104\n",
       "16316926  05O5555455Q5L4LTP4G055P4        3    23      109\n",
       "16316927  05O5555455Q5L4LTP4G055P4        3    23      110"
      ]
     },
     "execution_count": 33,
     "metadata": {},
     "output_type": "execute_result"
    }
   ],
   "source": [
    "test.tail()"
   ]
  },
  {
   "cell_type": "markdown",
   "metadata": {},
   "source": [
    "rearrange index"
   ]
  },
  {
   "cell_type": "code",
   "execution_count": 34,
   "metadata": {
    "ExecuteTime": {
     "end_time": "2019-09-06T00:18:13.263356Z",
     "start_time": "2019-09-06T00:18:13.257852Z"
    },
    "collapsed": true
   },
   "outputs": [],
   "source": [
    "test.reset_index(drop=True, inplace=True)"
   ]
  },
  {
   "cell_type": "code",
   "execution_count": 35,
   "metadata": {
    "ExecuteTime": {
     "end_time": "2019-09-06T00:18:20.225582Z",
     "start_time": "2019-09-06T00:18:15.387298Z"
    },
    "collapsed": true
   },
   "outputs": [],
   "source": [
    "test_scored = pd.concat([test, pd.DataFrame(_y, columns=['score'])], axis=1)"
   ]
  },
  {
   "cell_type": "code",
   "execution_count": 36,
   "metadata": {
    "ExecuteTime": {
     "end_time": "2019-09-06T00:18:21.374991Z",
     "start_time": "2019-09-06T00:18:21.368065Z"
    }
   },
   "outputs": [
    {
     "data": {
      "text/plain": [
       "(16238510, 5)"
      ]
     },
     "execution_count": 36,
     "metadata": {},
     "output_type": "execute_result"
    }
   ],
   "source": [
    "test_scored.shape"
   ]
  },
  {
   "cell_type": "code",
   "execution_count": 37,
   "metadata": {
    "ExecuteTime": {
     "end_time": "2019-09-06T00:18:26.022428Z",
     "start_time": "2019-09-06T00:18:26.001976Z"
    }
   },
   "outputs": [
    {
     "data": {
      "text/html": [
       "<div>\n",
       "<style>\n",
       "    .dataframe thead tr:only-child th {\n",
       "        text-align: right;\n",
       "    }\n",
       "\n",
       "    .dataframe thead th {\n",
       "        text-align: left;\n",
       "    }\n",
       "\n",
       "    .dataframe tbody tr th {\n",
       "        vertical-align: top;\n",
       "    }\n",
       "</style>\n",
       "<table border=\"1\" class=\"dataframe\">\n",
       "  <thead>\n",
       "    <tr style=\"text-align: right;\">\n",
       "      <th></th>\n",
       "      <th>cuid</th>\n",
       "      <th>genre_id</th>\n",
       "      <th>time</th>\n",
       "      <th>poi_type</th>\n",
       "      <th>score</th>\n",
       "    </tr>\n",
       "  </thead>\n",
       "  <tbody>\n",
       "    <tr>\n",
       "      <th>16238505</th>\n",
       "      <td>05O5555455Q5L4LTP4G055P4</td>\n",
       "      <td>3</td>\n",
       "      <td>23</td>\n",
       "      <td>86</td>\n",
       "      <td>15.4570</td>\n",
       "    </tr>\n",
       "    <tr>\n",
       "      <th>16238506</th>\n",
       "      <td>05O5555455Q5L4LTP4G055P4</td>\n",
       "      <td>3</td>\n",
       "      <td>23</td>\n",
       "      <td>98</td>\n",
       "      <td>19.8270</td>\n",
       "    </tr>\n",
       "    <tr>\n",
       "      <th>16238507</th>\n",
       "      <td>05O5555455Q5L4LTP4G055P4</td>\n",
       "      <td>3</td>\n",
       "      <td>23</td>\n",
       "      <td>104</td>\n",
       "      <td>14.6843</td>\n",
       "    </tr>\n",
       "    <tr>\n",
       "      <th>16238508</th>\n",
       "      <td>05O5555455Q5L4LTP4G055P4</td>\n",
       "      <td>3</td>\n",
       "      <td>23</td>\n",
       "      <td>109</td>\n",
       "      <td>11.1849</td>\n",
       "    </tr>\n",
       "    <tr>\n",
       "      <th>16238509</th>\n",
       "      <td>05O5555455Q5L4LTP4G055P4</td>\n",
       "      <td>3</td>\n",
       "      <td>23</td>\n",
       "      <td>110</td>\n",
       "      <td>14.0591</td>\n",
       "    </tr>\n",
       "  </tbody>\n",
       "</table>\n",
       "</div>"
      ],
      "text/plain": [
       "                              cuid genre_id  time poi_type    score\n",
       "16238505  05O5555455Q5L4LTP4G055P4        3    23       86  15.4570\n",
       "16238506  05O5555455Q5L4LTP4G055P4        3    23       98  19.8270\n",
       "16238507  05O5555455Q5L4LTP4G055P4        3    23      104  14.6843\n",
       "16238508  05O5555455Q5L4LTP4G055P4        3    23      109  11.1849\n",
       "16238509  05O5555455Q5L4LTP4G055P4        3    23      110  14.0591"
      ]
     },
     "execution_count": 37,
     "metadata": {},
     "output_type": "execute_result"
    }
   ],
   "source": [
    "test_scored.tail()"
   ]
  },
  {
   "cell_type": "code",
   "execution_count": 58,
   "metadata": {
    "ExecuteTime": {
     "end_time": "2019-08-30T00:16:15.410150Z",
     "start_time": "2019-08-30T00:16:15.401883Z"
    }
   },
   "outputs": [
    {
     "data": {
      "text/plain": [
       "cuid         object\n",
       "genre_id     object\n",
       "time          int64\n",
       "poi_type      int64\n",
       "score       float64\n",
       "dtype: object"
      ]
     },
     "execution_count": 58,
     "metadata": {},
     "output_type": "execute_result"
    }
   ],
   "source": [
    "test_scored.dtypes"
   ]
  },
  {
   "cell_type": "code",
   "execution_count": 38,
   "metadata": {
    "ExecuteTime": {
     "end_time": "2019-09-06T00:19:07.822303Z",
     "start_time": "2019-09-06T00:19:00.272064Z"
    },
    "collapsed": true
   },
   "outputs": [],
   "source": [
    "test_scored['genre_id'] = test_scored['genre_id'].astype(int)\n",
    "test_scored['poi_type'] = test_scored['poi_type'].astype(int)"
   ]
  },
  {
   "cell_type": "code",
   "execution_count": 62,
   "metadata": {
    "ExecuteTime": {
     "end_time": "2019-08-30T00:17:43.352643Z",
     "start_time": "2019-08-30T00:17:43.334228Z"
    }
   },
   "outputs": [
    {
     "data": {
      "text/html": [
       "<div>\n",
       "<style>\n",
       "    .dataframe thead tr:only-child th {\n",
       "        text-align: right;\n",
       "    }\n",
       "\n",
       "    .dataframe thead th {\n",
       "        text-align: left;\n",
       "    }\n",
       "\n",
       "    .dataframe tbody tr th {\n",
       "        vertical-align: top;\n",
       "    }\n",
       "</style>\n",
       "<table border=\"1\" class=\"dataframe\">\n",
       "  <thead>\n",
       "    <tr style=\"text-align: right;\">\n",
       "      <th></th>\n",
       "      <th>cuid</th>\n",
       "      <th>genre_id</th>\n",
       "      <th>time</th>\n",
       "      <th>poi_type</th>\n",
       "      <th>score</th>\n",
       "    </tr>\n",
       "  </thead>\n",
       "  <tbody>\n",
       "    <tr>\n",
       "      <th>0</th>\n",
       "      <td>04GG05555QJN55QTP4O05TPL</td>\n",
       "      <td>0</td>\n",
       "      <td>0</td>\n",
       "      <td>13</td>\n",
       "      <td>77</td>\n",
       "    </tr>\n",
       "    <tr>\n",
       "      <th>1</th>\n",
       "      <td>04GG05555QJN55QTP4O05TPL</td>\n",
       "      <td>0</td>\n",
       "      <td>1</td>\n",
       "      <td>13</td>\n",
       "      <td>32</td>\n",
       "    </tr>\n",
       "    <tr>\n",
       "      <th>2</th>\n",
       "      <td>04GG05555QJN55QTP4O05TPL</td>\n",
       "      <td>0</td>\n",
       "      <td>2</td>\n",
       "      <td>13</td>\n",
       "      <td>20</td>\n",
       "    </tr>\n",
       "    <tr>\n",
       "      <th>3</th>\n",
       "      <td>04GG05555QJN55QTP4O05TPL</td>\n",
       "      <td>0</td>\n",
       "      <td>3</td>\n",
       "      <td>13</td>\n",
       "      <td>17</td>\n",
       "    </tr>\n",
       "    <tr>\n",
       "      <th>4</th>\n",
       "      <td>04GG05555QJN55QTP4O05TPL</td>\n",
       "      <td>0</td>\n",
       "      <td>4</td>\n",
       "      <td>13</td>\n",
       "      <td>18</td>\n",
       "    </tr>\n",
       "  </tbody>\n",
       "</table>\n",
       "</div>"
      ],
      "text/plain": [
       "                       cuid  genre_id  time  poi_type  score\n",
       "0  04GG05555QJN55QTP4O05TPL         0     0        13     77\n",
       "1  04GG05555QJN55QTP4O05TPL         0     1        13     32\n",
       "2  04GG05555QJN55QTP4O05TPL         0     2        13     20\n",
       "3  04GG05555QJN55QTP4O05TPL         0     3        13     17\n",
       "4  04GG05555QJN55QTP4O05TPL         0     4        13     18"
      ]
     },
     "execution_count": 62,
     "metadata": {},
     "output_type": "execute_result"
    }
   ],
   "source": [
    "df_time_context.head()"
   ]
  },
  {
   "cell_type": "code",
   "execution_count": 39,
   "metadata": {
    "ExecuteTime": {
     "end_time": "2019-09-06T00:19:16.079243Z",
     "start_time": "2019-09-06T00:19:14.703746Z"
    },
    "collapsed": true
   },
   "outputs": [],
   "source": [
    "df_recommend_table = pd.concat([df_time_context, test_scored])"
   ]
  },
  {
   "cell_type": "code",
   "execution_count": 40,
   "metadata": {
    "ExecuteTime": {
     "end_time": "2019-09-06T00:19:22.496201Z",
     "start_time": "2019-09-06T00:19:22.489911Z"
    },
    "collapsed": true
   },
   "outputs": [],
   "source": [
    "df_recommend_table.reset_index(drop=True, inplace=True)"
   ]
  },
  {
   "cell_type": "code",
   "execution_count": 43,
   "metadata": {
    "ExecuteTime": {
     "end_time": "2019-09-06T00:19:59.778686Z",
     "start_time": "2019-09-06T00:19:59.774225Z"
    },
    "collapsed": true
   },
   "outputs": [],
   "source": [
    "recommend_table = df_recommend_table"
   ]
  },
  {
   "cell_type": "code",
   "execution_count": null,
   "metadata": {
    "collapsed": true
   },
   "outputs": [],
   "source": []
  },
  {
   "cell_type": "markdown",
   "metadata": {},
   "source": [
    "# distribution"
   ]
  },
  {
   "cell_type": "code",
   "execution_count": 41,
   "metadata": {
    "ExecuteTime": {
     "end_time": "2019-09-06T00:19:28.167660Z",
     "start_time": "2019-09-06T00:19:28.158201Z"
    },
    "collapsed": true
   },
   "outputs": [],
   "source": [
    "def plot_score_hist(recommend_table):\n",
    "    recommend_table_score_list = list(recommend_table['score'].values)\n",
    "    plt.figure(figsize=(12, 10))\n",
    "    plt.hist(recommend_table_score_list, bins=50)\n",
    "    plt.tick_params(labelsize=18)"
   ]
  },
  {
   "cell_type": "code",
   "execution_count": 66,
   "metadata": {
    "ExecuteTime": {
     "end_time": "2019-08-30T00:18:56.915417Z",
     "start_time": "2019-08-30T00:18:48.868202Z"
    }
   },
   "outputs": [
    {
     "data": {
      "image/png": "[encoded data removed]",
      "text/plain": [
       "<matplotlib.figure.Figure at 0x7f58ce8d9a58>"
      ]
     },
     "metadata": {},
     "output_type": "display_data"
    }
   ],
   "source": [
    "plot_score_hist(recommend_table)"
   ]
  },
  {
   "cell_type": "code",
   "execution_count": 44,
   "metadata": {
    "ExecuteTime": {
     "end_time": "2019-09-06T00:20:09.576816Z",
     "start_time": "2019-09-06T00:20:03.578564Z"
    }
   },
   "outputs": [
    {
     "data": {
      "image/png": "[encoded data removed]",
      "text/plain": [
       "<matplotlib.figure.Figure at 0x7ff9006ac4a8>"
      ]
     },
     "metadata": {},
     "output_type": "display_data"
    }
   ],
   "source": [
    "plot_score_hist(recommend_table)"
   ]
  },
  {
   "cell_type": "code",
   "execution_count": null,
   "metadata": {
    "collapsed": true
   },
   "outputs": [],
   "source": []
  },
  {
   "cell_type": "markdown",
   "metadata": {},
   "source": [
    "# validation"
   ]
  },
  {
   "cell_type": "code",
   "execution_count": 45,
   "metadata": {
    "ExecuteTime": {
     "end_time": "2019-09-06T00:20:33.469533Z",
     "start_time": "2019-09-06T00:20:33.463900Z"
    },
    "collapsed": true
   },
   "outputs": [],
   "source": [
    "sys.path.append(PROJECT_PATH)"
   ]
  },
  {
   "cell_type": "code",
   "execution_count": 46,
   "metadata": {
    "ExecuteTime": {
     "end_time": "2019-09-06T00:20:34.115357Z",
     "start_time": "2019-09-06T00:20:34.109151Z"
    }
   },
   "outputs": [
    {
     "data": {
      "text/plain": [
       "['',\n",
       " '/home/5124393/anaconda3/lib/python36.zip',\n",
       " '/home/5124393/anaconda3/lib/python3.6',\n",
       " '/home/5124393/anaconda3/lib/python3.6/lib-dynload',\n",
       " '/home/5124393/anaconda3/lib/python3.6/site-packages',\n",
       " '/home/5124393/anaconda3/lib/python3.6/site-packages/IPython/extensions',\n",
       " '/home/5124393/.ipython',\n",
       " '/home/5124393/ML_Tips/08_Recommend/']"
      ]
     },
     "execution_count": 46,
     "metadata": {},
     "output_type": "execute_result"
    }
   ],
   "source": [
    "sys.path"
   ]
  },
  {
   "cell_type": "code",
   "execution_count": 47,
   "metadata": {
    "ExecuteTime": {
     "end_time": "2019-09-06T00:20:35.628819Z",
     "start_time": "2019-09-06T00:20:35.609706Z"
    },
    "collapsed": true
   },
   "outputs": [],
   "source": [
    "import score"
   ]
  },
  {
   "cell_type": "markdown",
   "metadata": {},
   "source": [
    "## test table"
   ]
  },
  {
   "cell_type": "code",
   "execution_count": 48,
   "metadata": {
    "ExecuteTime": {
     "end_time": "2019-09-06T00:20:39.865611Z",
     "start_time": "2019-09-06T00:20:39.831698Z"
    },
    "collapsed": true
   },
   "outputs": [],
   "source": [
    "def get_test_table(category_id, recommend_table):\n",
    "        # raw use log\n",
    "        global target_cuid_num\n",
    "#         target_cuid_num = len(df_use['cuid'].unique())\n",
    "        target_cuid_num = len(df_time_context[df_time_context['genre_id']==category_id]['cuid'].unique())\n",
    "        \n",
    "        ##############################################\n",
    "        # テストテーブルの取得\n",
    "        ##############################################\n",
    "        global test_table\n",
    "        FILE_NAME = 'category_id_' + str(category_id) + '_test_table_201904.csv'\n",
    "        test_table = pd.read_csv(os.path.join(DATA_FILE_PATH, 'test', FILE_NAME))\n",
    "        \n",
    "        ##############################################\n",
    "        # テスト期間の状況発生履歴テーブルの取得\n",
    "        ##############################################\n",
    "        global test_context_count_table\n",
    "        FILE_NAME = 'category_id_' + str(category_id) + '_test_context_count_table_201904.csv'\n",
    "        test_context_count_table = pd.read_csv(os.path.join(DATA_FILE_PATH, 'test', FILE_NAME))\n",
    "        \n",
    "        global target_recommend_table\n",
    "        target_recommend_table = recommend_table[recommend_table['genre_id']==category_id]"
   ]
  },
  {
   "cell_type": "markdown",
   "metadata": {},
   "source": [
    "## metrics"
   ]
  },
  {
   "cell_type": "code",
   "execution_count": 49,
   "metadata": {
    "ExecuteTime": {
     "end_time": "2019-09-06T00:20:42.673997Z",
     "start_time": "2019-09-06T00:20:42.644188Z"
    },
    "collapsed": true
   },
   "outputs": [],
   "source": [
    "def metrics_result(recommend_table, test_table, test_context_count_table, train_week_num=4, make_cond='week', is_boolean=False,  category_id=None, target_cuid_num=None, is_dservice=True):\n",
    "    result_list = []\n",
    "    for s_th in range(0, 30, 5):\n",
    "        for k in range(1, 6):\n",
    "            try:\n",
    "                delivery_user, actual_delivery_user_num, auc, fpr, tpr, thresholds, true_list, scores_list, precision_list, recall_list, pr_thresholds, ave_precision, precision, recall = \\\n",
    "                score.model_score(recommend_table, s_th, test_table, test_context_count_table, topk=k, is_boolean=is_boolean)\n",
    "                result_list.append([s_th, k, target_cuid_num, delivery_user, actual_delivery_user_num, auc, precision, recall])\n",
    "            except:\n",
    "                result_list.append([s_th, k, target_cuid_num, 0, 0, None, None, 0])\n",
    "            \n",
    "    df_result = pd.DataFrame(result_list, columns=['score_threshod', 'topk', 'user_num', 'delivery_user_num', 'actual_delivery_user_num', 'AUC', 'precision', 'recall'])\n",
    "    return df_result"
   ]
  },
  {
   "cell_type": "code",
   "execution_count": null,
   "metadata": {
    "collapsed": true
   },
   "outputs": [],
   "source": []
  },
  {
   "cell_type": "code",
   "execution_count": 50,
   "metadata": {
    "ExecuteTime": {
     "end_time": "2019-09-06T00:26:33.803344Z",
     "start_time": "2019-09-06T00:20:49.796894Z"
    },
    "collapsed": true
   },
   "outputs": [],
   "source": [
    "get_test_table(3, df_recommend_table)\n",
    "# get_test_table(category_id, df_time_context)\n",
    "##############################################\n",
    "# 効果測定\n",
    "##############################################\n",
    "# parameter list\n",
    "df_result = metrics_result(target_recommend_table,\n",
    "                   test_table, \n",
    "                   test_context_count_table, \n",
    "                   is_boolean=False, \n",
    "                   category_id=category_id, \n",
    "                   target_cuid_num=target_cuid_num, \n",
    "                   is_dservice=False)"
   ]
  },
  {
   "cell_type": "code",
   "execution_count": 78,
   "metadata": {
    "ExecuteTime": {
     "end_time": "2019-08-30T00:27:20.627470Z",
     "start_time": "2019-08-30T00:27:20.593154Z"
    }
   },
   "outputs": [
    {
     "data": {
      "text/html": [
       "<div>\n",
       "<style>\n",
       "    .dataframe thead tr:only-child th {\n",
       "        text-align: right;\n",
       "    }\n",
       "\n",
       "    .dataframe thead th {\n",
       "        text-align: left;\n",
       "    }\n",
       "\n",
       "    .dataframe tbody tr th {\n",
       "        vertical-align: top;\n",
       "    }\n",
       "</style>\n",
       "<table border=\"1\" class=\"dataframe\">\n",
       "  <thead>\n",
       "    <tr style=\"text-align: right;\">\n",
       "      <th></th>\n",
       "      <th>score_threshod</th>\n",
       "      <th>topk</th>\n",
       "      <th>user_num</th>\n",
       "      <th>delivery_user_num</th>\n",
       "      <th>actual_delivery_user_num</th>\n",
       "      <th>AUC</th>\n",
       "      <th>precision</th>\n",
       "      <th>recall</th>\n",
       "    </tr>\n",
       "  </thead>\n",
       "  <tbody>\n",
       "    <tr>\n",
       "      <th>0</th>\n",
       "      <td>0</td>\n",
       "      <td>1</td>\n",
       "      <td>1565</td>\n",
       "      <td>7082</td>\n",
       "      <td>549</td>\n",
       "      <td>0.768494</td>\n",
       "      <td>0.153253</td>\n",
       "      <td>0.022896</td>\n",
       "    </tr>\n",
       "    <tr>\n",
       "      <th>1</th>\n",
       "      <td>0</td>\n",
       "      <td>2</td>\n",
       "      <td>1565</td>\n",
       "      <td>7082</td>\n",
       "      <td>600</td>\n",
       "      <td>0.748296</td>\n",
       "      <td>0.131528</td>\n",
       "      <td>0.037739</td>\n",
       "    </tr>\n",
       "    <tr>\n",
       "      <th>2</th>\n",
       "      <td>0</td>\n",
       "      <td>3</td>\n",
       "      <td>1565</td>\n",
       "      <td>7082</td>\n",
       "      <td>660</td>\n",
       "      <td>0.740931</td>\n",
       "      <td>0.121207</td>\n",
       "      <td>0.048600</td>\n",
       "    </tr>\n",
       "    <tr>\n",
       "      <th>3</th>\n",
       "      <td>0</td>\n",
       "      <td>4</td>\n",
       "      <td>1565</td>\n",
       "      <td>7082</td>\n",
       "      <td>778</td>\n",
       "      <td>0.756186</td>\n",
       "      <td>0.101122</td>\n",
       "      <td>0.059944</td>\n",
       "    </tr>\n",
       "    <tr>\n",
       "      <th>4</th>\n",
       "      <td>0</td>\n",
       "      <td>5</td>\n",
       "      <td>1565</td>\n",
       "      <td>7082</td>\n",
       "      <td>796</td>\n",
       "      <td>0.763550</td>\n",
       "      <td>0.096294</td>\n",
       "      <td>0.064375</td>\n",
       "    </tr>\n",
       "    <tr>\n",
       "      <th>5</th>\n",
       "      <td>5</td>\n",
       "      <td>1</td>\n",
       "      <td>1565</td>\n",
       "      <td>7082</td>\n",
       "      <td>549</td>\n",
       "      <td>0.768494</td>\n",
       "      <td>0.153253</td>\n",
       "      <td>0.022896</td>\n",
       "    </tr>\n",
       "    <tr>\n",
       "      <th>6</th>\n",
       "      <td>5</td>\n",
       "      <td>2</td>\n",
       "      <td>1565</td>\n",
       "      <td>7082</td>\n",
       "      <td>600</td>\n",
       "      <td>0.748296</td>\n",
       "      <td>0.131528</td>\n",
       "      <td>0.037739</td>\n",
       "    </tr>\n",
       "    <tr>\n",
       "      <th>7</th>\n",
       "      <td>5</td>\n",
       "      <td>3</td>\n",
       "      <td>1565</td>\n",
       "      <td>7082</td>\n",
       "      <td>660</td>\n",
       "      <td>0.740931</td>\n",
       "      <td>0.121207</td>\n",
       "      <td>0.048600</td>\n",
       "    </tr>\n",
       "    <tr>\n",
       "      <th>8</th>\n",
       "      <td>5</td>\n",
       "      <td>4</td>\n",
       "      <td>1565</td>\n",
       "      <td>7082</td>\n",
       "      <td>778</td>\n",
       "      <td>0.756186</td>\n",
       "      <td>0.101122</td>\n",
       "      <td>0.059944</td>\n",
       "    </tr>\n",
       "    <tr>\n",
       "      <th>9</th>\n",
       "      <td>5</td>\n",
       "      <td>5</td>\n",
       "      <td>1565</td>\n",
       "      <td>7082</td>\n",
       "      <td>796</td>\n",
       "      <td>0.763550</td>\n",
       "      <td>0.096294</td>\n",
       "      <td>0.064375</td>\n",
       "    </tr>\n",
       "    <tr>\n",
       "      <th>10</th>\n",
       "      <td>10</td>\n",
       "      <td>1</td>\n",
       "      <td>1565</td>\n",
       "      <td>7082</td>\n",
       "      <td>549</td>\n",
       "      <td>0.768494</td>\n",
       "      <td>0.153253</td>\n",
       "      <td>0.022896</td>\n",
       "    </tr>\n",
       "    <tr>\n",
       "      <th>11</th>\n",
       "      <td>10</td>\n",
       "      <td>2</td>\n",
       "      <td>1565</td>\n",
       "      <td>7082</td>\n",
       "      <td>600</td>\n",
       "      <td>0.748296</td>\n",
       "      <td>0.131528</td>\n",
       "      <td>0.037739</td>\n",
       "    </tr>\n",
       "    <tr>\n",
       "      <th>12</th>\n",
       "      <td>10</td>\n",
       "      <td>3</td>\n",
       "      <td>1565</td>\n",
       "      <td>7082</td>\n",
       "      <td>660</td>\n",
       "      <td>0.740931</td>\n",
       "      <td>0.121207</td>\n",
       "      <td>0.048600</td>\n",
       "    </tr>\n",
       "    <tr>\n",
       "      <th>13</th>\n",
       "      <td>10</td>\n",
       "      <td>4</td>\n",
       "      <td>1565</td>\n",
       "      <td>7082</td>\n",
       "      <td>778</td>\n",
       "      <td>0.756186</td>\n",
       "      <td>0.101122</td>\n",
       "      <td>0.059944</td>\n",
       "    </tr>\n",
       "    <tr>\n",
       "      <th>14</th>\n",
       "      <td>10</td>\n",
       "      <td>5</td>\n",
       "      <td>1565</td>\n",
       "      <td>7082</td>\n",
       "      <td>796</td>\n",
       "      <td>0.763550</td>\n",
       "      <td>0.096294</td>\n",
       "      <td>0.064375</td>\n",
       "    </tr>\n",
       "    <tr>\n",
       "      <th>15</th>\n",
       "      <td>15</td>\n",
       "      <td>1</td>\n",
       "      <td>1565</td>\n",
       "      <td>5094</td>\n",
       "      <td>544</td>\n",
       "      <td>0.766394</td>\n",
       "      <td>0.154661</td>\n",
       "      <td>0.022896</td>\n",
       "    </tr>\n",
       "    <tr>\n",
       "      <th>16</th>\n",
       "      <td>15</td>\n",
       "      <td>2</td>\n",
       "      <td>1565</td>\n",
       "      <td>5094</td>\n",
       "      <td>584</td>\n",
       "      <td>0.744149</td>\n",
       "      <td>0.134887</td>\n",
       "      <td>0.037515</td>\n",
       "    </tr>\n",
       "    <tr>\n",
       "      <th>17</th>\n",
       "      <td>15</td>\n",
       "      <td>3</td>\n",
       "      <td>1565</td>\n",
       "      <td>5094</td>\n",
       "      <td>591</td>\n",
       "      <td>0.720313</td>\n",
       "      <td>0.134129</td>\n",
       "      <td>0.047350</td>\n",
       "    </tr>\n",
       "    <tr>\n",
       "      <th>18</th>\n",
       "      <td>15</td>\n",
       "      <td>4</td>\n",
       "      <td>1565</td>\n",
       "      <td>5094</td>\n",
       "      <td>593</td>\n",
       "      <td>0.710985</td>\n",
       "      <td>0.128146</td>\n",
       "      <td>0.053695</td>\n",
       "    </tr>\n",
       "    <tr>\n",
       "      <th>19</th>\n",
       "      <td>15</td>\n",
       "      <td>5</td>\n",
       "      <td>1565</td>\n",
       "      <td>5094</td>\n",
       "      <td>594</td>\n",
       "      <td>0.709016</td>\n",
       "      <td>0.125648</td>\n",
       "      <td>0.057483</td>\n",
       "    </tr>\n",
       "    <tr>\n",
       "      <th>20</th>\n",
       "      <td>20</td>\n",
       "      <td>1</td>\n",
       "      <td>1565</td>\n",
       "      <td>1330</td>\n",
       "      <td>456</td>\n",
       "      <td>0.751757</td>\n",
       "      <td>0.174645</td>\n",
       "      <td>0.020665</td>\n",
       "    </tr>\n",
       "    <tr>\n",
       "      <th>21</th>\n",
       "      <td>20</td>\n",
       "      <td>2</td>\n",
       "      <td>1565</td>\n",
       "      <td>1330</td>\n",
       "      <td>486</td>\n",
       "      <td>0.737671</td>\n",
       "      <td>0.152221</td>\n",
       "      <td>0.032833</td>\n",
       "    </tr>\n",
       "    <tr>\n",
       "      <th>22</th>\n",
       "      <td>20</td>\n",
       "      <td>3</td>\n",
       "      <td>1565</td>\n",
       "      <td>1330</td>\n",
       "      <td>490</td>\n",
       "      <td>0.712436</td>\n",
       "      <td>0.151630</td>\n",
       "      <td>0.041142</td>\n",
       "    </tr>\n",
       "    <tr>\n",
       "      <th>23</th>\n",
       "      <td>20</td>\n",
       "      <td>4</td>\n",
       "      <td>1565</td>\n",
       "      <td>1330</td>\n",
       "      <td>491</td>\n",
       "      <td>0.705977</td>\n",
       "      <td>0.144967</td>\n",
       "      <td>0.046236</td>\n",
       "    </tr>\n",
       "    <tr>\n",
       "      <th>24</th>\n",
       "      <td>20</td>\n",
       "      <td>5</td>\n",
       "      <td>1565</td>\n",
       "      <td>1330</td>\n",
       "      <td>491</td>\n",
       "      <td>0.703411</td>\n",
       "      <td>0.142951</td>\n",
       "      <td>0.049324</td>\n",
       "    </tr>\n",
       "    <tr>\n",
       "      <th>25</th>\n",
       "      <td>25</td>\n",
       "      <td>1</td>\n",
       "      <td>1565</td>\n",
       "      <td>659</td>\n",
       "      <td>414</td>\n",
       "      <td>0.753758</td>\n",
       "      <td>0.186295</td>\n",
       "      <td>0.018413</td>\n",
       "    </tr>\n",
       "    <tr>\n",
       "      <th>26</th>\n",
       "      <td>25</td>\n",
       "      <td>2</td>\n",
       "      <td>1565</td>\n",
       "      <td>659</td>\n",
       "      <td>437</td>\n",
       "      <td>0.735486</td>\n",
       "      <td>0.164141</td>\n",
       "      <td>0.028651</td>\n",
       "    </tr>\n",
       "    <tr>\n",
       "      <th>27</th>\n",
       "      <td>25</td>\n",
       "      <td>3</td>\n",
       "      <td>1565</td>\n",
       "      <td>659</td>\n",
       "      <td>440</td>\n",
       "      <td>0.717249</td>\n",
       "      <td>0.162628</td>\n",
       "      <td>0.034501</td>\n",
       "    </tr>\n",
       "    <tr>\n",
       "      <th>28</th>\n",
       "      <td>25</td>\n",
       "      <td>4</td>\n",
       "      <td>1565</td>\n",
       "      <td>659</td>\n",
       "      <td>440</td>\n",
       "      <td>0.702322</td>\n",
       "      <td>0.157200</td>\n",
       "      <td>0.038916</td>\n",
       "    </tr>\n",
       "    <tr>\n",
       "      <th>29</th>\n",
       "      <td>25</td>\n",
       "      <td>5</td>\n",
       "      <td>1565</td>\n",
       "      <td>659</td>\n",
       "      <td>440</td>\n",
       "      <td>0.699792</td>\n",
       "      <td>0.155394</td>\n",
       "      <td>0.041578</td>\n",
       "    </tr>\n",
       "  </tbody>\n",
       "</table>\n",
       "</div>"
      ],
      "text/plain": [
       "    score_threshod  topk  user_num  delivery_user_num  \\\n",
       "0                0     1      1565               7082   \n",
       "1                0     2      1565               7082   \n",
       "2                0     3      1565               7082   \n",
       "3                0     4      1565               7082   \n",
       "4                0     5      1565               7082   \n",
       "5                5     1      1565               7082   \n",
       "6                5     2      1565               7082   \n",
       "7                5     3      1565               7082   \n",
       "8                5     4      1565               7082   \n",
       "9                5     5      1565               7082   \n",
       "10              10     1      1565               7082   \n",
       "11              10     2      1565               7082   \n",
       "12              10     3      1565               7082   \n",
       "13              10     4      1565               7082   \n",
       "14              10     5      1565               7082   \n",
       "15              15     1      1565               5094   \n",
       "16              15     2      1565               5094   \n",
       "17              15     3      1565               5094   \n",
       "18              15     4      1565               5094   \n",
       "19              15     5      1565               5094   \n",
       "20              20     1      1565               1330   \n",
       "21              20     2      1565               1330   \n",
       "22              20     3      1565               1330   \n",
       "23              20     4      1565               1330   \n",
       "24              20     5      1565               1330   \n",
       "25              25     1      1565                659   \n",
       "26              25     2      1565                659   \n",
       "27              25     3      1565                659   \n",
       "28              25     4      1565                659   \n",
       "29              25     5      1565                659   \n",
       "\n",
       "    actual_delivery_user_num       AUC  precision    recall  \n",
       "0                        549  0.768494   0.153253  0.022896  \n",
       "1                        600  0.748296   0.131528  0.037739  \n",
       "2                        660  0.740931   0.121207  0.048600  \n",
       "3                        778  0.756186   0.101122  0.059944  \n",
       "4                        796  0.763550   0.096294  0.064375  \n",
       "5                        549  0.768494   0.153253  0.022896  \n",
       "6                        600  0.748296   0.131528  0.037739  \n",
       "7                        660  0.740931   0.121207  0.048600  \n",
       "8                        778  0.756186   0.101122  0.059944  \n",
       "9                        796  0.763550   0.096294  0.064375  \n",
       "10                       549  0.768494   0.153253  0.022896  \n",
       "11                       600  0.748296   0.131528  0.037739  \n",
       "12                       660  0.740931   0.121207  0.048600  \n",
       "13                       778  0.756186   0.101122  0.059944  \n",
       "14                       796  0.763550   0.096294  0.064375  \n",
       "15                       544  0.766394   0.154661  0.022896  \n",
       "16                       584  0.744149   0.134887  0.037515  \n",
       "17                       591  0.720313   0.134129  0.047350  \n",
       "18                       593  0.710985   0.128146  0.053695  \n",
       "19                       594  0.709016   0.125648  0.057483  \n",
       "20                       456  0.751757   0.174645  0.020665  \n",
       "21                       486  0.737671   0.152221  0.032833  \n",
       "22                       490  0.712436   0.151630  0.041142  \n",
       "23                       491  0.705977   0.144967  0.046236  \n",
       "24                       491  0.703411   0.142951  0.049324  \n",
       "25                       414  0.753758   0.186295  0.018413  \n",
       "26                       437  0.735486   0.164141  0.028651  \n",
       "27                       440  0.717249   0.162628  0.034501  \n",
       "28                       440  0.702322   0.157200  0.038916  \n",
       "29                       440  0.699792   0.155394  0.041578  "
      ]
     },
     "execution_count": 78,
     "metadata": {},
     "output_type": "execute_result"
    }
   ],
   "source": [
    "df_result"
   ]
  },
  {
   "cell_type": "markdown",
   "metadata": {},
   "source": [
    "上はpoitypeを数値で、下はonehotで表現。上のほうがレコメンドできているのをみると、状況の近さを考慮したほうがよさそう"
   ]
  },
  {
   "cell_type": "code",
   "execution_count": 51,
   "metadata": {
    "ExecuteTime": {
     "end_time": "2019-09-06T00:26:49.395102Z",
     "start_time": "2019-09-06T00:26:49.360263Z"
    }
   },
   "outputs": [
    {
     "data": {
      "text/html": [
       "<div>\n",
       "<style>\n",
       "    .dataframe thead tr:only-child th {\n",
       "        text-align: right;\n",
       "    }\n",
       "\n",
       "    .dataframe thead th {\n",
       "        text-align: left;\n",
       "    }\n",
       "\n",
       "    .dataframe tbody tr th {\n",
       "        vertical-align: top;\n",
       "    }\n",
       "</style>\n",
       "<table border=\"1\" class=\"dataframe\">\n",
       "  <thead>\n",
       "    <tr style=\"text-align: right;\">\n",
       "      <th></th>\n",
       "      <th>score_threshod</th>\n",
       "      <th>topk</th>\n",
       "      <th>user_num</th>\n",
       "      <th>delivery_user_num</th>\n",
       "      <th>actual_delivery_user_num</th>\n",
       "      <th>AUC</th>\n",
       "      <th>precision</th>\n",
       "      <th>recall</th>\n",
       "    </tr>\n",
       "  </thead>\n",
       "  <tbody>\n",
       "    <tr>\n",
       "      <th>0</th>\n",
       "      <td>0</td>\n",
       "      <td>1</td>\n",
       "      <td>1565</td>\n",
       "      <td>7082</td>\n",
       "      <td>485</td>\n",
       "      <td>0.769303</td>\n",
       "      <td>0.164261</td>\n",
       "      <td>0.020549</td>\n",
       "    </tr>\n",
       "    <tr>\n",
       "      <th>1</th>\n",
       "      <td>0</td>\n",
       "      <td>2</td>\n",
       "      <td>1565</td>\n",
       "      <td>7082</td>\n",
       "      <td>525</td>\n",
       "      <td>0.749100</td>\n",
       "      <td>0.142655</td>\n",
       "      <td>0.033496</td>\n",
       "    </tr>\n",
       "    <tr>\n",
       "      <th>2</th>\n",
       "      <td>0</td>\n",
       "      <td>3</td>\n",
       "      <td>1565</td>\n",
       "      <td>7082</td>\n",
       "      <td>543</td>\n",
       "      <td>0.730325</td>\n",
       "      <td>0.138210</td>\n",
       "      <td>0.041837</td>\n",
       "    </tr>\n",
       "    <tr>\n",
       "      <th>3</th>\n",
       "      <td>0</td>\n",
       "      <td>4</td>\n",
       "      <td>1565</td>\n",
       "      <td>7082</td>\n",
       "      <td>550</td>\n",
       "      <td>0.724661</td>\n",
       "      <td>0.131411</td>\n",
       "      <td>0.046734</td>\n",
       "    </tr>\n",
       "    <tr>\n",
       "      <th>4</th>\n",
       "      <td>0</td>\n",
       "      <td>5</td>\n",
       "      <td>1565</td>\n",
       "      <td>7082</td>\n",
       "      <td>558</td>\n",
       "      <td>0.723246</td>\n",
       "      <td>0.128641</td>\n",
       "      <td>0.050130</td>\n",
       "    </tr>\n",
       "    <tr>\n",
       "      <th>5</th>\n",
       "      <td>5</td>\n",
       "      <td>1</td>\n",
       "      <td>1565</td>\n",
       "      <td>7082</td>\n",
       "      <td>485</td>\n",
       "      <td>0.769303</td>\n",
       "      <td>0.164261</td>\n",
       "      <td>0.020549</td>\n",
       "    </tr>\n",
       "    <tr>\n",
       "      <th>6</th>\n",
       "      <td>5</td>\n",
       "      <td>2</td>\n",
       "      <td>1565</td>\n",
       "      <td>7082</td>\n",
       "      <td>525</td>\n",
       "      <td>0.749100</td>\n",
       "      <td>0.142655</td>\n",
       "      <td>0.033496</td>\n",
       "    </tr>\n",
       "    <tr>\n",
       "      <th>7</th>\n",
       "      <td>5</td>\n",
       "      <td>3</td>\n",
       "      <td>1565</td>\n",
       "      <td>7082</td>\n",
       "      <td>543</td>\n",
       "      <td>0.730325</td>\n",
       "      <td>0.138210</td>\n",
       "      <td>0.041837</td>\n",
       "    </tr>\n",
       "    <tr>\n",
       "      <th>8</th>\n",
       "      <td>5</td>\n",
       "      <td>4</td>\n",
       "      <td>1565</td>\n",
       "      <td>7082</td>\n",
       "      <td>550</td>\n",
       "      <td>0.724661</td>\n",
       "      <td>0.131411</td>\n",
       "      <td>0.046734</td>\n",
       "    </tr>\n",
       "    <tr>\n",
       "      <th>9</th>\n",
       "      <td>5</td>\n",
       "      <td>5</td>\n",
       "      <td>1565</td>\n",
       "      <td>7082</td>\n",
       "      <td>558</td>\n",
       "      <td>0.723246</td>\n",
       "      <td>0.128641</td>\n",
       "      <td>0.050130</td>\n",
       "    </tr>\n",
       "    <tr>\n",
       "      <th>10</th>\n",
       "      <td>10</td>\n",
       "      <td>1</td>\n",
       "      <td>1565</td>\n",
       "      <td>7082</td>\n",
       "      <td>485</td>\n",
       "      <td>0.769303</td>\n",
       "      <td>0.164261</td>\n",
       "      <td>0.020549</td>\n",
       "    </tr>\n",
       "    <tr>\n",
       "      <th>11</th>\n",
       "      <td>10</td>\n",
       "      <td>2</td>\n",
       "      <td>1565</td>\n",
       "      <td>7082</td>\n",
       "      <td>525</td>\n",
       "      <td>0.749100</td>\n",
       "      <td>0.142655</td>\n",
       "      <td>0.033496</td>\n",
       "    </tr>\n",
       "    <tr>\n",
       "      <th>12</th>\n",
       "      <td>10</td>\n",
       "      <td>3</td>\n",
       "      <td>1565</td>\n",
       "      <td>7082</td>\n",
       "      <td>543</td>\n",
       "      <td>0.730325</td>\n",
       "      <td>0.138210</td>\n",
       "      <td>0.041837</td>\n",
       "    </tr>\n",
       "    <tr>\n",
       "      <th>13</th>\n",
       "      <td>10</td>\n",
       "      <td>4</td>\n",
       "      <td>1565</td>\n",
       "      <td>7082</td>\n",
       "      <td>550</td>\n",
       "      <td>0.724661</td>\n",
       "      <td>0.131411</td>\n",
       "      <td>0.046734</td>\n",
       "    </tr>\n",
       "    <tr>\n",
       "      <th>14</th>\n",
       "      <td>10</td>\n",
       "      <td>5</td>\n",
       "      <td>1565</td>\n",
       "      <td>7082</td>\n",
       "      <td>558</td>\n",
       "      <td>0.723246</td>\n",
       "      <td>0.128641</td>\n",
       "      <td>0.050130</td>\n",
       "    </tr>\n",
       "    <tr>\n",
       "      <th>15</th>\n",
       "      <td>15</td>\n",
       "      <td>1</td>\n",
       "      <td>1565</td>\n",
       "      <td>7082</td>\n",
       "      <td>485</td>\n",
       "      <td>0.769303</td>\n",
       "      <td>0.164261</td>\n",
       "      <td>0.020549</td>\n",
       "    </tr>\n",
       "    <tr>\n",
       "      <th>16</th>\n",
       "      <td>15</td>\n",
       "      <td>2</td>\n",
       "      <td>1565</td>\n",
       "      <td>7082</td>\n",
       "      <td>525</td>\n",
       "      <td>0.749100</td>\n",
       "      <td>0.142655</td>\n",
       "      <td>0.033496</td>\n",
       "    </tr>\n",
       "    <tr>\n",
       "      <th>17</th>\n",
       "      <td>15</td>\n",
       "      <td>3</td>\n",
       "      <td>1565</td>\n",
       "      <td>7082</td>\n",
       "      <td>543</td>\n",
       "      <td>0.730325</td>\n",
       "      <td>0.138210</td>\n",
       "      <td>0.041837</td>\n",
       "    </tr>\n",
       "    <tr>\n",
       "      <th>18</th>\n",
       "      <td>15</td>\n",
       "      <td>4</td>\n",
       "      <td>1565</td>\n",
       "      <td>7082</td>\n",
       "      <td>550</td>\n",
       "      <td>0.724661</td>\n",
       "      <td>0.131411</td>\n",
       "      <td>0.046734</td>\n",
       "    </tr>\n",
       "    <tr>\n",
       "      <th>19</th>\n",
       "      <td>15</td>\n",
       "      <td>5</td>\n",
       "      <td>1565</td>\n",
       "      <td>7082</td>\n",
       "      <td>558</td>\n",
       "      <td>0.723246</td>\n",
       "      <td>0.128641</td>\n",
       "      <td>0.050130</td>\n",
       "    </tr>\n",
       "    <tr>\n",
       "      <th>20</th>\n",
       "      <td>20</td>\n",
       "      <td>1</td>\n",
       "      <td>1565</td>\n",
       "      <td>2995</td>\n",
       "      <td>452</td>\n",
       "      <td>0.756152</td>\n",
       "      <td>0.174989</td>\n",
       "      <td>0.019977</td>\n",
       "    </tr>\n",
       "    <tr>\n",
       "      <th>21</th>\n",
       "      <td>20</td>\n",
       "      <td>2</td>\n",
       "      <td>1565</td>\n",
       "      <td>2995</td>\n",
       "      <td>484</td>\n",
       "      <td>0.739649</td>\n",
       "      <td>0.153096</td>\n",
       "      <td>0.032585</td>\n",
       "    </tr>\n",
       "    <tr>\n",
       "      <th>22</th>\n",
       "      <td>20</td>\n",
       "      <td>3</td>\n",
       "      <td>1565</td>\n",
       "      <td>2995</td>\n",
       "      <td>489</td>\n",
       "      <td>0.714373</td>\n",
       "      <td>0.151992</td>\n",
       "      <td>0.040926</td>\n",
       "    </tr>\n",
       "    <tr>\n",
       "      <th>23</th>\n",
       "      <td>20</td>\n",
       "      <td>4</td>\n",
       "      <td>1565</td>\n",
       "      <td>2995</td>\n",
       "      <td>491</td>\n",
       "      <td>0.708088</td>\n",
       "      <td>0.145728</td>\n",
       "      <td>0.045823</td>\n",
       "    </tr>\n",
       "    <tr>\n",
       "      <th>24</th>\n",
       "      <td>20</td>\n",
       "      <td>5</td>\n",
       "      <td>1565</td>\n",
       "      <td>2995</td>\n",
       "      <td>494</td>\n",
       "      <td>0.705859</td>\n",
       "      <td>0.143903</td>\n",
       "      <td>0.049166</td>\n",
       "    </tr>\n",
       "    <tr>\n",
       "      <th>25</th>\n",
       "      <td>25</td>\n",
       "      <td>1</td>\n",
       "      <td>1565</td>\n",
       "      <td>726</td>\n",
       "      <td>415</td>\n",
       "      <td>0.753978</td>\n",
       "      <td>0.185846</td>\n",
       "      <td>0.018413</td>\n",
       "    </tr>\n",
       "    <tr>\n",
       "      <th>26</th>\n",
       "      <td>25</td>\n",
       "      <td>2</td>\n",
       "      <td>1565</td>\n",
       "      <td>726</td>\n",
       "      <td>437</td>\n",
       "      <td>0.736892</td>\n",
       "      <td>0.164904</td>\n",
       "      <td>0.028881</td>\n",
       "    </tr>\n",
       "    <tr>\n",
       "      <th>27</th>\n",
       "      <td>25</td>\n",
       "      <td>3</td>\n",
       "      <td>1565</td>\n",
       "      <td>726</td>\n",
       "      <td>440</td>\n",
       "      <td>0.718592</td>\n",
       "      <td>0.163196</td>\n",
       "      <td>0.034731</td>\n",
       "    </tr>\n",
       "    <tr>\n",
       "      <th>28</th>\n",
       "      <td>25</td>\n",
       "      <td>4</td>\n",
       "      <td>1565</td>\n",
       "      <td>726</td>\n",
       "      <td>441</td>\n",
       "      <td>0.704093</td>\n",
       "      <td>0.157705</td>\n",
       "      <td>0.039155</td>\n",
       "    </tr>\n",
       "    <tr>\n",
       "      <th>29</th>\n",
       "      <td>25</td>\n",
       "      <td>5</td>\n",
       "      <td>1565</td>\n",
       "      <td>726</td>\n",
       "      <td>441</td>\n",
       "      <td>0.701129</td>\n",
       "      <td>0.156198</td>\n",
       "      <td>0.041933</td>\n",
       "    </tr>\n",
       "  </tbody>\n",
       "</table>\n",
       "</div>"
      ],
      "text/plain": [
       "    score_threshod  topk  user_num  delivery_user_num  \\\n",
       "0                0     1      1565               7082   \n",
       "1                0     2      1565               7082   \n",
       "2                0     3      1565               7082   \n",
       "3                0     4      1565               7082   \n",
       "4                0     5      1565               7082   \n",
       "5                5     1      1565               7082   \n",
       "6                5     2      1565               7082   \n",
       "7                5     3      1565               7082   \n",
       "8                5     4      1565               7082   \n",
       "9                5     5      1565               7082   \n",
       "10              10     1      1565               7082   \n",
       "11              10     2      1565               7082   \n",
       "12              10     3      1565               7082   \n",
       "13              10     4      1565               7082   \n",
       "14              10     5      1565               7082   \n",
       "15              15     1      1565               7082   \n",
       "16              15     2      1565               7082   \n",
       "17              15     3      1565               7082   \n",
       "18              15     4      1565               7082   \n",
       "19              15     5      1565               7082   \n",
       "20              20     1      1565               2995   \n",
       "21              20     2      1565               2995   \n",
       "22              20     3      1565               2995   \n",
       "23              20     4      1565               2995   \n",
       "24              20     5      1565               2995   \n",
       "25              25     1      1565                726   \n",
       "26              25     2      1565                726   \n",
       "27              25     3      1565                726   \n",
       "28              25     4      1565                726   \n",
       "29              25     5      1565                726   \n",
       "\n",
       "    actual_delivery_user_num       AUC  precision    recall  \n",
       "0                        485  0.769303   0.164261  0.020549  \n",
       "1                        525  0.749100   0.142655  0.033496  \n",
       "2                        543  0.730325   0.138210  0.041837  \n",
       "3                        550  0.724661   0.131411  0.046734  \n",
       "4                        558  0.723246   0.128641  0.050130  \n",
       "5                        485  0.769303   0.164261  0.020549  \n",
       "6                        525  0.749100   0.142655  0.033496  \n",
       "7                        543  0.730325   0.138210  0.041837  \n",
       "8                        550  0.724661   0.131411  0.046734  \n",
       "9                        558  0.723246   0.128641  0.050130  \n",
       "10                       485  0.769303   0.164261  0.020549  \n",
       "11                       525  0.749100   0.142655  0.033496  \n",
       "12                       543  0.730325   0.138210  0.041837  \n",
       "13                       550  0.724661   0.131411  0.046734  \n",
       "14                       558  0.723246   0.128641  0.050130  \n",
       "15                       485  0.769303   0.164261  0.020549  \n",
       "16                       525  0.749100   0.142655  0.033496  \n",
       "17                       543  0.730325   0.138210  0.041837  \n",
       "18                       550  0.724661   0.131411  0.046734  \n",
       "19                       558  0.723246   0.128641  0.050130  \n",
       "20                       452  0.756152   0.174989  0.019977  \n",
       "21                       484  0.739649   0.153096  0.032585  \n",
       "22                       489  0.714373   0.151992  0.040926  \n",
       "23                       491  0.708088   0.145728  0.045823  \n",
       "24                       494  0.705859   0.143903  0.049166  \n",
       "25                       415  0.753978   0.185846  0.018413  \n",
       "26                       437  0.736892   0.164904  0.028881  \n",
       "27                       440  0.718592   0.163196  0.034731  \n",
       "28                       441  0.704093   0.157705  0.039155  \n",
       "29                       441  0.701129   0.156198  0.041933  "
      ]
     },
     "execution_count": 51,
     "metadata": {},
     "output_type": "execute_result"
    }
   ],
   "source": [
    "df_result"
   ]
  },
  {
   "cell_type": "code",
   "execution_count": null,
   "metadata": {
    "collapsed": true
   },
   "outputs": [],
   "source": []
  },
  {
   "cell_type": "code",
   "execution_count": null,
   "metadata": {
    "collapsed": true
   },
   "outputs": [],
   "source": []
  },
  {
   "cell_type": "code",
   "execution_count": null,
   "metadata": {
    "collapsed": true
   },
   "outputs": [],
   "source": []
  },
  {
   "cell_type": "code",
   "execution_count": null,
   "metadata": {
    "collapsed": true
   },
   "outputs": [],
   "source": []
  }
 ],
 "metadata": {
  "kernelspec": {
   "display_name": "Python 3",
   "language": "python",
   "name": "python3"
  },
  "language_info": {
   "codemirror_mode": {
    "name": "ipython",
    "version": 3
   },
   "file_extension": ".py",
   "mimetype": "text/x-python",
   "name": "python",
   "nbconvert_exporter": "python",
   "pygments_lexer": "ipython3",
   "version": "3.6.3"
  },
  "toc": {
   "base_numbering": 1,
   "nav_menu": {},
   "number_sections": true,
   "sideBar": true,
   "skip_h1_title": false,
   "title_cell": "Table of Contents",
   "title_sidebar": "Contents",
   "toc_cell": false,
   "toc_position": {
    "height": "calc(100% - 180px)",
    "left": "10px",
    "top": "150px",
    "width": "158.994px"
   },
   "toc_section_display": true,
   "toc_window_display": true
  }
 },
 "nbformat": 4,
 "nbformat_minor": 2
}
