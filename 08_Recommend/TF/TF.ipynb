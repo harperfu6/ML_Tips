{
 "cells": [
  {
   "cell_type": "code",
   "execution_count": 3,
   "metadata": {
    "ExecuteTime": {
     "end_time": "2019-09-18T07:56:36.867062Z",
     "start_time": "2019-09-18T07:56:35.736377Z"
    },
    "collapsed": true
   },
   "outputs": [],
   "source": [
    "import os\n",
    "import sys\n",
    "\n",
    "import numpy as np\n",
    "import pandas as pd\n",
    "from subprocess import call\n",
    "from sklearn.metrics import mean_squared_error\n",
    "\n",
    "from numpy.linalg import solve\n",
    "\n",
    "import matplotlib.pyplot as plt\n",
    "%matplotlib inline\n",
    "import seaborn as sns\n",
    "sns.set()"
   ]
  },
  {
   "cell_type": "markdown",
   "metadata": {},
   "source": [
    "# library test"
   ]
  },
  {
   "cell_type": "code",
   "execution_count": 7,
   "metadata": {
    "ExecuteTime": {
     "end_time": "2019-09-18T07:56:40.134661Z",
     "start_time": "2019-09-18T07:56:39.999201Z"
    }
   },
   "outputs": [
    {
     "name": "stdout",
     "output_type": "stream",
     "text": [
      "Python 3.6.3 :: Anaconda, Inc.\r\n"
     ]
    }
   ],
   "source": [
    "!python -V"
   ]
  },
  {
   "cell_type": "code",
   "execution_count": 385,
   "metadata": {
    "ExecuteTime": {
     "end_time": "2019-09-30T01:03:23.408293Z",
     "start_time": "2019-09-30T01:00:14.762828Z"
    }
   },
   "outputs": [
    {
     "name": "stdout",
     "output_type": "stream",
     "text": [
      "[INFO] ----------------- TF -----------------\n",
      "[INFO] Data: Number of types for each feature = [6040, 3883, 2, 7, 21]\n",
      "[INFO] Data: Training Size = 900188. Testing Size = 100021\n",
      "[INFO] Settings: K = [8, 8, 8, 8, 8]. reg = 0.1. regS = 0.1. lr = 0.0001. lrS = 0.0001\n",
      "^C\n",
      "Traceback (most recent call last):\n",
      "  File \"lib/TF.py\", line 224, in <module>\n",
      "    core, U = TPTF(X, Xtest, dims, rank, args.reg, args.regS, args.lr, args.lrS, args.maxEpo)\n",
      "  File \"lib/TF.py\", line 74, in TPTF\n",
      "    F_ijk = tensor_ttv(core, Ui_list)\n",
      "  File \"lib/TF.py\", line 136, in tensor_ttv\n",
      "    out_core = dt_core.ttv(tuple(Ui_list), modes)\n",
      "  File \"/home/5124393/scikit-tensor-py3/sktensor/core.py\", line 121, in ttv\n",
      "    dims, vidx = check_multiplication_dims(modes, self.ndim, len(v), vidx=True, without=without)\n",
      "  File \"/home/5124393/scikit-tensor-py3/sktensor/core.py\", line 245, in check_multiplication_dims\n",
      "    if not np.in1d(dims, np.arange(N)).all():\n",
      "  File \"/home/5124393/anaconda3/lib/python3.6/site-packages/numpy/lib/arraysetops.py\", line 463, in in1d\n",
      "    mask |= (ar1 == a)\n",
      "KeyboardInterrupt\n"
     ]
    }
   ],
   "source": [
    "!python lib/TF.py --train data/ml-1m/user_train.txt --test data/ml-1m/user_test.txt --reg 0.1 --regS 0.1 --lr 0.0001 --lrS 0.0001"
   ]
  },
  {
   "cell_type": "code",
   "execution_count": 384,
   "metadata": {
    "ExecuteTime": {
     "end_time": "2019-09-30T00:59:01.170700Z",
     "start_time": "2019-09-30T00:59:00.545977Z"
    }
   },
   "outputs": [
    {
     "name": "stdout",
     "output_type": "stream",
     "text": [
      "usage: TF.py [-h] [--train TRAIN] [--test TEST] [--model MODEL] [--out OUT]\r\n",
      "             [--k K] [--reg REG] [--regS REGS] [--lr LR] [--lrS LRS]\r\n",
      "             [--maxEpo MAXEPO] [--verbose VERBOSE]\r\n",
      "\r\n",
      "Tensor Factorization\r\n",
      "\r\n",
      "optional arguments:\r\n",
      "  -h, --help         show this help message and exit\r\n",
      "  --train TRAIN      Training file\r\n",
      "  --test TEST        Testing file\r\n",
      "  --model MODEL      Directory where the final model will be saved\r\n",
      "  --out OUT          File where the final result will be saved\r\n",
      "  --k K              Dimension of latent fectors, e.g. '8-8-8'\r\n",
      "  --reg REG          Regularization for latent facotrs\r\n",
      "  --regS REGS        Regularization for core tensor\r\n",
      "  --lr LR            Initial learning rate for latent facotrs\r\n",
      "  --lrS LRS          Initial learning rate for core tensor\r\n",
      "  --maxEpo MAXEPO    Max training epo\r\n",
      "  --verbose VERBOSE  Verbose or not\r\n"
     ]
    }
   ],
   "source": [
    "!python lib/TF.py --help"
   ]
  },
  {
   "cell_type": "code",
   "execution_count": null,
   "metadata": {
    "collapsed": true
   },
   "outputs": [],
   "source": []
  },
  {
   "cell_type": "code",
   "execution_count": 379,
   "metadata": {
    "ExecuteTime": {
     "end_time": "2019-09-30T00:29:30.488948Z",
     "start_time": "2019-09-30T00:29:22.095426Z"
    },
    "scrolled": false
   },
   "outputs": [
    {
     "name": "stdout",
     "output_type": "stream",
     "text": [
      "[INFO] ----------------- TF -----------------\n",
      "[INFO] Data: Number of types for each feature = [100, 99, 2, 7, 21]\n",
      "[INFO] Data: Training Size = 200. Testing Size = 57\n",
      "[INFO] Settings: K = [8, 8, 8, 8, 8]. reg = 0.1. regS = 0.1. lr = 0.001. lrS = 0.001\n",
      "[INFO] Iter 1/10. Time: 0.7\n",
      "[INFO] Training Loss: 5.60 (change -659.55%). Testing RMSE: 3.7757\n",
      "[INFO] Iter 2/10. Time: 0.7\n",
      "[INFO] Training Loss: 5.50 (change -1.64%). Testing RMSE: 3.7651\n",
      "[INFO] Iter 3/10. Time: 0.7\n",
      "[INFO] Training Loss: 5.42 (change -1.59%). Testing RMSE: 3.7460\n",
      "[INFO] Iter 4/10. Time: 0.7\n",
      "[INFO] Training Loss: 5.33 (change -1.51%). Testing RMSE: 3.7029\n",
      "[INFO] Iter 5/10. Time: 0.7\n",
      "[INFO] Training Loss: 5.26 (change -1.35%). Testing RMSE: 3.5582\n",
      "[INFO] Iter 6/10. Time: 0.7\n",
      "[INFO] Training Loss: 5.20 (change -1.27%). Testing RMSE: 2.9498\n",
      "[INFO] Iter 7/10. Time: 0.7\n",
      "[INFO] Training Loss: 5.09 (change -1.97%). Testing RMSE: 2.3119\n",
      "[INFO] Iter 8/10. Time: 0.7\n",
      "[INFO] Training Loss: 5.00 (change -1.91%). Testing RMSE: 1.8609\n",
      "[INFO] Iter 9/10. Time: 0.7\n",
      "[INFO] Training Loss: 4.91 (change -1.79%). Testing RMSE: 1.5826\n",
      "[INFO] Iter 10/10. Time: 0.7\n",
      "[INFO] Training Loss: 4.82 (change -1.77%). Testing RMSE: 1.4364\n",
      "[INFO] RMSE: 1.4364\n",
      "[INFO] Total Time: 7.0s\n"
     ]
    }
   ],
   "source": [
    "!python lib/TF.py --train data/test/small_train.txt --test data/test/small_test.txt --reg 0.1 --regS 0.1 --lr 0.001 --lrS 0.001 --model model"
   ]
  },
  {
   "cell_type": "code",
   "execution_count": null,
   "metadata": {
    "collapsed": true
   },
   "outputs": [],
   "source": []
  },
  {
   "cell_type": "code",
   "execution_count": 60,
   "metadata": {
    "ExecuteTime": {
     "end_time": "2019-09-19T00:58:19.035533Z",
     "start_time": "2019-09-19T00:58:19.021190Z"
    },
    "collapsed": true
   },
   "outputs": [],
   "source": [
    "X = np.loadtxt('data/test/small_train.txt', dtype=float, delimiter=',')\n",
    "X_test = np.loadtxt('data/test/small_test.txt', dtype=float, delimiter=',')"
   ]
  },
  {
   "cell_type": "code",
   "execution_count": 54,
   "metadata": {
    "ExecuteTime": {
     "end_time": "2019-09-19T00:56:31.696808Z",
     "start_time": "2019-09-19T00:56:31.684062Z"
    },
    "scrolled": true
   },
   "outputs": [],
   "source": [
    "core = np.load('model/8_0.1_0.1_0.001_0.001_10_core.npy')\n",
    "U = np.load('model/8_0.1_0.1_0.001_0.001_10_U.npy')\n",
    "pred = np.load('model/pred.npy')"
   ]
  },
  {
   "cell_type": "code",
   "execution_count": 51,
   "metadata": {
    "ExecuteTime": {
     "end_time": "2019-09-19T00:51:46.450974Z",
     "start_time": "2019-09-19T00:51:46.441975Z"
    }
   },
   "outputs": [
    {
     "data": {
      "text/plain": [
       "array([[ 59.,   0.,   0.,   5.,   1.,   4.],\n",
       "       [ 91.,  23.,   1.,   1.,   4.,   2.],\n",
       "       [ 44.,  10.,   1.,   4.,  16.,   5.],\n",
       "       ..., \n",
       "       [ 91.,  33.,   1.,   1.,   4.,   3.],\n",
       "       [ 82.,  59.,   1.,   2.,   2.,   5.],\n",
       "       [ 47.,  23.,   0.,   2.,   4.,   3.]])"
      ]
     },
     "execution_count": 51,
     "metadata": {},
     "output_type": "execute_result"
    }
   ],
   "source": [
    "X"
   ]
  },
  {
   "cell_type": "code",
   "execution_count": 59,
   "metadata": {
    "ExecuteTime": {
     "end_time": "2019-09-19T00:57:40.030671Z",
     "start_time": "2019-09-19T00:57:40.024253Z"
    }
   },
   "outputs": [
    {
     "data": {
      "text/plain": [
       "(200, 6)"
      ]
     },
     "execution_count": 59,
     "metadata": {},
     "output_type": "execute_result"
    }
   ],
   "source": [
    "X.shape"
   ]
  },
  {
   "cell_type": "code",
   "execution_count": 62,
   "metadata": {
    "ExecuteTime": {
     "end_time": "2019-09-19T00:58:43.656652Z",
     "start_time": "2019-09-19T00:58:43.637612Z"
    },
    "scrolled": true
   },
   "outputs": [
    {
     "data": {
      "text/plain": [
       "array([[ 91.,  85.,   1.,   1.,   4.,   1.],\n",
       "       [ 50.,  38.,   1.,   0.,  10.,   4.],\n",
       "       [ 61.,  84.,   1.,   3.,   3.,   2.],\n",
       "       [ 91.,  75.,   1.,   1.,   4.,   2.],\n",
       "       [ 48.,  20.,   0.,   1.,  12.,   3.],\n",
       "       [ 71.,  16.,   1.,   4.,   0.,   4.],\n",
       "       [ 61.,  98.,   1.,   3.,   3.,   3.],\n",
       "       [ 47.,   5.,   0.,   2.,   4.,   4.],\n",
       "       [ 31.,  31.,   1.,   2.,   0.,   5.],\n",
       "       [ 94.,   9.,   0.,   4.,   0.,   4.],\n",
       "       [ 74.,   7.,   1.,   0.,  10.,   5.],\n",
       "       [ 61.,   6.,   1.,   3.,   3.,   3.],\n",
       "       [ 34.,   6.,   0.,   4.,   1.,   2.],\n",
       "       [ 68.,  39.,   1.,   2.,   1.,   5.],\n",
       "       [ 86.,  20.,   0.,   2.,  14.,   1.],\n",
       "       [ 57.,  93.,   0.,   2.,   2.,   2.],\n",
       "       [ 57.,  28.,   0.,   2.,   2.,   5.],\n",
       "       [ 66.,  35.,   1.,   5.,   5.,   5.],\n",
       "       [ 68.,  57.,   1.,   2.,   1.,   4.],\n",
       "       [ 61.,  35.,   1.,   3.,   3.,   3.],\n",
       "       [ 47.,  35.,   0.,   2.,   4.,   3.],\n",
       "       [ 57.,  20.,   0.,   2.,   2.,   4.],\n",
       "       [ 52.,  80.,   0.,   2.,   0.,   4.],\n",
       "       [ 41.,  33.,   0.,   2.,   8.,   3.],\n",
       "       [ 33.,  33.,   1.,   1.,   0.,   5.],\n",
       "       [ 59.,  59.,   0.,   5.,   1.,   5.],\n",
       "       [ 58.,  40.,   1.,   5.,   1.,   4.],\n",
       "       [ 75.,   0.,   0.,   3.,   7.,   5.],\n",
       "       [ 37.,  73.,   1.,   1.,   4.,   3.],\n",
       "       [ 74.,  86.,   1.,   0.,  10.,   5.],\n",
       "       [ 48.,  93.,   0.,   1.,  12.,   2.],\n",
       "       [ 52.,  46.,   0.,   2.,   0.,   5.],\n",
       "       [ 46.,  16.,   0.,   1.,   4.,   5.],\n",
       "       [ 41.,  31.,   0.,   2.,   8.,   3.],\n",
       "       [ 55.,  35.,   0.,   3.,  20.,   4.],\n",
       "       [ 99.,  14.,   0.,   3.,  17.,   3.],\n",
       "       [ 48.,  12.,   0.,   1.,  12.,   4.],\n",
       "       [ 44.,  33.,   1.,   4.,  16.,   1.],\n",
       "       [ 47.,  31.,   0.,   2.,   4.,   4.],\n",
       "       [ 61.,   2.,   1.,   3.,   3.,   3.],\n",
       "       [ 59.,  20.,   0.,   5.,   1.,   3.],\n",
       "       [ 30.,  10.,   0.,   6.,   7.,   3.],\n",
       "       [ 47.,   4.,   0.,   2.,   4.,   3.],\n",
       "       [ 81.,   9.,   0.,   2.,  17.,   4.],\n",
       "       [ 56.,  46.,   0.,   1.,  19.,   4.],\n",
       "       [ 58.,  35.,   1.,   5.,   1.,   4.],\n",
       "       [ 34.,  57.,   0.,   4.,   1.,   3.],\n",
       "       [ 74.,   1.,   1.,   0.,  10.,   4.],\n",
       "       [ 32.,  15.,   0.,   4.,   3.,   3.],\n",
       "       [ 37.,  47.,   1.,   1.,   4.,   3.],\n",
       "       [ 69.,  42.,   0.,   1.,   4.,   5.],\n",
       "       [ 39.,   1.,   0.,   4.,   0.,   5.],\n",
       "       [ 72.,   8.,   0.,   1.,   4.,   3.],\n",
       "       [ 61.,  20.,   1.,   3.,   3.,   4.],\n",
       "       [ 29.,  49.,   1.,   3.,   7.,   5.],\n",
       "       [ 61.,  24.,   1.,   3.,   3.,   4.],\n",
       "       [ 52.,  49.,   0.,   2.,   0.,   5.]])"
      ]
     },
     "execution_count": 62,
     "metadata": {},
     "output_type": "execute_result"
    }
   ],
   "source": [
    "X_test"
   ]
  },
  {
   "cell_type": "code",
   "execution_count": 61,
   "metadata": {
    "ExecuteTime": {
     "end_time": "2019-09-19T00:58:32.282999Z",
     "start_time": "2019-09-19T00:58:32.276333Z"
    }
   },
   "outputs": [
    {
     "data": {
      "text/plain": [
       "(57, 6)"
      ]
     },
     "execution_count": 61,
     "metadata": {},
     "output_type": "execute_result"
    }
   ],
   "source": [
    "X_test.shape"
   ]
  },
  {
   "cell_type": "code",
   "execution_count": 63,
   "metadata": {
    "ExecuteTime": {
     "end_time": "2019-09-19T01:00:20.391389Z",
     "start_time": "2019-09-19T01:00:20.380575Z"
    }
   },
   "outputs": [
    {
     "data": {
      "text/plain": [
       "array([ 1.,  4.,  2.,  2.,  3.,  4.,  3.,  4.,  5.,  4.,  5.,  3.,  2.,\n",
       "        5.,  1.,  2.,  5.,  5.,  4.,  3.,  3.,  4.,  4.,  3.,  5.,  5.,\n",
       "        4.,  5.,  3.,  5.,  2.,  5.,  5.,  3.,  4.,  3.,  4.,  1.,  4.,\n",
       "        3.,  3.,  3.,  3.,  4.,  4.,  4.,  3.,  4.,  3.,  3.,  5.,  5.,\n",
       "        3.,  4.,  5.,  4.,  5.])"
      ]
     },
     "execution_count": 63,
     "metadata": {},
     "output_type": "execute_result"
    }
   ],
   "source": [
    "X_test.T[5]"
   ]
  },
  {
   "cell_type": "code",
   "execution_count": 55,
   "metadata": {
    "ExecuteTime": {
     "end_time": "2019-09-19T00:56:43.455866Z",
     "start_time": "2019-09-19T00:56:43.445063Z"
    }
   },
   "outputs": [
    {
     "data": {
      "text/plain": [
       "array([ 2.33777904,  2.02696961,  2.16947334,  2.18639081,  3.70185344,\n",
       "        4.39216015,  3.55975776,  3.38314889,  2.743418  ,  4.24352339,\n",
       "        2.12984109,  2.8131916 ,  2.83659153,  4.86570043,  0.43582863,\n",
       "        2.4963158 ,  3.82049556,  0.50975272,  4.07316279,  3.6473105 ,\n",
       "        2.74748467,  4.3741594 ,  2.9172552 ,  3.68828958,  4.03411823,\n",
       "        4.05301415,  0.91725884,  5.00844812,  1.78234021,  0.95299233,\n",
       "        2.11066424,  5.73760899,  4.83981144,  3.55484116,  3.68596962,\n",
       "        1.55953711,  2.85461574,  4.18819273,  3.02581286,  2.13295425,\n",
       "        3.61557562,  1.40446623,  2.01233423,  4.14924381,  1.60801235,\n",
       "        1.3829351 ,  3.07503682,  3.25492081,  2.23555799,  2.33654767,\n",
       "        1.30351026,  3.08798556,  0.99815251,  4.0844401 ,  3.6312516 ,\n",
       "        3.84613671,  7.61266274])"
      ]
     },
     "execution_count": 55,
     "metadata": {},
     "output_type": "execute_result"
    }
   ],
   "source": [
    "pred"
   ]
  },
  {
   "cell_type": "code",
   "execution_count": 56,
   "metadata": {
    "ExecuteTime": {
     "end_time": "2019-09-19T00:57:00.196736Z",
     "start_time": "2019-09-19T00:57:00.190347Z"
    }
   },
   "outputs": [
    {
     "data": {
      "text/plain": [
       "57"
      ]
     },
     "execution_count": 56,
     "metadata": {},
     "output_type": "execute_result"
    }
   ],
   "source": [
    "len(pred)"
   ]
  },
  {
   "cell_type": "code",
   "execution_count": null,
   "metadata": {
    "collapsed": true
   },
   "outputs": [],
   "source": []
  },
  {
   "cell_type": "code",
   "execution_count": 94,
   "metadata": {
    "ExecuteTime": {
     "end_time": "2019-09-19T01:44:20.812479Z",
     "start_time": "2019-09-19T01:44:20.805811Z"
    }
   },
   "outputs": [
    {
     "data": {
      "text/plain": [
       "array([ 91.,  85.,   1.,   1.,   4.,   1.])"
      ]
     },
     "execution_count": 94,
     "metadata": {},
     "output_type": "execute_result"
    }
   ],
   "source": [
    "X_test[0]"
   ]
  },
  {
   "cell_type": "code",
   "execution_count": 103,
   "metadata": {
    "ExecuteTime": {
     "end_time": "2019-09-19T01:47:38.483119Z",
     "start_time": "2019-09-19T01:47:38.476538Z"
    }
   },
   "outputs": [
    {
     "data": {
      "text/plain": [
       "(5,)"
      ]
     },
     "execution_count": 103,
     "metadata": {},
     "output_type": "execute_result"
    }
   ],
   "source": [
    "U.shape"
   ]
  },
  {
   "cell_type": "code",
   "execution_count": 107,
   "metadata": {
    "ExecuteTime": {
     "end_time": "2019-09-19T01:51:35.838038Z",
     "start_time": "2019-09-19T01:51:35.830349Z"
    }
   },
   "outputs": [
    {
     "data": {
      "text/plain": [
       "array([ 0.12360956,  0.09643034,  0.10695808,  0.0580915 ,  0.06128392,\n",
       "        0.04122145,  0.11231868,  0.10586959])"
      ]
     },
     "execution_count": 107,
     "metadata": {},
     "output_type": "execute_result"
    }
   ],
   "source": [
    "U0 = U[0][91]\n",
    "U0"
   ]
  },
  {
   "cell_type": "code",
   "execution_count": 109,
   "metadata": {
    "ExecuteTime": {
     "end_time": "2019-09-19T01:51:47.757902Z",
     "start_time": "2019-09-19T01:51:47.750087Z"
    }
   },
   "outputs": [
    {
     "data": {
      "text/plain": [
       "array([ 0.10513069,  0.05847092,  0.08913046,  0.07529403,  0.1467173 ,\n",
       "        0.07188967,  0.11083931,  0.06362633])"
      ]
     },
     "execution_count": 109,
     "metadata": {},
     "output_type": "execute_result"
    }
   ],
   "source": [
    "U1 = U[1][85]\n",
    "U1"
   ]
  },
  {
   "cell_type": "code",
   "execution_count": 110,
   "metadata": {
    "ExecuteTime": {
     "end_time": "2019-09-19T01:51:53.719783Z",
     "start_time": "2019-09-19T01:51:53.711898Z"
    }
   },
   "outputs": [
    {
     "data": {
      "text/plain": [
       "array([ 0.32178458,  0.36415049,  0.41291774,  0.39071077,  0.36792984,\n",
       "        0.41311118,  0.4285397 ,  0.37567135])"
      ]
     },
     "execution_count": 110,
     "metadata": {},
     "output_type": "execute_result"
    }
   ],
   "source": [
    "U2 = U[2][1]\n",
    "U2"
   ]
  },
  {
   "cell_type": "code",
   "execution_count": 111,
   "metadata": {
    "ExecuteTime": {
     "end_time": "2019-09-19T01:52:05.059898Z",
     "start_time": "2019-09-19T01:52:05.052182Z"
    }
   },
   "outputs": [
    {
     "data": {
      "text/plain": [
       "array([ 0.29703738,  0.30535875,  0.23706344,  0.25744111,  0.19834795,\n",
       "        0.27630989,  0.2567346 ,  0.22103808])"
      ]
     },
     "execution_count": 111,
     "metadata": {},
     "output_type": "execute_result"
    }
   ],
   "source": [
    "U3 = U[3][1]\n",
    "U3"
   ]
  },
  {
   "cell_type": "code",
   "execution_count": 112,
   "metadata": {
    "ExecuteTime": {
     "end_time": "2019-09-19T01:52:12.254605Z",
     "start_time": "2019-09-19T01:52:12.246741Z"
    }
   },
   "outputs": [
    {
     "data": {
      "text/plain": [
       "array([ 0.26245665,  0.19427385,  0.23438455,  0.252674  ,  0.19719317,\n",
       "        0.18496519,  0.20312887,  0.24918685])"
      ]
     },
     "execution_count": 112,
     "metadata": {},
     "output_type": "execute_result"
    }
   ],
   "source": [
    "U4 = U[4][4]\n",
    "U4"
   ]
  },
  {
   "cell_type": "code",
   "execution_count": 97,
   "metadata": {
    "ExecuteTime": {
     "end_time": "2019-09-19T01:45:41.239173Z",
     "start_time": "2019-09-19T01:45:41.232676Z"
    }
   },
   "outputs": [
    {
     "data": {
      "text/plain": [
       "(8, 8, 8, 8, 8)"
      ]
     },
     "execution_count": 97,
     "metadata": {},
     "output_type": "execute_result"
    }
   ],
   "source": [
    "core.shape"
   ]
  },
  {
   "cell_type": "code",
   "execution_count": 104,
   "metadata": {
    "ExecuteTime": {
     "end_time": "2019-09-19T01:50:19.178229Z",
     "start_time": "2019-09-19T01:50:19.148818Z"
    },
    "collapsed": true
   },
   "outputs": [],
   "source": [
    "def tensor_ttv(core, Ui_list, remove_k=None):\n",
    "\t'''\n",
    "\tTensor times vector product (use sktensor library)\n",
    "\t-----------\n",
    "\tcore = core tensor\n",
    "\tUi_list = list of U_i to be multiplied\n",
    "\tremove_k = do not multiply in k-th mode\n",
    "\treturn a scalar or np.array\n",
    "\t'''\n",
    "\tdt_core = sktensor.dtensor(core)\n",
    "\tassert( dt_core.ndim == len(Ui_list) ), \"tensor_ttv: core and U must be tha same dimension.\"\n",
    "\t#\n",
    "\tmodes = list(range(len(Ui_list)))\n",
    "\tif remove_k is not None:\n",
    "\t\tmodes.remove(remove_k)\n",
    "\t#\n",
    "\tout_core = dt_core.ttv(tuple(Ui_list), modes)\n",
    "\t#\n",
    "\tif len(out_core) == 1: # out_core is a scaler\n",
    "\t\treturn( out_core[0] )\n",
    "\telse:\n",
    "\t\treturn( np.array(out_core) )"
   ]
  },
  {
   "cell_type": "code",
   "execution_count": 113,
   "metadata": {
    "ExecuteTime": {
     "end_time": "2019-09-19T01:52:35.706348Z",
     "start_time": "2019-09-19T01:52:35.695608Z"
    }
   },
   "outputs": [
    {
     "data": {
      "text/plain": [
       "2.3377790422150611"
      ]
     },
     "execution_count": 113,
     "metadata": {},
     "output_type": "execute_result"
    }
   ],
   "source": [
    "tensor_ttv(core, [U0, U1, U2, U3, U4])"
   ]
  },
  {
   "cell_type": "code",
   "execution_count": null,
   "metadata": {
    "collapsed": true
   },
   "outputs": [],
   "source": []
  },
  {
   "cell_type": "code",
   "execution_count": null,
   "metadata": {
    "collapsed": true
   },
   "outputs": [],
   "source": []
  },
  {
   "cell_type": "code",
   "execution_count": null,
   "metadata": {
    "collapsed": true
   },
   "outputs": [],
   "source": []
  },
  {
   "cell_type": "code",
   "execution_count": null,
   "metadata": {
    "collapsed": true
   },
   "outputs": [],
   "source": []
  },
  {
   "cell_type": "code",
   "execution_count": 31,
   "metadata": {
    "ExecuteTime": {
     "end_time": "2019-09-19T00:17:32.021684Z",
     "start_time": "2019-09-19T00:17:32.015535Z"
    },
    "collapsed": true
   },
   "outputs": [],
   "source": [
    "import logging\n",
    "from sktensor import dtensor, cp_als\n",
    "\n",
    "logging.basicConfig(level=logging.DEBUG)"
   ]
  },
  {
   "cell_type": "code",
   "execution_count": 22,
   "metadata": {
    "ExecuteTime": {
     "end_time": "2019-09-19T00:05:51.897905Z",
     "start_time": "2019-09-19T00:05:51.892294Z"
    },
    "collapsed": true
   },
   "outputs": [],
   "source": [
    "T = dtensor(X)"
   ]
  },
  {
   "cell_type": "code",
   "execution_count": 90,
   "metadata": {
    "ExecuteTime": {
     "end_time": "2019-09-19T01:36:37.725382Z",
     "start_time": "2019-09-19T01:36:37.715750Z"
    }
   },
   "outputs": [
    {
     "data": {
      "text/plain": [
       "array([[ 59.,   0.,   0.,   5.,   1.,   4.],\n",
       "       [ 91.,  23.,   1.,   1.,   4.,   2.],\n",
       "       [ 44.,  10.,   1.,   4.,  16.,   5.],\n",
       "       ..., \n",
       "       [ 91.,  33.,   1.,   1.,   4.,   3.],\n",
       "       [ 82.,  59.,   1.,   2.,   2.,   5.],\n",
       "       [ 47.,  23.,   0.,   2.,   4.,   3.]])"
      ]
     },
     "execution_count": 90,
     "metadata": {},
     "output_type": "execute_result"
    }
   ],
   "source": [
    "X"
   ]
  },
  {
   "cell_type": "code",
   "execution_count": 91,
   "metadata": {
    "ExecuteTime": {
     "end_time": "2019-09-19T01:36:56.790040Z",
     "start_time": "2019-09-19T01:36:56.783940Z"
    }
   },
   "outputs": [
    {
     "data": {
      "text/plain": [
       "(200, 6)"
      ]
     },
     "execution_count": 91,
     "metadata": {},
     "output_type": "execute_result"
    }
   ],
   "source": [
    "X.shape"
   ]
  },
  {
   "cell_type": "code",
   "execution_count": 23,
   "metadata": {
    "ExecuteTime": {
     "end_time": "2019-09-19T00:05:55.121886Z",
     "start_time": "2019-09-19T00:05:55.113183Z"
    }
   },
   "outputs": [
    {
     "data": {
      "text/plain": [
       "dtensor([[ 59.,   0.,   0.,   5.,   1.,   4.],\n",
       "         [ 91.,  23.,   1.,   1.,   4.,   2.],\n",
       "         [ 44.,  10.,   1.,   4.,  16.,   5.],\n",
       "         ..., \n",
       "         [ 91.,  33.,   1.,   1.,   4.,   3.],\n",
       "         [ 82.,  59.,   1.,   2.,   2.,   5.],\n",
       "         [ 47.,  23.,   0.,   2.,   4.,   3.]])"
      ]
     },
     "execution_count": 23,
     "metadata": {},
     "output_type": "execute_result"
    }
   ],
   "source": [
    "T"
   ]
  },
  {
   "cell_type": "code",
   "execution_count": 32,
   "metadata": {
    "ExecuteTime": {
     "end_time": "2019-09-19T00:17:35.486798Z",
     "start_time": "2019-09-19T00:17:35.456814Z"
    }
   },
   "outputs": [
    {
     "name": "stderr",
     "output_type": "stream",
     "text": [
      "DEBUG:CP:[  0] fit: 0.97667 | delta: 9.8e-01\n",
      "DEBUG:CP:[  1] fit: 0.99903 | delta: 2.2e-02\n",
      "DEBUG:CP:[  2] fit: 0.99906 | delta: 2.7e-05\n",
      "DEBUG:CP:[  3] fit: 0.99906 | delta: 2.2e-07\n"
     ]
    }
   ],
   "source": [
    "P, fit, itr = cp_als(T, 3, init='random')"
   ]
  },
  {
   "cell_type": "code",
   "execution_count": 28,
   "metadata": {
    "ExecuteTime": {
     "end_time": "2019-09-19T00:12:25.628240Z",
     "start_time": "2019-09-19T00:12:25.621183Z"
    }
   },
   "outputs": [
    {
     "data": {
      "text/plain": [
       "dtensor([ 0.99906124])"
      ]
     },
     "execution_count": 28,
     "metadata": {},
     "output_type": "execute_result"
    }
   ],
   "source": [
    "fit"
   ]
  },
  {
   "cell_type": "code",
   "execution_count": 29,
   "metadata": {
    "ExecuteTime": {
     "end_time": "2019-09-19T00:12:31.935575Z",
     "start_time": "2019-09-19T00:12:31.929456Z"
    }
   },
   "outputs": [
    {
     "data": {
      "text/plain": [
       "<sktensor.ktensor.ktensor at 0x7f326b5401d0>"
      ]
     },
     "execution_count": 29,
     "metadata": {},
     "output_type": "execute_result"
    }
   ],
   "source": [
    "P"
   ]
  },
  {
   "cell_type": "code",
   "execution_count": 30,
   "metadata": {
    "ExecuteTime": {
     "end_time": "2019-09-19T00:12:39.232658Z",
     "start_time": "2019-09-19T00:12:39.226408Z"
    },
    "scrolled": true
   },
   "outputs": [
    {
     "data": {
      "text/plain": [
       "3"
      ]
     },
     "execution_count": 30,
     "metadata": {},
     "output_type": "execute_result"
    }
   ],
   "source": [
    "P.rank"
   ]
  },
  {
   "cell_type": "code",
   "execution_count": 33,
   "metadata": {
    "ExecuteTime": {
     "end_time": "2019-09-19T00:19:06.364478Z",
     "start_time": "2019-09-19T00:19:06.356842Z"
    }
   },
   "outputs": [
    {
     "data": {
      "text/plain": [
       "(200, 6)"
      ]
     },
     "execution_count": 33,
     "metadata": {},
     "output_type": "execute_result"
    }
   ],
   "source": [
    "P.shape"
   ]
  },
  {
   "cell_type": "code",
   "execution_count": 34,
   "metadata": {
    "ExecuteTime": {
     "end_time": "2019-09-19T00:19:19.832383Z",
     "start_time": "2019-09-19T00:19:19.826143Z"
    }
   },
   "outputs": [
    {
     "data": {
      "text/plain": [
       "2"
      ]
     },
     "execution_count": 34,
     "metadata": {},
     "output_type": "execute_result"
    }
   ],
   "source": [
    "P.ndim"
   ]
  },
  {
   "cell_type": "code",
   "execution_count": 36,
   "metadata": {
    "ExecuteTime": {
     "end_time": "2019-09-19T00:19:38.561512Z",
     "start_time": "2019-09-19T00:19:38.551434Z"
    }
   },
   "outputs": [
    {
     "data": {
      "text/plain": [
       "unfolded_dtensor([[  5.91388899e+01,   2.99931709e-02,   3.55887244e-01,\n",
       "                     1.78930409e+00,   1.13076227e+00,   3.10997386e+00],\n",
       "                  [  9.07878695e+01,   2.29623378e+01,   5.60372902e-01,\n",
       "                     2.98060071e+00,   3.85394240e+00,   5.00760989e+00],\n",
       "                  [  4.41814100e+01,   1.00331059e+01,   2.57650576e-01,\n",
       "                     1.90014314e+00,   1.61278074e+01,   2.78835777e+00],\n",
       "                  ..., \n",
       "                  [  9.08333715e+01,   3.29690106e+01,   5.67675655e-01,\n",
       "                     3.05499746e+00,   3.87582925e+00,   5.08901721e+00],\n",
       "                  [  8.19868700e+01,   5.89953621e+01,   5.34509817e-01,\n",
       "                     2.91988618e+00,   1.97467658e+00,   4.78416737e+00],\n",
       "                  [  4.70213323e+01,   2.30041502e+01,   2.96038517e-01,\n",
       "                     1.68901325e+00,   4.01773649e+00,   2.73183557e+00]])"
      ]
     },
     "execution_count": 36,
     "metadata": {},
     "output_type": "execute_result"
    }
   ],
   "source": [
    "P.toarray()"
   ]
  },
  {
   "cell_type": "code",
   "execution_count": 42,
   "metadata": {
    "ExecuteTime": {
     "end_time": "2019-09-19T00:23:07.311462Z",
     "start_time": "2019-09-19T00:23:07.302204Z"
    }
   },
   "outputs": [
    {
     "data": {
      "text/plain": [
       "unfolded_dtensor([  5.91388899e+01,   2.99931709e-02,   3.55887244e-01,\n",
       "                    1.78930409e+00,   1.13076227e+00,   3.10997386e+00])"
      ]
     },
     "execution_count": 42,
     "metadata": {},
     "output_type": "execute_result"
    }
   ],
   "source": [
    "P.toarray()[0]"
   ]
  },
  {
   "cell_type": "code",
   "execution_count": 43,
   "metadata": {
    "ExecuteTime": {
     "end_time": "2019-09-19T00:23:20.333435Z",
     "start_time": "2019-09-19T00:23:20.326635Z"
    }
   },
   "outputs": [
    {
     "data": {
      "text/plain": [
       "array([ 59.,   0.,   0.,   5.,   1.,   4.])"
      ]
     },
     "execution_count": 43,
     "metadata": {},
     "output_type": "execute_result"
    }
   ],
   "source": [
    "X[0]"
   ]
  },
  {
   "cell_type": "code",
   "execution_count": null,
   "metadata": {
    "collapsed": true
   },
   "outputs": [],
   "source": []
  },
  {
   "cell_type": "markdown",
   "metadata": {},
   "source": [
    "# Train Data"
   ]
  },
  {
   "cell_type": "code",
   "execution_count": 85,
   "metadata": {
    "ExecuteTime": {
     "end_time": "2019-09-19T01:29:34.492649Z",
     "start_time": "2019-09-19T01:29:34.487428Z"
    },
    "collapsed": true
   },
   "outputs": [],
   "source": [
    "PROJECT_PATH = '/home/5124393/ML_Tips/08_Recommend/'\n",
    "DATA_FILE_PATH = os.path.join(PROJECT_PATH, 'data')"
   ]
  },
  {
   "cell_type": "code",
   "execution_count": 171,
   "metadata": {
    "ExecuteTime": {
     "end_time": "2019-09-19T02:17:35.927298Z",
     "start_time": "2019-09-19T02:17:35.781576Z"
    },
    "collapsed": true
   },
   "outputs": [],
   "source": [
    "df_time_context = pd.DataFrame()\n",
    "for category_id in range(4):\n",
    "    df = pd.read_csv(os.path.join(DATA_FILE_PATH, 'train',\n",
    "                                    'category_id_{}_recommend_table_week_201904.csv'.format(str(category_id))))\n",
    "    df = df[['cuid', 'genre_id', 'time', 'poi_type', 'score']]\n",
    "    df_time_context = pd.concat([df_time_context, df])"
   ]
  },
  {
   "cell_type": "code",
   "execution_count": 121,
   "metadata": {
    "ExecuteTime": {
     "end_time": "2019-09-19T01:59:54.862254Z",
     "start_time": "2019-09-19T01:59:54.845593Z"
    }
   },
   "outputs": [
    {
     "data": {
      "text/html": [
       "<div>\n",
       "<style>\n",
       "    .dataframe thead tr:only-child th {\n",
       "        text-align: right;\n",
       "    }\n",
       "\n",
       "    .dataframe thead th {\n",
       "        text-align: left;\n",
       "    }\n",
       "\n",
       "    .dataframe tbody tr th {\n",
       "        vertical-align: top;\n",
       "    }\n",
       "</style>\n",
       "<table border=\"1\" class=\"dataframe\">\n",
       "  <thead>\n",
       "    <tr style=\"text-align: right;\">\n",
       "      <th></th>\n",
       "      <th>cuid</th>\n",
       "      <th>genre_id</th>\n",
       "      <th>time</th>\n",
       "      <th>poi_type</th>\n",
       "      <th>score</th>\n",
       "    </tr>\n",
       "  </thead>\n",
       "  <tbody>\n",
       "    <tr>\n",
       "      <th>0</th>\n",
       "      <td>04GG05555QJN55QTP4O05TPL</td>\n",
       "      <td>0</td>\n",
       "      <td>0</td>\n",
       "      <td>13</td>\n",
       "      <td>77</td>\n",
       "    </tr>\n",
       "    <tr>\n",
       "      <th>1</th>\n",
       "      <td>04GG05555QJN55QTP4O05TPL</td>\n",
       "      <td>0</td>\n",
       "      <td>1</td>\n",
       "      <td>13</td>\n",
       "      <td>32</td>\n",
       "    </tr>\n",
       "    <tr>\n",
       "      <th>2</th>\n",
       "      <td>04GG05555QJN55QTP4O05TPL</td>\n",
       "      <td>0</td>\n",
       "      <td>2</td>\n",
       "      <td>13</td>\n",
       "      <td>20</td>\n",
       "    </tr>\n",
       "    <tr>\n",
       "      <th>3</th>\n",
       "      <td>04GG05555QJN55QTP4O05TPL</td>\n",
       "      <td>0</td>\n",
       "      <td>3</td>\n",
       "      <td>13</td>\n",
       "      <td>17</td>\n",
       "    </tr>\n",
       "    <tr>\n",
       "      <th>4</th>\n",
       "      <td>04GG05555QJN55QTP4O05TPL</td>\n",
       "      <td>0</td>\n",
       "      <td>4</td>\n",
       "      <td>13</td>\n",
       "      <td>18</td>\n",
       "    </tr>\n",
       "  </tbody>\n",
       "</table>\n",
       "</div>"
      ],
      "text/plain": [
       "                       cuid  genre_id  time  poi_type  score\n",
       "0  04GG05555QJN55QTP4O05TPL         0     0        13     77\n",
       "1  04GG05555QJN55QTP4O05TPL         0     1        13     32\n",
       "2  04GG05555QJN55QTP4O05TPL         0     2        13     20\n",
       "3  04GG05555QJN55QTP4O05TPL         0     3        13     17\n",
       "4  04GG05555QJN55QTP4O05TPL         0     4        13     18"
      ]
     },
     "execution_count": 121,
     "metadata": {},
     "output_type": "execute_result"
    }
   ],
   "source": [
    "df_time_context.head()"
   ]
  },
  {
   "cell_type": "code",
   "execution_count": 122,
   "metadata": {
    "ExecuteTime": {
     "end_time": "2019-09-19T01:59:56.120548Z",
     "start_time": "2019-09-19T01:59:56.114490Z"
    }
   },
   "outputs": [
    {
     "data": {
      "text/plain": [
       "(78418, 5)"
      ]
     },
     "execution_count": 122,
     "metadata": {},
     "output_type": "execute_result"
    }
   ],
   "source": [
    "df_time_context.shape"
   ]
  },
  {
   "cell_type": "markdown",
   "metadata": {},
   "source": [
    "## cuid to index"
   ]
  },
  {
   "cell_type": "code",
   "execution_count": 172,
   "metadata": {
    "ExecuteTime": {
     "end_time": "2019-09-19T02:17:37.090229Z",
     "start_time": "2019-09-19T02:17:37.069105Z"
    },
    "collapsed": true
   },
   "outputs": [],
   "source": [
    "#indexing\n",
    "unique_cuids = set(df_time_context.cuid.unique())\n",
    "u2i = {u:i for i, u in enumerate(unique_cuids)}\n",
    "i2u = {i:u for i, u in enumerate(unique_cuids)}"
   ]
  },
  {
   "cell_type": "code",
   "execution_count": 173,
   "metadata": {
    "ExecuteTime": {
     "end_time": "2019-09-19T02:17:37.853668Z",
     "start_time": "2019-09-19T02:17:37.801632Z"
    },
    "collapsed": true
   },
   "outputs": [],
   "source": [
    "df_time_context['cuid_index'] = df_time_context['cuid'].map(lambda x:u2i[x])"
   ]
  },
  {
   "cell_type": "markdown",
   "metadata": {},
   "source": [
    "## get train"
   ]
  },
  {
   "cell_type": "code",
   "execution_count": 174,
   "metadata": {
    "ExecuteTime": {
     "end_time": "2019-09-19T02:17:49.033501Z",
     "start_time": "2019-09-19T02:17:49.024723Z"
    },
    "collapsed": true
   },
   "outputs": [],
   "source": [
    "train = df_time_context[['cuid_index', 'genre_id', 'time', 'poi_type', 'score']]"
   ]
  },
  {
   "cell_type": "code",
   "execution_count": 176,
   "metadata": {
    "ExecuteTime": {
     "end_time": "2019-09-19T02:18:22.632287Z",
     "start_time": "2019-09-19T02:18:22.616404Z"
    }
   },
   "outputs": [
    {
     "data": {
      "text/html": [
       "<div>\n",
       "<style>\n",
       "    .dataframe thead tr:only-child th {\n",
       "        text-align: right;\n",
       "    }\n",
       "\n",
       "    .dataframe thead th {\n",
       "        text-align: left;\n",
       "    }\n",
       "\n",
       "    .dataframe tbody tr th {\n",
       "        vertical-align: top;\n",
       "    }\n",
       "</style>\n",
       "<table border=\"1\" class=\"dataframe\">\n",
       "  <thead>\n",
       "    <tr style=\"text-align: right;\">\n",
       "      <th></th>\n",
       "      <th>cuid_index</th>\n",
       "      <th>genre_id</th>\n",
       "      <th>time</th>\n",
       "      <th>poi_type</th>\n",
       "      <th>score</th>\n",
       "    </tr>\n",
       "  </thead>\n",
       "  <tbody>\n",
       "    <tr>\n",
       "      <th>0</th>\n",
       "      <td>2208</td>\n",
       "      <td>0</td>\n",
       "      <td>0</td>\n",
       "      <td>13</td>\n",
       "      <td>77</td>\n",
       "    </tr>\n",
       "    <tr>\n",
       "      <th>1</th>\n",
       "      <td>2208</td>\n",
       "      <td>0</td>\n",
       "      <td>1</td>\n",
       "      <td>13</td>\n",
       "      <td>32</td>\n",
       "    </tr>\n",
       "    <tr>\n",
       "      <th>2</th>\n",
       "      <td>2208</td>\n",
       "      <td>0</td>\n",
       "      <td>2</td>\n",
       "      <td>13</td>\n",
       "      <td>20</td>\n",
       "    </tr>\n",
       "    <tr>\n",
       "      <th>3</th>\n",
       "      <td>2208</td>\n",
       "      <td>0</td>\n",
       "      <td>3</td>\n",
       "      <td>13</td>\n",
       "      <td>17</td>\n",
       "    </tr>\n",
       "    <tr>\n",
       "      <th>4</th>\n",
       "      <td>2208</td>\n",
       "      <td>0</td>\n",
       "      <td>4</td>\n",
       "      <td>13</td>\n",
       "      <td>18</td>\n",
       "    </tr>\n",
       "  </tbody>\n",
       "</table>\n",
       "</div>"
      ],
      "text/plain": [
       "   cuid_index  genre_id  time  poi_type  score\n",
       "0        2208         0     0        13     77\n",
       "1        2208         0     1        13     32\n",
       "2        2208         0     2        13     20\n",
       "3        2208         0     3        13     17\n",
       "4        2208         0     4        13     18"
      ]
     },
     "execution_count": 176,
     "metadata": {},
     "output_type": "execute_result"
    }
   ],
   "source": [
    "train.head()"
   ]
  },
  {
   "cell_type": "code",
   "execution_count": null,
   "metadata": {
    "collapsed": true
   },
   "outputs": [],
   "source": []
  },
  {
   "cell_type": "code",
   "execution_count": 177,
   "metadata": {
    "ExecuteTime": {
     "end_time": "2019-09-19T02:18:49.707817Z",
     "start_time": "2019-09-19T02:18:49.693529Z"
    }
   },
   "outputs": [
    {
     "name": "stdout",
     "output_type": "stream",
     "text": [
      "7082\n",
      "4\n",
      "24\n",
      "24\n"
     ]
    }
   ],
   "source": [
    "print(len(df_time_context['cuid_index'].unique()))\n",
    "print(len(df_time_context['genre_id'].unique()))\n",
    "print(len(df_time_context['time'].unique()))\n",
    "print(len(df_time_context['poi_type'].unique()))"
   ]
  },
  {
   "cell_type": "markdown",
   "metadata": {},
   "source": [
    "## get test"
   ]
  },
  {
   "cell_type": "code",
   "execution_count": 178,
   "metadata": {
    "ExecuteTime": {
     "end_time": "2019-09-19T02:18:58.292268Z",
     "start_time": "2019-09-19T02:18:58.275899Z"
    },
    "collapsed": true
   },
   "outputs": [],
   "source": [
    "unique_cuids = set(df_time_context.cuid_index.unique())\n",
    "unique_genres = set(df_time_context.genre_id.unique())\n",
    "unique_contexts = set(df_time_context.poi_type.unique())\n",
    "\n",
    "num_cuid = len(unique_cuids)\n",
    "num_genre = len(unique_genres)\n",
    "num_context = len(unique_contexts)\n",
    "num_time = 24"
   ]
  },
  {
   "cell_type": "code",
   "execution_count": 179,
   "metadata": {
    "ExecuteTime": {
     "end_time": "2019-09-19T02:18:59.006423Z",
     "start_time": "2019-09-19T02:18:59.000412Z"
    }
   },
   "outputs": [
    {
     "data": {
      "text/plain": [
       "(7082, 4, 24, 24)"
      ]
     },
     "execution_count": 179,
     "metadata": {},
     "output_type": "execute_result"
    }
   ],
   "source": [
    "num_cuid, num_genre, num_context, num_time"
   ]
  },
  {
   "cell_type": "code",
   "execution_count": 180,
   "metadata": {
    "ExecuteTime": {
     "end_time": "2019-09-19T02:19:09.048423Z",
     "start_time": "2019-09-19T02:19:07.837301Z"
    },
    "collapsed": true
   },
   "outputs": [],
   "source": [
    "from sklearn.utils.extmath import cartesian\n",
    "\n",
    "df_combination = pd.DataFrame(cartesian((list(unique_cuids), list(unique_genres), list(range(24)), list(unique_contexts))))"
   ]
  },
  {
   "cell_type": "code",
   "execution_count": 182,
   "metadata": {
    "ExecuteTime": {
     "end_time": "2019-09-19T02:20:08.771095Z",
     "start_time": "2019-09-19T02:20:08.431168Z"
    },
    "collapsed": true
   },
   "outputs": [],
   "source": [
    "df_combination.rename(columns={0: 'cuid_index', 1: 'genre_id', 2: 'time', 3: 'poi_type'}, inplace=True)"
   ]
  },
  {
   "cell_type": "code",
   "execution_count": 183,
   "metadata": {
    "ExecuteTime": {
     "end_time": "2019-09-19T02:20:10.366187Z",
     "start_time": "2019-09-19T02:20:10.351085Z"
    }
   },
   "outputs": [
    {
     "data": {
      "text/html": [
       "<div>\n",
       "<style>\n",
       "    .dataframe thead tr:only-child th {\n",
       "        text-align: right;\n",
       "    }\n",
       "\n",
       "    .dataframe thead th {\n",
       "        text-align: left;\n",
       "    }\n",
       "\n",
       "    .dataframe tbody tr th {\n",
       "        vertical-align: top;\n",
       "    }\n",
       "</style>\n",
       "<table border=\"1\" class=\"dataframe\">\n",
       "  <thead>\n",
       "    <tr style=\"text-align: right;\">\n",
       "      <th></th>\n",
       "      <th>cuid_index</th>\n",
       "      <th>genre_id</th>\n",
       "      <th>time</th>\n",
       "      <th>poi_type</th>\n",
       "    </tr>\n",
       "  </thead>\n",
       "  <tbody>\n",
       "    <tr>\n",
       "      <th>0</th>\n",
       "      <td>0</td>\n",
       "      <td>0</td>\n",
       "      <td>0</td>\n",
       "      <td>2</td>\n",
       "    </tr>\n",
       "    <tr>\n",
       "      <th>1</th>\n",
       "      <td>0</td>\n",
       "      <td>0</td>\n",
       "      <td>0</td>\n",
       "      <td>133</td>\n",
       "    </tr>\n",
       "    <tr>\n",
       "      <th>2</th>\n",
       "      <td>0</td>\n",
       "      <td>0</td>\n",
       "      <td>0</td>\n",
       "      <td>134</td>\n",
       "    </tr>\n",
       "    <tr>\n",
       "      <th>3</th>\n",
       "      <td>0</td>\n",
       "      <td>0</td>\n",
       "      <td>0</td>\n",
       "      <td>8</td>\n",
       "    </tr>\n",
       "    <tr>\n",
       "      <th>4</th>\n",
       "      <td>0</td>\n",
       "      <td>0</td>\n",
       "      <td>0</td>\n",
       "      <td>13</td>\n",
       "    </tr>\n",
       "  </tbody>\n",
       "</table>\n",
       "</div>"
      ],
      "text/plain": [
       "   cuid_index  genre_id  time  poi_type\n",
       "0           0         0     0         2\n",
       "1           0         0     0       133\n",
       "2           0         0     0       134\n",
       "3           0         0     0         8\n",
       "4           0         0     0        13"
      ]
     },
     "execution_count": 183,
     "metadata": {},
     "output_type": "execute_result"
    }
   ],
   "source": [
    "df_combination.head()"
   ]
  },
  {
   "cell_type": "code",
   "execution_count": 184,
   "metadata": {
    "ExecuteTime": {
     "end_time": "2019-09-19T02:20:25.946432Z",
     "start_time": "2019-09-19T02:20:25.938135Z"
    }
   },
   "outputs": [
    {
     "data": {
      "text/plain": [
       "(16316928, 4)"
      ]
     },
     "execution_count": 184,
     "metadata": {},
     "output_type": "execute_result"
    }
   ],
   "source": [
    "df_combination.shape"
   ]
  },
  {
   "cell_type": "code",
   "execution_count": 185,
   "metadata": {
    "ExecuteTime": {
     "end_time": "2019-09-19T02:20:30.466863Z",
     "start_time": "2019-09-19T02:20:29.876462Z"
    },
    "collapsed": true
   },
   "outputs": [],
   "source": [
    "df_combination['genre_id'] = df_combination['genre_id'].astype(int)\n",
    "df_combination['time'] = df_combination['time'].astype(int)\n",
    "df_combination['poi_type'] = df_combination['poi_type'].astype(int)"
   ]
  },
  {
   "cell_type": "code",
   "execution_count": 186,
   "metadata": {
    "ExecuteTime": {
     "end_time": "2019-09-19T02:20:46.373066Z",
     "start_time": "2019-09-19T02:20:37.189448Z"
    },
    "collapsed": true
   },
   "outputs": [],
   "source": [
    "df_merge = pd.merge(df_combination, df_time_context, on=['cuid_index', 'genre_id', 'time', 'poi_type'], how='left')"
   ]
  },
  {
   "cell_type": "code",
   "execution_count": 187,
   "metadata": {
    "ExecuteTime": {
     "end_time": "2019-09-19T02:20:49.393668Z",
     "start_time": "2019-09-19T02:20:48.040716Z"
    },
    "collapsed": true
   },
   "outputs": [],
   "source": [
    "df_nan = df_merge[df_merge['score'].isnull()]\n",
    "test = df_nan[['cuid_index', 'genre_id', 'time', 'poi_type']]"
   ]
  },
  {
   "cell_type": "code",
   "execution_count": null,
   "metadata": {
    "collapsed": true
   },
   "outputs": [],
   "source": []
  },
  {
   "cell_type": "code",
   "execution_count": 188,
   "metadata": {
    "ExecuteTime": {
     "end_time": "2019-09-19T02:20:56.388676Z",
     "start_time": "2019-09-19T02:20:55.468602Z"
    }
   },
   "outputs": [
    {
     "data": {
      "text/html": [
       "<div>\n",
       "<style>\n",
       "    .dataframe thead tr:only-child th {\n",
       "        text-align: right;\n",
       "    }\n",
       "\n",
       "    .dataframe thead th {\n",
       "        text-align: left;\n",
       "    }\n",
       "\n",
       "    .dataframe tbody tr th {\n",
       "        vertical-align: top;\n",
       "    }\n",
       "</style>\n",
       "<table border=\"1\" class=\"dataframe\">\n",
       "  <thead>\n",
       "    <tr style=\"text-align: right;\">\n",
       "      <th></th>\n",
       "      <th>cuid_index</th>\n",
       "      <th>genre_id</th>\n",
       "      <th>time</th>\n",
       "      <th>poi_type</th>\n",
       "      <th>score</th>\n",
       "    </tr>\n",
       "  </thead>\n",
       "  <tbody>\n",
       "    <tr>\n",
       "      <th>0</th>\n",
       "      <td>2208</td>\n",
       "      <td>0</td>\n",
       "      <td>0</td>\n",
       "      <td>13</td>\n",
       "      <td>77</td>\n",
       "    </tr>\n",
       "    <tr>\n",
       "      <th>1</th>\n",
       "      <td>2208</td>\n",
       "      <td>0</td>\n",
       "      <td>1</td>\n",
       "      <td>13</td>\n",
       "      <td>32</td>\n",
       "    </tr>\n",
       "    <tr>\n",
       "      <th>2</th>\n",
       "      <td>2208</td>\n",
       "      <td>0</td>\n",
       "      <td>2</td>\n",
       "      <td>13</td>\n",
       "      <td>20</td>\n",
       "    </tr>\n",
       "    <tr>\n",
       "      <th>3</th>\n",
       "      <td>2208</td>\n",
       "      <td>0</td>\n",
       "      <td>3</td>\n",
       "      <td>13</td>\n",
       "      <td>17</td>\n",
       "    </tr>\n",
       "    <tr>\n",
       "      <th>4</th>\n",
       "      <td>2208</td>\n",
       "      <td>0</td>\n",
       "      <td>4</td>\n",
       "      <td>13</td>\n",
       "      <td>18</td>\n",
       "    </tr>\n",
       "  </tbody>\n",
       "</table>\n",
       "</div>"
      ],
      "text/plain": [
       "   cuid_index  genre_id  time  poi_type  score\n",
       "0        2208         0     0        13     77\n",
       "1        2208         0     1        13     32\n",
       "2        2208         0     2        13     20\n",
       "3        2208         0     3        13     17\n",
       "4        2208         0     4        13     18"
      ]
     },
     "execution_count": 188,
     "metadata": {},
     "output_type": "execute_result"
    }
   ],
   "source": [
    "train.head()"
   ]
  },
  {
   "cell_type": "code",
   "execution_count": 263,
   "metadata": {
    "ExecuteTime": {
     "end_time": "2019-09-25T23:56:53.816500Z",
     "start_time": "2019-09-25T23:56:53.809503Z"
    }
   },
   "outputs": [
    {
     "data": {
      "text/plain": [
       "(78418, 5)"
      ]
     },
     "execution_count": 263,
     "metadata": {},
     "output_type": "execute_result"
    }
   ],
   "source": [
    "train.shape"
   ]
  },
  {
   "cell_type": "code",
   "execution_count": 190,
   "metadata": {
    "ExecuteTime": {
     "end_time": "2019-09-19T02:21:01.381519Z",
     "start_time": "2019-09-19T02:21:01.367233Z"
    }
   },
   "outputs": [
    {
     "data": {
      "text/html": [
       "<div>\n",
       "<style>\n",
       "    .dataframe thead tr:only-child th {\n",
       "        text-align: right;\n",
       "    }\n",
       "\n",
       "    .dataframe thead th {\n",
       "        text-align: left;\n",
       "    }\n",
       "\n",
       "    .dataframe tbody tr th {\n",
       "        vertical-align: top;\n",
       "    }\n",
       "</style>\n",
       "<table border=\"1\" class=\"dataframe\">\n",
       "  <thead>\n",
       "    <tr style=\"text-align: right;\">\n",
       "      <th></th>\n",
       "      <th>cuid_index</th>\n",
       "      <th>genre_id</th>\n",
       "      <th>time</th>\n",
       "      <th>poi_type</th>\n",
       "    </tr>\n",
       "  </thead>\n",
       "  <tbody>\n",
       "    <tr>\n",
       "      <th>0</th>\n",
       "      <td>0</td>\n",
       "      <td>0</td>\n",
       "      <td>0</td>\n",
       "      <td>2</td>\n",
       "    </tr>\n",
       "    <tr>\n",
       "      <th>1</th>\n",
       "      <td>0</td>\n",
       "      <td>0</td>\n",
       "      <td>0</td>\n",
       "      <td>133</td>\n",
       "    </tr>\n",
       "    <tr>\n",
       "      <th>2</th>\n",
       "      <td>0</td>\n",
       "      <td>0</td>\n",
       "      <td>0</td>\n",
       "      <td>134</td>\n",
       "    </tr>\n",
       "    <tr>\n",
       "      <th>3</th>\n",
       "      <td>0</td>\n",
       "      <td>0</td>\n",
       "      <td>0</td>\n",
       "      <td>8</td>\n",
       "    </tr>\n",
       "    <tr>\n",
       "      <th>4</th>\n",
       "      <td>0</td>\n",
       "      <td>0</td>\n",
       "      <td>0</td>\n",
       "      <td>13</td>\n",
       "    </tr>\n",
       "  </tbody>\n",
       "</table>\n",
       "</div>"
      ],
      "text/plain": [
       "   cuid_index  genre_id  time  poi_type\n",
       "0           0         0     0         2\n",
       "1           0         0     0       133\n",
       "2           0         0     0       134\n",
       "3           0         0     0         8\n",
       "4           0         0     0        13"
      ]
     },
     "execution_count": 190,
     "metadata": {},
     "output_type": "execute_result"
    }
   ],
   "source": [
    "test.head()"
   ]
  },
  {
   "cell_type": "code",
   "execution_count": 191,
   "metadata": {
    "ExecuteTime": {
     "end_time": "2019-09-19T02:21:02.938551Z",
     "start_time": "2019-09-19T02:21:02.931682Z"
    }
   },
   "outputs": [
    {
     "data": {
      "text/plain": [
       "(16238510, 4)"
      ]
     },
     "execution_count": 191,
     "metadata": {},
     "output_type": "execute_result"
    }
   ],
   "source": [
    "test.shape"
   ]
  },
  {
   "cell_type": "code",
   "execution_count": null,
   "metadata": {
    "collapsed": true
   },
   "outputs": [],
   "source": []
  },
  {
   "cell_type": "markdown",
   "metadata": {},
   "source": [
    "## get input array"
   ]
  },
  {
   "cell_type": "code",
   "execution_count": 194,
   "metadata": {
    "ExecuteTime": {
     "end_time": "2019-09-19T02:22:02.913403Z",
     "start_time": "2019-09-19T02:22:02.908594Z"
    }
   },
   "outputs": [],
   "source": [
    "train_matrix = train.as_matrix()"
   ]
  },
  {
   "cell_type": "code",
   "execution_count": 195,
   "metadata": {
    "ExecuteTime": {
     "end_time": "2019-09-19T02:22:03.867613Z",
     "start_time": "2019-09-19T02:22:03.861530Z"
    }
   },
   "outputs": [
    {
     "data": {
      "text/plain": [
       "array([[2208,    0,    0,   13,   77],\n",
       "       [2208,    0,    1,   13,   32],\n",
       "       [2208,    0,    2,   13,   20],\n",
       "       ..., \n",
       "       [ 973,    3,   20,   13,    5],\n",
       "       [ 973,    3,   21,  109,    4],\n",
       "       [5716,    3,   21,   13,    2]])"
      ]
     },
     "execution_count": 195,
     "metadata": {},
     "output_type": "execute_result"
    }
   ],
   "source": [
    "train_matrix"
   ]
  },
  {
   "cell_type": "code",
   "execution_count": 196,
   "metadata": {
    "ExecuteTime": {
     "end_time": "2019-09-19T02:22:19.392674Z",
     "start_time": "2019-09-19T02:22:19.388277Z"
    },
    "collapsed": true
   },
   "outputs": [],
   "source": [
    "test_matrix = test.as_matrix()"
   ]
  },
  {
   "cell_type": "code",
   "execution_count": 197,
   "metadata": {
    "ExecuteTime": {
     "end_time": "2019-09-19T02:22:25.895247Z",
     "start_time": "2019-09-19T02:22:25.888475Z"
    }
   },
   "outputs": [
    {
     "data": {
      "text/plain": [
       "array([[   0,    0,    0,    2],\n",
       "       [   0,    0,    0,  133],\n",
       "       [   0,    0,    0,  134],\n",
       "       ..., \n",
       "       [7081,    3,   23,  104],\n",
       "       [7081,    3,   23,  109],\n",
       "       [7081,    3,   23,  110]])"
      ]
     },
     "execution_count": 197,
     "metadata": {},
     "output_type": "execute_result"
    }
   ],
   "source": [
    "test_matrix"
   ]
  },
  {
   "cell_type": "code",
   "execution_count": null,
   "metadata": {
    "collapsed": true
   },
   "outputs": [],
   "source": []
  },
  {
   "cell_type": "code",
   "execution_count": null,
   "metadata": {
    "collapsed": true
   },
   "outputs": [],
   "source": []
  },
  {
   "cell_type": "code",
   "execution_count": null,
   "metadata": {
    "collapsed": true
   },
   "outputs": [],
   "source": []
  },
  {
   "cell_type": "markdown",
   "metadata": {},
   "source": [
    "## prepare"
   ]
  },
  {
   "cell_type": "code",
   "execution_count": 212,
   "metadata": {
    "ExecuteTime": {
     "end_time": "2019-09-19T02:36:03.014487Z",
     "start_time": "2019-09-19T02:36:02.993650Z"
    },
    "collapsed": true
   },
   "outputs": [],
   "source": [
    "def get_XY_dims(X, isTest=False):\n",
    "    if isTest is False:\n",
    "        ndims = X.shape[1]-1\n",
    "        Y = X.T[ndims]\n",
    "        X = np.delete(X, ndims, 1).astype(int)\n",
    "    else:\n",
    "        ndims = X.shape[1]\n",
    "        Y = [0] * X.shape[0]\n",
    "        Y = np.array(Y)\n",
    "        \n",
    "    dims = [X.T[i].max()+1 for i in range(ndims)]\n",
    "    return [X, Y], dims"
   ]
  },
  {
   "cell_type": "code",
   "execution_count": 224,
   "metadata": {
    "ExecuteTime": {
     "end_time": "2019-09-19T02:44:19.806568Z",
     "start_time": "2019-09-19T02:44:18.031840Z"
    }
   },
   "outputs": [],
   "source": [
    "X, trn_dims = get_XY_dims(train_matrix)\n",
    "Xtest, tst_dims = get_XY_dims(test_matrix, isTest=True)"
   ]
  },
  {
   "cell_type": "code",
   "execution_count": 225,
   "metadata": {
    "ExecuteTime": {
     "end_time": "2019-09-19T02:44:20.466350Z",
     "start_time": "2019-09-19T02:44:20.457524Z"
    }
   },
   "outputs": [
    {
     "data": {
      "text/plain": [
       "[array([[2208,    0,    0,   13],\n",
       "        [2208,    0,    1,   13],\n",
       "        [2208,    0,    2,   13],\n",
       "        ..., \n",
       "        [ 973,    3,   20,   13],\n",
       "        [ 973,    3,   21,  109],\n",
       "        [5716,    3,   21,   13]]), array([77, 32, 20, ...,  5,  4,  2])]"
      ]
     },
     "execution_count": 225,
     "metadata": {},
     "output_type": "execute_result"
    }
   ],
   "source": [
    "X"
   ]
  },
  {
   "cell_type": "code",
   "execution_count": 226,
   "metadata": {
    "ExecuteTime": {
     "end_time": "2019-09-19T02:44:21.716616Z",
     "start_time": "2019-09-19T02:44:21.710451Z"
    }
   },
   "outputs": [
    {
     "data": {
      "text/plain": [
       "[array([[   0,    0,    0,    2],\n",
       "        [   0,    0,    0,  133],\n",
       "        [   0,    0,    0,  134],\n",
       "        ..., \n",
       "        [7081,    3,   23,  104],\n",
       "        [7081,    3,   23,  109],\n",
       "        [7081,    3,   23,  110]]), array([0, 0, 0, ..., 0, 0, 0])]"
      ]
     },
     "execution_count": 226,
     "metadata": {},
     "output_type": "execute_result"
    }
   ],
   "source": [
    "Xtest"
   ]
  },
  {
   "cell_type": "code",
   "execution_count": null,
   "metadata": {
    "collapsed": true
   },
   "outputs": [],
   "source": []
  },
  {
   "cell_type": "code",
   "execution_count": null,
   "metadata": {
    "collapsed": true
   },
   "outputs": [],
   "source": []
  },
  {
   "cell_type": "code",
   "execution_count": null,
   "metadata": {
    "collapsed": true
   },
   "outputs": [],
   "source": []
  },
  {
   "cell_type": "code",
   "execution_count": null,
   "metadata": {
    "collapsed": true
   },
   "outputs": [],
   "source": []
  },
  {
   "cell_type": "code",
   "execution_count": 216,
   "metadata": {
    "ExecuteTime": {
     "end_time": "2019-09-19T02:38:06.993929Z",
     "start_time": "2019-09-19T02:38:06.984332Z"
    },
    "collapsed": true
   },
   "outputs": [],
   "source": [
    "def integrate_dims(dim1, dim2):\n",
    "\t'''\n",
    "\tTo avoid training and testing data with different dimensions.\n",
    "\t'''\n",
    "\tassert( len(dim1) == len(dim2) ), \"Training and testing data must have the same number of features.\"\n",
    "\tdims = [max(dim1[i], dim2[i]) for i in range(len(dim1))]\n",
    "\treturn(dims)"
   ]
  },
  {
   "cell_type": "code",
   "execution_count": 217,
   "metadata": {
    "ExecuteTime": {
     "end_time": "2019-09-19T02:38:24.606397Z",
     "start_time": "2019-09-19T02:38:24.596326Z"
    },
    "collapsed": true
   },
   "outputs": [],
   "source": [
    "def string2list(k, ndims):\n",
    "\tk_list = k.split('-')\n",
    "\tlast_k = int(k_list[len(k_list)-1])\n",
    "\trank = [int(k_list[x]) if (x < len(k_list)) else (last_k) for x in range(ndims)]\n",
    "\treturn rank"
   ]
  },
  {
   "cell_type": "code",
   "execution_count": 219,
   "metadata": {
    "ExecuteTime": {
     "end_time": "2019-09-19T02:39:59.380421Z",
     "start_time": "2019-09-19T02:39:59.374253Z"
    }
   },
   "outputs": [],
   "source": [
    "dims = integrate_dims(tst_dims, trn_dims)\n",
    "\n",
    "k = '8'\n",
    "rank = string2list(k, len(dims))"
   ]
  },
  {
   "cell_type": "markdown",
   "metadata": {},
   "source": [
    "## train"
   ]
  },
  {
   "cell_type": "code",
   "execution_count": 325,
   "metadata": {
    "ExecuteTime": {
     "end_time": "2019-09-26T01:29:00.242112Z",
     "start_time": "2019-09-26T01:29:00.112603Z"
    },
    "collapsed": true
   },
   "outputs": [],
   "source": [
    "import time\n",
    "import logging\n",
    "import time\n",
    "from functools import reduce\n",
    "\n",
    "from statistics import mean"
   ]
  },
  {
   "cell_type": "code",
   "execution_count": 228,
   "metadata": {
    "ExecuteTime": {
     "end_time": "2019-09-19T02:44:47.954029Z",
     "start_time": "2019-09-19T02:44:47.941908Z"
    },
    "collapsed": true
   },
   "outputs": [],
   "source": [
    "def init_factors(rank, dims):\n",
    "\t'''\n",
    "\tInitialize tensor and matrix with small random values\n",
    "\t'''\n",
    "\tassert(len(rank) == len(dims)), \"Rank must be the same length as number of features.\"\n",
    "\tCore = np.random.rand(multiply_list(rank)).reshape(rank) # / multiply_list(rank)\n",
    "\tU = [np.random.rand(dims[i], rank[i])/rank[i] for i in range(len(dims))]\n",
    "\treturn Core, U"
   ]
  },
  {
   "cell_type": "code",
   "execution_count": 230,
   "metadata": {
    "ExecuteTime": {
     "end_time": "2019-09-19T02:45:32.528675Z",
     "start_time": "2019-09-19T02:45:32.464473Z"
    },
    "collapsed": true
   },
   "outputs": [],
   "source": [
    "def tensor_ttv(core, Ui_list, remove_k=None):\n",
    "\t'''\n",
    "\tTensor times vector product (use sktensor library)\n",
    "\t-----------\n",
    "\tcore = core tensor\n",
    "\tUi_list = list of U_i to be multiplied\n",
    "\tremove_k = do not multiply in k-th mode\n",
    "\treturn a scalar or np.array\n",
    "\t'''\n",
    "\tdt_core = sktensor.dtensor(core)\n",
    "\tassert( dt_core.ndim == len(Ui_list) ), \"tensor_ttv: core and U must be tha same dimension.\"\n",
    "\t#\n",
    "\tmodes = list(range(len(Ui_list)))\n",
    "\tif remove_k is not None:\n",
    "\t\tmodes.remove(remove_k)\n",
    "\t#\n",
    "\tout_core = dt_core.ttv(tuple(Ui_list), modes)\n",
    "\t#\n",
    "\tif len(out_core) == 1: # out_core is a scaler\n",
    "\t\treturn( out_core[0] )\n",
    "\telse:\n",
    "\t\treturn( np.array(out_core) )\n",
    "\n",
    "def training_loss(loss, core, U, reg, reg_S):\n",
    "\tU_l2 = [np.linalg.norm(Ui.flat) for Ui in U]\n",
    "\tcore_l1 = np.linalg.norm(core.flat, ord = 1)\n",
    "\tcore_l2 = np.linalg.norm(core.flat)\n",
    "\treturn( loss / core_l1 + reg / 2 * sum(U_l2) + reg_S / 2 * core_l2 )\n",
    "\n",
    "def testing_loss(X, Y, core, U, reg, reg_S):\n",
    "\t'''\n",
    "\tX: orign value (np array or list)\n",
    "\tY: predicted value (np array or list)\n",
    "\treturn: objective loss\n",
    "\t'''\n",
    "\tassert( len(X)==len(Y) ), \"Loss: Two different size arrays.\"\n",
    "\tU_l2 = [np.linalg.norm(Ui.flat) for Ui in U]\n",
    "\tcore_l1 = np.linalg.norm(core.flat, ord = 1)\n",
    "\tcore_l2 = np.linalg.norm(core.flat)\n",
    "\treturn( sum( pow(X-Y, 2) ) / core_l1 + reg / 2 * sum(U_l2) + reg_S / 2 * core_l2 )"
   ]
  },
  {
   "cell_type": "code",
   "execution_count": 231,
   "metadata": {
    "ExecuteTime": {
     "end_time": "2019-09-19T02:45:56.434530Z",
     "start_time": "2019-09-19T02:45:56.420050Z"
    },
    "collapsed": true
   },
   "outputs": [],
   "source": [
    "def multiply_list(lst):\n",
    "\tproduct = 1\n",
    "\tfor itm in lst:\n",
    "\t\tproduct *= itm\n",
    "\treturn(product)\n",
    "\n",
    "def integrate_dims(dim1, dim2):\n",
    "\t'''\n",
    "\tTo avoid training and testing data with different dimensions.\n",
    "\t'''\n",
    "\tassert( len(dim1) == len(dim2) ), \"Training and testing data must have the same number of features.\"\n",
    "\tdims = [max(dim1[i], dim2[i]) for i in range(len(dim1))]\n",
    "\treturn(dims)"
   ]
  },
  {
   "cell_type": "code",
   "execution_count": 390,
   "metadata": {
    "ExecuteTime": {
     "end_time": "2019-09-30T01:22:19.234319Z",
     "start_time": "2019-09-30T01:22:18.806617Z"
    }
   },
   "outputs": [],
   "source": [
    "def TPTF(X, Xtest, dims, rank, reg, reg_S, lr, lrS, max_iter, tol=0):\n",
    "    '''\n",
    "    Tucker decomposition with ALS and SGD\n",
    "    -----------------------------------\n",
    "    X, Xtest = n-dimension tensor presented in [2D matrix, 1D array]\n",
    "    dims, rank = used to init core and U\n",
    "    rank = # of factors for each feature\n",
    "    '''\n",
    "    assert(len(X) == 2 and len(Xtest) == 2), \"TPTF: no rating values.\"\n",
    "    assert(X[0].ndim == 2 and Xtest[0].ndim == 2), \"TPTF: X must be a 2D matrix.\"\n",
    "    assert(X[0].shape[0] == len(X[1]) and Xtest[0].shape[0] == len(Xtest[1])), \"TPTF: rating and index must have the same length.\"\n",
    "    \n",
    "    logger = logging.getLogger()\n",
    "    \n",
    "    t = int( pow( 1/lr, 2) )\n",
    "    t_S = int( pow( 1/lrS, 2) )\n",
    "    \n",
    "    trn_x = X[0] # index of training data\n",
    "    tst_x = Xtest[0] # index of testing data\n",
    "    \n",
    "    trn_y = X[1] # rating values of training data\n",
    "    tst_y = Xtest[1] # rating values of testing data\n",
    "    \n",
    "    ninstance = trn_x.shape[0]\n",
    "    ndims = trn_x.shape[1]\n",
    "    print('ninstance: {}, ndims: {}'.format(ninstance, ndims))\n",
    "    \n",
    "    iter_count = 0\n",
    "    pre_loss = -1\n",
    "    \n",
    "    # initialze core and U\n",
    "    core, U = init_factors(rank, dims)\n",
    "    \n",
    "    tic = time.time()\n",
    "    while iter_count < max_iter:\n",
    "        iter_count += 1\n",
    "        trn_loss = 0\n",
    "        # Training \n",
    "        for i in np.random.permutation(ninstance): # pick on instance in X randomly\n",
    "            # Compute learn rate\n",
    "            lr = 1 / np.sqrt(t)\n",
    "            lrS = 1 / np.sqrt(t_S)\n",
    "            t += 1\n",
    "            t_S += 1\n",
    "            \n",
    "            ind = trn_x[i]\n",
    "            val = trn_y[i]\n",
    "    \n",
    "            # Compute F_ijk and f - y\n",
    "            Ui_list = [U[k][ind[k]] for k in range(ndims)]\n",
    "            F_ijk = tensor_ttv(core, Ui_list)\n",
    "            e_ijk = F_ijk - val\n",
    "            trn_loss += pow(e_ijk, 2)\n",
    "            \n",
    "#             print('e_ijk:{}'.format(e_ijk))\n",
    "            # Update U\n",
    "            for k in range(ndims):\n",
    "                step = lr * reg * U[k][ind[k]].copy()\n",
    "#                 print(Ui_list[0])\n",
    "                step += lr * e_ijk * tensor_ttv(core, Ui_list, k)\n",
    "#                 print(tensor_ttv(core, Ui_list, k))\n",
    "#                 print(mean(step))\n",
    "#                 if mean(step) < 0.001:\n",
    "                U[k][ind[k]] -= step\n",
    "                Ui_list = [U[k][ind[k]] for k in range(ndims)]\n",
    "    \n",
    "            # Update core tensor\n",
    "            step_S = lrS * reg_S * core.copy()\n",
    "            step_S += lrS * e_ijk * reduce(np.multiply.outer, Ui_list)\n",
    "            core -= step_S\n",
    "#             print(mean(step))\n",
    "#             print(core[0][0][0][0])\n",
    "            \n",
    "#             print(ind)\n",
    "#             print(val)\n",
    "            \n",
    "    \n",
    "        # Training Loss\n",
    "        trn_loss = training_loss(trn_loss, core, U, reg, reg_S)\n",
    "        change_rate = (trn_loss - pre_loss) / pre_loss * 100\n",
    "        \n",
    "        ### Testing Loss\n",
    "        #tst_pred_y = pred(Xtest[0], core, U)\n",
    "        #test_rmse = RMSE(tst_y, tst_pred_y)\n",
    "        ## tst_loss = testing_loss(tst_y, tst_pred_y, core, U, reg, reg_S)\n",
    "        \n",
    "        toc = time.time()\n",
    "        logger.info('Iter {}/{}. Time: {:.1f}'.format(iter_count, max_iter, toc - tic))\n",
    "        #logger.info('Training Loss: {:.2f} (change {:.2f}%). Testing RMSE: {:.4f}'.format(trn_loss, change_rate, test_rmse))\n",
    "        logger.info('Training Loss: {:.2f} (change {:.2f}%)'.format(trn_loss, change_rate))\n",
    "        tic = time.time()\n",
    "    \n",
    "        ''' Early Stopping\n",
    "        if change_rate < tol and pre_loss > 0:\n",
    "            print(\"[TF] Early Stoping due to insufficient change in training loss!\")\n",
    "            iter_count = max_iter\n",
    "            break\n",
    "        '''\n",
    "        \n",
    "        if np.isnan(trn_loss): # numpy overflow, need to use less learning rate\n",
    "            logger.info('TF: Overflow')\n",
    "            iter_count = max_iter\n",
    "            break\n",
    "    \n",
    "        pre_loss = trn_loss\n",
    "        \n",
    "    return core, U"
   ]
  },
  {
   "cell_type": "code",
   "execution_count": 387,
   "metadata": {
    "ExecuteTime": {
     "end_time": "2019-09-30T01:04:47.166588Z",
     "start_time": "2019-09-30T01:04:47.158732Z"
    },
    "collapsed": true
   },
   "outputs": [],
   "source": [
    "reg = 0.1\n",
    "regS = 0.1\n",
    "lr = 0.0001\n",
    "lrS = 0.0001\n",
    "\n",
    "maxEpo = 10"
   ]
  },
  {
   "cell_type": "code",
   "execution_count": 306,
   "metadata": {
    "ExecuteTime": {
     "end_time": "2019-09-26T00:56:17.103192Z",
     "start_time": "2019-09-26T00:56:17.039153Z"
    }
   },
   "outputs": [
    {
     "name": "stdout",
     "output_type": "stream",
     "text": [
      "[-0.00021049 -0.00019148 -0.00019711 -0.00020162 -0.0002131  -0.00020457\n",
      " -0.00020821 -0.00019797]\n",
      "[-0.00023035 -0.0002327  -0.00025599 -0.00023712 -0.00024564 -0.0002414\n",
      " -0.00026767 -0.00024597]\n",
      "[-0.00024263 -0.00023649 -0.00024249 -0.00022705 -0.00024544 -0.00022545\n",
      " -0.00025024 -0.00023875]\n",
      "[-0.00026922 -0.00027216 -0.00027355 -0.00031077 -0.00024391 -0.00026914\n",
      " -0.0002628  -0.00026511]\n"
     ]
    }
   ],
   "source": [
    "trn_x = X[0]\n",
    "ind = [5261, 0, 11, 13]\n",
    "val = 3\n",
    "ndims = trn_x.shape[1]\n",
    "core, U = init_factors(rank, dims)\n",
    "\n",
    "Ui_list = [U[k][ind[k]] for k in range(ndims)]\n",
    "F_ijk = tensor_ttv(core, Ui_list)\n",
    "e_ijk = F_ijk - val\n",
    "trn_loss = pow(e_ijk, 2)\n",
    "\n",
    "# Update U\n",
    "for k in range(ndims):\n",
    "    step = lr * reg * U[k][ind[k]].copy()\n",
    "    step += lr * e_ijk * tensor_ttv(core, Ui_list, k)\n",
    "    print(step)\n",
    "    U[k][ind[k]] -= step\n",
    "    Ui_list = [U[k][ind[k]] for k in range(ndims)]\n",
    "    \n",
    "# Update core tensor\n",
    "step_S = lrS * regS * core.copy()\n",
    "step_S += lrS * e_ijk * reduce(np.multiply.outer, Ui_list)\n",
    "core -= step_S"
   ]
  },
  {
   "cell_type": "code",
   "execution_count": 355,
   "metadata": {
    "ExecuteTime": {
     "end_time": "2019-09-26T02:23:12.415272Z",
     "start_time": "2019-09-26T02:23:12.405437Z"
    }
   },
   "outputs": [
    {
     "data": {
      "text/plain": [
       "[array([ 0.12310924,  0.08482861,  0.09228387,  0.10901772,  0.03538306,\n",
       "         0.12166675,  0.0403222 ,  0.02236654]),\n",
       " array([ 0.12093759,  0.06082365,  0.00230832,  0.10587609,  0.07690831,\n",
       "         0.00835971,  0.0997314 ,  0.05684544]),\n",
       " array([ 0.10073455,  0.09948272,  0.02674889,  0.07725074,  0.08942248,\n",
       "         0.1194414 ,  0.03253643,  0.00257674]),\n",
       " array([ 0.08459246,  0.01291622,  0.05692677,  0.04551438,  0.09717301,\n",
       "         0.02756691,  0.04519485,  0.12169245])]"
      ]
     },
     "execution_count": 355,
     "metadata": {},
     "output_type": "execute_result"
    }
   ],
   "source": [
    "Ui_list"
   ]
  },
  {
   "cell_type": "code",
   "execution_count": null,
   "metadata": {
    "collapsed": true
   },
   "outputs": [],
   "source": []
  },
  {
   "cell_type": "code",
   "execution_count": 350,
   "metadata": {
    "ExecuteTime": {
     "end_time": "2019-09-26T01:48:27.620171Z",
     "start_time": "2019-09-26T01:48:27.612877Z"
    }
   },
   "outputs": [
    {
     "data": {
      "text/plain": [
       "-0.0002692236489912174"
      ]
     },
     "execution_count": 350,
     "metadata": {},
     "output_type": "execute_result"
    }
   ],
   "source": [
    "step[0]"
   ]
  },
  {
   "cell_type": "code",
   "execution_count": 349,
   "metadata": {
    "ExecuteTime": {
     "end_time": "2019-09-26T01:48:06.471733Z",
     "start_time": "2019-09-26T01:48:06.464729Z"
    }
   },
   "outputs": [
    {
     "data": {
      "text/plain": [
       "array([ 0.63898532,  0.46287335,  0.94383511,  0.60858357,  0.63789274,\n",
       "        0.19030588,  0.41477685,  0.85487615])"
      ]
     },
     "execution_count": 349,
     "metadata": {},
     "output_type": "execute_result"
    }
   ],
   "source": [
    "core[0][0][0]"
   ]
  },
  {
   "cell_type": "code",
   "execution_count": null,
   "metadata": {
    "collapsed": true
   },
   "outputs": [],
   "source": []
  },
  {
   "cell_type": "markdown",
   "metadata": {},
   "source": [
    "dimは、それぞれの特徴量の最大値＋１(値として0が含まれるため)を示す、trainとtestは同じである"
   ]
  },
  {
   "cell_type": "code",
   "execution_count": 259,
   "metadata": {
    "ExecuteTime": {
     "end_time": "2019-09-25T23:49:50.838619Z",
     "start_time": "2019-09-25T23:49:50.829048Z"
    }
   },
   "outputs": [
    {
     "data": {
      "text/plain": [
       "([7082, 4, 24, 159], [7082, 4, 24, 159])"
      ]
     },
     "execution_count": 259,
     "metadata": {},
     "output_type": "execute_result"
    }
   ],
   "source": [
    "trn_dims, tst_dims"
   ]
  },
  {
   "cell_type": "code",
   "execution_count": 388,
   "metadata": {
    "ExecuteTime": {
     "end_time": "2019-09-30T01:04:54.911680Z",
     "start_time": "2019-09-30T01:04:54.902881Z"
    },
    "scrolled": true
   },
   "outputs": [
    {
     "data": {
      "text/plain": [
       "([7082, 4, 24, 159], [8, 8, 8, 8], 0.1, 0.1, 0.0001, 0.0001, 10)"
      ]
     },
     "execution_count": 388,
     "metadata": {},
     "output_type": "execute_result"
    }
   ],
   "source": [
    "dims, rank, reg, regS, lr, lrS, maxEpo"
   ]
  },
  {
   "cell_type": "code",
   "execution_count": 391,
   "metadata": {
    "ExecuteTime": {
     "end_time": "2019-09-30T01:22:26.830560Z",
     "start_time": "2019-09-30T01:22:26.718210Z"
    },
    "scrolled": false
   },
   "outputs": [
    {
     "name": "stdout",
     "output_type": "stream",
     "text": [
      "ninstance: 78418, ndims: 4\n"
     ]
    },
    {
     "ename": "TypeError",
     "evalue": "only length-1 arrays can be converted to Python scalars",
     "output_type": "error",
     "traceback": [
      "\u001b[0;31m---------------------------------------------------------------------------\u001b[0m",
      "\u001b[0;31mTypeError\u001b[0m                                 Traceback (most recent call last)",
      "\u001b[0;32m<ipython-input-391-cde67de465e0>\u001b[0m in \u001b[0;36m<module>\u001b[0;34m()\u001b[0m\n\u001b[0;32m----> 1\u001b[0;31m \u001b[0mcore\u001b[0m\u001b[0;34m,\u001b[0m \u001b[0mU\u001b[0m \u001b[0;34m=\u001b[0m \u001b[0mTPTF\u001b[0m\u001b[0;34m(\u001b[0m\u001b[0mX\u001b[0m\u001b[0;34m,\u001b[0m \u001b[0mXtest\u001b[0m\u001b[0;34m,\u001b[0m \u001b[0mdims\u001b[0m\u001b[0;34m,\u001b[0m \u001b[0mrank\u001b[0m\u001b[0;34m,\u001b[0m \u001b[0mreg\u001b[0m\u001b[0;34m,\u001b[0m \u001b[0mregS\u001b[0m\u001b[0;34m,\u001b[0m \u001b[0mlr\u001b[0m\u001b[0;34m,\u001b[0m \u001b[0mlrS\u001b[0m\u001b[0;34m,\u001b[0m \u001b[0mmaxEpo\u001b[0m\u001b[0;34m)\u001b[0m\u001b[0;34m\u001b[0m\u001b[0m\n\u001b[0m",
      "\u001b[0;32m<ipython-input-390-8e49a0078271>\u001b[0m in \u001b[0;36mTPTF\u001b[0;34m(X, Xtest, dims, rank, reg, reg_S, lr, lrS, max_iter, tol)\u001b[0m\n\u001b[1;32m     58\u001b[0m                 \u001b[0mstep\u001b[0m \u001b[0;34m=\u001b[0m \u001b[0mlr\u001b[0m \u001b[0;34m*\u001b[0m \u001b[0mreg\u001b[0m \u001b[0;34m*\u001b[0m \u001b[0mU\u001b[0m\u001b[0;34m[\u001b[0m\u001b[0mk\u001b[0m\u001b[0;34m]\u001b[0m\u001b[0;34m[\u001b[0m\u001b[0mind\u001b[0m\u001b[0;34m[\u001b[0m\u001b[0mk\u001b[0m\u001b[0;34m]\u001b[0m\u001b[0;34m]\u001b[0m\u001b[0;34m.\u001b[0m\u001b[0mcopy\u001b[0m\u001b[0;34m(\u001b[0m\u001b[0;34m)\u001b[0m\u001b[0;34m\u001b[0m\u001b[0m\n\u001b[1;32m     59\u001b[0m \u001b[0;31m#                 print(Ui_list[0])\u001b[0m\u001b[0;34m\u001b[0m\u001b[0;34m\u001b[0m\u001b[0m\n\u001b[0;32m---> 60\u001b[0;31m                 \u001b[0mstep\u001b[0m \u001b[0;34m+=\u001b[0m \u001b[0mfloat\u001b[0m\u001b[0;34m(\u001b[0m\u001b[0mlr\u001b[0m \u001b[0;34m*\u001b[0m \u001b[0me_ijk\u001b[0m \u001b[0;34m*\u001b[0m \u001b[0mtensor_ttv\u001b[0m\u001b[0;34m(\u001b[0m\u001b[0mcore\u001b[0m\u001b[0;34m,\u001b[0m \u001b[0mUi_list\u001b[0m\u001b[0;34m,\u001b[0m \u001b[0mk\u001b[0m\u001b[0;34m)\u001b[0m\u001b[0;34m)\u001b[0m\u001b[0;34m\u001b[0m\u001b[0m\n\u001b[0m\u001b[1;32m     61\u001b[0m \u001b[0;31m#                 print(tensor_ttv(core, Ui_list, k))\u001b[0m\u001b[0;34m\u001b[0m\u001b[0;34m\u001b[0m\u001b[0m\n\u001b[1;32m     62\u001b[0m \u001b[0;31m#                 print(mean(step))\u001b[0m\u001b[0;34m\u001b[0m\u001b[0;34m\u001b[0m\u001b[0m\n",
      "\u001b[0;31mTypeError\u001b[0m: only length-1 arrays can be converted to Python scalars"
     ]
    }
   ],
   "source": [
    "core, U = TPTF(X, Xtest, dims, rank, reg, regS, lr, lrS, maxEpo)"
   ]
  },
  {
   "cell_type": "code",
   "execution_count": null,
   "metadata": {
    "collapsed": true
   },
   "outputs": [],
   "source": []
  },
  {
   "cell_type": "code",
   "execution_count": null,
   "metadata": {
    "collapsed": true
   },
   "outputs": [],
   "source": []
  },
  {
   "cell_type": "code",
   "execution_count": 253,
   "metadata": {
    "ExecuteTime": {
     "end_time": "2019-09-25T23:22:05.052707Z",
     "start_time": "2019-09-25T23:22:05.040274Z"
    }
   },
   "outputs": [
    {
     "data": {
      "text/plain": [
       "array([6078,    0,   15,   13])"
      ]
     },
     "execution_count": 253,
     "metadata": {},
     "output_type": "execute_result"
    }
   ],
   "source": [
    "X[0][36550]"
   ]
  },
  {
   "cell_type": "code",
   "execution_count": null,
   "metadata": {
    "collapsed": true
   },
   "outputs": [],
   "source": []
  },
  {
   "cell_type": "code",
   "execution_count": null,
   "metadata": {
    "collapsed": true
   },
   "outputs": [],
   "source": []
  },
  {
   "cell_type": "code",
   "execution_count": null,
   "metadata": {
    "collapsed": true
   },
   "outputs": [],
   "source": []
  },
  {
   "cell_type": "code",
   "execution_count": null,
   "metadata": {
    "collapsed": true
   },
   "outputs": [],
   "source": []
  }
 ],
 "metadata": {
  "kernelspec": {
   "display_name": "Python 3",
   "language": "python",
   "name": "python3"
  },
  "language_info": {
   "codemirror_mode": {
    "name": "ipython",
    "version": 3
   },
   "file_extension": ".py",
   "mimetype": "text/x-python",
   "name": "python",
   "nbconvert_exporter": "python",
   "pygments_lexer": "ipython3",
   "version": "3.6.3"
  },
  "toc": {
   "base_numbering": 1,
   "nav_menu": {},
   "number_sections": true,
   "sideBar": true,
   "skip_h1_title": false,
   "title_cell": "Table of Contents",
   "title_sidebar": "Contents",
   "toc_cell": false,
   "toc_position": {
    "height": "calc(100% - 180px)",
    "left": "10px",
    "top": "150px",
    "width": "156.994px"
   },
   "toc_section_display": true,
   "toc_window_display": true
  }
 },
 "nbformat": 4,
 "nbformat_minor": 2
}
