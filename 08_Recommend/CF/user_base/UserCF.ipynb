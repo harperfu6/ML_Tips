{
 "cells": [
  {
   "cell_type": "markdown",
   "metadata": {},
   "source": [
    "ユーザベースの協調フィルタリング"
   ]
  },
  {
   "cell_type": "markdown",
   "metadata": {},
   "source": [
    "ユーザの嗜好の類似度をベースにレコメンド"
   ]
  },
  {
   "cell_type": "markdown",
   "metadata": {},
   "source": [
    "ユーザの評価を元に，ユーザ軸で類似度を計算（ユーザ類似度のディクショナリは持たない）．よって非常にシンプル．  \n",
    "よってデータセットが頻繁に変更されても対応できる．  \n",
    "しかし，データセットが巨大になると計算が遅くなる．"
   ]
  },
  {
   "cell_type": "code",
   "execution_count": null,
   "metadata": {},
   "outputs": [],
   "source": []
  },
  {
   "cell_type": "code",
   "execution_count": 9,
   "metadata": {
    "ExecuteTime": {
     "end_time": "2019-10-01T23:38:06.937372Z",
     "start_time": "2019-10-01T23:38:06.934693Z"
    }
   },
   "outputs": [],
   "source": [
    "import pandas as pd\n",
    "import numpy as np\n",
    "import datetime as dt\n",
    "from scipy import sparse\n",
    "from scipy.spatial.distance import cosine # cosine類似度に基づくcosine距離（類似していると数値が小さくなる）\n",
    "from scipy.stats import pearsonr\n",
    "import seaborn as sns\n",
    "import matplotlib.pyplot as plt"
   ]
  },
  {
   "cell_type": "code",
   "execution_count": 7,
   "metadata": {},
   "outputs": [
    {
     "data": {
      "text/plain": [
       "user_id            943\n",
       "item_id           1682\n",
       "rating               5\n",
       "timestamp    893286638\n",
       "dtype: int64"
      ]
     },
     "execution_count": 7,
     "metadata": {},
     "output_type": "execute_result"
    }
   ],
   "source": [
    "# df = pd.read_csv('ml-100k/u.data', sep='\\t', names=['user_id', 'item_id', 'rating', 'timestamp'])\n",
    "# df.max()"
   ]
  },
  {
   "cell_type": "code",
   "execution_count": 10,
   "metadata": {
    "ExecuteTime": {
     "end_time": "2019-10-01T23:38:14.271469Z",
     "start_time": "2019-10-01T23:38:10.370758Z"
    }
   },
   "outputs": [],
   "source": [
    "df_ratings = pd.read_csv('../../data/ml-1m/ratings.dat', sep='::', header=None, \n",
    "                 names=['user_id', 'movie_id', 'rating', 'timestamp'] ,engine='python')"
   ]
  },
  {
   "cell_type": "code",
   "execution_count": 11,
   "metadata": {
    "ExecuteTime": {
     "end_time": "2019-10-01T23:38:14.296044Z",
     "start_time": "2019-10-01T23:38:14.290367Z"
    }
   },
   "outputs": [
    {
     "data": {
      "text/html": [
       "<div>\n",
       "<style scoped>\n",
       "    .dataframe tbody tr th:only-of-type {\n",
       "        vertical-align: middle;\n",
       "    }\n",
       "\n",
       "    .dataframe tbody tr th {\n",
       "        vertical-align: top;\n",
       "    }\n",
       "\n",
       "    .dataframe thead th {\n",
       "        text-align: right;\n",
       "    }\n",
       "</style>\n",
       "<table border=\"1\" class=\"dataframe\">\n",
       "  <thead>\n",
       "    <tr style=\"text-align: right;\">\n",
       "      <th></th>\n",
       "      <th>user_id</th>\n",
       "      <th>movie_id</th>\n",
       "      <th>rating</th>\n",
       "      <th>timestamp</th>\n",
       "    </tr>\n",
       "  </thead>\n",
       "  <tbody>\n",
       "    <tr>\n",
       "      <th>0</th>\n",
       "      <td>1</td>\n",
       "      <td>1193</td>\n",
       "      <td>5</td>\n",
       "      <td>978300760</td>\n",
       "    </tr>\n",
       "    <tr>\n",
       "      <th>1</th>\n",
       "      <td>1</td>\n",
       "      <td>661</td>\n",
       "      <td>3</td>\n",
       "      <td>978302109</td>\n",
       "    </tr>\n",
       "    <tr>\n",
       "      <th>2</th>\n",
       "      <td>1</td>\n",
       "      <td>914</td>\n",
       "      <td>3</td>\n",
       "      <td>978301968</td>\n",
       "    </tr>\n",
       "    <tr>\n",
       "      <th>3</th>\n",
       "      <td>1</td>\n",
       "      <td>3408</td>\n",
       "      <td>4</td>\n",
       "      <td>978300275</td>\n",
       "    </tr>\n",
       "    <tr>\n",
       "      <th>4</th>\n",
       "      <td>1</td>\n",
       "      <td>2355</td>\n",
       "      <td>5</td>\n",
       "      <td>978824291</td>\n",
       "    </tr>\n",
       "  </tbody>\n",
       "</table>\n",
       "</div>"
      ],
      "text/plain": [
       "   user_id  movie_id  rating  timestamp\n",
       "0        1      1193       5  978300760\n",
       "1        1       661       3  978302109\n",
       "2        1       914       3  978301968\n",
       "3        1      3408       4  978300275\n",
       "4        1      2355       5  978824291"
      ]
     },
     "execution_count": 11,
     "metadata": {},
     "output_type": "execute_result"
    }
   ],
   "source": [
    "df_ratings.head()"
   ]
  },
  {
   "cell_type": "markdown",
   "metadata": {},
   "source": [
    "ユーザ×アイテム　行列を作成する"
   ]
  },
  {
   "cell_type": "code",
   "execution_count": 5,
   "metadata": {
    "ExecuteTime": {
     "end_time": "2019-09-30T07:13:49.683794Z",
     "start_time": "2019-09-30T07:13:49.674989Z"
    }
   },
   "outputs": [],
   "source": [
    "df_ratings.rename(columns={'movie_id': 'item_id'}, inplace=True)"
   ]
  },
  {
   "cell_type": "code",
   "execution_count": 7,
   "metadata": {
    "ExecuteTime": {
     "end_time": "2019-09-30T07:16:31.494109Z",
     "start_time": "2019-09-30T07:14:01.979327Z"
    }
   },
   "outputs": [],
   "source": [
    "shape = (df_ratings.max().loc['user_id'], df_ratings.max().loc['item_id'])\n",
    "R = np.zeros(shape)\n",
    "\n",
    "for i in df_ratings.index:\n",
    "    row = df_ratings.loc[i]\n",
    "    R[row['user_id']-1, row['item_id']-1] = row['rating']"
   ]
  },
  {
   "cell_type": "code",
   "execution_count": 8,
   "metadata": {
    "ExecuteTime": {
     "end_time": "2019-09-30T07:16:38.466931Z",
     "start_time": "2019-09-30T07:16:38.462954Z"
    }
   },
   "outputs": [
    {
     "data": {
      "text/plain": [
       "array([[5., 0., 0., ..., 0., 0., 0.],\n",
       "       [0., 0., 0., ..., 0., 0., 0.],\n",
       "       [0., 0., 0., ..., 0., 0., 0.],\n",
       "       ...,\n",
       "       [0., 0., 0., ..., 0., 0., 0.],\n",
       "       [0., 0., 0., ..., 0., 0., 0.],\n",
       "       [3., 0., 0., ..., 0., 0., 0.]])"
      ]
     },
     "execution_count": 8,
     "metadata": {},
     "output_type": "execute_result"
    }
   ],
   "source": [
    "R"
   ]
  },
  {
   "cell_type": "code",
   "execution_count": null,
   "metadata": {},
   "outputs": [],
   "source": []
  },
  {
   "cell_type": "code",
   "execution_count": 32,
   "metadata": {
    "ExecuteTime": {
     "end_time": "2019-10-02T01:03:54.406941Z",
     "start_time": "2019-10-02T01:03:54.399741Z"
    }
   },
   "outputs": [],
   "source": [
    "class UserBasedCF:\n",
    "    \n",
    "    # 評価行列を取得\n",
    "    def fit(self, rating_matrix):\n",
    "        \"\"\"\n",
    "        Args:\n",
    "            rating_matrix (nd.array):ユーザ×アイテム評価行列（２次元）\n",
    "        \"\"\"\n",
    "        self.rating_matrix = rating_matrix\n",
    "        \n",
    "        u_count = rating_matrix.shape[0] # ユーザ数\n",
    "        boolean_matrix = (rating_matrix > 0) * 1 # 評価値があるかどうか\n",
    "        mean_ratings = [self.evaluated_mean(rating_matrix[i, :]) for i in range(u_count)] # ユーザごとの平均点\n",
    "        \n",
    "        # 評価点のあるアイテムについて，各ユーザごとに平均点を入れる\n",
    "        self.rating_matrix_mean = (boolean_matrix.T * mean_ratings).T # テンソル同士の*はアダマール積\n",
    "        \n",
    "    def predict(self, x):\n",
    "        \"\"\"\n",
    "        Args:\n",
    "            x (nd.array): 評価対象ユーザの評価ベクトル（１次元）\n",
    "        \"\"\"\n",
    "        sims = self.user_similarities(x) # 各ユーザとの類似度配列（１次元）\n",
    "        \n",
    "        # 各ユーザとの類似度と評価行列について平均点を引いたもの（負になることもある）の内積により各itemの推定評価点を算出\n",
    "        # 評価行列は，各ユーザの特徴を正規化するために，平均を引いた値にする\n",
    "        # （キモ）各ユーザとの類似度と各ユーザそのアイテムに対する評価の内積（類似度の和）を取ることで評価とする\n",
    "        # （キモ）これにより似ているユーザの評価は強く，似ていないユーザの評価は弱く反映される\n",
    "        scores = sims.dot(self.rating_matrix - self.rating_matrix_mean) # （1）\n",
    "        \n",
    "        # そのアイテムに評価があるユーザの評価との類似度を算出\n",
    "        norms = np.absolute(sims).dot((self.rating_matrix > 0) * 1) # 評価値があるかどうか\n",
    "        x_mean = self.evaluated_mean(x) # 評価対象ユーザの平均点\n",
    "        \n",
    "        # （1）よりベースはユーザ評価値の平均点とし，そこに他ユーザとの類似度分を加算（減算）する\n",
    "        p = scores / norms + x_mean\n",
    "        \n",
    "        # nanは0埋め\n",
    "        for i in range(p.size):\n",
    "            if np.isnan(p[i]):\n",
    "                p[i] = 0.0\n",
    "        \n",
    "        return p\n",
    "        \n",
    "        \n",
    "    def evaluated_mean(self, v):\n",
    "        ev = v[v > 0]\n",
    "        if ev.size > 0:\n",
    "            return np.mean(ev)\n",
    "        else:\n",
    "            return 0\n",
    "        \n",
    "    def user_similarities(self, x):\n",
    "        n = self.rating_matrix.shape[0] # ユーザ数\n",
    "        return np.array([self.similarity(x, self.rating_matrix[i]) for i in range(n)]) # 各ユーザとの評価ベクトルの類似度\n",
    "    \n",
    "    # これがユーザベース協調フィルタリングのキモ\n",
    "    # ユーザどうしの評価値ベクトルから類似度を求める\n",
    "    def similarity(self, v1, v2):\n",
    "        \"\"\"\n",
    "        v1: ユーザ１\n",
    "        v2: ユーザ2\n",
    "        return: v1とv2の類似度\n",
    "        \"\"\"\n",
    "        idx = np.logical_and(v1 != 0, v2 != 0) # ユーザ1とユーザ2の評価が0でない場所\n",
    "        # 評価値\n",
    "        v1_non_zero =  v1[idx]\n",
    "        v2_non_zero =  v2[idx]\n",
    "        \n",
    "        # ピアソンの積率相関係数による類似度\n",
    "        # 他の一般的な方法として，ユークリッド距離，Jaccard係数（積/和）がある\n",
    "        sim = 0.0\n",
    "        if v1_non_zero.size > 0:\n",
    "            coef, _ = pearsonr(v1_non_zero, v2_non_zero)\n",
    "            if not np.isnan(coef):\n",
    "                sim = coef\n",
    "        \n",
    "        return sim"
   ]
  },
  {
   "cell_type": "markdown",
   "metadata": {},
   "source": [
    "ユーザごとに評価値を取得"
   ]
  },
  {
   "cell_type": "code",
   "execution_count": 33,
   "metadata": {
    "ExecuteTime": {
     "end_time": "2019-10-02T01:04:05.090086Z",
     "start_time": "2019-10-02T01:04:03.091322Z"
    },
    "scrolled": true
   },
   "outputs": [
    {
     "name": "stderr",
     "output_type": "stream",
     "text": [
      "/home/ec2-user/anaconda3/envs/python3/lib/python3.6/site-packages/scipy/stats/stats.py:3010: RuntimeWarning: invalid value encountered in double_scalars\n",
      "  r = r_num / r_den\n"
     ]
    },
    {
     "name": "stdout",
     "output_type": "stream",
     "text": [
      "[4.53179162 4.15715189 4.23517744 ... 4.78494346 4.26180821 4.2860842 ]\n"
     ]
    },
    {
     "name": "stderr",
     "output_type": "stream",
     "text": [
      "/home/ec2-user/anaconda3/envs/python3/lib/python3.6/site-packages/ipykernel_launcher.py:36: RuntimeWarning: invalid value encountered in true_divide\n"
     ]
    }
   ],
   "source": [
    "cf = UserBasedCF()\n",
    "cf.fit(R)\n",
    "\n",
    "u = np.array(R.tolist()[0]) # matrixからユーザ0の評価列を取り出す\n",
    "pred = cf.predict(u) # ユーザ0の評価値ベクトルを取得\n",
    "\n",
    "print(pred)"
   ]
  },
  {
   "cell_type": "markdown",
   "metadata": {},
   "source": [
    "CF前後で値の変化を比較"
   ]
  },
  {
   "cell_type": "code",
   "execution_count": 35,
   "metadata": {
    "ExecuteTime": {
     "end_time": "2019-10-02T01:05:44.420790Z",
     "start_time": "2019-10-02T01:05:43.475947Z"
    },
    "scrolled": false
   },
   "outputs": [
    {
     "data": {
      "text/plain": [
       "<matplotlib.axes._subplots.AxesSubplot at 0x7fe6785e9c18>"
      ]
     },
     "execution_count": 35,
     "metadata": {},
     "output_type": "execute_result"
    },
    {
     "data": {
      "image/png": "[encoded data removed]",
      "text/plain": [
       "<Figure size 1152x576 with 2 Axes>"
      ]
     },
     "metadata": {},
     "output_type": "display_data"
    }
   ],
   "source": [
    "plt.figure(figsize=(16,8))\n",
    "# sns.heatmap(u)\n",
    "shape = u.shape\n",
    "shape_item = shape[0]\n",
    "\n",
    "u = np.append(u, pred, axis=0).reshape((2, shape_item))\n",
    "sns.heatmap(u)"
   ]
  },
  {
   "cell_type": "code",
   "execution_count": 37,
   "metadata": {
    "ExecuteTime": {
     "end_time": "2019-10-02T01:06:21.808502Z",
     "start_time": "2019-10-02T01:06:21.805023Z"
    },
    "scrolled": true
   },
   "outputs": [
    {
     "data": {
      "text/plain": [
       "array([5., 0., 0., ..., 0., 0., 0.])"
      ]
     },
     "execution_count": 37,
     "metadata": {},
     "output_type": "execute_result"
    }
   ],
   "source": [
    "u[0]"
   ]
  },
  {
   "cell_type": "code",
   "execution_count": 42,
   "metadata": {
    "ExecuteTime": {
     "end_time": "2019-10-02T01:07:11.948457Z",
     "start_time": "2019-10-02T01:07:11.944755Z"
    }
   },
   "outputs": [
    {
     "data": {
      "text/plain": [
       "53"
      ]
     },
     "execution_count": 42,
     "metadata": {},
     "output_type": "execute_result"
    }
   ],
   "source": [
    "sum((u[0] > 0) * 1)"
   ]
  },
  {
   "cell_type": "code",
   "execution_count": 53,
   "metadata": {
    "ExecuteTime": {
     "end_time": "2019-10-02T01:14:25.607119Z",
     "start_time": "2019-10-02T01:14:25.603784Z"
    }
   },
   "outputs": [
    {
     "data": {
      "text/plain": [
       "array([4.53179162, 4.15715189, 4.23517744, ..., 4.78494346, 4.26180821,\n",
       "       4.2860842 ])"
      ]
     },
     "execution_count": 53,
     "metadata": {},
     "output_type": "execute_result"
    }
   ],
   "source": [
    "pred"
   ]
  },
  {
   "cell_type": "code",
   "execution_count": 52,
   "metadata": {
    "ExecuteTime": {
     "end_time": "2019-10-02T01:14:12.854169Z",
     "start_time": "2019-10-02T01:14:12.850910Z"
    }
   },
   "outputs": [
    {
     "data": {
      "text/plain": [
       "4.188679245283019"
      ]
     },
     "execution_count": 52,
     "metadata": {},
     "output_type": "execute_result"
    }
   ],
   "source": [
    "np.mean(u[0][(u[0] > 0)])"
   ]
  },
  {
   "cell_type": "code",
   "execution_count": null,
   "metadata": {},
   "outputs": [],
   "source": []
  },
  {
   "cell_type": "code",
   "execution_count": null,
   "metadata": {},
   "outputs": [],
   "source": []
  }
 ],
 "metadata": {
  "kernelspec": {
   "display_name": "Python 3",
   "language": "python",
   "name": "python3"
  },
  "language_info": {
   "codemirror_mode": {
    "name": "ipython",
    "version": 3
   },
   "file_extension": ".py",
   "mimetype": "text/x-python",
   "name": "python",
   "nbconvert_exporter": "python",
   "pygments_lexer": "ipython3",
   "version": "3.6.5"
  },
  "toc": {
   "base_numbering": 1,
   "nav_menu": {},
   "number_sections": true,
   "sideBar": true,
   "skip_h1_title": false,
   "title_cell": "Table of Contents",
   "title_sidebar": "Contents",
   "toc_cell": false,
   "toc_position": {
    "height": "calc(100% - 180px)",
    "left": "10px",
    "top": "150px",
    "width": "189px"
   },
   "toc_section_display": true,
   "toc_window_display": true
  },
  "varInspector": {
   "cols": {
    "lenName": 16,
    "lenType": 16,
    "lenVar": 40
   },
   "kernels_config": {
    "python": {
     "delete_cmd_postfix": "",
     "delete_cmd_prefix": "del ",
     "library": "var_list.py",
     "varRefreshCmd": "print(var_dic_list())"
    },
    "r": {
     "delete_cmd_postfix": ") ",
     "delete_cmd_prefix": "rm(",
     "library": "var_list.r",
     "varRefreshCmd": "cat(var_dic_list()) "
    }
   },
   "types_to_exclude": [
    "module",
    "function",
    "builtin_function_or_method",
    "instance",
    "_Feature"
   ],
   "window_display": false
  }
 },
 "nbformat": 4,
 "nbformat_minor": 2
}
