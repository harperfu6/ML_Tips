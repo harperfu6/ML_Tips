{
 "cells": [
  {
   "cell_type": "markdown",
   "metadata": {},
   "source": [
    "# Alternating Least Squares with Weighted Regularization"
   ]
  },
  {
   "cell_type": "code",
   "execution_count": 1,
   "metadata": {
    "ExecuteTime": {
     "end_time": "2019-08-27T01:24:23.798548Z",
     "start_time": "2019-08-27T01:23:49.220103Z"
    },
    "collapsed": true
   },
   "outputs": [],
   "source": [
    "import os\n",
    "\n",
    "import numpy as np\n",
    "import pandas as pd\n",
    "from subprocess import call\n",
    "from sklearn.metrics import mean_squared_error\n",
    "\n",
    "import matplotlib.pyplot as plt\n",
    "%matplotlib inline\n"
   ]
  },
  {
   "cell_type": "code",
   "execution_count": 6,
   "metadata": {
    "ExecuteTime": {
     "end_time": "2019-08-27T01:33:43.697032Z",
     "start_time": "2019-08-27T01:33:43.694578Z"
    },
    "collapsed": true
   },
   "outputs": [],
   "source": [
    "# change default figure and font size\n",
    "plt.rcParams['figure.figsize'] = 8, 6\n",
    "plt.rcParams['font.size'] = 12"
   ]
  },
  {
   "cell_type": "code",
   "execution_count": null,
   "metadata": {
    "collapsed": true
   },
   "outputs": [],
   "source": []
  },
  {
   "cell_type": "markdown",
   "metadata": {},
   "source": [
    "## MovieLens Dataset"
   ]
  },
  {
   "cell_type": "code",
   "execution_count": 2,
   "metadata": {
    "ExecuteTime": {
     "end_time": "2019-08-27T01:24:31.123434Z",
     "start_time": "2019-08-27T01:24:28.504680Z"
    }
   },
   "outputs": [
    {
     "name": "stdout",
     "output_type": "stream",
     "text": [
      "(100000, 4)\n"
     ]
    },
    {
     "data": {
      "text/html": [
       "<div>\n",
       "<style scoped>\n",
       "    .dataframe tbody tr th:only-of-type {\n",
       "        vertical-align: middle;\n",
       "    }\n",
       "\n",
       "    .dataframe tbody tr th {\n",
       "        vertical-align: top;\n",
       "    }\n",
       "\n",
       "    .dataframe thead th {\n",
       "        text-align: right;\n",
       "    }\n",
       "</style>\n",
       "<table border=\"1\" class=\"dataframe\">\n",
       "  <thead>\n",
       "    <tr style=\"text-align: right;\">\n",
       "      <th></th>\n",
       "      <th>user_id</th>\n",
       "      <th>item_id</th>\n",
       "      <th>rating</th>\n",
       "      <th>timestamp</th>\n",
       "    </tr>\n",
       "  </thead>\n",
       "  <tbody>\n",
       "    <tr>\n",
       "      <th>0</th>\n",
       "      <td>196</td>\n",
       "      <td>242</td>\n",
       "      <td>3</td>\n",
       "      <td>881250949</td>\n",
       "    </tr>\n",
       "    <tr>\n",
       "      <th>1</th>\n",
       "      <td>186</td>\n",
       "      <td>302</td>\n",
       "      <td>3</td>\n",
       "      <td>891717742</td>\n",
       "    </tr>\n",
       "    <tr>\n",
       "      <th>2</th>\n",
       "      <td>22</td>\n",
       "      <td>377</td>\n",
       "      <td>1</td>\n",
       "      <td>878887116</td>\n",
       "    </tr>\n",
       "    <tr>\n",
       "      <th>3</th>\n",
       "      <td>244</td>\n",
       "      <td>51</td>\n",
       "      <td>2</td>\n",
       "      <td>880606923</td>\n",
       "    </tr>\n",
       "    <tr>\n",
       "      <th>4</th>\n",
       "      <td>166</td>\n",
       "      <td>346</td>\n",
       "      <td>1</td>\n",
       "      <td>886397596</td>\n",
       "    </tr>\n",
       "  </tbody>\n",
       "</table>\n",
       "</div>"
      ],
      "text/plain": [
       "   user_id  item_id  rating  timestamp\n",
       "0      196      242       3  881250949\n",
       "1      186      302       3  891717742\n",
       "2       22      377       1  878887116\n",
       "3      244       51       2  880606923\n",
       "4      166      346       1  886397596"
      ]
     },
     "execution_count": 2,
     "metadata": {},
     "output_type": "execute_result"
    }
   ],
   "source": [
    "file_dir = 'ml-100k'\n",
    "file_path = os.path.join(file_dir, 'u.data')\n",
    "\n",
    "if not os.path.isdir(file_dir):\n",
    "    call(['curl', '-O', 'http://files.grouplens.org/datasets/movielens/ml-100k.zip'])\n",
    "    call(['unzip', 'ml-100k.zip'])\n",
    "    \n",
    "names = ['user_id', 'item_id', 'rating', 'timestamp']\n",
    "df = pd.read_csv(file_path, sep = '\\t', names=names)\n",
    "print(df.shape)\n",
    "df.head()"
   ]
  },
  {
   "cell_type": "markdown",
   "metadata": {},
   "source": [
    "As we can see, the only data that we have is how each user interacted or rated each item.   \n",
    "Given this information, collaborative filtering will start by constructing a user-item matrix with each distinct user being the row, item being the column and the value for each cell will simply be the rating that the user gave to the item.   \n",
    "Apart from building the matrix, we will also print out some other information to help us understand our data a bit better."
   ]
  },
  {
   "cell_type": "code",
   "execution_count": 5,
   "metadata": {
    "ExecuteTime": {
     "end_time": "2019-08-27T01:32:33.594312Z",
     "start_time": "2019-08-27T01:32:33.422022Z"
    }
   },
   "outputs": [
    {
     "name": "stdout",
     "output_type": "stream",
     "text": [
      "dimensition:  (943, 1682)\n",
      "sparsity: 6.3%\n"
     ]
    },
    {
     "data": {
      "text/plain": [
       "array([[5., 3., 4., ..., 0., 0., 0.],\n",
       "       [4., 0., 0., ..., 0., 0., 0.],\n",
       "       [0., 0., 0., ..., 0., 0., 0.],\n",
       "       ...,\n",
       "       [5., 0., 0., ..., 0., 0., 0.],\n",
       "       [0., 0., 0., ..., 0., 0., 0.],\n",
       "       [0., 5., 0., ..., 0., 0., 0.]])"
      ]
     },
     "execution_count": 5,
     "metadata": {},
     "output_type": "execute_result"
    }
   ],
   "source": [
    "# create the rating matrix r_{ui}\n",
    "# remember to subtract the user and item id by 1 since the indices starts from 0\n",
    "n_users = df['user_id'].unique().shape[0]\n",
    "n_items = df['item_id'].unique().shape[0]\n",
    "# initialize\n",
    "ratings = np.zeros((n_users, n_items))\n",
    "for row in df.itertuples(index=False): # iterrowよりも高速\n",
    "    ratings[row.user_id-1, row.item_id-1] = row.rating\n",
    "\n",
    "# compute the no-zero elements in the rating matrix\n",
    "matrix_size = np.prod(ratings.shape)\n",
    "interaction = np.flatnonzero(ratings).shape[0] # retrun \"indices\" tha are non-zero\n",
    "sparsity = (interaction/matrix_size) * 100\n",
    "\n",
    "print('dimensition: ', ratings.shape)\n",
    "print('sparsity: {:.1f}%'.format(sparsity))\n",
    "ratings"
   ]
  },
  {
   "cell_type": "markdown",
   "metadata": {},
   "source": [
    "From the information above, we know there are 943 unique users, 1682 unique items.   \n",
    "Within the rating matrix, only 6.3% of the cells have a value, although we filled in empty ratings as 0, we should **not** assume these values to truly be zero.   \n",
    "More appropriately, they are just missing entries. This kind of sparsity is extremely common in recommendation system, where people seldom give ratings to things that they have purchased.   \n",
    "One thing to note is that if the sparsity of the matrix is **below 1% (rule of thumb), then the dataset might be too sparse to perform any sort of modeling**."
   ]
  },
  {
   "cell_type": "code",
   "execution_count": 9,
   "metadata": {
    "ExecuteTime": {
     "end_time": "2019-08-27T01:37:55.572801Z",
     "start_time": "2019-08-27T01:37:55.357836Z"
    }
   },
   "outputs": [
    {
     "name": "stderr",
     "output_type": "stream",
     "text": [
      "/home/ec2-user/anaconda3/envs/python3/lib/python3.6/site-packages/matplotlib/axes/_axes.py:6521: MatplotlibDeprecationWarning: \n",
      "The 'normed' kwarg was deprecated in Matplotlib 2.1 and will be removed in 3.1. Use 'density' instead.\n",
      "  alternative=\"'density'\", removal=\"3.1\")\n"
     ]
    },
    {
     "data": {
      "image/png": "[encoded data removed]",
      "text/plain": [
       "<Figure size 576x432 with 1 Axes>"
      ]
     },
     "metadata": {},
     "output_type": "display_data"
    }
   ],
   "source": [
    "plt.hist(np.sum(ratings != 0, axis=1), histtype='stepfilled', bins=30,\n",
    "            alpha=0.85, label='# of ratings', color='#7A68A6', normed=True)\n",
    "plt.axvline(x = 10, color='black', linestyle='--')\n",
    "plt.legend(loc = \"upper right\")\n",
    "plt.show()"
   ]
  },
  {
   "cell_type": "markdown",
   "metadata": {},
   "source": [
    "Next the histogram tells us that every user has given at least more than 10 ratings, we will use this to perform the train/test split of the data for testing the algorithm that we'll build later."
   ]
  },
  {
   "cell_type": "markdown",
   "metadata": {},
   "source": [
    "One tricky thing about splitting the data into training and testing is that:   \n",
    "In supervise machine learning we normally build the trainining and testing holdout set by randomly splitting the rows. In those cases, this idea works, because we have a model with features/target that we are trying to fit a function to.   \n",
    "\n",
    "For recommender systems with collaborative filtering (no features), this just **won't work** anymore, because all of the items/users need to be available when the model is first built. So what we do instead is **mask a random sample of the user/item ratings** to validate and compare how well the recommender system did in predicting the ratings of those masked values. In our case, given **we already know each user has given more than 10 ratings**, what we'll do is for every user, we **remove 10 of the item ratings and and assign them to the test set**. The testing matrix is printed below, as hopefully, you can see that some of the values are indeed different from the original rating matrix."
   ]
  },
  {
   "cell_type": "code",
   "execution_count": 10,
   "metadata": {
    "ExecuteTime": {
     "end_time": "2019-08-27T01:55:26.578804Z",
     "start_time": "2019-08-27T01:55:26.574627Z"
    },
    "collapsed": true
   },
   "outputs": [],
   "source": [
    "def create_train_test(ratings):\n",
    "    \"\"\"\n",
    "    split into training and test sets,\n",
    "    remove 10 ratings from each user\n",
    "    and assign them to the test set\n",
    "    \"\"\"\n",
    "    test = np.zeros(ratings.shape)\n",
    "    train = ratings.copy()\n",
    "    for user in range(ratings.shape[0]):\n",
    "        test_index = np.random.choice(np.flatnonzero(ratings[user]), size=10, replace=False)\n",
    "        \n",
    "        train[user, test_index] = 0.0 # 学習データからは削除\n",
    "        test[user, test_index] = ratings[user, test_index]\n",
    "        \n",
    "    # assert that training and testing set are truly disjoint\n",
    "    # trainとtestの同じ位置の各要素の積をとり，全て０となるかをチェック\n",
    "    # testはtrainのうち各ユーザ１０個ずつテストデータをとり，trainはその要素を0とする\n",
    "    assert np.all(train * test == 0)\n",
    "    return train, test"
   ]
  },
  {
   "cell_type": "code",
   "execution_count": 11,
   "metadata": {
    "ExecuteTime": {
     "end_time": "2019-08-27T04:23:16.201093Z",
     "start_time": "2019-08-27T04:23:15.544067Z"
    }
   },
   "outputs": [
    {
     "data": {
      "text/plain": [
       "array([[5., 3., 4., ..., 0., 0., 0.],\n",
       "       [4., 0., 0., ..., 0., 0., 0.],\n",
       "       [0., 0., 0., ..., 0., 0., 0.],\n",
       "       ...,\n",
       "       [0., 0., 0., ..., 0., 0., 0.],\n",
       "       [0., 0., 0., ..., 0., 0., 0.],\n",
       "       [0., 5., 0., ..., 0., 0., 0.]])"
      ]
     },
     "execution_count": 11,
     "metadata": {},
     "output_type": "execute_result"
    }
   ],
   "source": [
    "train, test = create_train_test(ratings)\n",
    "del ratings # save memory\n",
    "train"
   ]
  },
  {
   "cell_type": "markdown",
   "metadata": {},
   "source": [
    "## Matrix Factorization with ALS"
   ]
  },
  {
   "cell_type": "markdown",
   "metadata": {},
   "source": [
    "Recall that we had a user-item matrix,  $R$  where nonzero elements of the matrix are ratings that a user has given an item.  \n",
    "What Matrix Factorization does is it decomposes a large matrix into products of matrices, namely,  $R=U×V$."
   ]
  },
  {
   "cell_type": "markdown",
   "metadata": {},
   "source": [
    "Matrix factorization assumes that:\n",
    "- Each user can be described by  $d$  features. For example, feature 1 might be a referring to how much each user likes disney movies.\n",
    "- Each item, movie in this case, can be described by an analogous set of  $d$  features. To correspond to the above example, feature 1 for the movie might be a number that says how close the movie is to a disney movie."
   ]
  },
  {
   "cell_type": "markdown",
   "metadata": {},
   "source": [
    "The cool thing about this is that, we do not know what these features are nor do we have to determine them beforehand, which is why these features are often refer to as latent features.   \n",
    "Next, we also don't know how many latent features are optimal for the task at hand.   \n",
    "Thus, we can use random search or grid search or other fancy techniques to perform hyperparameter tuning and determine the best number for  $d$ ."
   ]
  },
  {
   "cell_type": "markdown",
   "metadata": {},
   "source": [
    "Given all those information, the next question is: how do we learn the user matrix,  $U$ , and item matrix,  $V$ ?  \n",
    "Well, like a lot of machine learning algorithm, by minimizing a loss function."
   ]
  },
  {
   "cell_type": "markdown",
   "metadata": {},
   "source": [
    "We start by denoting our  d  feature user into math by letting a user  u  take the form of a  1×$d$ -dimensional vector  $x_u$ . These for often times referred to as latent vectors or low-dimensional embeddings.  \n",
    "Similarly, an item $i$ can be represented by a  1×$d$ -dimensional vector  $y_i$ . And the rating that we predict user $u$ will give for item $i$ is just the dot product of the two vectors"
   ]
  },
  {
   "cell_type": "markdown",
   "metadata": {},
   "source": [
    "$$\\hat r_{ui} = \\vec{x_u} \\vec{y_i}^T = \\sum_d x_{ud}y_{di}$$"
   ]
  },
  {
   "cell_type": "markdown",
   "metadata": {},
   "source": [
    "Where  $\\hat r_{ui}$  represents our prediction for the true rating  $r_{ui}$ ."
   ]
  },
  {
   "cell_type": "markdown",
   "metadata": {},
   "source": [
    "Next, we will choose a objective function to minimize the square of the difference between all ratings in our dataset ($S$) and our predictions. This produces a objective function of the form:"
   ]
  },
  {
   "cell_type": "markdown",
   "metadata": {},
   "source": [
    "$$L = \\sum_{u,i\\in{S}}(\\vec{r_{ui}} - \\vec{x_u} \\vec{y_i}^T)^2 + \\lambda(\\sum_u|\\vec{x_u}|^2 + \\sum_i|\\vec{y_i}|^2)$$"
   ]
  },
  {
   "cell_type": "markdown",
   "metadata": {},
   "source": [
    "Note that we've added on two  $L_2$  regularization terms, with $λ$ controlling the strength at the end to prevent overfitting of the user and item vectors.  \n",
    "$λ$, is another hyperparameter that we'll have to search for to determine the best value. "
   ]
  },
  {
   "cell_type": "markdown",
   "metadata": {},
   "source": [
    "Now that we formalize our objective function, we'll introduce the **Alternating Least Squares with Weighted Regularization (ALS-WR)** method for optimizing it.  \n",
    "The way it works is we start by treating one set of latent vectors as constant. For this example, we'll pick the item vectors, $y_i$ . We then take the derivative of the loss function with respect to the other set of vectors, the user vectors,  $x_u$ and solve for the non-constant vectors (the user vectors)."
   ]
  },
  {
   "cell_type": "markdown",
   "metadata": {},
   "source": [
    "$$\\frac{\\partial L}{\\partial \\vec{x_u}} = -2\\sum_{i}(\\vec{r_{ui}} - \\vec{x_u} \\vec{y_i}^T)\\vec{y_i} + 2\\lambda\\vec{x_u} = 0$$\n",
    "$$= -(\\vec{r_u}-\\vec{x_u}Y^T)Y + \\lambda\\vec{x_u} = 0$$\n",
    "$$= \\vec{x_u}(Y^TY+\\lambda I) = \\vec{r_u}Y$$\n",
    "$$= \\vec{x_u} =  \\vec{r_u}Y(Y^TY+\\lambda I)^{-1}$$"
   ]
  },
  {
   "cell_type": "markdown",
   "metadata": {},
   "source": [
    "- The row vector $r_u$ represents users $u$'s row from the ratings matrix with all the ratings for all the items (so it has dimension  1×$n$ )  \n",
    "- We introduce the symbol $Y$, with dimensions $n×d$ , to represent all item row vectors vertically stacked on each other\n",
    "- Lastly, $I$ is the identity matrix which has dimension $d×d$ to ensure the matrix multiplication's dimensionality will be correct when we add the $λ$"
   ]
  },
  {
   "cell_type": "markdown",
   "metadata": {},
   "source": [
    "Now comes the alternating part: With these newly updated user vectors in hand, in the next round, we hold them as constant, and take the derivative of the loss function with respect to the previously constant vectors (the item vectors). "
   ]
  },
  {
   "cell_type": "markdown",
   "metadata": {},
   "source": [
    "$$\\frac{\\partial L}{\\partial \\vec{y_i}} = \\vec{y_i} =  \\vec{r_i}X(X^TX+\\lambda I)^{-1}$$"
   ]
  },
  {
   "cell_type": "markdown",
   "metadata": {},
   "source": [
    "Then we alternate back and forth and carry out this two-step process until convergence.  \n",
    "The reason we alternate is, optimizing user latent vectors, $U$, and item latent vectors $V$ simultaneously is hard to solve (**NP hardness**).  \n",
    "If we fix $U$ or $V$ and tackle one problem at a time, we potentially turn it into a easier sub-problem. Just to summarize it, ALS works by:\n",
    "- Initialize the user latent vectors, $U$, and item latent vectors $V$ with **randomly**\n",
    "- Fix $U$ and solve for $V$\n",
    "- Fix $V$ and solve for  $U$\n",
    "- Repeat step 2 and 3 until convergence"
   ]
  },
  {
   "cell_type": "markdown",
   "metadata": {},
   "source": [
    "Now that we have our equations, let's program this thing up!  \n",
    "We'll set the model to use **20 factors** and a **regularization value of 0.01 (chosen at random)** and train it for **100 iterations** and compute the **mean square error** on the train and test set to assess algorithm convergence."
   ]
  },
  {
   "cell_type": "code",
   "execution_count": 18,
   "metadata": {
    "ExecuteTime": {
     "end_time": "2019-08-28T04:40:44.658252Z",
     "start_time": "2019-08-28T04:40:44.649740Z"
    },
    "collapsed": true
   },
   "outputs": [],
   "source": [
    "class ExplicitMF():\n",
    "    \"\"\"\n",
    "    Train a matrix factorization mode using Alternating Least Squares to predict empty entries in a matrix\n",
    "    \n",
    "    Parameters\n",
    "    ----------------\n",
    "    n_iters : int\n",
    "        number of iterations to train the algoritm\n",
    "        \n",
    "    n_factors : int\n",
    "        number of latent factors to use in matrix\n",
    "        factorization model, some machine-learning libraries denote this as 'rank'\n",
    "        \n",
    "    reg : float\n",
    "        regularization term for item/user latent factors, since lambda is a keyword in python we use reg instead\n",
    "    \"\"\"\n",
    "    \n",
    "    def __init__(self, n_iters, n_factors, reg):\n",
    "        self.reg = reg\n",
    "        self.n_iters = n_iters\n",
    "        self.n_factors = n_factors\n",
    "        \n",
    "    def fit(self, train, test):\n",
    "        \"\"\"\n",
    "        pass in training and testing at the same time to record model convergence,\n",
    "        assuming both dataset is in the form of User x Item matrix with cells as ratings\n",
    "        \"\"\"\n",
    "        self.n_user, self.n_item = train.shape\n",
    "        self.user_factors = np.random.random((self.n_user, self.n_factors))\n",
    "        self.item_factors = np.random.random((self.n_item, self.n_factors))\n",
    "        \n",
    "        # record the training and testing mse for every iteration to show convergence later (usually, not worth it for production)\n",
    "        self.test_mse_record = []\n",
    "        self.train_mse_record = []\n",
    "        for it in range(self.n_iters):\n",
    "            self.user_factors = self._als_step(train, self.user_factors, self.item_factors)\n",
    "            self.item_factors = self._als_step(train.T, self.item_factors, self.user_factors)\n",
    "            predictions = self.predict()\n",
    "            test_mse = self.compute_mse(test, predictions)\n",
    "            train_mse = self.compute_mse(train, predictions)\n",
    "            self.test_mse_record.append(test_mse)\n",
    "            self.train_mse_record.append(train_mse)\n",
    "            print('iter: {}, test_mse: {}, train_mse: {}'.format(it+1, test_mse, train_mse))\n",
    "            \n",
    "        return self\n",
    "            \n",
    "            \n",
    "    def _als_step(self, ratings, solve_vecs, fixed_vecs):\n",
    "        \"\"\"\n",
    "        when updating the user matrix, the item matrix is the fixed vector and vice varsa\n",
    "        \"\"\"\n",
    "        A = fixed_vecs.T.dot(fixed_vecs) + np.eye(self.n_factors) * self.reg\n",
    "        b = ratings.dot(fixed_vecs)\n",
    "        A_inv = np.linalg.inv(A)\n",
    "        solve_vecs = b.dot(A_inv)\n",
    "        return solve_vecs\n",
    "    \n",
    "    \n",
    "    def predict(self):\n",
    "        \"\"\"\n",
    "        predict ratings for every user and item\n",
    "        \"\"\"\n",
    "        pred = self.user_factors.dot(self.item_factors.T)\n",
    "        return pred\n",
    "    \n",
    "    \n",
    "    @staticmethod\n",
    "    def compute_mse(y_true, y_pred):\n",
    "        \"\"\"\n",
    "        ignore zero terms prior to comparing the mse\n",
    "        \"\"\"\n",
    "        mask = np.nonzero(y_true)\n",
    "        mse = mean_squared_error(y_true[mask], y_pred[mask])\n",
    "        return mse"
   ]
  },
  {
   "cell_type": "code",
   "execution_count": 16,
   "metadata": {
    "ExecuteTime": {
     "end_time": "2019-08-27T08:27:20.638961Z",
     "start_time": "2019-08-27T08:27:20.635784Z"
    },
    "collapsed": true
   },
   "outputs": [],
   "source": [
    "def plot_learning_curve(model):\n",
    "    \"\"\"\n",
    "    visualize the training/testing loss\n",
    "    \"\"\"\n",
    "    linewidth = 3\n",
    "    plt.plot(model.test_mse_record, label='Test', linewidth=linewidth)\n",
    "    plt.plot(model.train_mse_record, label='Train', linewidth=linewidth)\n",
    "    plt.xlabel('iterations')\n",
    "    plt.ylabel('MSE')\n",
    "    plt.legend(loc='best')"
   ]
  },
  {
   "cell_type": "code",
   "execution_count": 17,
   "metadata": {
    "ExecuteTime": {
     "end_time": "2019-08-27T08:27:25.173997Z",
     "start_time": "2019-08-27T08:27:21.416654Z"
    },
    "scrolled": true
   },
   "outputs": [
    {
     "name": "stdout",
     "output_type": "stream",
     "text": [
      "iter: 1, test_mse: 9.66617032872331, train_mse: 5.371658662257342\n",
      "iter: 2, test_mse: 8.532033989615, train_mse: 4.208043738335672\n",
      "iter: 3, test_mse: 8.464862082924245, train_mse: 4.060217804495945\n",
      "iter: 4, test_mse: 8.445007728166754, train_mse: 4.0084207943468035\n",
      "iter: 5, test_mse: 8.436663691719303, train_mse: 3.983698810608167\n",
      "iter: 6, test_mse: 8.433352368390384, train_mse: 3.969927961726057\n",
      "iter: 7, test_mse: 8.431965433236424, train_mse: 3.9614800575923605\n",
      "iter: 8, test_mse: 8.431139155110195, train_mse: 3.955984638937514\n",
      "iter: 9, test_mse: 8.430415319400526, train_mse: 3.9522640158992615\n",
      "iter: 10, test_mse: 8.429718782271141, train_mse: 3.9496585532232307\n",
      "iter: 11, test_mse: 8.429087142364219, train_mse: 3.9477743174636224\n",
      "iter: 12, test_mse: 8.42856212679794, train_mse: 3.946367764683358\n",
      "iter: 13, test_mse: 8.42816162810192, train_mse: 3.94528447352447\n",
      "iter: 14, test_mse: 8.427881936017737, train_mse: 3.9444242684847985\n",
      "iter: 15, test_mse: 8.427706862451844, train_mse: 3.9437207570402535\n",
      "iter: 16, test_mse: 8.427615602589304, train_mse: 3.943129068849647\n",
      "iter: 17, test_mse: 8.427587629998065, train_mse: 3.9426183618312622\n",
      "iter: 18, test_mse: 8.42760508404124, train_mse: 3.9421671495897757\n",
      "iter: 19, test_mse: 8.427653540642474, train_mse: 3.9417603261244647\n",
      "iter: 20, test_mse: 8.427721918372827, train_mse: 3.9413872264448275\n",
      "iter: 21, test_mse: 8.427802015652714, train_mse: 3.9410403289416487\n",
      "iter: 22, test_mse: 8.427887956193253, train_mse: 3.940714362673609\n",
      "iter: 23, test_mse: 8.427975672814254, train_mse: 3.9404056762447963\n",
      "iter: 24, test_mse: 8.428062475304639, train_mse: 3.940111780750197\n",
      "iter: 25, test_mse: 8.42814670633939, train_mse: 3.9398310126255187\n",
      "iter: 26, test_mse: 8.428227472987992, train_mse: 3.939562282208649\n",
      "iter: 27, test_mse: 8.428304437733555, train_mse: 3.939304885784411\n",
      "iter: 28, test_mse: 8.428377654777254, train_mse: 3.9390583660540206\n",
      "iter: 29, test_mse: 8.428447440823096, train_mse: 3.9388224102826745\n",
      "iter: 30, test_mse: 8.42851427275458, train_mse: 3.938596778013853\n",
      "iter: 31, test_mse: 8.428578707026343, train_mse: 3.938381251918839\n",
      "iter: 32, test_mse: 8.428641317163219, train_mse: 3.9381756065089104\n",
      "iter: 33, test_mse: 8.428702646667569, train_mse: 3.9379795903242325\n",
      "iter: 34, test_mse: 8.42876317511013, train_mse: 3.937792917959407\n",
      "iter: 35, test_mse: 8.428823295413721, train_mse: 3.937615268949833\n",
      "iter: 36, test_mse: 8.428883300470213, train_mse: 3.937446291144231\n",
      "iter: 37, test_mse: 8.42894337734162, train_mse: 3.9372856067268254\n",
      "iter: 38, test_mse: 8.42900360742537, train_mse: 3.9371328195217514\n",
      "iter: 39, test_mse: 8.429063971123293, train_mse: 3.9369875226074944\n",
      "iter: 40, test_mse: 8.429124355738173, train_mse: 3.936849305590269\n",
      "iter: 41, test_mse: 8.429184565519309, train_mse: 3.936717761135974\n",
      "iter: 42, test_mse: 8.429244332975896, train_mse: 3.9365924905482976\n",
      "iter: 43, test_mse: 8.429303330763094, train_mse: 3.936473108314914\n",
      "iter: 44, test_mse: 8.429361183612805, train_mse: 3.9363592456347445\n",
      "iter: 45, test_mse: 8.429417479924734, train_mse: 3.93625055299643\n",
      "iter: 46, test_mse: 8.429471782751982, train_mse: 3.9361467019101415\n",
      "iter: 47, test_mse: 8.42952364001006, train_mse: 3.936047385909087\n",
      "iter: 48, test_mse: 8.429572593810725, train_mse: 3.9359523209389082\n",
      "iter: 49, test_mse: 8.429618188875754, train_mse: 3.935861245247671\n",
      "iter: 50, test_mse: 8.42965998002357, train_mse: 3.935773918878989\n",
      "iter: 51, test_mse: 8.429697538747133, train_mse: 3.9356901228588557\n",
      "iter: 52, test_mse: 8.429730458917158, train_mse: 3.935609658154053\n",
      "iter: 53, test_mse: 8.429758361653684, train_mse: 3.935532344467953\n",
      "iter: 54, test_mse: 8.429780899412659, train_mse: 3.935458018928354\n",
      "iter: 55, test_mse: 8.42979775933515, train_mse: 3.935386534712166\n",
      "iter: 56, test_mse: 8.429808665905323, train_mse: 3.9353177596433\n",
      "iter: 57, test_mse: 8.429813382961548, train_mse: 3.935251574792895\n",
      "iter: 58, test_mse: 8.429811715102453, train_mse: 3.935187873105066\n",
      "iter: 59, test_mse: 8.429803508527923, train_mse: 3.9351265580663983\n",
      "iter: 60, test_mse: 8.429788651353464, train_mse: 3.935067542433308\n",
      "iter: 61, test_mse: 8.429767073435444, train_mse: 3.9350107470280737\n",
      "iter: 62, test_mse: 8.42973874574458, train_mse: 3.9349560996115533\n",
      "iter: 63, test_mse: 8.429703679325206, train_mse: 3.93490353383828\n",
      "iter: 64, test_mse: 8.42966192387875, train_mse: 3.934852988297708\n",
      "iter: 65, test_mse: 8.429613566010605, train_mse: 3.934804405643694\n",
      "iter: 66, test_mse: 8.429558727180854, train_mse: 3.934757731812887\n",
      "iter: 67, test_mse: 8.429497561400126, train_mse: 3.9347129153313953\n",
      "iter: 68, test_mse: 8.42943025271268, train_mse: 3.9346699067080704\n",
      "iter: 69, test_mse: 8.429357012509092, train_mse: 3.934628657911706\n",
      "iter: 70, test_mse: 8.429278076710935, train_mse: 3.934589121928656\n",
      "iter: 71, test_mse: 8.429193702869023, train_mse: 3.934551252396637\n",
      "iter: 72, test_mse: 8.429104167215764, train_mse: 3.9345150033098513\n",
      "iter: 73, test_mse: 8.429009761710246, train_mse: 3.9344803287901384\n",
      "iter: 74, test_mse: 8.428910791112372, train_mse: 3.934447182918421\n",
      "iter: 75, test_mse: 8.42880757011961, train_mse: 3.9344155196205417\n",
      "iter: 76, test_mse: 8.42870042059656, train_mse: 3.934385292601367\n",
      "iter: 77, test_mse: 8.428589668924127, train_mse: 3.9343564553210957\n",
      "iter: 78, test_mse: 8.428475643491108, train_mse: 3.934328961007727\n",
      "iter: 79, test_mse: 8.428358672347203, train_mse: 3.9343027626998324\n",
      "iter: 80, test_mse: 8.428239081032448, train_mse: 3.9342778133140595\n",
      "iter: 81, test_mse: 8.428117190594097, train_mse: 3.934254065732054\n",
      "iter: 82, test_mse: 8.427993315798329, train_mse: 3.9342314729019585\n",
      "iter: 83, test_mse: 8.427867763540482, train_mse: 3.934209987949971\n",
      "iter: 84, test_mse: 8.427740831454358, train_mse: 3.934189564297983\n",
      "iter: 85, test_mse: 8.427612806718066, train_mse: 3.9341701557837263\n",
      "iter: 86, test_mse: 8.42748396505144, train_mse: 3.9341517167803604\n",
      "iter: 87, test_mse: 8.427354569897648, train_mse: 3.934134202312888\n",
      "iter: 88, test_mse: 8.427224871779972, train_mse: 3.93411756816924\n",
      "iter: 89, test_mse: 8.42709510782308, train_mse: 3.934101771004284\n",
      "iter: 90, test_mse: 8.42696550142716, train_mse: 3.9340867684354244\n",
      "iter: 91, test_mse: 8.426836262082405, train_mse: 3.934072519128836\n",
      "iter: 92, test_mse: 8.426707585310899, train_mse: 3.934058982875621\n",
      "iter: 93, test_mse: 8.426579652722829, train_mse: 3.934046120657625\n",
      "iter: 94, test_mse: 8.426452632173913, train_mse: 3.9340338947026963\n",
      "iter: 95, test_mse: 8.42632667801125, train_mse: 3.9340222685295667\n",
      "iter: 96, test_mse: 8.426201931395275, train_mse: 3.934011206982608\n",
      "iter: 97, test_mse: 8.426078520685921, train_mse: 3.9340006762568605\n",
      "iter: 98, test_mse: 8.425956561882042, train_mse: 3.933990643913905\n",
      "iter: 99, test_mse: 8.425836159103595, train_mse: 3.9339810788891674\n",
      "iter: 100, test_mse: 8.425717405107184, train_mse: 3.9339719514913374\n"
     ]
    },
    {
     "data": {
      "image/png": "[encoded data removed]",
      "text/plain": [
       "<Figure size 576x432 with 1 Axes>"
      ]
     },
     "metadata": {},
     "output_type": "display_data"
    }
   ],
   "source": [
    "als = ExplicitMF(n_iters=100, n_factors=40, reg=0.01)\n",
    "als.fit(train, test)\n",
    "plot_learning_curve(als)"
   ]
  },
  {
   "cell_type": "markdown",
   "metadata": {},
   "source": [
    "Notice that ALS converges after **a few** sweeps, which is one of the main reason for its popularity.  \n",
    "**Fast**, thus **scalable** to bigger dataset."
   ]
  },
  {
   "cell_type": "code",
   "execution_count": null,
   "metadata": {
    "collapsed": true
   },
   "outputs": [],
   "source": []
  },
  {
   "cell_type": "code",
   "execution_count": null,
   "metadata": {
    "collapsed": true
   },
   "outputs": [],
   "source": []
  },
  {
   "cell_type": "code",
   "execution_count": null,
   "metadata": {
    "collapsed": true
   },
   "outputs": [],
   "source": []
  },
  {
   "cell_type": "code",
   "execution_count": null,
   "metadata": {
    "collapsed": true
   },
   "outputs": [],
   "source": []
  },
  {
   "cell_type": "code",
   "execution_count": null,
   "metadata": {
    "collapsed": true
   },
   "outputs": [],
   "source": []
  },
  {
   "cell_type": "code",
   "execution_count": null,
   "metadata": {
    "collapsed": true
   },
   "outputs": [],
   "source": []
  },
  {
   "cell_type": "code",
   "execution_count": null,
   "metadata": {
    "collapsed": true
   },
   "outputs": [],
   "source": []
  },
  {
   "cell_type": "code",
   "execution_count": null,
   "metadata": {
    "collapsed": true
   },
   "outputs": [],
   "source": []
  },
  {
   "cell_type": "code",
   "execution_count": null,
   "metadata": {
    "collapsed": true
   },
   "outputs": [],
   "source": []
  },
  {
   "cell_type": "code",
   "execution_count": null,
   "metadata": {
    "collapsed": true
   },
   "outputs": [],
   "source": []
  },
  {
   "cell_type": "code",
   "execution_count": null,
   "metadata": {
    "collapsed": true
   },
   "outputs": [],
   "source": []
  },
  {
   "cell_type": "code",
   "execution_count": null,
   "metadata": {
    "collapsed": true
   },
   "outputs": [],
   "source": []
  },
  {
   "cell_type": "code",
   "execution_count": null,
   "metadata": {
    "collapsed": true
   },
   "outputs": [],
   "source": []
  }
 ],
 "metadata": {
  "kernelspec": {
   "display_name": "Python 3",
   "language": "python",
   "name": "python3"
  },
  "language_info": {
   "codemirror_mode": {
    "name": "ipython",
    "version": 3
   },
   "file_extension": ".py",
   "mimetype": "text/x-python",
   "name": "python",
   "nbconvert_exporter": "python",
   "pygments_lexer": "ipython3",
   "version": "3.6.3"
  },
  "toc": {
   "base_numbering": 1,
   "nav_menu": {},
   "number_sections": true,
   "sideBar": true,
   "skip_h1_title": false,
   "title_cell": "Table of Contents",
   "title_sidebar": "Contents",
   "toc_cell": false,
   "toc_position": {
    "height": "calc(100% - 180px)",
    "left": "10px",
    "top": "150px",
    "width": "191px"
   },
   "toc_section_display": true,
   "toc_window_display": false
  }
 },
 "nbformat": 4,
 "nbformat_minor": 2
}
