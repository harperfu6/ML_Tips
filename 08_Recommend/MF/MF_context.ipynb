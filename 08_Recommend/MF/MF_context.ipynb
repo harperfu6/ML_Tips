{
 "cells": [
  {
   "cell_type": "code",
   "execution_count": 1,
   "metadata": {
    "ExecuteTime": {
     "end_time": "2019-08-29T00:11:17.007256Z",
     "start_time": "2019-08-29T00:11:09.730812Z"
    },
    "collapsed": true
   },
   "outputs": [],
   "source": [
    "import sys\n",
    "import os\n",
    "\n",
    "import numpy as np\n",
    "import pandas as pd\n",
    "from subprocess import call\n",
    "from sklearn.metrics import mean_squared_error\n",
    "\n",
    "from numpy.linalg import solve\n",
    "\n",
    "import matplotlib.pyplot as plt\n",
    "%matplotlib inline\n",
    "import seaborn as sns\n",
    "sns.set()"
   ]
  },
  {
   "cell_type": "code",
   "execution_count": null,
   "metadata": {
    "collapsed": true
   },
   "outputs": [],
   "source": []
  },
  {
   "cell_type": "markdown",
   "metadata": {},
   "source": [
    "# Train Data"
   ]
  },
  {
   "cell_type": "code",
   "execution_count": 2,
   "metadata": {
    "ExecuteTime": {
     "end_time": "2019-08-29T02:07:48.473871Z",
     "start_time": "2019-08-29T02:07:48.466447Z"
    },
    "collapsed": true
   },
   "outputs": [],
   "source": [
    "PROJECT_PATH = '/home/5124393/ML_Tips/08_Recommend/'\n",
    "DATA_FILE_PATH = os.path.join(PROJECT_PATH, 'data')"
   ]
  },
  {
   "cell_type": "code",
   "execution_count": 153,
   "metadata": {
    "ExecuteTime": {
     "end_time": "2019-08-29T06:07:43.190650Z",
     "start_time": "2019-08-29T06:07:42.853207Z"
    },
    "collapsed": true
   },
   "outputs": [],
   "source": [
    "df_time_context = pd.DataFrame()\n",
    "for category_id in range(4):\n",
    "    df = pd.read_csv(os.path.join(DATA_FILE_PATH, 'train',\n",
    "                                    'category_id_{}_recommend_table_week_201904.csv'.format(str(category_id))))\n",
    "    df = df[['cuid', 'genre_id', 'time', 'poi_type', 'score']]\n",
    "    df_time_context = pd.concat([df_time_context, df])"
   ]
  },
  {
   "cell_type": "code",
   "execution_count": 14,
   "metadata": {
    "ExecuteTime": {
     "end_time": "2019-08-29T02:15:31.356963Z",
     "start_time": "2019-08-29T02:15:31.339261Z"
    }
   },
   "outputs": [
    {
     "data": {
      "text/html": [
       "<div>\n",
       "<style>\n",
       "    .dataframe thead tr:only-child th {\n",
       "        text-align: right;\n",
       "    }\n",
       "\n",
       "    .dataframe thead th {\n",
       "        text-align: left;\n",
       "    }\n",
       "\n",
       "    .dataframe tbody tr th {\n",
       "        vertical-align: top;\n",
       "    }\n",
       "</style>\n",
       "<table border=\"1\" class=\"dataframe\">\n",
       "  <thead>\n",
       "    <tr style=\"text-align: right;\">\n",
       "      <th></th>\n",
       "      <th>cuid</th>\n",
       "      <th>genre_id</th>\n",
       "      <th>time</th>\n",
       "      <th>poi_type</th>\n",
       "      <th>score</th>\n",
       "    </tr>\n",
       "  </thead>\n",
       "  <tbody>\n",
       "    <tr>\n",
       "      <th>0</th>\n",
       "      <td>04GG05555QJN55QTP4O05TPL</td>\n",
       "      <td>0</td>\n",
       "      <td>0</td>\n",
       "      <td>13</td>\n",
       "      <td>77</td>\n",
       "    </tr>\n",
       "    <tr>\n",
       "      <th>1</th>\n",
       "      <td>04GG05555QJN55QTP4O05TPL</td>\n",
       "      <td>0</td>\n",
       "      <td>1</td>\n",
       "      <td>13</td>\n",
       "      <td>32</td>\n",
       "    </tr>\n",
       "    <tr>\n",
       "      <th>2</th>\n",
       "      <td>04GG05555QJN55QTP4O05TPL</td>\n",
       "      <td>0</td>\n",
       "      <td>2</td>\n",
       "      <td>13</td>\n",
       "      <td>20</td>\n",
       "    </tr>\n",
       "    <tr>\n",
       "      <th>3</th>\n",
       "      <td>04GG05555QJN55QTP4O05TPL</td>\n",
       "      <td>0</td>\n",
       "      <td>3</td>\n",
       "      <td>13</td>\n",
       "      <td>17</td>\n",
       "    </tr>\n",
       "    <tr>\n",
       "      <th>4</th>\n",
       "      <td>04GG05555QJN55QTP4O05TPL</td>\n",
       "      <td>0</td>\n",
       "      <td>4</td>\n",
       "      <td>13</td>\n",
       "      <td>18</td>\n",
       "    </tr>\n",
       "  </tbody>\n",
       "</table>\n",
       "</div>"
      ],
      "text/plain": [
       "                       cuid  genre_id  time  poi_type  score\n",
       "0  04GG05555QJN55QTP4O05TPL         0     0        13     77\n",
       "1  04GG05555QJN55QTP4O05TPL         0     1        13     32\n",
       "2  04GG05555QJN55QTP4O05TPL         0     2        13     20\n",
       "3  04GG05555QJN55QTP4O05TPL         0     3        13     17\n",
       "4  04GG05555QJN55QTP4O05TPL         0     4        13     18"
      ]
     },
     "execution_count": 14,
     "metadata": {},
     "output_type": "execute_result"
    }
   ],
   "source": [
    "df_time_context.head()"
   ]
  },
  {
   "cell_type": "code",
   "execution_count": 15,
   "metadata": {
    "ExecuteTime": {
     "end_time": "2019-08-29T02:15:41.990392Z",
     "start_time": "2019-08-29T02:15:41.965861Z"
    }
   },
   "outputs": [
    {
     "name": "stdout",
     "output_type": "stream",
     "text": [
      "7082\n",
      "4\n",
      "24\n",
      "24\n"
     ]
    }
   ],
   "source": [
    "print(len(df_time_context['cuid'].unique()))\n",
    "print(len(df_time_context['genre_id'].unique()))\n",
    "print(len(df_time_context['time'].unique()))\n",
    "print(len(df_time_context['poi_type'].unique()))"
   ]
  },
  {
   "cell_type": "code",
   "execution_count": 26,
   "metadata": {
    "ExecuteTime": {
     "end_time": "2019-08-29T02:19:24.730919Z",
     "start_time": "2019-08-29T02:19:24.720167Z"
    }
   },
   "outputs": [
    {
     "data": {
      "text/plain": [
       "0    39731\n",
       "1    17444\n",
       "2    10739\n",
       "3    10504\n",
       "Name: genre_id, dtype: int64"
      ]
     },
     "execution_count": 26,
     "metadata": {},
     "output_type": "execute_result"
    }
   ],
   "source": [
    "df_time_context['genre_id'].value_counts()"
   ]
  },
  {
   "cell_type": "code",
   "execution_count": 25,
   "metadata": {
    "ExecuteTime": {
     "end_time": "2019-08-29T02:18:54.794616Z",
     "start_time": "2019-08-29T02:18:54.780253Z"
    },
    "scrolled": true
   },
   "outputs": [
    {
     "data": {
      "text/plain": [
       "18    4969\n",
       "19    4886\n",
       "17    4712\n",
       "20    4582\n",
       "21    4569\n",
       "12    4153\n",
       "22    4142\n",
       "16    4080\n",
       "13    3907\n",
       "15    3906\n",
       "14    3615\n",
       "11    3590\n",
       "23    3457\n",
       "10    3329\n",
       "8     3312\n",
       "9     3251\n",
       "7     2911\n",
       "0     2681\n",
       "6     2051\n",
       "1     1895\n",
       "2     1257\n",
       "5     1249\n",
       "3     1029\n",
       "4      885\n",
       "Name: time, dtype: int64"
      ]
     },
     "execution_count": 25,
     "metadata": {},
     "output_type": "execute_result"
    }
   ],
   "source": [
    "df_time_context['time'].value_counts()"
   ]
  },
  {
   "cell_type": "code",
   "execution_count": 24,
   "metadata": {
    "ExecuteTime": {
     "end_time": "2019-08-29T02:18:03.651642Z",
     "start_time": "2019-08-29T02:18:03.640445Z"
    },
    "scrolled": true
   },
   "outputs": [
    {
     "data": {
      "text/plain": [
       "13     34968\n",
       "110     7414\n",
       "134     7324\n",
       "61      5844\n",
       "14      5333\n",
       "37      5256\n",
       "38      4080\n",
       "109     3852\n",
       "62      1250\n",
       "85      1159\n",
       "86      1008\n",
       "133      392\n",
       "104      128\n",
       "32       103\n",
       "98        95\n",
       "26        48\n",
       "157       43\n",
       "80        43\n",
       "158       33\n",
       "74        21\n",
       "2         15\n",
       "56         7\n",
       "8          1\n",
       "50         1\n",
       "Name: poi_type, dtype: int64"
      ]
     },
     "execution_count": 24,
     "metadata": {},
     "output_type": "execute_result"
    }
   ],
   "source": [
    "df_time_context['poi_type'].value_counts()"
   ]
  },
  {
   "cell_type": "code",
   "execution_count": 37,
   "metadata": {
    "ExecuteTime": {
     "end_time": "2019-08-29T02:27:18.676821Z",
     "start_time": "2019-08-29T02:27:18.646195Z"
    },
    "scrolled": true
   },
   "outputs": [
    {
     "name": "stdout",
     "output_type": "stream",
     "text": [
      "genre_id: 0, cuid num: 4781\n",
      "genre_id: 1, cuid num: 2512\n",
      "genre_id: 2, cuid num: 1729\n",
      "genre_id: 3, cuid num: 1565\n"
     ]
    }
   ],
   "source": [
    "cuid_num_for_genre =  df_time_context.groupby('genre_id')['cuid'].unique()\n",
    "for genre in range(len(cuid_num_for_genre)):\n",
    "    print('genre_id: {}, cuid num: {}'.format(genre, len(cuid_num_for_genre[genre])))"
   ]
  },
  {
   "cell_type": "markdown",
   "metadata": {},
   "source": [
    "# score matrix"
   ]
  },
  {
   "cell_type": "markdown",
   "metadata": {},
   "source": [
    "## index"
   ]
  },
  {
   "cell_type": "code",
   "execution_count": 56,
   "metadata": {
    "ExecuteTime": {
     "end_time": "2019-08-29T02:49:37.422630Z",
     "start_time": "2019-08-29T02:49:37.245343Z"
    },
    "collapsed": true
   },
   "outputs": [],
   "source": [
    "import scipy.sparse as sparse\n",
    "import itertools\n",
    "\n",
    "def to_event_index(genre, time, context):\n",
    "    return df_genre_time_context[(df_genre_time_context['time'] == time)\n",
    "                               & (df_genre_time_context['genre_index'] == genre)\n",
    "                               & (df_genre_time_context['context_index'] == context)].index[0]\n",
    "\n",
    "def get_index_list(df):\n",
    "    \n",
    "    #indexing\n",
    "    unique_cuids = set(df.cuid.unique())\n",
    "    u2i = {u:i for i, u in enumerate(unique_cuids)}\n",
    "    i2u = {i:u for i, u in enumerate(unique_cuids)}\n",
    "    \n",
    "    unique_genres = set(df.genre_id.unique())\n",
    "    g2i = {g:i for i, g in enumerate(unique_genres)}\n",
    "    i2g = {i:g for i, g in enumerate(unique_genres)}\n",
    "    \n",
    "    unique_contexts = set(df.poi_type.unique())\n",
    "    c2i = {c:i for i, c in enumerate(unique_contexts)}\n",
    "    i2c = {i:c for i, c in enumerate(unique_contexts)}\n",
    "    \n",
    "    df['cuid_index'] = df['cuid'].map(lambda x:u2i[x])\n",
    "    df['genre_index'] = df['genre_id'].map(lambda x:g2i[x])\n",
    "    df['context_index'] = df['poi_type'].map(lambda x:c2i[x])\n",
    "    \n",
    "    num_cuid = len(unique_cuids)\n",
    "    num_genre = len(unique_genres)\n",
    "    num_context = len(unique_contexts)\n",
    "    num_time = 24\n",
    "    \n",
    "#     print('To sparse matrix')\n",
    "    # To sparse matrix\n",
    "    lst = list(itertools.product(range(num_genre), range(num_time), range(num_context)))\n",
    "    global df_genre_time_context\n",
    "    df_genre_time_context = pd.DataFrame(lst, columns=['genre_index', 'time', 'context_index'])\n",
    "    df_genre_time_context.reset_index(inplace=True)\n",
    "    df_genre_time_context = df_genre_time_context.rename(columns={'index': 'event_index'})\n",
    "    \n",
    "    #df['event_index'] = df.apply(lambda x: to_event_index(x['genre_index'], x['time'], x['context_index']), axis=1)\n",
    "#     cols = ['cuid', 'genre_id', 'time', 'poi_type', 'context', 'context_genre_num', 'context_num', 'score', 'cuid_index', 'genre_index', 'context_index']\n",
    "    cols = ['cuid', 'genre_id', 'time', 'poi_type', 'score', 'cuid_index', 'genre_index', 'context_index']\n",
    "    df = pd.merge(df[cols], df_genre_time_context, on=['genre_index', 'time', 'context_index'])\n",
    "    \n",
    "    uids = np.array(df['cuid_index'])\n",
    "    eids = np.array(df['event_index'])\n",
    "    probs = np.array(df['score'])\n",
    "    \n",
    "#     count_sparse = sparse.csr_matrix((probs, (uids, eids)), shape=(uids.max()+1, eids.max()+1))\n",
    "    \n",
    "    return uids, eids, probs\n",
    "#     return count_sparse, uids, eids, probs"
   ]
  },
  {
   "cell_type": "code",
   "execution_count": 156,
   "metadata": {
    "ExecuteTime": {
     "end_time": "2019-08-29T06:08:25.787034Z",
     "start_time": "2019-08-29T06:08:25.590065Z"
    },
    "collapsed": true,
    "scrolled": false
   },
   "outputs": [],
   "source": [
    "uids, eids, probs = get_index_list(df_time_context)"
   ]
  },
  {
   "cell_type": "code",
   "execution_count": 83,
   "metadata": {
    "ExecuteTime": {
     "end_time": "2019-08-29T04:19:29.438002Z",
     "start_time": "2019-08-29T04:19:29.431915Z"
    }
   },
   "outputs": [
    {
     "data": {
      "text/plain": [
       "array([4956, 5412,  205, ..., 6760, 5084, 6461])"
      ]
     },
     "execution_count": 83,
     "metadata": {},
     "output_type": "execute_result"
    }
   ],
   "source": [
    "uids"
   ]
  },
  {
   "cell_type": "code",
   "execution_count": 84,
   "metadata": {
    "ExecuteTime": {
     "end_time": "2019-08-29T04:19:36.229052Z",
     "start_time": "2019-08-29T04:19:36.222550Z"
    }
   },
   "outputs": [
    {
     "data": {
      "text/plain": [
       "array([   4,    4,    4, ..., 2233, 1877, 1819])"
      ]
     },
     "execution_count": 84,
     "metadata": {},
     "output_type": "execute_result"
    }
   ],
   "source": [
    "eids"
   ]
  },
  {
   "cell_type": "code",
   "execution_count": 85,
   "metadata": {
    "ExecuteTime": {
     "end_time": "2019-08-29T04:19:46.924995Z",
     "start_time": "2019-08-29T04:19:46.917430Z"
    }
   },
   "outputs": [
    {
     "data": {
      "text/plain": [
       "array([77,  8, 16, ...,  7,  4,  9])"
      ]
     },
     "execution_count": 85,
     "metadata": {},
     "output_type": "execute_result"
    }
   ],
   "source": [
    "probs"
   ]
  },
  {
   "cell_type": "code",
   "execution_count": null,
   "metadata": {
    "collapsed": true
   },
   "outputs": [],
   "source": []
  },
  {
   "cell_type": "markdown",
   "metadata": {},
   "source": [
    "## array"
   ]
  },
  {
   "cell_type": "code",
   "execution_count": 157,
   "metadata": {
    "ExecuteTime": {
     "end_time": "2019-08-29T06:08:28.604545Z",
     "start_time": "2019-08-29T06:08:28.432597Z"
    },
    "collapsed": true
   },
   "outputs": [],
   "source": [
    "probs_array = np.zeros((uids.max()+1, eids.max()+1))\n",
    "for prob in range(len(probs)):\n",
    "    probs_array[uids[prob], eids[prob]] = probs[prob]"
   ]
  },
  {
   "cell_type": "code",
   "execution_count": 158,
   "metadata": {
    "ExecuteTime": {
     "end_time": "2019-08-29T06:08:29.875446Z",
     "start_time": "2019-08-29T06:08:29.868005Z"
    },
    "scrolled": true
   },
   "outputs": [
    {
     "data": {
      "text/plain": [
       "(7082, 2304)"
      ]
     },
     "execution_count": 158,
     "metadata": {},
     "output_type": "execute_result"
    }
   ],
   "source": [
    "probs_array.shape"
   ]
  },
  {
   "cell_type": "code",
   "execution_count": 91,
   "metadata": {
    "ExecuteTime": {
     "end_time": "2019-08-29T04:23:10.479666Z",
     "start_time": "2019-08-29T04:23:10.237761Z"
    },
    "collapsed": true
   },
   "outputs": [],
   "source": [
    "# sparsity\n",
    "matrix_size = np.prod(probs_array.shape)\n",
    "interaction = np.flatnonzero(probs_array).shape[0] # retrun \"indices\" tha are non-zero\n",
    "sparsity = (interaction/matrix_size)"
   ]
  },
  {
   "cell_type": "code",
   "execution_count": 92,
   "metadata": {
    "ExecuteTime": {
     "end_time": "2019-08-29T04:23:17.484236Z",
     "start_time": "2019-08-29T04:23:17.478170Z"
    }
   },
   "outputs": [
    {
     "data": {
      "text/plain": [
       "0.0048059291552919768"
      ]
     },
     "execution_count": 92,
     "metadata": {},
     "output_type": "execute_result"
    }
   ],
   "source": [
    "sparsity"
   ]
  },
  {
   "cell_type": "code",
   "execution_count": 93,
   "metadata": {
    "ExecuteTime": {
     "end_time": "2019-08-29T04:23:26.630134Z",
     "start_time": "2019-08-29T04:23:26.621765Z"
    }
   },
   "outputs": [
    {
     "data": {
      "text/plain": [
       "array([[  0.,   0.,   0., ...,   0.,   0.,   0.],\n",
       "       [  0.,   0.,   0., ...,   0.,   0.,   0.],\n",
       "       [  0.,   0.,   0., ...,   0.,   0.,   0.],\n",
       "       ..., \n",
       "       [  0.,   0.,   0., ...,   0.,   0.,   0.],\n",
       "       [  0.,   0.,  36., ...,   0.,   0.,   0.],\n",
       "       [  0.,   0.,   0., ...,   0.,   0.,   0.]])"
      ]
     },
     "execution_count": 93,
     "metadata": {},
     "output_type": "execute_result"
    }
   ],
   "source": [
    "probs_array"
   ]
  },
  {
   "cell_type": "code",
   "execution_count": 76,
   "metadata": {
    "ExecuteTime": {
     "end_time": "2019-08-29T04:16:00.764310Z",
     "start_time": "2019-08-29T04:16:00.758278Z"
    }
   },
   "outputs": [
    {
     "data": {
      "text/plain": [
       "7082"
      ]
     },
     "execution_count": 76,
     "metadata": {},
     "output_type": "execute_result"
    }
   ],
   "source": [
    "interaction"
   ]
  },
  {
   "cell_type": "code",
   "execution_count": 75,
   "metadata": {
    "ExecuteTime": {
     "end_time": "2019-08-29T04:15:49.017842Z",
     "start_time": "2019-08-29T04:15:49.002076Z"
    }
   },
   "outputs": [
    {
     "data": {
      "text/plain": [
       "16316928"
      ]
     },
     "execution_count": 75,
     "metadata": {},
     "output_type": "execute_result"
    }
   ],
   "source": [
    "matrix_size"
   ]
  },
  {
   "cell_type": "code",
   "execution_count": null,
   "metadata": {
    "collapsed": true
   },
   "outputs": [],
   "source": []
  },
  {
   "cell_type": "markdown",
   "metadata": {},
   "source": [
    "## sparse matrix"
   ]
  },
  {
   "cell_type": "code",
   "execution_count": 62,
   "metadata": {
    "ExecuteTime": {
     "end_time": "2019-08-29T02:56:12.842722Z",
     "start_time": "2019-08-29T02:56:12.800918Z"
    },
    "collapsed": true
   },
   "outputs": [],
   "source": [
    "probs_sm = sparse.csr_matrix((probs, (uids, eids)), shape=(uids.max()+1, eids.max()+1))"
   ]
  },
  {
   "cell_type": "code",
   "execution_count": 63,
   "metadata": {
    "ExecuteTime": {
     "end_time": "2019-08-29T02:56:17.406328Z",
     "start_time": "2019-08-29T02:56:17.400007Z"
    }
   },
   "outputs": [
    {
     "data": {
      "text/plain": [
       "<7082x2304 sparse matrix of type '<class 'numpy.int64'>'\n",
       "\twith 78418 stored elements in Compressed Sparse Row format>"
      ]
     },
     "execution_count": 63,
     "metadata": {},
     "output_type": "execute_result"
    }
   ],
   "source": [
    "probs_sm"
   ]
  },
  {
   "cell_type": "code",
   "execution_count": 45,
   "metadata": {
    "ExecuteTime": {
     "end_time": "2019-08-29T02:34:16.055138Z",
     "start_time": "2019-08-29T02:34:16.049003Z"
    }
   },
   "outputs": [
    {
     "data": {
      "text/plain": [
       "2304"
      ]
     },
     "execution_count": 45,
     "metadata": {},
     "output_type": "execute_result"
    }
   ],
   "source": [
    "24*24*4"
   ]
  },
  {
   "cell_type": "code",
   "execution_count": 46,
   "metadata": {
    "ExecuteTime": {
     "end_time": "2019-08-29T02:34:53.679061Z",
     "start_time": "2019-08-29T02:34:53.673050Z"
    }
   },
   "outputs": [
    {
     "data": {
      "text/plain": [
       "0.004805929155291977"
      ]
     },
     "execution_count": 46,
     "metadata": {},
     "output_type": "execute_result"
    }
   ],
   "source": [
    "78418/(7082*2304)"
   ]
  },
  {
   "cell_type": "code",
   "execution_count": 68,
   "metadata": {
    "ExecuteTime": {
     "end_time": "2019-08-29T04:10:13.806071Z",
     "start_time": "2019-08-29T04:10:13.799757Z"
    }
   },
   "outputs": [
    {
     "data": {
      "text/plain": [
       "16316928"
      ]
     },
     "execution_count": 68,
     "metadata": {},
     "output_type": "execute_result"
    }
   ],
   "source": [
    "(7082*2304)"
   ]
  },
  {
   "cell_type": "code",
   "execution_count": 94,
   "metadata": {
    "ExecuteTime": {
     "end_time": "2019-08-29T04:26:25.624795Z",
     "start_time": "2019-08-29T04:26:25.616912Z"
    }
   },
   "outputs": [
    {
     "data": {
      "text/plain": [
       "array([ 604,  748,  791, ..., 1454, 1876, 2030], dtype=int32)"
      ]
     },
     "execution_count": 94,
     "metadata": {},
     "output_type": "execute_result"
    }
   ],
   "source": [
    "probs_sm.indices"
   ]
  },
  {
   "cell_type": "code",
   "execution_count": 95,
   "metadata": {
    "ExecuteTime": {
     "end_time": "2019-08-29T04:27:00.621046Z",
     "start_time": "2019-08-29T04:27:00.584664Z"
    }
   },
   "outputs": [
    {
     "data": {
      "text/plain": [
       "array([ 8,  7,  3, ..., 10,  9, 10], dtype=int64)"
      ]
     },
     "execution_count": 95,
     "metadata": {},
     "output_type": "execute_result"
    }
   ],
   "source": [
    "probs_sm.data"
   ]
  },
  {
   "cell_type": "code",
   "execution_count": 98,
   "metadata": {
    "ExecuteTime": {
     "end_time": "2019-08-29T04:29:20.405638Z",
     "start_time": "2019-08-29T04:29:20.398561Z"
    }
   },
   "outputs": [
    {
     "data": {
      "text/plain": [
       "array([    0,    44,    54, ..., 78388, 78407, 78418], dtype=int32)"
      ]
     },
     "execution_count": 98,
     "metadata": {},
     "output_type": "execute_result"
    }
   ],
   "source": [
    "probs_sm.indptr"
   ]
  },
  {
   "cell_type": "code",
   "execution_count": 99,
   "metadata": {
    "ExecuteTime": {
     "end_time": "2019-08-29T04:30:21.747382Z",
     "start_time": "2019-08-29T04:30:21.738694Z"
    }
   },
   "outputs": [
    {
     "data": {
      "text/plain": [
       "8.0"
      ]
     },
     "execution_count": 99,
     "metadata": {},
     "output_type": "execute_result"
    }
   ],
   "source": [
    "probs_array[0][604]"
   ]
  },
  {
   "cell_type": "code",
   "execution_count": 101,
   "metadata": {
    "ExecuteTime": {
     "end_time": "2019-08-29T04:33:36.966305Z",
     "start_time": "2019-08-29T04:33:36.958931Z"
    }
   },
   "outputs": [
    {
     "data": {
      "text/plain": [
       "7.0"
      ]
     },
     "execution_count": 101,
     "metadata": {},
     "output_type": "execute_result"
    }
   ],
   "source": [
    "probs_array[0][748]"
   ]
  },
  {
   "cell_type": "code",
   "execution_count": null,
   "metadata": {
    "collapsed": true
   },
   "outputs": [],
   "source": []
  },
  {
   "cell_type": "markdown",
   "metadata": {},
   "source": [
    "# MSE"
   ]
  },
  {
   "cell_type": "code",
   "execution_count": 102,
   "metadata": {
    "ExecuteTime": {
     "end_time": "2019-08-29T04:34:53.737831Z",
     "start_time": "2019-08-29T04:34:53.728481Z"
    },
    "collapsed": true
   },
   "outputs": [],
   "source": [
    "def get_mse(pred, actual):\n",
    "    # Ignore nonzero terms.\n",
    "    pred = pred[actual.nonzero()].flatten()\n",
    "    actual = actual[actual.nonzero()].flatten()\n",
    "    return mean_squared_error(pred, actual)"
   ]
  },
  {
   "cell_type": "markdown",
   "metadata": {},
   "source": [
    "## plot MSE"
   ]
  },
  {
   "cell_type": "code",
   "execution_count": 103,
   "metadata": {
    "ExecuteTime": {
     "end_time": "2019-08-29T04:35:13.943247Z",
     "start_time": "2019-08-29T04:35:13.925032Z"
    },
    "collapsed": true
   },
   "outputs": [],
   "source": [
    "def plot_learning_curve(iter_array, model):\n",
    "    plt.plot(iter_array, model.train_mse, \\\n",
    "             label='Training', linewidth=5)\n",
    "    plt.plot(iter_array, model.test_mse, \\\n",
    "             label='Test', linewidth=5)\n",
    "\n",
    "\n",
    "    plt.xticks(fontsize=16);\n",
    "    plt.yticks(fontsize=16);\n",
    "    plt.xlabel('iterations', fontsize=30);\n",
    "    plt.ylabel('MSE', fontsize=30);\n",
    "    plt.legend(loc='best', fontsize=20);"
   ]
  },
  {
   "cell_type": "markdown",
   "metadata": {},
   "source": [
    "# MF with ALS, SGD"
   ]
  },
  {
   "cell_type": "markdown",
   "metadata": {},
   "source": [
    "for general array (**not** for sparse matrix)"
   ]
  },
  {
   "cell_type": "code",
   "execution_count": 106,
   "metadata": {
    "ExecuteTime": {
     "end_time": "2019-08-29T04:42:25.684499Z",
     "start_time": "2019-08-29T04:42:24.718408Z"
    },
    "collapsed": true
   },
   "outputs": [],
   "source": [
    "class MF():\n",
    "    def __init__(self, \n",
    "                 ratings,\n",
    "                 n_factors=40,\n",
    "                 learning='sgd',\n",
    "                 item_fact_reg=0.0, \n",
    "                 user_fact_reg=0.0,\n",
    "                 item_bias_reg=0.0,\n",
    "                 user_bias_reg=0.0,\n",
    "                 verbose=False):\n",
    "        \"\"\"\n",
    "        Train a matrix factorization model to predict empty \n",
    "        entries in a matrix. The terminology assumes a \n",
    "        ratings matrix which is ~ user x item\n",
    "        \n",
    "        Params\n",
    "        ======\n",
    "        ratings : (ndarray)\n",
    "            User x Item matrix with corresponding ratings\n",
    "        \n",
    "        n_factors : (int)\n",
    "            Number of latent factors to use in matrix \n",
    "            factorization model\n",
    "        learning : (str)\n",
    "            Method of optimization. Options include \n",
    "            'sgd' or 'als'.\n",
    "        \n",
    "        item_fact_reg : (float)\n",
    "            Regularization term for item latent factors\n",
    "        \n",
    "        user_fact_reg : (float)\n",
    "            Regularization term for user latent factors\n",
    "            \n",
    "        item_bias_reg : (float)\n",
    "            Regularization term for item biases\n",
    "        \n",
    "        user_bias_reg : (float)\n",
    "            Regularization term for user biases\n",
    "        \n",
    "        verbose : (bool)\n",
    "            Whether or not to printout training progress\n",
    "        \"\"\"\n",
    "        \n",
    "        self.ratings = ratings\n",
    "        self.n_users, self.n_items = ratings.shape\n",
    "        self.n_factors = n_factors\n",
    "        self.item_fact_reg = item_fact_reg\n",
    "        self.user_fact_reg = user_fact_reg\n",
    "        self.item_bias_reg = item_bias_reg\n",
    "        self.user_bias_reg = user_bias_reg\n",
    "        self.learning = learning\n",
    "        if self.learning == 'sgd':\n",
    "            self.sample_row, self.sample_col = self.ratings.nonzero()\n",
    "            self.n_samples = len(self.sample_row)\n",
    "        self._v = verbose\n",
    "\n",
    "    def als_step(self,\n",
    "                 latent_vectors,\n",
    "                 fixed_vecs,\n",
    "                 ratings,\n",
    "                 _lambda,\n",
    "                 type='user'):\n",
    "        \"\"\"\n",
    "        One of the two ALS steps. Solve for the latent vectors\n",
    "        specified by type.\n",
    "        \"\"\"\n",
    "        if type == 'user':\n",
    "            # Precompute\n",
    "            YTY = fixed_vecs.T.dot(fixed_vecs)\n",
    "            lambdaI = np.eye(YTY.shape[0]) * _lambda\n",
    "\n",
    "            for u in range(latent_vectors.shape[0]):\n",
    "                latent_vectors[u, :] = solve((YTY + lambdaI), ratings[u, :].dot(fixed_vecs))\n",
    "        elif type == 'item':\n",
    "            # Precompute\n",
    "            XTX = fixed_vecs.T.dot(fixed_vecs)\n",
    "            lambdaI = np.eye(XTX.shape[0]) * _lambda\n",
    "            \n",
    "            for i in range(latent_vectors.shape[0]):\n",
    "                latent_vectors[i, :] = solve((XTX + lambdaI), ratings[:, i].T.dot(fixed_vecs))\n",
    "        return latent_vectors\n",
    "\n",
    "    def train(self, n_iter=10, learning_rate=0.1):\n",
    "        \"\"\" Train model for n_iter iterations from scratch.\"\"\"\n",
    "        # initialize latent vectors        \n",
    "        self.user_vecs = np.random.normal(scale=1./self.n_factors, size=(self.n_users, self.n_factors))\n",
    "        self.item_vecs = np.random.normal(scale=1./self.n_factors, size=(self.n_items, self.n_factors))\n",
    "        \n",
    "        if self.learning == 'als':\n",
    "            self.partial_train(n_iter)\n",
    "        elif self.learning == 'sgd':\n",
    "            self.learning_rate = learning_rate\n",
    "            self.user_bias = np.zeros(self.n_users)\n",
    "            self.item_bias = np.zeros(self.n_items)\n",
    "            self.global_bias = np.mean(self.ratings[np.where(self.ratings != 0)])\n",
    "            self.partial_train(n_iter)\n",
    "    \n",
    "    \n",
    "    def partial_train(self, n_iter):\n",
    "        \"\"\" \n",
    "        Train model for n_iter iterations. Can be \n",
    "        called multiple times for further training.\n",
    "        \"\"\"\n",
    "        ctr = 1\n",
    "        while ctr <= n_iter:\n",
    "            if ctr % 10 == 0 and self._v:\n",
    "                print('\\tcurrent iteration: {}'.format(ctr))\n",
    "            if self.learning == 'als':\n",
    "                self.user_vecs = self.als_step(self.user_vecs, \n",
    "                                               self.item_vecs, \n",
    "                                               self.ratings, \n",
    "                                               self.user_fact_reg, \n",
    "                                               type='user')\n",
    "                self.item_vecs = self.als_step(self.item_vecs, \n",
    "                                               self.user_vecs, \n",
    "                                               self.ratings, \n",
    "                                               self.item_fact_reg, \n",
    "                                               type='item')\n",
    "            elif self.learning == 'sgd':\n",
    "                self.training_indices = np.arange(self.n_samples)\n",
    "                np.random.shuffle(self.training_indices)\n",
    "                self.sgd()\n",
    "            ctr += 1\n",
    "\n",
    "    def sgd(self):\n",
    "        for idx in self.training_indices:\n",
    "            u = self.sample_row[idx]\n",
    "            i = self.sample_col[idx]\n",
    "            prediction = self.predict(u, i)\n",
    "            e = (self.ratings[u,i] - prediction) # error\n",
    "            \n",
    "            # Update biases\n",
    "            self.user_bias[u] += self.learning_rate * \\\n",
    "                                (e - self.user_bias_reg * self.user_bias[u])\n",
    "            self.item_bias[i] += self.learning_rate * \\\n",
    "                                (e - self.item_bias_reg * self.item_bias[i])\n",
    "            \n",
    "            #Update latent factors\n",
    "            self.user_vecs[u, :] += self.learning_rate * \\\n",
    "                                    (e * self.item_vecs[i, :] - \\\n",
    "                                     self.user_fact_reg * self.user_vecs[u,:])\n",
    "            self.item_vecs[i, :] += self.learning_rate * \\\n",
    "                                    (e * self.user_vecs[u, :] - \\\n",
    "                                     self.item_fact_reg * self.item_vecs[i,:])\n",
    "    def predict(self, u, i):\n",
    "        \"\"\" Single user and item prediction.\"\"\"\n",
    "        if self.learning == 'als':\n",
    "            return self.user_vecs[u, :].dot(self.item_vecs[i, :].T)\n",
    "        elif self.learning == 'sgd':\n",
    "            prediction = self.global_bias + self.user_bias[u] + self.item_bias[i]\n",
    "            prediction += self.user_vecs[u, :].dot(self.item_vecs[i, :].T)\n",
    "            return prediction\n",
    "    \n",
    "    def predict_all(self):\n",
    "        \"\"\" Predict ratings for every user and item.\"\"\"\n",
    "        predictions = np.zeros((self.user_vecs.shape[0], \n",
    "                                self.item_vecs.shape[0]))\n",
    "        for u in range(self.user_vecs.shape[0]):\n",
    "            for i in range(self.item_vecs.shape[0]):\n",
    "                predictions[u, i] = self.predict(u, i)\n",
    "                \n",
    "        return predictions\n",
    "    \n",
    "#     def calculate_learning_curve(self, iter_array, test, learning_rate=0.1):\n",
    "    def calculate_learning_curve(self, iter_array, learning_rate=0.1):\n",
    "        \"\"\"\n",
    "        Keep track of MSE as a function of training iterations.\n",
    "        \n",
    "        Params\n",
    "        ======\n",
    "        iter_array : (list)\n",
    "            List of numbers of iterations to train for each step of \n",
    "            the learning curve. e.g. [1, 5, 10, 20]\n",
    "        test : (2D ndarray)\n",
    "            Testing dataset (assumed to be user x item).\n",
    "        \n",
    "        The function creates two new class attributes:\n",
    "        \n",
    "        train_mse : (list)\n",
    "            Training data MSE values for each value of iter_array\n",
    "        test_mse : (list)\n",
    "            Test data MSE values for each value of iter_array\n",
    "        \"\"\"\n",
    "        iter_array.sort()\n",
    "        self.train_mse =[]\n",
    "#         self.test_mse = []\n",
    "        iter_diff = 0\n",
    "        for (i, n_iter) in enumerate(iter_array):\n",
    "            if self._v:\n",
    "                print('Iteration: {}'.format(n_iter))\n",
    "            if i == 0:\n",
    "                self.train(n_iter - iter_diff, learning_rate)\n",
    "            else:\n",
    "                self.partial_train(n_iter - iter_diff)\n",
    "\n",
    "            predictions = self.predict_all()\n",
    "\n",
    "            self.train_mse += [get_mse(predictions, self.ratings)]\n",
    "#             self.test_mse += [get_mse(predictions, test)]\n",
    "            if self._v:\n",
    "                print('Train mse: ' + str(self.train_mse[-1]))\n",
    "#                 print('Test mse: ' + str(self.test_mse[-1]))\n",
    "            iter_diff = n_iter"
   ]
  },
  {
   "cell_type": "code",
   "execution_count": 159,
   "metadata": {
    "ExecuteTime": {
     "end_time": "2019-08-29T06:08:37.319738Z",
     "start_time": "2019-08-29T06:08:37.315440Z"
    },
    "collapsed": true
   },
   "outputs": [],
   "source": [
    "train = probs_array"
   ]
  },
  {
   "cell_type": "code",
   "execution_count": null,
   "metadata": {
    "collapsed": true
   },
   "outputs": [],
   "source": []
  },
  {
   "cell_type": "markdown",
   "metadata": {},
   "source": [
    "## ALS"
   ]
  },
  {
   "cell_type": "code",
   "execution_count": 107,
   "metadata": {
    "ExecuteTime": {
     "end_time": "2019-08-29T04:47:45.301010Z",
     "start_time": "2019-08-29T04:43:44.381478Z"
    },
    "scrolled": true
   },
   "outputs": [
    {
     "name": "stdout",
     "output_type": "stream",
     "text": [
      "Iteration: 1\n",
      "Train mse: 187.191923301\n",
      "Iteration: 2\n",
      "Train mse: 142.955972178\n",
      "Iteration: 5\n",
      "Train mse: 137.96692538\n",
      "Iteration: 10\n",
      "Train mse: 137.900219038\n",
      "Iteration: 25\n",
      "\tcurrent iteration: 10\n",
      "Train mse: 138.030620883\n"
     ]
    }
   ],
   "source": [
    "MF_ALS = MF(train, 40, learning='als', verbose=True)\n",
    "# iter_array = [1, 2, 5, 10, 25, 50, 100, 200]\n",
    "iter_array = [1, 2, 5, 10, 25]\n",
    "MF_ALS.calculate_learning_curve(iter_array, learning_rate=0.001)"
   ]
  },
  {
   "cell_type": "code",
   "execution_count": 110,
   "metadata": {
    "ExecuteTime": {
     "end_time": "2019-08-29T04:54:45.138736Z",
     "start_time": "2019-08-29T04:54:00.983852Z"
    },
    "collapsed": true
   },
   "outputs": [],
   "source": [
    "predict_array = MF_ALS.predict_all()"
   ]
  },
  {
   "cell_type": "code",
   "execution_count": 111,
   "metadata": {
    "ExecuteTime": {
     "end_time": "2019-08-29T04:54:47.007463Z",
     "start_time": "2019-08-29T04:54:46.995534Z"
    }
   },
   "outputs": [
    {
     "data": {
      "text/plain": [
       "array([[ -1.92852635e-03,  -4.55330138e-03,   9.68754334e-02, ...,\n",
       "          4.78859682e-04,  -2.37145419e-02,  -8.87913825e-02],\n",
       "       [ -1.97008449e-03,  -1.69364819e-02,   3.40274780e-02, ...,\n",
       "          1.07037450e-03,   7.16645823e-02,   2.51959841e-02],\n",
       "       [  4.04531118e-03,   6.88860854e-04,  -1.26489927e-03, ...,\n",
       "          9.24530496e-04,  -1.27161011e-01,  -1.28569279e-01],\n",
       "       ..., \n",
       "       [ -5.57931915e-04,   4.56279498e-04,   3.58317306e-01, ...,\n",
       "          1.05376587e-03,  -1.38336944e-01,  -1.27938822e-01],\n",
       "       [  7.95458370e-04,   1.18521801e-01,   8.59483062e+00, ...,\n",
       "          4.97403636e-04,   4.09955005e-03,   1.40624090e-02],\n",
       "       [  8.39392356e-04,  -9.34038693e-03,   1.12843605e-01, ...,\n",
       "          7.13358636e-04,  -3.54881741e-02,  -5.17645109e-02]])"
      ]
     },
     "execution_count": 111,
     "metadata": {},
     "output_type": "execute_result"
    }
   ],
   "source": [
    "predict_array"
   ]
  },
  {
   "cell_type": "code",
   "execution_count": null,
   "metadata": {
    "collapsed": true
   },
   "outputs": [],
   "source": []
  },
  {
   "cell_type": "code",
   "execution_count": null,
   "metadata": {
    "collapsed": true
   },
   "outputs": [],
   "source": []
  },
  {
   "cell_type": "markdown",
   "metadata": {},
   "source": [
    "## SGD"
   ]
  },
  {
   "cell_type": "code",
   "execution_count": 160,
   "metadata": {
    "ExecuteTime": {
     "end_time": "2019-08-29T06:14:35.605791Z",
     "start_time": "2019-08-29T06:08:44.149882Z"
    },
    "scrolled": false
   },
   "outputs": [
    {
     "name": "stdout",
     "output_type": "stream",
     "text": [
      "Iteration: 1\n",
      "Train mse: 149.374690204\n",
      "Iteration: 2\n",
      "Train mse: 145.820511172\n",
      "Iteration: 5\n",
      "Train mse: 123.616219475\n",
      "Iteration: 10\n",
      "Train mse: 104.690802293\n",
      "Iteration: 25\n",
      "\tcurrent iteration: 10\n",
      "Train mse: 38.5033325461\n"
     ]
    }
   ],
   "source": [
    "MF_SGD = MF(train, 40, learning='sgd', verbose=True)\n",
    "# iter_array = [1, 2, 5, 10, 25, 50, 100, 200]\n",
    "iter_array = [1, 2, 5, 10, 25]\n",
    "MF_SGD.calculate_learning_curve(iter_array, learning_rate=0.001)"
   ]
  },
  {
   "cell_type": "code",
   "execution_count": 161,
   "metadata": {
    "ExecuteTime": {
     "end_time": "2019-08-29T06:16:18.431400Z",
     "start_time": "2019-08-29T06:15:22.459688Z"
    },
    "collapsed": true
   },
   "outputs": [],
   "source": [
    "predict_array = MF_SGD.predict_all()"
   ]
  },
  {
   "cell_type": "code",
   "execution_count": 162,
   "metadata": {
    "ExecuteTime": {
     "end_time": "2019-08-29T06:16:26.509277Z",
     "start_time": "2019-08-29T06:16:26.498776Z"
    }
   },
   "outputs": [
    {
     "data": {
      "text/plain": [
       "array([[ 13.11265669,  12.97208305,  12.2663652 , ...,  12.67757015,\n",
       "         12.71025652,  12.48835175],\n",
       "       [ 14.21211266,  13.92641258,   9.85914187, ...,  13.75752157,\n",
       "         13.18130312,  13.27124582],\n",
       "       [ 14.34344707,  14.19617854,  13.02431317, ...,  13.99210664,\n",
       "         13.58583161,  13.79653552],\n",
       "       ..., \n",
       "       [ 16.00480902,  15.53100093,  12.34990427, ...,  15.56948474,\n",
       "         15.30219852,  15.46815716],\n",
       "       [ 15.92600745,  16.10393648,  20.96987519, ...,  15.63971244,\n",
       "         15.17562895,  15.84884075],\n",
       "       [ 13.89089311,  13.61868295,  11.80187845, ...,  13.46530034,\n",
       "         12.99473502,  13.21466696]])"
      ]
     },
     "execution_count": 162,
     "metadata": {},
     "output_type": "execute_result"
    }
   ],
   "source": [
    "predict_array"
   ]
  },
  {
   "cell_type": "code",
   "execution_count": null,
   "metadata": {
    "collapsed": true
   },
   "outputs": [],
   "source": []
  },
  {
   "cell_type": "code",
   "execution_count": null,
   "metadata": {
    "collapsed": true
   },
   "outputs": [],
   "source": []
  },
  {
   "cell_type": "code",
   "execution_count": null,
   "metadata": {
    "collapsed": true
   },
   "outputs": [],
   "source": []
  },
  {
   "cell_type": "code",
   "execution_count": null,
   "metadata": {
    "collapsed": true
   },
   "outputs": [],
   "source": []
  },
  {
   "cell_type": "code",
   "execution_count": null,
   "metadata": {
    "collapsed": true
   },
   "outputs": [],
   "source": []
  },
  {
   "cell_type": "code",
   "execution_count": null,
   "metadata": {
    "collapsed": true
   },
   "outputs": [],
   "source": []
  },
  {
   "cell_type": "code",
   "execution_count": null,
   "metadata": {
    "collapsed": true
   },
   "outputs": [],
   "source": []
  },
  {
   "cell_type": "code",
   "execution_count": null,
   "metadata": {
    "collapsed": true
   },
   "outputs": [],
   "source": []
  },
  {
   "cell_type": "code",
   "execution_count": null,
   "metadata": {
    "collapsed": true
   },
   "outputs": [],
   "source": []
  },
  {
   "cell_type": "markdown",
   "metadata": {},
   "source": [
    "# Make Recommend Table"
   ]
  },
  {
   "cell_type": "code",
   "execution_count": 120,
   "metadata": {
    "ExecuteTime": {
     "end_time": "2019-08-29T05:01:43.214847Z",
     "start_time": "2019-08-29T05:01:43.110512Z"
    },
    "collapsed": true
   },
   "outputs": [],
   "source": [
    "def make_recommend_table(array, df_orig):\n",
    "    \n",
    "    #indexing\n",
    "    unique_cuids = set(df_orig.cuid.unique())\n",
    "    u2i = {u:i for i, u in enumerate(unique_cuids)}\n",
    "    i2u = {i:u for i, u in enumerate(unique_cuids)}\n",
    "    \n",
    "    unique_genres = set(df_orig.genre_id.unique())\n",
    "    g2i = {g:i for i, g in enumerate(unique_genres)}\n",
    "    i2g = {i:g for i, g in enumerate(unique_genres)}\n",
    "    \n",
    "    unique_contexts = set(df_orig.poi_type.unique())\n",
    "    c2i = {c:i for i, c in enumerate(unique_contexts)}\n",
    "    i2c = {i:c for i, c in enumerate(unique_contexts)}\n",
    "    \n",
    "    mf_recommend_table = pd.DataFrame()\n",
    "    user_num = array.shape[0]\n",
    "    \n",
    "    genre_index_list = df_genre_time_context['genre_index'].values.tolist() * user_num\n",
    "    time_list = df_genre_time_context['time'].values.tolist() * user_num\n",
    "    context_index_list = df_genre_time_context['context_index'].values.tolist() * user_num\n",
    "    \n",
    "    mf_recommend_table['genre_id'] = genre_index_list\n",
    "    mf_recommend_table['time'] = time_list\n",
    "    mf_recommend_table['poi_type'] = context_index_list\n",
    "    mf_recommend_table['score'] = array.flatten()\n",
    "    \n",
    "    cuid_list = []\n",
    "    all_cuid_list = [cuid_list.extend([i2u[uid] for i in range(len(df_genre_time_context))]) for uid in range(user_num)]\n",
    "    \n",
    "    mf_recommend_table['cuid'] = cuid_list\n",
    "    \n",
    "    mf_recommend_table['genre_id'] = mf_recommend_table['genre_id'].map(lambda x:i2g[x])\n",
    "    mf_recommend_table['poi_type'] = mf_recommend_table['poi_type'].map(lambda x:i2c[x])\n",
    "    \n",
    "    return mf_recommend_table"
   ]
  },
  {
   "cell_type": "code",
   "execution_count": 163,
   "metadata": {
    "ExecuteTime": {
     "end_time": "2019-08-29T06:17:29.423225Z",
     "start_time": "2019-08-29T06:16:53.009034Z"
    },
    "collapsed": true
   },
   "outputs": [],
   "source": [
    "df_recommend_table = make_recommend_table(predict_array, df_time_context)"
   ]
  },
  {
   "cell_type": "markdown",
   "metadata": {},
   "source": [
    "ALS"
   ]
  },
  {
   "cell_type": "code",
   "execution_count": 122,
   "metadata": {
    "ExecuteTime": {
     "end_time": "2019-08-29T05:03:50.576234Z",
     "start_time": "2019-08-29T05:03:50.555955Z"
    },
    "scrolled": true
   },
   "outputs": [
    {
     "data": {
      "text/html": [
       "<div>\n",
       "<style>\n",
       "    .dataframe thead tr:only-child th {\n",
       "        text-align: right;\n",
       "    }\n",
       "\n",
       "    .dataframe thead th {\n",
       "        text-align: left;\n",
       "    }\n",
       "\n",
       "    .dataframe tbody tr th {\n",
       "        vertical-align: top;\n",
       "    }\n",
       "</style>\n",
       "<table border=\"1\" class=\"dataframe\">\n",
       "  <thead>\n",
       "    <tr style=\"text-align: right;\">\n",
       "      <th></th>\n",
       "      <th>genre_id</th>\n",
       "      <th>time</th>\n",
       "      <th>poi_type</th>\n",
       "      <th>score</th>\n",
       "      <th>cuid</th>\n",
       "    </tr>\n",
       "  </thead>\n",
       "  <tbody>\n",
       "    <tr>\n",
       "      <th>0</th>\n",
       "      <td>0</td>\n",
       "      <td>0</td>\n",
       "      <td>2</td>\n",
       "      <td>-0.001929</td>\n",
       "      <td>Q5O55L5J55Q0G4NTP4O055P0</td>\n",
       "    </tr>\n",
       "    <tr>\n",
       "      <th>1</th>\n",
       "      <td>0</td>\n",
       "      <td>0</td>\n",
       "      <td>133</td>\n",
       "      <td>-0.004553</td>\n",
       "      <td>Q5O55L5J55Q0G4NTP4O055P0</td>\n",
       "    </tr>\n",
       "    <tr>\n",
       "      <th>2</th>\n",
       "      <td>0</td>\n",
       "      <td>0</td>\n",
       "      <td>134</td>\n",
       "      <td>0.096875</td>\n",
       "      <td>Q5O55L5J55Q0G4NTP4O055P0</td>\n",
       "    </tr>\n",
       "    <tr>\n",
       "      <th>3</th>\n",
       "      <td>0</td>\n",
       "      <td>0</td>\n",
       "      <td>8</td>\n",
       "      <td>0.000000</td>\n",
       "      <td>Q5O55L5J55Q0G4NTP4O055P0</td>\n",
       "    </tr>\n",
       "    <tr>\n",
       "      <th>4</th>\n",
       "      <td>0</td>\n",
       "      <td>0</td>\n",
       "      <td>13</td>\n",
       "      <td>-0.041411</td>\n",
       "      <td>Q5O55L5J55Q0G4NTP4O055P0</td>\n",
       "    </tr>\n",
       "  </tbody>\n",
       "</table>\n",
       "</div>"
      ],
      "text/plain": [
       "   genre_id  time  poi_type     score                      cuid\n",
       "0         0     0         2 -0.001929  Q5O55L5J55Q0G4NTP4O055P0\n",
       "1         0     0       133 -0.004553  Q5O55L5J55Q0G4NTP4O055P0\n",
       "2         0     0       134  0.096875  Q5O55L5J55Q0G4NTP4O055P0\n",
       "3         0     0         8  0.000000  Q5O55L5J55Q0G4NTP4O055P0\n",
       "4         0     0        13 -0.041411  Q5O55L5J55Q0G4NTP4O055P0"
      ]
     },
     "execution_count": 122,
     "metadata": {},
     "output_type": "execute_result"
    }
   ],
   "source": [
    "df_recommend_table.head()"
   ]
  },
  {
   "cell_type": "markdown",
   "metadata": {},
   "source": [
    "SGD"
   ]
  },
  {
   "cell_type": "code",
   "execution_count": 164,
   "metadata": {
    "ExecuteTime": {
     "end_time": "2019-08-29T06:18:24.752581Z",
     "start_time": "2019-08-29T06:18:24.730800Z"
    }
   },
   "outputs": [
    {
     "data": {
      "text/html": [
       "<div>\n",
       "<style>\n",
       "    .dataframe thead tr:only-child th {\n",
       "        text-align: right;\n",
       "    }\n",
       "\n",
       "    .dataframe thead th {\n",
       "        text-align: left;\n",
       "    }\n",
       "\n",
       "    .dataframe tbody tr th {\n",
       "        vertical-align: top;\n",
       "    }\n",
       "</style>\n",
       "<table border=\"1\" class=\"dataframe\">\n",
       "  <thead>\n",
       "    <tr style=\"text-align: right;\">\n",
       "      <th></th>\n",
       "      <th>genre_id</th>\n",
       "      <th>time</th>\n",
       "      <th>poi_type</th>\n",
       "      <th>score</th>\n",
       "      <th>cuid</th>\n",
       "    </tr>\n",
       "  </thead>\n",
       "  <tbody>\n",
       "    <tr>\n",
       "      <th>0</th>\n",
       "      <td>0</td>\n",
       "      <td>0</td>\n",
       "      <td>2</td>\n",
       "      <td>13.112657</td>\n",
       "      <td>Q5O55L5J55Q0G4NTP4O055P0</td>\n",
       "    </tr>\n",
       "    <tr>\n",
       "      <th>1</th>\n",
       "      <td>0</td>\n",
       "      <td>0</td>\n",
       "      <td>133</td>\n",
       "      <td>12.972083</td>\n",
       "      <td>Q5O55L5J55Q0G4NTP4O055P0</td>\n",
       "    </tr>\n",
       "    <tr>\n",
       "      <th>2</th>\n",
       "      <td>0</td>\n",
       "      <td>0</td>\n",
       "      <td>134</td>\n",
       "      <td>12.266365</td>\n",
       "      <td>Q5O55L5J55Q0G4NTP4O055P0</td>\n",
       "    </tr>\n",
       "    <tr>\n",
       "      <th>3</th>\n",
       "      <td>0</td>\n",
       "      <td>0</td>\n",
       "      <td>8</td>\n",
       "      <td>12.782001</td>\n",
       "      <td>Q5O55L5J55Q0G4NTP4O055P0</td>\n",
       "    </tr>\n",
       "    <tr>\n",
       "      <th>4</th>\n",
       "      <td>0</td>\n",
       "      <td>0</td>\n",
       "      <td>13</td>\n",
       "      <td>3.661123</td>\n",
       "      <td>Q5O55L5J55Q0G4NTP4O055P0</td>\n",
       "    </tr>\n",
       "  </tbody>\n",
       "</table>\n",
       "</div>"
      ],
      "text/plain": [
       "   genre_id  time  poi_type      score                      cuid\n",
       "0         0     0         2  13.112657  Q5O55L5J55Q0G4NTP4O055P0\n",
       "1         0     0       133  12.972083  Q5O55L5J55Q0G4NTP4O055P0\n",
       "2         0     0       134  12.266365  Q5O55L5J55Q0G4NTP4O055P0\n",
       "3         0     0         8  12.782001  Q5O55L5J55Q0G4NTP4O055P0\n",
       "4         0     0        13   3.661123  Q5O55L5J55Q0G4NTP4O055P0"
      ]
     },
     "execution_count": 164,
     "metadata": {},
     "output_type": "execute_result"
    }
   ],
   "source": [
    "df_recommend_table.head()"
   ]
  },
  {
   "cell_type": "code",
   "execution_count": null,
   "metadata": {
    "collapsed": true
   },
   "outputs": [],
   "source": []
  },
  {
   "cell_type": "markdown",
   "metadata": {},
   "source": [
    "base"
   ]
  },
  {
   "cell_type": "code",
   "execution_count": 125,
   "metadata": {
    "ExecuteTime": {
     "end_time": "2019-08-29T05:08:16.021390Z",
     "start_time": "2019-08-29T05:08:15.985087Z"
    }
   },
   "outputs": [
    {
     "data": {
      "text/html": [
       "<div>\n",
       "<style>\n",
       "    .dataframe thead tr:only-child th {\n",
       "        text-align: right;\n",
       "    }\n",
       "\n",
       "    .dataframe thead th {\n",
       "        text-align: left;\n",
       "    }\n",
       "\n",
       "    .dataframe tbody tr th {\n",
       "        vertical-align: top;\n",
       "    }\n",
       "</style>\n",
       "<table border=\"1\" class=\"dataframe\">\n",
       "  <thead>\n",
       "    <tr style=\"text-align: right;\">\n",
       "      <th></th>\n",
       "      <th>cuid</th>\n",
       "      <th>genre_id</th>\n",
       "      <th>time</th>\n",
       "      <th>poi_type</th>\n",
       "      <th>score</th>\n",
       "    </tr>\n",
       "  </thead>\n",
       "  <tbody>\n",
       "    <tr>\n",
       "      <th>0</th>\n",
       "      <td>04GG05555QJN55QTP4O05TPL</td>\n",
       "      <td>0</td>\n",
       "      <td>0</td>\n",
       "      <td>13</td>\n",
       "      <td>77</td>\n",
       "    </tr>\n",
       "  </tbody>\n",
       "</table>\n",
       "</div>"
      ],
      "text/plain": [
       "                       cuid  genre_id  time  poi_type  score\n",
       "0  04GG05555QJN55QTP4O05TPL         0     0        13     77"
      ]
     },
     "execution_count": 125,
     "metadata": {},
     "output_type": "execute_result"
    }
   ],
   "source": [
    "df_time_context[(df_time_context['cuid']=='04GG05555QJN55QTP4O05TPL') & \\\n",
    "                   (df_time_context['time']==0) & \\\n",
    "                   (df_time_context['poi_type']==13)\n",
    "                  ]"
   ]
  },
  {
   "cell_type": "markdown",
   "metadata": {},
   "source": [
    "ALS"
   ]
  },
  {
   "cell_type": "code",
   "execution_count": 124,
   "metadata": {
    "ExecuteTime": {
     "end_time": "2019-08-29T05:06:02.162489Z",
     "start_time": "2019-08-29T05:05:59.591236Z"
    }
   },
   "outputs": [
    {
     "data": {
      "text/html": [
       "<div>\n",
       "<style>\n",
       "    .dataframe thead tr:only-child th {\n",
       "        text-align: right;\n",
       "    }\n",
       "\n",
       "    .dataframe thead th {\n",
       "        text-align: left;\n",
       "    }\n",
       "\n",
       "    .dataframe tbody tr th {\n",
       "        vertical-align: top;\n",
       "    }\n",
       "</style>\n",
       "<table border=\"1\" class=\"dataframe\">\n",
       "  <thead>\n",
       "    <tr style=\"text-align: right;\">\n",
       "      <th></th>\n",
       "      <th>genre_id</th>\n",
       "      <th>time</th>\n",
       "      <th>poi_type</th>\n",
       "      <th>score</th>\n",
       "      <th>cuid</th>\n",
       "    </tr>\n",
       "  </thead>\n",
       "  <tbody>\n",
       "    <tr>\n",
       "      <th>11418628</th>\n",
       "      <td>0</td>\n",
       "      <td>0</td>\n",
       "      <td>13</td>\n",
       "      <td>69.261558</td>\n",
       "      <td>04GG05555QJN55QTP4O05TPL</td>\n",
       "    </tr>\n",
       "    <tr>\n",
       "      <th>11419204</th>\n",
       "      <td>1</td>\n",
       "      <td>0</td>\n",
       "      <td>13</td>\n",
       "      <td>0.108633</td>\n",
       "      <td>04GG05555QJN55QTP4O05TPL</td>\n",
       "    </tr>\n",
       "    <tr>\n",
       "      <th>11419780</th>\n",
       "      <td>2</td>\n",
       "      <td>0</td>\n",
       "      <td>13</td>\n",
       "      <td>-0.700120</td>\n",
       "      <td>04GG05555QJN55QTP4O05TPL</td>\n",
       "    </tr>\n",
       "    <tr>\n",
       "      <th>11420356</th>\n",
       "      <td>3</td>\n",
       "      <td>0</td>\n",
       "      <td>13</td>\n",
       "      <td>0.069135</td>\n",
       "      <td>04GG05555QJN55QTP4O05TPL</td>\n",
       "    </tr>\n",
       "  </tbody>\n",
       "</table>\n",
       "</div>"
      ],
      "text/plain": [
       "          genre_id  time  poi_type      score                      cuid\n",
       "11418628         0     0        13  69.261558  04GG05555QJN55QTP4O05TPL\n",
       "11419204         1     0        13   0.108633  04GG05555QJN55QTP4O05TPL\n",
       "11419780         2     0        13  -0.700120  04GG05555QJN55QTP4O05TPL\n",
       "11420356         3     0        13   0.069135  04GG05555QJN55QTP4O05TPL"
      ]
     },
     "execution_count": 124,
     "metadata": {},
     "output_type": "execute_result"
    }
   ],
   "source": [
    "df_recommend_table[(df_recommend_table['cuid']=='04GG05555QJN55QTP4O05TPL') & \\\n",
    "                   (df_recommend_table['time']==0) & \\\n",
    "                   (df_recommend_table['poi_type']==13)\n",
    "                  ]"
   ]
  },
  {
   "cell_type": "markdown",
   "metadata": {},
   "source": [
    "SGD"
   ]
  },
  {
   "cell_type": "code",
   "execution_count": 165,
   "metadata": {
    "ExecuteTime": {
     "end_time": "2019-08-29T06:19:17.166889Z",
     "start_time": "2019-08-29T06:19:14.592708Z"
    }
   },
   "outputs": [
    {
     "data": {
      "text/html": [
       "<div>\n",
       "<style>\n",
       "    .dataframe thead tr:only-child th {\n",
       "        text-align: right;\n",
       "    }\n",
       "\n",
       "    .dataframe thead th {\n",
       "        text-align: left;\n",
       "    }\n",
       "\n",
       "    .dataframe tbody tr th {\n",
       "        vertical-align: top;\n",
       "    }\n",
       "</style>\n",
       "<table border=\"1\" class=\"dataframe\">\n",
       "  <thead>\n",
       "    <tr style=\"text-align: right;\">\n",
       "      <th></th>\n",
       "      <th>genre_id</th>\n",
       "      <th>time</th>\n",
       "      <th>poi_type</th>\n",
       "      <th>score</th>\n",
       "      <th>cuid</th>\n",
       "    </tr>\n",
       "  </thead>\n",
       "  <tbody>\n",
       "    <tr>\n",
       "      <th>11418628</th>\n",
       "      <td>0</td>\n",
       "      <td>0</td>\n",
       "      <td>13</td>\n",
       "      <td>68.616095</td>\n",
       "      <td>04GG05555QJN55QTP4O05TPL</td>\n",
       "    </tr>\n",
       "    <tr>\n",
       "      <th>11419204</th>\n",
       "      <td>1</td>\n",
       "      <td>0</td>\n",
       "      <td>13</td>\n",
       "      <td>17.401813</td>\n",
       "      <td>04GG05555QJN55QTP4O05TPL</td>\n",
       "    </tr>\n",
       "    <tr>\n",
       "      <th>11419780</th>\n",
       "      <td>2</td>\n",
       "      <td>0</td>\n",
       "      <td>13</td>\n",
       "      <td>-8.804436</td>\n",
       "      <td>04GG05555QJN55QTP4O05TPL</td>\n",
       "    </tr>\n",
       "    <tr>\n",
       "      <th>11420356</th>\n",
       "      <td>3</td>\n",
       "      <td>0</td>\n",
       "      <td>13</td>\n",
       "      <td>-7.941026</td>\n",
       "      <td>04GG05555QJN55QTP4O05TPL</td>\n",
       "    </tr>\n",
       "  </tbody>\n",
       "</table>\n",
       "</div>"
      ],
      "text/plain": [
       "          genre_id  time  poi_type      score                      cuid\n",
       "11418628         0     0        13  68.616095  04GG05555QJN55QTP4O05TPL\n",
       "11419204         1     0        13  17.401813  04GG05555QJN55QTP4O05TPL\n",
       "11419780         2     0        13  -8.804436  04GG05555QJN55QTP4O05TPL\n",
       "11420356         3     0        13  -7.941026  04GG05555QJN55QTP4O05TPL"
      ]
     },
     "execution_count": 165,
     "metadata": {},
     "output_type": "execute_result"
    }
   ],
   "source": [
    "df_recommend_table[(df_recommend_table['cuid']=='04GG05555QJN55QTP4O05TPL') & \\\n",
    "                   (df_recommend_table['time']==0) & \\\n",
    "                   (df_recommend_table['poi_type']==13)\n",
    "                  ]"
   ]
  },
  {
   "cell_type": "code",
   "execution_count": null,
   "metadata": {
    "collapsed": true
   },
   "outputs": [],
   "source": []
  },
  {
   "cell_type": "markdown",
   "metadata": {},
   "source": [
    "# validation"
   ]
  },
  {
   "cell_type": "code",
   "execution_count": 134,
   "metadata": {
    "ExecuteTime": {
     "end_time": "2019-08-29T05:37:09.764318Z",
     "start_time": "2019-08-29T05:37:09.760253Z"
    },
    "collapsed": true
   },
   "outputs": [],
   "source": [
    "sys.path.append(PROJECT_PATH)"
   ]
  },
  {
   "cell_type": "code",
   "execution_count": 135,
   "metadata": {
    "ExecuteTime": {
     "end_time": "2019-08-29T05:37:14.967776Z",
     "start_time": "2019-08-29T05:37:14.961510Z"
    }
   },
   "outputs": [
    {
     "data": {
      "text/plain": [
       "['',\n",
       " '/home/5124393/anaconda3/lib/python36.zip',\n",
       " '/home/5124393/anaconda3/lib/python3.6',\n",
       " '/home/5124393/anaconda3/lib/python3.6/lib-dynload',\n",
       " '/home/5124393/anaconda3/lib/python3.6/site-packages',\n",
       " '/home/5124393/anaconda3/lib/python3.6/site-packages/IPython/extensions',\n",
       " '/home/5124393/.ipython',\n",
       " '/home/5124393/ML_Tips/08_Recommend/']"
      ]
     },
     "execution_count": 135,
     "metadata": {},
     "output_type": "execute_result"
    }
   ],
   "source": [
    "sys.path"
   ]
  },
  {
   "cell_type": "code",
   "execution_count": 136,
   "metadata": {
    "ExecuteTime": {
     "end_time": "2019-08-29T05:37:22.620758Z",
     "start_time": "2019-08-29T05:37:22.592237Z"
    },
    "collapsed": true
   },
   "outputs": [],
   "source": [
    "import score"
   ]
  },
  {
   "cell_type": "code",
   "execution_count": null,
   "metadata": {
    "collapsed": true
   },
   "outputs": [],
   "source": []
  },
  {
   "cell_type": "markdown",
   "metadata": {},
   "source": [
    "## test table"
   ]
  },
  {
   "cell_type": "code",
   "execution_count": 147,
   "metadata": {
    "ExecuteTime": {
     "end_time": "2019-08-29T05:53:08.296753Z",
     "start_time": "2019-08-29T05:53:08.262327Z"
    },
    "collapsed": true
   },
   "outputs": [],
   "source": [
    "def get_test_table(category_id, recommend_table):\n",
    "        # raw use log\n",
    "        global target_cuid_num\n",
    "#         target_cuid_num = len(df_use['cuid'].unique())\n",
    "        target_cuid_num = len(df_time_context[df_time_context['genre_id']==category_id]['cuid'].unique())\n",
    "        \n",
    "        ##############################################\n",
    "        # テストテーブルの取得\n",
    "        ##############################################\n",
    "        global test_table\n",
    "        FILE_NAME = 'category_id_' + str(category_id) + '_test_table_201904.csv'\n",
    "        test_table = pd.read_csv(os.path.join(DATA_FILE_PATH, 'test', FILE_NAME))\n",
    "        \n",
    "        ##############################################\n",
    "        # テスト期間の状況発生履歴テーブルの取得\n",
    "        ##############################################\n",
    "        global test_context_count_table\n",
    "        FILE_NAME = 'category_id_' + str(category_id) + '_test_context_count_table_201904.csv'\n",
    "        test_context_count_table = pd.read_csv(os.path.join(DATA_FILE_PATH, 'test', FILE_NAME))\n",
    "        \n",
    "        global target_recommend_table\n",
    "        target_recommend_table = recommend_table[recommend_table['genre_id']==category_id]"
   ]
  },
  {
   "cell_type": "markdown",
   "metadata": {},
   "source": [
    "## metrics"
   ]
  },
  {
   "cell_type": "code",
   "execution_count": 144,
   "metadata": {
    "ExecuteTime": {
     "end_time": "2019-08-29T05:50:56.395063Z",
     "start_time": "2019-08-29T05:50:56.322383Z"
    },
    "collapsed": true
   },
   "outputs": [],
   "source": [
    "def metrics_result(recommend_table, test_table, test_context_count_table, train_week_num=4, make_cond='week', is_boolean=False,  category_id=None, target_cuid_num=None, is_dservice=True):\n",
    "    result_list = []\n",
    "    for s_th in range(0, 30, 5):\n",
    "        for k in range(1, 6):\n",
    "            try:\n",
    "                delivery_user, actual_delivery_user_num, auc, fpr, tpr, thresholds, true_list, scores_list, precision_list, recall_list, pr_thresholds, ave_precision, precision, recall = \\\n",
    "                score.model_score(recommend_table, s_th, test_table, test_context_count_table, topk=k, is_boolean=is_boolean)\n",
    "                result_list.append([s_th, k, target_cuid_num, delivery_user, actual_delivery_user_num, auc, precision, recall])\n",
    "            except:\n",
    "                result_list.append([s_th, k, target_cuid_num, 0, 0, None, None, 0])\n",
    "            \n",
    "    df_result = pd.DataFrame(result_list, columns=['score_threshod', 'topk', 'user_num', 'delivery_user_num', 'actual_delivery_user_num', 'AUC', 'precision', 'recall'])\n",
    "    return df_result\n",
    "    \n",
    "#     FILE_NAME_PREFIX = 'train_week_num_' + str(train_week_num) + '-make_cond_' + str(make_cond) + '-'\n",
    "#     if is_boolean:\n",
    "#         if is_dservice:\n",
    "#             file_name = FILE_NAME_PREFIX + 'boolean-store_id_' + str(store_id) + '.csv'\n",
    "#         else:\n",
    "#             file_name = FILE_NAME_PREFIX + 'boolean-category_id_' + str(category_id) + '.csv'\n",
    "#     else:\n",
    "#         if is_dservice:\n",
    "#             file_name = FILE_NAME_PREFIX + 'standard-store_id_' + str(store_id) + '.csv'\n",
    "#         else:\n",
    "#             file_name = FILE_NAME_PREFIX + 'standard-category_id_' + str(category_id) + '.csv'\n",
    "            \n",
    "#     df_result.to_csv(os.path.join(RESULT_DATA_PATH, file_name))\n",
    "#     print(file_name + ' is saved!!')"
   ]
  },
  {
   "cell_type": "code",
   "execution_count": null,
   "metadata": {
    "collapsed": true
   },
   "outputs": [],
   "source": []
  },
  {
   "cell_type": "code",
   "execution_count": 166,
   "metadata": {
    "ExecuteTime": {
     "end_time": "2019-08-29T06:26:47.397009Z",
     "start_time": "2019-08-29T06:20:02.526525Z"
    },
    "collapsed": true
   },
   "outputs": [],
   "source": [
    "get_test_table(category_id=3, df_recommend_table)\n",
    "# get_test_table(category_id, df_time_context)\n",
    "##############################################\n",
    "# 効果測定\n",
    "##############################################\n",
    "# parameter list\n",
    "df_result = metrics_result(target_recommend_table,\n",
    "                   test_table, \n",
    "                   test_context_count_table, \n",
    "                   is_boolean=False, \n",
    "                   category_id=category_id, \n",
    "                   target_cuid_num=target_cuid_num, \n",
    "                   is_dservice=False)"
   ]
  },
  {
   "cell_type": "code",
   "execution_count": null,
   "metadata": {
    "collapsed": true
   },
   "outputs": [],
   "source": []
  },
  {
   "cell_type": "markdown",
   "metadata": {},
   "source": [
    "base"
   ]
  },
  {
   "cell_type": "code",
   "execution_count": 149,
   "metadata": {
    "ExecuteTime": {
     "end_time": "2019-08-29T05:53:49.152904Z",
     "start_time": "2019-08-29T05:53:49.115986Z"
    },
    "scrolled": false
   },
   "outputs": [
    {
     "data": {
      "text/html": [
       "<div>\n",
       "<style>\n",
       "    .dataframe thead tr:only-child th {\n",
       "        text-align: right;\n",
       "    }\n",
       "\n",
       "    .dataframe thead th {\n",
       "        text-align: left;\n",
       "    }\n",
       "\n",
       "    .dataframe tbody tr th {\n",
       "        vertical-align: top;\n",
       "    }\n",
       "</style>\n",
       "<table border=\"1\" class=\"dataframe\">\n",
       "  <thead>\n",
       "    <tr style=\"text-align: right;\">\n",
       "      <th></th>\n",
       "      <th>score_threshod</th>\n",
       "      <th>topk</th>\n",
       "      <th>user_num</th>\n",
       "      <th>delivery_user_num</th>\n",
       "      <th>actual_delivery_user_num</th>\n",
       "      <th>AUC</th>\n",
       "      <th>precision</th>\n",
       "      <th>recall</th>\n",
       "    </tr>\n",
       "  </thead>\n",
       "  <tbody>\n",
       "    <tr>\n",
       "      <th>0</th>\n",
       "      <td>0</td>\n",
       "      <td>1</td>\n",
       "      <td>1565</td>\n",
       "      <td>1565</td>\n",
       "      <td>1343</td>\n",
       "      <td>0.864588</td>\n",
       "      <td>0.072547</td>\n",
       "      <td>0.034649</td>\n",
       "    </tr>\n",
       "    <tr>\n",
       "      <th>1</th>\n",
       "      <td>0</td>\n",
       "      <td>2</td>\n",
       "      <td>1565</td>\n",
       "      <td>1565</td>\n",
       "      <td>1450</td>\n",
       "      <td>0.833920</td>\n",
       "      <td>0.064239</td>\n",
       "      <td>0.065978</td>\n",
       "    </tr>\n",
       "    <tr>\n",
       "      <th>2</th>\n",
       "      <td>0</td>\n",
       "      <td>3</td>\n",
       "      <td>1565</td>\n",
       "      <td>1565</td>\n",
       "      <td>1474</td>\n",
       "      <td>0.824066</td>\n",
       "      <td>0.063151</td>\n",
       "      <td>0.088833</td>\n",
       "    </tr>\n",
       "    <tr>\n",
       "      <th>3</th>\n",
       "      <td>0</td>\n",
       "      <td>4</td>\n",
       "      <td>1565</td>\n",
       "      <td>1565</td>\n",
       "      <td>1478</td>\n",
       "      <td>0.816488</td>\n",
       "      <td>0.060384</td>\n",
       "      <td>0.108855</td>\n",
       "    </tr>\n",
       "    <tr>\n",
       "      <th>4</th>\n",
       "      <td>0</td>\n",
       "      <td>5</td>\n",
       "      <td>1565</td>\n",
       "      <td>1565</td>\n",
       "      <td>1480</td>\n",
       "      <td>0.805767</td>\n",
       "      <td>0.058766</td>\n",
       "      <td>0.124845</td>\n",
       "    </tr>\n",
       "    <tr>\n",
       "      <th>5</th>\n",
       "      <td>5</td>\n",
       "      <td>1</td>\n",
       "      <td>1565</td>\n",
       "      <td>1406</td>\n",
       "      <td>1195</td>\n",
       "      <td>0.855658</td>\n",
       "      <td>0.080317</td>\n",
       "      <td>0.030164</td>\n",
       "    </tr>\n",
       "    <tr>\n",
       "      <th>6</th>\n",
       "      <td>5</td>\n",
       "      <td>2</td>\n",
       "      <td>1565</td>\n",
       "      <td>1406</td>\n",
       "      <td>1294</td>\n",
       "      <td>0.828231</td>\n",
       "      <td>0.070189</td>\n",
       "      <td>0.055463</td>\n",
       "    </tr>\n",
       "    <tr>\n",
       "      <th>7</th>\n",
       "      <td>5</td>\n",
       "      <td>3</td>\n",
       "      <td>1565</td>\n",
       "      <td>1406</td>\n",
       "      <td>1314</td>\n",
       "      <td>0.813796</td>\n",
       "      <td>0.069041</td>\n",
       "      <td>0.075848</td>\n",
       "    </tr>\n",
       "    <tr>\n",
       "      <th>8</th>\n",
       "      <td>5</td>\n",
       "      <td>4</td>\n",
       "      <td>1565</td>\n",
       "      <td>1406</td>\n",
       "      <td>1318</td>\n",
       "      <td>0.804834</td>\n",
       "      <td>0.066160</td>\n",
       "      <td>0.092609</td>\n",
       "    </tr>\n",
       "    <tr>\n",
       "      <th>9</th>\n",
       "      <td>5</td>\n",
       "      <td>5</td>\n",
       "      <td>1565</td>\n",
       "      <td>1406</td>\n",
       "      <td>1319</td>\n",
       "      <td>0.793177</td>\n",
       "      <td>0.064105</td>\n",
       "      <td>0.104770</td>\n",
       "    </tr>\n",
       "    <tr>\n",
       "      <th>10</th>\n",
       "      <td>10</td>\n",
       "      <td>1</td>\n",
       "      <td>1565</td>\n",
       "      <td>1012</td>\n",
       "      <td>843</td>\n",
       "      <td>0.812091</td>\n",
       "      <td>0.110024</td>\n",
       "      <td>0.027579</td>\n",
       "    </tr>\n",
       "    <tr>\n",
       "      <th>11</th>\n",
       "      <td>10</td>\n",
       "      <td>2</td>\n",
       "      <td>1565</td>\n",
       "      <td>1012</td>\n",
       "      <td>909</td>\n",
       "      <td>0.791077</td>\n",
       "      <td>0.097472</td>\n",
       "      <td>0.047155</td>\n",
       "    </tr>\n",
       "    <tr>\n",
       "      <th>12</th>\n",
       "      <td>10</td>\n",
       "      <td>3</td>\n",
       "      <td>1565</td>\n",
       "      <td>1012</td>\n",
       "      <td>923</td>\n",
       "      <td>0.775074</td>\n",
       "      <td>0.097240</td>\n",
       "      <td>0.062308</td>\n",
       "    </tr>\n",
       "    <tr>\n",
       "      <th>13</th>\n",
       "      <td>10</td>\n",
       "      <td>4</td>\n",
       "      <td>1565</td>\n",
       "      <td>1012</td>\n",
       "      <td>925</td>\n",
       "      <td>0.763924</td>\n",
       "      <td>0.093342</td>\n",
       "      <td>0.073781</td>\n",
       "    </tr>\n",
       "    <tr>\n",
       "      <th>14</th>\n",
       "      <td>10</td>\n",
       "      <td>5</td>\n",
       "      <td>1565</td>\n",
       "      <td>1012</td>\n",
       "      <td>925</td>\n",
       "      <td>0.753318</td>\n",
       "      <td>0.091437</td>\n",
       "      <td>0.080873</td>\n",
       "    </tr>\n",
       "    <tr>\n",
       "      <th>15</th>\n",
       "      <td>15</td>\n",
       "      <td>1</td>\n",
       "      <td>1565</td>\n",
       "      <td>723</td>\n",
       "      <td>597</td>\n",
       "      <td>0.776731</td>\n",
       "      <td>0.142399</td>\n",
       "      <td>0.023366</td>\n",
       "    </tr>\n",
       "    <tr>\n",
       "      <th>16</th>\n",
       "      <td>15</td>\n",
       "      <td>2</td>\n",
       "      <td>1565</td>\n",
       "      <td>723</td>\n",
       "      <td>641</td>\n",
       "      <td>0.747632</td>\n",
       "      <td>0.127326</td>\n",
       "      <td>0.039145</td>\n",
       "    </tr>\n",
       "    <tr>\n",
       "      <th>17</th>\n",
       "      <td>15</td>\n",
       "      <td>3</td>\n",
       "      <td>1565</td>\n",
       "      <td>723</td>\n",
       "      <td>648</td>\n",
       "      <td>0.724227</td>\n",
       "      <td>0.127286</td>\n",
       "      <td>0.050518</td>\n",
       "    </tr>\n",
       "    <tr>\n",
       "      <th>18</th>\n",
       "      <td>15</td>\n",
       "      <td>4</td>\n",
       "      <td>1565</td>\n",
       "      <td>723</td>\n",
       "      <td>649</td>\n",
       "      <td>0.714838</td>\n",
       "      <td>0.120854</td>\n",
       "      <td>0.058429</td>\n",
       "    </tr>\n",
       "    <tr>\n",
       "      <th>19</th>\n",
       "      <td>15</td>\n",
       "      <td>5</td>\n",
       "      <td>1565</td>\n",
       "      <td>723</td>\n",
       "      <td>649</td>\n",
       "      <td>0.706778</td>\n",
       "      <td>0.119560</td>\n",
       "      <td>0.063742</td>\n",
       "    </tr>\n",
       "    <tr>\n",
       "      <th>20</th>\n",
       "      <td>20</td>\n",
       "      <td>1</td>\n",
       "      <td>1565</td>\n",
       "      <td>570</td>\n",
       "      <td>461</td>\n",
       "      <td>0.755826</td>\n",
       "      <td>0.172751</td>\n",
       "      <td>0.020665</td>\n",
       "    </tr>\n",
       "    <tr>\n",
       "      <th>21</th>\n",
       "      <td>20</td>\n",
       "      <td>2</td>\n",
       "      <td>1565</td>\n",
       "      <td>570</td>\n",
       "      <td>489</td>\n",
       "      <td>0.739462</td>\n",
       "      <td>0.152309</td>\n",
       "      <td>0.033132</td>\n",
       "    </tr>\n",
       "    <tr>\n",
       "      <th>22</th>\n",
       "      <td>20</td>\n",
       "      <td>3</td>\n",
       "      <td>1565</td>\n",
       "      <td>570</td>\n",
       "      <td>494</td>\n",
       "      <td>0.712802</td>\n",
       "      <td>0.153709</td>\n",
       "      <td>0.042157</td>\n",
       "    </tr>\n",
       "    <tr>\n",
       "      <th>23</th>\n",
       "      <td>20</td>\n",
       "      <td>4</td>\n",
       "      <td>1565</td>\n",
       "      <td>570</td>\n",
       "      <td>495</td>\n",
       "      <td>0.704322</td>\n",
       "      <td>0.146026</td>\n",
       "      <td>0.047972</td>\n",
       "    </tr>\n",
       "    <tr>\n",
       "      <th>24</th>\n",
       "      <td>20</td>\n",
       "      <td>5</td>\n",
       "      <td>1565</td>\n",
       "      <td>570</td>\n",
       "      <td>495</td>\n",
       "      <td>0.702371</td>\n",
       "      <td>0.143874</td>\n",
       "      <td>0.051280</td>\n",
       "    </tr>\n",
       "    <tr>\n",
       "      <th>25</th>\n",
       "      <td>25</td>\n",
       "      <td>1</td>\n",
       "      <td>1565</td>\n",
       "      <td>519</td>\n",
       "      <td>416</td>\n",
       "      <td>0.754197</td>\n",
       "      <td>0.185399</td>\n",
       "      <td>0.018413</td>\n",
       "    </tr>\n",
       "    <tr>\n",
       "      <th>26</th>\n",
       "      <td>25</td>\n",
       "      <td>2</td>\n",
       "      <td>1565</td>\n",
       "      <td>519</td>\n",
       "      <td>438</td>\n",
       "      <td>0.736053</td>\n",
       "      <td>0.164908</td>\n",
       "      <td>0.028950</td>\n",
       "    </tr>\n",
       "    <tr>\n",
       "      <th>27</th>\n",
       "      <td>25</td>\n",
       "      <td>3</td>\n",
       "      <td>1565</td>\n",
       "      <td>519</td>\n",
       "      <td>441</td>\n",
       "      <td>0.716320</td>\n",
       "      <td>0.164716</td>\n",
       "      <td>0.035278</td>\n",
       "    </tr>\n",
       "    <tr>\n",
       "      <th>28</th>\n",
       "      <td>25</td>\n",
       "      <td>4</td>\n",
       "      <td>1565</td>\n",
       "      <td>519</td>\n",
       "      <td>441</td>\n",
       "      <td>0.702065</td>\n",
       "      <td>0.158709</td>\n",
       "      <td>0.039757</td>\n",
       "    </tr>\n",
       "    <tr>\n",
       "      <th>29</th>\n",
       "      <td>25</td>\n",
       "      <td>5</td>\n",
       "      <td>1565</td>\n",
       "      <td>519</td>\n",
       "      <td>441</td>\n",
       "      <td>0.700139</td>\n",
       "      <td>0.156991</td>\n",
       "      <td>0.042476</td>\n",
       "    </tr>\n",
       "  </tbody>\n",
       "</table>\n",
       "</div>"
      ],
      "text/plain": [
       "    score_threshod  topk  user_num  delivery_user_num  \\\n",
       "0                0     1      1565               1565   \n",
       "1                0     2      1565               1565   \n",
       "2                0     3      1565               1565   \n",
       "3                0     4      1565               1565   \n",
       "4                0     5      1565               1565   \n",
       "5                5     1      1565               1406   \n",
       "6                5     2      1565               1406   \n",
       "7                5     3      1565               1406   \n",
       "8                5     4      1565               1406   \n",
       "9                5     5      1565               1406   \n",
       "10              10     1      1565               1012   \n",
       "11              10     2      1565               1012   \n",
       "12              10     3      1565               1012   \n",
       "13              10     4      1565               1012   \n",
       "14              10     5      1565               1012   \n",
       "15              15     1      1565                723   \n",
       "16              15     2      1565                723   \n",
       "17              15     3      1565                723   \n",
       "18              15     4      1565                723   \n",
       "19              15     5      1565                723   \n",
       "20              20     1      1565                570   \n",
       "21              20     2      1565                570   \n",
       "22              20     3      1565                570   \n",
       "23              20     4      1565                570   \n",
       "24              20     5      1565                570   \n",
       "25              25     1      1565                519   \n",
       "26              25     2      1565                519   \n",
       "27              25     3      1565                519   \n",
       "28              25     4      1565                519   \n",
       "29              25     5      1565                519   \n",
       "\n",
       "    actual_delivery_user_num       AUC  precision    recall  \n",
       "0                       1343  0.864588   0.072547  0.034649  \n",
       "1                       1450  0.833920   0.064239  0.065978  \n",
       "2                       1474  0.824066   0.063151  0.088833  \n",
       "3                       1478  0.816488   0.060384  0.108855  \n",
       "4                       1480  0.805767   0.058766  0.124845  \n",
       "5                       1195  0.855658   0.080317  0.030164  \n",
       "6                       1294  0.828231   0.070189  0.055463  \n",
       "7                       1314  0.813796   0.069041  0.075848  \n",
       "8                       1318  0.804834   0.066160  0.092609  \n",
       "9                       1319  0.793177   0.064105  0.104770  \n",
       "10                       843  0.812091   0.110024  0.027579  \n",
       "11                       909  0.791077   0.097472  0.047155  \n",
       "12                       923  0.775074   0.097240  0.062308  \n",
       "13                       925  0.763924   0.093342  0.073781  \n",
       "14                       925  0.753318   0.091437  0.080873  \n",
       "15                       597  0.776731   0.142399  0.023366  \n",
       "16                       641  0.747632   0.127326  0.039145  \n",
       "17                       648  0.724227   0.127286  0.050518  \n",
       "18                       649  0.714838   0.120854  0.058429  \n",
       "19                       649  0.706778   0.119560  0.063742  \n",
       "20                       461  0.755826   0.172751  0.020665  \n",
       "21                       489  0.739462   0.152309  0.033132  \n",
       "22                       494  0.712802   0.153709  0.042157  \n",
       "23                       495  0.704322   0.146026  0.047972  \n",
       "24                       495  0.702371   0.143874  0.051280  \n",
       "25                       416  0.754197   0.185399  0.018413  \n",
       "26                       438  0.736053   0.164908  0.028950  \n",
       "27                       441  0.716320   0.164716  0.035278  \n",
       "28                       441  0.702065   0.158709  0.039757  \n",
       "29                       441  0.700139   0.156991  0.042476  "
      ]
     },
     "execution_count": 149,
     "metadata": {},
     "output_type": "execute_result"
    }
   ],
   "source": [
    "df_result"
   ]
  },
  {
   "cell_type": "code",
   "execution_count": null,
   "metadata": {
    "collapsed": true
   },
   "outputs": [],
   "source": []
  },
  {
   "cell_type": "markdown",
   "metadata": {},
   "source": [
    "MF with ALS"
   ]
  },
  {
   "cell_type": "code",
   "execution_count": 146,
   "metadata": {
    "ExecuteTime": {
     "end_time": "2019-08-29T05:52:44.967056Z",
     "start_time": "2019-08-29T05:52:44.928986Z"
    }
   },
   "outputs": [
    {
     "data": {
      "text/html": [
       "<div>\n",
       "<style>\n",
       "    .dataframe thead tr:only-child th {\n",
       "        text-align: right;\n",
       "    }\n",
       "\n",
       "    .dataframe thead th {\n",
       "        text-align: left;\n",
       "    }\n",
       "\n",
       "    .dataframe tbody tr th {\n",
       "        vertical-align: top;\n",
       "    }\n",
       "</style>\n",
       "<table border=\"1\" class=\"dataframe\">\n",
       "  <thead>\n",
       "    <tr style=\"text-align: right;\">\n",
       "      <th></th>\n",
       "      <th>score_threshod</th>\n",
       "      <th>topk</th>\n",
       "      <th>user_num</th>\n",
       "      <th>delivery_user_num</th>\n",
       "      <th>actual_delivery_user_num</th>\n",
       "      <th>AUC</th>\n",
       "      <th>precision</th>\n",
       "      <th>recall</th>\n",
       "    </tr>\n",
       "  </thead>\n",
       "  <tbody>\n",
       "    <tr>\n",
       "      <th>0</th>\n",
       "      <td>0</td>\n",
       "      <td>1</td>\n",
       "      <td>1565</td>\n",
       "      <td>7082</td>\n",
       "      <td>1521</td>\n",
       "      <td>0.862933</td>\n",
       "      <td>0.054815</td>\n",
       "      <td>0.034094</td>\n",
       "    </tr>\n",
       "    <tr>\n",
       "      <th>1</th>\n",
       "      <td>0</td>\n",
       "      <td>2</td>\n",
       "      <td>1565</td>\n",
       "      <td>7082</td>\n",
       "      <td>1596</td>\n",
       "      <td>0.853371</td>\n",
       "      <td>0.053593</td>\n",
       "      <td>0.069403</td>\n",
       "    </tr>\n",
       "    <tr>\n",
       "      <th>2</th>\n",
       "      <td>0</td>\n",
       "      <td>3</td>\n",
       "      <td>1565</td>\n",
       "      <td>7082</td>\n",
       "      <td>1635</td>\n",
       "      <td>0.850583</td>\n",
       "      <td>0.049137</td>\n",
       "      <td>0.095192</td>\n",
       "    </tr>\n",
       "    <tr>\n",
       "      <th>3</th>\n",
       "      <td>0</td>\n",
       "      <td>4</td>\n",
       "      <td>1565</td>\n",
       "      <td>7082</td>\n",
       "      <td>1651</td>\n",
       "      <td>0.849050</td>\n",
       "      <td>0.047117</td>\n",
       "      <td>0.124532</td>\n",
       "    </tr>\n",
       "    <tr>\n",
       "      <th>4</th>\n",
       "      <td>0</td>\n",
       "      <td>5</td>\n",
       "      <td>1565</td>\n",
       "      <td>7082</td>\n",
       "      <td>1660</td>\n",
       "      <td>0.844466</td>\n",
       "      <td>0.044873</td>\n",
       "      <td>0.150349</td>\n",
       "    </tr>\n",
       "    <tr>\n",
       "      <th>5</th>\n",
       "      <td>5</td>\n",
       "      <td>1</td>\n",
       "      <td>1565</td>\n",
       "      <td>590</td>\n",
       "      <td>484</td>\n",
       "      <td>0.757773</td>\n",
       "      <td>0.143762</td>\n",
       "      <td>0.021942</td>\n",
       "    </tr>\n",
       "    <tr>\n",
       "      <th>6</th>\n",
       "      <td>5</td>\n",
       "      <td>2</td>\n",
       "      <td>1565</td>\n",
       "      <td>590</td>\n",
       "      <td>495</td>\n",
       "      <td>0.762455</td>\n",
       "      <td>0.142857</td>\n",
       "      <td>0.039037</td>\n",
       "    </tr>\n",
       "    <tr>\n",
       "      <th>7</th>\n",
       "      <td>5</td>\n",
       "      <td>3</td>\n",
       "      <td>1565</td>\n",
       "      <td>590</td>\n",
       "      <td>502</td>\n",
       "      <td>0.750496</td>\n",
       "      <td>0.128635</td>\n",
       "      <td>0.051259</td>\n",
       "    </tr>\n",
       "    <tr>\n",
       "      <th>8</th>\n",
       "      <td>5</td>\n",
       "      <td>4</td>\n",
       "      <td>1565</td>\n",
       "      <td>590</td>\n",
       "      <td>502</td>\n",
       "      <td>0.741827</td>\n",
       "      <td>0.124982</td>\n",
       "      <td>0.062865</td>\n",
       "    </tr>\n",
       "    <tr>\n",
       "      <th>9</th>\n",
       "      <td>5</td>\n",
       "      <td>5</td>\n",
       "      <td>1565</td>\n",
       "      <td>590</td>\n",
       "      <td>504</td>\n",
       "      <td>0.728386</td>\n",
       "      <td>0.118022</td>\n",
       "      <td>0.071026</td>\n",
       "    </tr>\n",
       "    <tr>\n",
       "      <th>10</th>\n",
       "      <td>10</td>\n",
       "      <td>1</td>\n",
       "      <td>1565</td>\n",
       "      <td>274</td>\n",
       "      <td>240</td>\n",
       "      <td>0.687304</td>\n",
       "      <td>0.236875</td>\n",
       "      <td>0.013394</td>\n",
       "    </tr>\n",
       "    <tr>\n",
       "      <th>11</th>\n",
       "      <td>10</td>\n",
       "      <td>2</td>\n",
       "      <td>1565</td>\n",
       "      <td>274</td>\n",
       "      <td>247</td>\n",
       "      <td>0.680782</td>\n",
       "      <td>0.238913</td>\n",
       "      <td>0.025428</td>\n",
       "    </tr>\n",
       "    <tr>\n",
       "      <th>12</th>\n",
       "      <td>10</td>\n",
       "      <td>3</td>\n",
       "      <td>1565</td>\n",
       "      <td>274</td>\n",
       "      <td>249</td>\n",
       "      <td>0.668132</td>\n",
       "      <td>0.216160</td>\n",
       "      <td>0.032857</td>\n",
       "    </tr>\n",
       "    <tr>\n",
       "      <th>13</th>\n",
       "      <td>10</td>\n",
       "      <td>4</td>\n",
       "      <td>1565</td>\n",
       "      <td>274</td>\n",
       "      <td>249</td>\n",
       "      <td>0.663561</td>\n",
       "      <td>0.209970</td>\n",
       "      <td>0.039010</td>\n",
       "    </tr>\n",
       "    <tr>\n",
       "      <th>14</th>\n",
       "      <td>10</td>\n",
       "      <td>5</td>\n",
       "      <td>1565</td>\n",
       "      <td>274</td>\n",
       "      <td>249</td>\n",
       "      <td>0.661370</td>\n",
       "      <td>0.198316</td>\n",
       "      <td>0.042798</td>\n",
       "    </tr>\n",
       "    <tr>\n",
       "      <th>15</th>\n",
       "      <td>15</td>\n",
       "      <td>1</td>\n",
       "      <td>1565</td>\n",
       "      <td>180</td>\n",
       "      <td>162</td>\n",
       "      <td>0.643785</td>\n",
       "      <td>0.298942</td>\n",
       "      <td>0.009165</td>\n",
       "    </tr>\n",
       "    <tr>\n",
       "      <th>16</th>\n",
       "      <td>15</td>\n",
       "      <td>2</td>\n",
       "      <td>1565</td>\n",
       "      <td>180</td>\n",
       "      <td>164</td>\n",
       "      <td>0.654076</td>\n",
       "      <td>0.301240</td>\n",
       "      <td>0.017084</td>\n",
       "    </tr>\n",
       "    <tr>\n",
       "      <th>17</th>\n",
       "      <td>15</td>\n",
       "      <td>3</td>\n",
       "      <td>1565</td>\n",
       "      <td>180</td>\n",
       "      <td>165</td>\n",
       "      <td>0.659514</td>\n",
       "      <td>0.270312</td>\n",
       "      <td>0.021358</td>\n",
       "    </tr>\n",
       "    <tr>\n",
       "      <th>18</th>\n",
       "      <td>15</td>\n",
       "      <td>4</td>\n",
       "      <td>1565</td>\n",
       "      <td>180</td>\n",
       "      <td>165</td>\n",
       "      <td>0.656300</td>\n",
       "      <td>0.263714</td>\n",
       "      <td>0.025355</td>\n",
       "    </tr>\n",
       "    <tr>\n",
       "      <th>19</th>\n",
       "      <td>15</td>\n",
       "      <td>5</td>\n",
       "      <td>1565</td>\n",
       "      <td>180</td>\n",
       "      <td>165</td>\n",
       "      <td>0.656910</td>\n",
       "      <td>0.249825</td>\n",
       "      <td>0.027494</td>\n",
       "    </tr>\n",
       "    <tr>\n",
       "      <th>20</th>\n",
       "      <td>20</td>\n",
       "      <td>1</td>\n",
       "      <td>1565</td>\n",
       "      <td>117</td>\n",
       "      <td>110</td>\n",
       "      <td>0.627186</td>\n",
       "      <td>0.360974</td>\n",
       "      <td>0.005953</td>\n",
       "    </tr>\n",
       "    <tr>\n",
       "      <th>21</th>\n",
       "      <td>20</td>\n",
       "      <td>2</td>\n",
       "      <td>1565</td>\n",
       "      <td>117</td>\n",
       "      <td>111</td>\n",
       "      <td>0.625844</td>\n",
       "      <td>0.360790</td>\n",
       "      <td>0.011964</td>\n",
       "    </tr>\n",
       "    <tr>\n",
       "      <th>22</th>\n",
       "      <td>20</td>\n",
       "      <td>3</td>\n",
       "      <td>1565</td>\n",
       "      <td>117</td>\n",
       "      <td>112</td>\n",
       "      <td>0.647398</td>\n",
       "      <td>0.321782</td>\n",
       "      <td>0.014839</td>\n",
       "    </tr>\n",
       "    <tr>\n",
       "      <th>23</th>\n",
       "      <td>20</td>\n",
       "      <td>4</td>\n",
       "      <td>1565</td>\n",
       "      <td>117</td>\n",
       "      <td>112</td>\n",
       "      <td>0.644072</td>\n",
       "      <td>0.316213</td>\n",
       "      <td>0.017884</td>\n",
       "    </tr>\n",
       "    <tr>\n",
       "      <th>24</th>\n",
       "      <td>20</td>\n",
       "      <td>5</td>\n",
       "      <td>1565</td>\n",
       "      <td>117</td>\n",
       "      <td>112</td>\n",
       "      <td>0.646878</td>\n",
       "      <td>0.300785</td>\n",
       "      <td>0.018993</td>\n",
       "    </tr>\n",
       "    <tr>\n",
       "      <th>25</th>\n",
       "      <td>25</td>\n",
       "      <td>1</td>\n",
       "      <td>1565</td>\n",
       "      <td>81</td>\n",
       "      <td>76</td>\n",
       "      <td>0.608092</td>\n",
       "      <td>0.413033</td>\n",
       "      <td>0.004380</td>\n",
       "    </tr>\n",
       "    <tr>\n",
       "      <th>26</th>\n",
       "      <td>25</td>\n",
       "      <td>2</td>\n",
       "      <td>1565</td>\n",
       "      <td>81</td>\n",
       "      <td>77</td>\n",
       "      <td>0.612571</td>\n",
       "      <td>0.405859</td>\n",
       "      <td>0.008714</td>\n",
       "    </tr>\n",
       "    <tr>\n",
       "      <th>27</th>\n",
       "      <td>25</td>\n",
       "      <td>3</td>\n",
       "      <td>1565</td>\n",
       "      <td>81</td>\n",
       "      <td>78</td>\n",
       "      <td>0.620115</td>\n",
       "      <td>0.381522</td>\n",
       "      <td>0.010776</td>\n",
       "    </tr>\n",
       "    <tr>\n",
       "      <th>28</th>\n",
       "      <td>25</td>\n",
       "      <td>4</td>\n",
       "      <td>1565</td>\n",
       "      <td>81</td>\n",
       "      <td>78</td>\n",
       "      <td>0.614168</td>\n",
       "      <td>0.373471</td>\n",
       "      <td>0.012562</td>\n",
       "    </tr>\n",
       "    <tr>\n",
       "      <th>29</th>\n",
       "      <td>25</td>\n",
       "      <td>5</td>\n",
       "      <td>1565</td>\n",
       "      <td>81</td>\n",
       "      <td>78</td>\n",
       "      <td>0.618352</td>\n",
       "      <td>0.359191</td>\n",
       "      <td>0.013375</td>\n",
       "    </tr>\n",
       "  </tbody>\n",
       "</table>\n",
       "</div>"
      ],
      "text/plain": [
       "    score_threshod  topk  user_num  delivery_user_num  \\\n",
       "0                0     1      1565               7082   \n",
       "1                0     2      1565               7082   \n",
       "2                0     3      1565               7082   \n",
       "3                0     4      1565               7082   \n",
       "4                0     5      1565               7082   \n",
       "5                5     1      1565                590   \n",
       "6                5     2      1565                590   \n",
       "7                5     3      1565                590   \n",
       "8                5     4      1565                590   \n",
       "9                5     5      1565                590   \n",
       "10              10     1      1565                274   \n",
       "11              10     2      1565                274   \n",
       "12              10     3      1565                274   \n",
       "13              10     4      1565                274   \n",
       "14              10     5      1565                274   \n",
       "15              15     1      1565                180   \n",
       "16              15     2      1565                180   \n",
       "17              15     3      1565                180   \n",
       "18              15     4      1565                180   \n",
       "19              15     5      1565                180   \n",
       "20              20     1      1565                117   \n",
       "21              20     2      1565                117   \n",
       "22              20     3      1565                117   \n",
       "23              20     4      1565                117   \n",
       "24              20     5      1565                117   \n",
       "25              25     1      1565                 81   \n",
       "26              25     2      1565                 81   \n",
       "27              25     3      1565                 81   \n",
       "28              25     4      1565                 81   \n",
       "29              25     5      1565                 81   \n",
       "\n",
       "    actual_delivery_user_num       AUC  precision    recall  \n",
       "0                       1521  0.862933   0.054815  0.034094  \n",
       "1                       1596  0.853371   0.053593  0.069403  \n",
       "2                       1635  0.850583   0.049137  0.095192  \n",
       "3                       1651  0.849050   0.047117  0.124532  \n",
       "4                       1660  0.844466   0.044873  0.150349  \n",
       "5                        484  0.757773   0.143762  0.021942  \n",
       "6                        495  0.762455   0.142857  0.039037  \n",
       "7                        502  0.750496   0.128635  0.051259  \n",
       "8                        502  0.741827   0.124982  0.062865  \n",
       "9                        504  0.728386   0.118022  0.071026  \n",
       "10                       240  0.687304   0.236875  0.013394  \n",
       "11                       247  0.680782   0.238913  0.025428  \n",
       "12                       249  0.668132   0.216160  0.032857  \n",
       "13                       249  0.663561   0.209970  0.039010  \n",
       "14                       249  0.661370   0.198316  0.042798  \n",
       "15                       162  0.643785   0.298942  0.009165  \n",
       "16                       164  0.654076   0.301240  0.017084  \n",
       "17                       165  0.659514   0.270312  0.021358  \n",
       "18                       165  0.656300   0.263714  0.025355  \n",
       "19                       165  0.656910   0.249825  0.027494  \n",
       "20                       110  0.627186   0.360974  0.005953  \n",
       "21                       111  0.625844   0.360790  0.011964  \n",
       "22                       112  0.647398   0.321782  0.014839  \n",
       "23                       112  0.644072   0.316213  0.017884  \n",
       "24                       112  0.646878   0.300785  0.018993  \n",
       "25                        76  0.608092   0.413033  0.004380  \n",
       "26                        77  0.612571   0.405859  0.008714  \n",
       "27                        78  0.620115   0.381522  0.010776  \n",
       "28                        78  0.614168   0.373471  0.012562  \n",
       "29                        78  0.618352   0.359191  0.013375  "
      ]
     },
     "execution_count": 146,
     "metadata": {},
     "output_type": "execute_result"
    }
   ],
   "source": [
    "df_result"
   ]
  },
  {
   "cell_type": "markdown",
   "metadata": {},
   "source": [
    "MF with SGD"
   ]
  },
  {
   "cell_type": "code",
   "execution_count": 168,
   "metadata": {
    "ExecuteTime": {
     "end_time": "2019-08-29T06:27:51.918339Z",
     "start_time": "2019-08-29T06:27:51.882840Z"
    }
   },
   "outputs": [
    {
     "data": {
      "text/html": [
       "<div>\n",
       "<style>\n",
       "    .dataframe thead tr:only-child th {\n",
       "        text-align: right;\n",
       "    }\n",
       "\n",
       "    .dataframe thead th {\n",
       "        text-align: left;\n",
       "    }\n",
       "\n",
       "    .dataframe tbody tr th {\n",
       "        vertical-align: top;\n",
       "    }\n",
       "</style>\n",
       "<table border=\"1\" class=\"dataframe\">\n",
       "  <thead>\n",
       "    <tr style=\"text-align: right;\">\n",
       "      <th></th>\n",
       "      <th>score_threshod</th>\n",
       "      <th>topk</th>\n",
       "      <th>user_num</th>\n",
       "      <th>delivery_user_num</th>\n",
       "      <th>actual_delivery_user_num</th>\n",
       "      <th>AUC</th>\n",
       "      <th>precision</th>\n",
       "      <th>recall</th>\n",
       "    </tr>\n",
       "  </thead>\n",
       "  <tbody>\n",
       "    <tr>\n",
       "      <th>0</th>\n",
       "      <td>0</td>\n",
       "      <td>1</td>\n",
       "      <td>1565</td>\n",
       "      <td>7082</td>\n",
       "      <td>745</td>\n",
       "      <td>0.845834</td>\n",
       "      <td>0.082733</td>\n",
       "      <td>0.015377</td>\n",
       "    </tr>\n",
       "    <tr>\n",
       "      <th>1</th>\n",
       "      <td>0</td>\n",
       "      <td>2</td>\n",
       "      <td>1565</td>\n",
       "      <td>7082</td>\n",
       "      <td>1018</td>\n",
       "      <td>0.844690</td>\n",
       "      <td>0.062516</td>\n",
       "      <td>0.025942</td>\n",
       "    </tr>\n",
       "    <tr>\n",
       "      <th>2</th>\n",
       "      <td>0</td>\n",
       "      <td>3</td>\n",
       "      <td>1565</td>\n",
       "      <td>7082</td>\n",
       "      <td>1169</td>\n",
       "      <td>0.851784</td>\n",
       "      <td>0.054384</td>\n",
       "      <td>0.035034</td>\n",
       "    </tr>\n",
       "    <tr>\n",
       "      <th>3</th>\n",
       "      <td>0</td>\n",
       "      <td>4</td>\n",
       "      <td>1565</td>\n",
       "      <td>7082</td>\n",
       "      <td>1296</td>\n",
       "      <td>0.859702</td>\n",
       "      <td>0.048098</td>\n",
       "      <td>0.041289</td>\n",
       "    </tr>\n",
       "    <tr>\n",
       "      <th>4</th>\n",
       "      <td>0</td>\n",
       "      <td>5</td>\n",
       "      <td>1565</td>\n",
       "      <td>7082</td>\n",
       "      <td>1364</td>\n",
       "      <td>0.854132</td>\n",
       "      <td>0.045976</td>\n",
       "      <td>0.048020</td>\n",
       "    </tr>\n",
       "    <tr>\n",
       "      <th>5</th>\n",
       "      <td>5</td>\n",
       "      <td>1</td>\n",
       "      <td>1565</td>\n",
       "      <td>7082</td>\n",
       "      <td>745</td>\n",
       "      <td>0.845834</td>\n",
       "      <td>0.082733</td>\n",
       "      <td>0.015377</td>\n",
       "    </tr>\n",
       "    <tr>\n",
       "      <th>6</th>\n",
       "      <td>5</td>\n",
       "      <td>2</td>\n",
       "      <td>1565</td>\n",
       "      <td>7082</td>\n",
       "      <td>1018</td>\n",
       "      <td>0.844690</td>\n",
       "      <td>0.062516</td>\n",
       "      <td>0.025942</td>\n",
       "    </tr>\n",
       "    <tr>\n",
       "      <th>7</th>\n",
       "      <td>5</td>\n",
       "      <td>3</td>\n",
       "      <td>1565</td>\n",
       "      <td>7082</td>\n",
       "      <td>1169</td>\n",
       "      <td>0.851784</td>\n",
       "      <td>0.054384</td>\n",
       "      <td>0.035034</td>\n",
       "    </tr>\n",
       "    <tr>\n",
       "      <th>8</th>\n",
       "      <td>5</td>\n",
       "      <td>4</td>\n",
       "      <td>1565</td>\n",
       "      <td>7082</td>\n",
       "      <td>1296</td>\n",
       "      <td>0.859702</td>\n",
       "      <td>0.048098</td>\n",
       "      <td>0.041289</td>\n",
       "    </tr>\n",
       "    <tr>\n",
       "      <th>9</th>\n",
       "      <td>5</td>\n",
       "      <td>5</td>\n",
       "      <td>1565</td>\n",
       "      <td>7082</td>\n",
       "      <td>1364</td>\n",
       "      <td>0.854132</td>\n",
       "      <td>0.045976</td>\n",
       "      <td>0.048020</td>\n",
       "    </tr>\n",
       "    <tr>\n",
       "      <th>10</th>\n",
       "      <td>10</td>\n",
       "      <td>1</td>\n",
       "      <td>1565</td>\n",
       "      <td>7082</td>\n",
       "      <td>745</td>\n",
       "      <td>0.845834</td>\n",
       "      <td>0.082733</td>\n",
       "      <td>0.015377</td>\n",
       "    </tr>\n",
       "    <tr>\n",
       "      <th>11</th>\n",
       "      <td>10</td>\n",
       "      <td>2</td>\n",
       "      <td>1565</td>\n",
       "      <td>7082</td>\n",
       "      <td>1018</td>\n",
       "      <td>0.844690</td>\n",
       "      <td>0.062516</td>\n",
       "      <td>0.025942</td>\n",
       "    </tr>\n",
       "    <tr>\n",
       "      <th>12</th>\n",
       "      <td>10</td>\n",
       "      <td>3</td>\n",
       "      <td>1565</td>\n",
       "      <td>7082</td>\n",
       "      <td>1169</td>\n",
       "      <td>0.851784</td>\n",
       "      <td>0.054384</td>\n",
       "      <td>0.035034</td>\n",
       "    </tr>\n",
       "    <tr>\n",
       "      <th>13</th>\n",
       "      <td>10</td>\n",
       "      <td>4</td>\n",
       "      <td>1565</td>\n",
       "      <td>7082</td>\n",
       "      <td>1296</td>\n",
       "      <td>0.859702</td>\n",
       "      <td>0.048098</td>\n",
       "      <td>0.041289</td>\n",
       "    </tr>\n",
       "    <tr>\n",
       "      <th>14</th>\n",
       "      <td>10</td>\n",
       "      <td>5</td>\n",
       "      <td>1565</td>\n",
       "      <td>7082</td>\n",
       "      <td>1364</td>\n",
       "      <td>0.854132</td>\n",
       "      <td>0.045976</td>\n",
       "      <td>0.048020</td>\n",
       "    </tr>\n",
       "    <tr>\n",
       "      <th>15</th>\n",
       "      <td>15</td>\n",
       "      <td>1</td>\n",
       "      <td>1565</td>\n",
       "      <td>7069</td>\n",
       "      <td>741</td>\n",
       "      <td>0.845229</td>\n",
       "      <td>0.083179</td>\n",
       "      <td>0.015377</td>\n",
       "    </tr>\n",
       "    <tr>\n",
       "      <th>16</th>\n",
       "      <td>15</td>\n",
       "      <td>2</td>\n",
       "      <td>1565</td>\n",
       "      <td>7069</td>\n",
       "      <td>1012</td>\n",
       "      <td>0.843737</td>\n",
       "      <td>0.062887</td>\n",
       "      <td>0.025942</td>\n",
       "    </tr>\n",
       "    <tr>\n",
       "      <th>17</th>\n",
       "      <td>15</td>\n",
       "      <td>3</td>\n",
       "      <td>1565</td>\n",
       "      <td>7069</td>\n",
       "      <td>1162</td>\n",
       "      <td>0.850593</td>\n",
       "      <td>0.054761</td>\n",
       "      <td>0.035034</td>\n",
       "    </tr>\n",
       "    <tr>\n",
       "      <th>18</th>\n",
       "      <td>15</td>\n",
       "      <td>4</td>\n",
       "      <td>1565</td>\n",
       "      <td>7069</td>\n",
       "      <td>1285</td>\n",
       "      <td>0.859631</td>\n",
       "      <td>0.048438</td>\n",
       "      <td>0.041065</td>\n",
       "    </tr>\n",
       "    <tr>\n",
       "      <th>19</th>\n",
       "      <td>15</td>\n",
       "      <td>5</td>\n",
       "      <td>1565</td>\n",
       "      <td>7069</td>\n",
       "      <td>1350</td>\n",
       "      <td>0.854794</td>\n",
       "      <td>0.046379</td>\n",
       "      <td>0.047571</td>\n",
       "    </tr>\n",
       "    <tr>\n",
       "      <th>20</th>\n",
       "      <td>20</td>\n",
       "      <td>1</td>\n",
       "      <td>1565</td>\n",
       "      <td>1019</td>\n",
       "      <td>309</td>\n",
       "      <td>0.758411</td>\n",
       "      <td>0.180613</td>\n",
       "      <td>0.012259</td>\n",
       "    </tr>\n",
       "    <tr>\n",
       "      <th>21</th>\n",
       "      <td>20</td>\n",
       "      <td>2</td>\n",
       "      <td>1565</td>\n",
       "      <td>1019</td>\n",
       "      <td>341</td>\n",
       "      <td>0.733729</td>\n",
       "      <td>0.168631</td>\n",
       "      <td>0.021324</td>\n",
       "    </tr>\n",
       "    <tr>\n",
       "      <th>22</th>\n",
       "      <td>20</td>\n",
       "      <td>3</td>\n",
       "      <td>1565</td>\n",
       "      <td>1019</td>\n",
       "      <td>353</td>\n",
       "      <td>0.739857</td>\n",
       "      <td>0.160468</td>\n",
       "      <td>0.026617</td>\n",
       "    </tr>\n",
       "    <tr>\n",
       "      <th>23</th>\n",
       "      <td>20</td>\n",
       "      <td>4</td>\n",
       "      <td>1565</td>\n",
       "      <td>1019</td>\n",
       "      <td>357</td>\n",
       "      <td>0.733952</td>\n",
       "      <td>0.152253</td>\n",
       "      <td>0.031352</td>\n",
       "    </tr>\n",
       "    <tr>\n",
       "      <th>24</th>\n",
       "      <td>20</td>\n",
       "      <td>5</td>\n",
       "      <td>1565</td>\n",
       "      <td>1019</td>\n",
       "      <td>362</td>\n",
       "      <td>0.735104</td>\n",
       "      <td>0.146529</td>\n",
       "      <td>0.034324</td>\n",
       "    </tr>\n",
       "    <tr>\n",
       "      <th>25</th>\n",
       "      <td>25</td>\n",
       "      <td>1</td>\n",
       "      <td>1565</td>\n",
       "      <td>381</td>\n",
       "      <td>173</td>\n",
       "      <td>0.655903</td>\n",
       "      <td>0.277691</td>\n",
       "      <td>0.009872</td>\n",
       "    </tr>\n",
       "    <tr>\n",
       "      <th>26</th>\n",
       "      <td>25</td>\n",
       "      <td>2</td>\n",
       "      <td>1565</td>\n",
       "      <td>381</td>\n",
       "      <td>183</td>\n",
       "      <td>0.639498</td>\n",
       "      <td>0.263270</td>\n",
       "      <td>0.016073</td>\n",
       "    </tr>\n",
       "    <tr>\n",
       "      <th>27</th>\n",
       "      <td>25</td>\n",
       "      <td>3</td>\n",
       "      <td>1565</td>\n",
       "      <td>381</td>\n",
       "      <td>185</td>\n",
       "      <td>0.640120</td>\n",
       "      <td>0.259374</td>\n",
       "      <td>0.020023</td>\n",
       "    </tr>\n",
       "    <tr>\n",
       "      <th>28</th>\n",
       "      <td>25</td>\n",
       "      <td>4</td>\n",
       "      <td>1565</td>\n",
       "      <td>381</td>\n",
       "      <td>185</td>\n",
       "      <td>0.640882</td>\n",
       "      <td>0.253263</td>\n",
       "      <td>0.023006</td>\n",
       "    </tr>\n",
       "    <tr>\n",
       "      <th>29</th>\n",
       "      <td>25</td>\n",
       "      <td>5</td>\n",
       "      <td>1565</td>\n",
       "      <td>381</td>\n",
       "      <td>186</td>\n",
       "      <td>0.640958</td>\n",
       "      <td>0.249280</td>\n",
       "      <td>0.024714</td>\n",
       "    </tr>\n",
       "  </tbody>\n",
       "</table>\n",
       "</div>"
      ],
      "text/plain": [
       "    score_threshod  topk  user_num  delivery_user_num  \\\n",
       "0                0     1      1565               7082   \n",
       "1                0     2      1565               7082   \n",
       "2                0     3      1565               7082   \n",
       "3                0     4      1565               7082   \n",
       "4                0     5      1565               7082   \n",
       "5                5     1      1565               7082   \n",
       "6                5     2      1565               7082   \n",
       "7                5     3      1565               7082   \n",
       "8                5     4      1565               7082   \n",
       "9                5     5      1565               7082   \n",
       "10              10     1      1565               7082   \n",
       "11              10     2      1565               7082   \n",
       "12              10     3      1565               7082   \n",
       "13              10     4      1565               7082   \n",
       "14              10     5      1565               7082   \n",
       "15              15     1      1565               7069   \n",
       "16              15     2      1565               7069   \n",
       "17              15     3      1565               7069   \n",
       "18              15     4      1565               7069   \n",
       "19              15     5      1565               7069   \n",
       "20              20     1      1565               1019   \n",
       "21              20     2      1565               1019   \n",
       "22              20     3      1565               1019   \n",
       "23              20     4      1565               1019   \n",
       "24              20     5      1565               1019   \n",
       "25              25     1      1565                381   \n",
       "26              25     2      1565                381   \n",
       "27              25     3      1565                381   \n",
       "28              25     4      1565                381   \n",
       "29              25     5      1565                381   \n",
       "\n",
       "    actual_delivery_user_num       AUC  precision    recall  \n",
       "0                        745  0.845834   0.082733  0.015377  \n",
       "1                       1018  0.844690   0.062516  0.025942  \n",
       "2                       1169  0.851784   0.054384  0.035034  \n",
       "3                       1296  0.859702   0.048098  0.041289  \n",
       "4                       1364  0.854132   0.045976  0.048020  \n",
       "5                        745  0.845834   0.082733  0.015377  \n",
       "6                       1018  0.844690   0.062516  0.025942  \n",
       "7                       1169  0.851784   0.054384  0.035034  \n",
       "8                       1296  0.859702   0.048098  0.041289  \n",
       "9                       1364  0.854132   0.045976  0.048020  \n",
       "10                       745  0.845834   0.082733  0.015377  \n",
       "11                      1018  0.844690   0.062516  0.025942  \n",
       "12                      1169  0.851784   0.054384  0.035034  \n",
       "13                      1296  0.859702   0.048098  0.041289  \n",
       "14                      1364  0.854132   0.045976  0.048020  \n",
       "15                       741  0.845229   0.083179  0.015377  \n",
       "16                      1012  0.843737   0.062887  0.025942  \n",
       "17                      1162  0.850593   0.054761  0.035034  \n",
       "18                      1285  0.859631   0.048438  0.041065  \n",
       "19                      1350  0.854794   0.046379  0.047571  \n",
       "20                       309  0.758411   0.180613  0.012259  \n",
       "21                       341  0.733729   0.168631  0.021324  \n",
       "22                       353  0.739857   0.160468  0.026617  \n",
       "23                       357  0.733952   0.152253  0.031352  \n",
       "24                       362  0.735104   0.146529  0.034324  \n",
       "25                       173  0.655903   0.277691  0.009872  \n",
       "26                       183  0.639498   0.263270  0.016073  \n",
       "27                       185  0.640120   0.259374  0.020023  \n",
       "28                       185  0.640882   0.253263  0.023006  \n",
       "29                       186  0.640958   0.249280  0.024714  "
      ]
     },
     "execution_count": 168,
     "metadata": {},
     "output_type": "execute_result"
    }
   ],
   "source": [
    "df_result"
   ]
  },
  {
   "cell_type": "code",
   "execution_count": null,
   "metadata": {
    "collapsed": true
   },
   "outputs": [],
   "source": []
  },
  {
   "cell_type": "code",
   "execution_count": null,
   "metadata": {
    "collapsed": true
   },
   "outputs": [],
   "source": []
  },
  {
   "cell_type": "code",
   "execution_count": null,
   "metadata": {
    "collapsed": true
   },
   "outputs": [],
   "source": []
  },
  {
   "cell_type": "markdown",
   "metadata": {},
   "source": [
    "# distribution"
   ]
  },
  {
   "cell_type": "code",
   "execution_count": 150,
   "metadata": {
    "ExecuteTime": {
     "end_time": "2019-08-29T05:57:47.542470Z",
     "start_time": "2019-08-29T05:57:47.530831Z"
    },
    "collapsed": true
   },
   "outputs": [],
   "source": [
    "def plot_score_hist(recommend_table):\n",
    "    recommend_table_score_list = list(recommend_table['score'].values)\n",
    "    plt.figure(figsize=(12, 10))\n",
    "    plt.hist(recommend_table_score_list, bins=50)\n",
    "    plt.tick_params(labelsize=18)"
   ]
  },
  {
   "cell_type": "markdown",
   "metadata": {},
   "source": [
    "base"
   ]
  },
  {
   "cell_type": "code",
   "execution_count": 151,
   "metadata": {
    "ExecuteTime": {
     "end_time": "2019-08-29T05:58:01.006816Z",
     "start_time": "2019-08-29T05:58:00.588664Z"
    }
   },
   "outputs": [
    {
     "data": {
      "image/png": "[encoded data removed]",
      "text/plain": [
       "<matplotlib.figure.Figure at 0x7f54401c6d30>"
      ]
     },
     "metadata": {},
     "output_type": "display_data"
    }
   ],
   "source": [
    "plot_score_hist(df_time_context)"
   ]
  },
  {
   "cell_type": "markdown",
   "metadata": {},
   "source": [
    "MF with ALS"
   ]
  },
  {
   "cell_type": "code",
   "execution_count": 152,
   "metadata": {
    "ExecuteTime": {
     "end_time": "2019-08-29T05:58:36.811307Z",
     "start_time": "2019-08-29T05:58:29.856641Z"
    },
    "scrolled": false
   },
   "outputs": [
    {
     "data": {
      "image/png": "[encoded data removed]",
      "text/plain": [
       "<matplotlib.figure.Figure at 0x7f54083483c8>"
      ]
     },
     "metadata": {},
     "output_type": "display_data"
    }
   ],
   "source": [
    "plot_score_hist(df_recommend_table)"
   ]
  },
  {
   "cell_type": "markdown",
   "metadata": {},
   "source": [
    "MF with SGD"
   ]
  },
  {
   "cell_type": "code",
   "execution_count": 169,
   "metadata": {
    "ExecuteTime": {
     "end_time": "2019-08-29T06:29:48.783897Z",
     "start_time": "2019-08-29T06:29:42.608346Z"
    }
   },
   "outputs": [
    {
     "data": {
      "image/png": "[encoded data removed]",
      "text/plain": [
       "<matplotlib.figure.Figure at 0x7f54083595f8>"
      ]
     },
     "metadata": {},
     "output_type": "display_data"
    }
   ],
   "source": [
    "plot_score_hist(df_recommend_table)"
   ]
  },
  {
   "cell_type": "code",
   "execution_count": null,
   "metadata": {
    "collapsed": true
   },
   "outputs": [],
   "source": []
  },
  {
   "cell_type": "code",
   "execution_count": null,
   "metadata": {
    "collapsed": true
   },
   "outputs": [],
   "source": []
  },
  {
   "cell_type": "code",
   "execution_count": null,
   "metadata": {
    "collapsed": true
   },
   "outputs": [],
   "source": []
  },
  {
   "cell_type": "code",
   "execution_count": null,
   "metadata": {
    "collapsed": true
   },
   "outputs": [],
   "source": []
  }
 ],
 "metadata": {
  "kernelspec": {
   "display_name": "Python 3",
   "language": "python",
   "name": "python3"
  },
  "language_info": {
   "codemirror_mode": {
    "name": "ipython",
    "version": 3
   },
   "file_extension": ".py",
   "mimetype": "text/x-python",
   "name": "python",
   "nbconvert_exporter": "python",
   "pygments_lexer": "ipython3",
   "version": "3.6.3"
  },
  "toc": {
   "base_numbering": 1,
   "nav_menu": {},
   "number_sections": true,
   "sideBar": true,
   "skip_h1_title": false,
   "title_cell": "Table of Contents",
   "title_sidebar": "Contents",
   "toc_cell": false,
   "toc_position": {
    "height": "1266.997px",
    "left": "68px",
    "top": "93px",
    "width": "318.994px"
   },
   "toc_section_display": true,
   "toc_window_display": true
  }
 },
 "nbformat": 4,
 "nbformat_minor": 2
}
